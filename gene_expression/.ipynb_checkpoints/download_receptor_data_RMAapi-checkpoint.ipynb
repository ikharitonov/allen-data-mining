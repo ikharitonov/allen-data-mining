{
 "cells": [
  {
   "cell_type": "code",
   "execution_count": 1,
   "id": "5a11f8cc",
   "metadata": {},
   "outputs": [],
   "source": [
    "from allensdk.api.queries.rma_api import RmaApi\n",
    "import pandas as pd\n",
    "import matplotlib.pyplot as plt\n",
    "from tqdm.notebook import tqdm"
   ]
  },
  {
   "cell_type": "code",
   "execution_count": 2,
   "id": "21f395bf",
   "metadata": {},
   "outputs": [],
   "source": [
    "rma = RmaApi()"
   ]
  },
  {
   "cell_type": "code",
   "execution_count": 3,
   "id": "460fbbb9",
   "metadata": {
    "scrolled": true
   },
   "outputs": [],
   "source": [
    "# path = \"C:\\\\Users\\\\sarfi\\\\Desktop\\\\Drive\\\\KR1\\\\list_of_receptors.xlsx\"\n",
    "path = \"/home/ikharitonov/Desktop/KR1/list_of_receptors.xlsx\"\n",
    "df = pd.read_excel(path)"
   ]
  },
  {
   "cell_type": "code",
   "execution_count": 4,
   "id": "8e8dff0a",
   "metadata": {},
   "outputs": [],
   "source": [
    "param = 'expression_density'\n",
    "# QUERY_AREA_ID = 669 # all visual areas\n",
    "# QUERY_AREA_ID = 778 # Primary visual area, layer 5 (VISp5)\n",
    "# QUERY_AREA_ID = [QUERY_AREA_ID]\n",
    "VISam5 = 433\n",
    "VISpm5 = 565\n",
    "RSPagl = 894\n",
    "VISp5 = 778\n",
    "QUERY_AREA_ID = [VISam5, VISpm5, RSPagl, VISp5] # V2m (layer 5) + VISp5"
   ]
  },
  {
   "cell_type": "code",
   "execution_count": 5,
   "id": "385c5076",
   "metadata": {
    "scrolled": true
   },
   "outputs": [
    {
     "data": {
      "text/plain": [
       "['Drd1',\n",
       " 'Drd2',\n",
       " 'Drd3',\n",
       " 'Drd4',\n",
       " 'Drd5',\n",
       " 'Htr1a',\n",
       " 'Htr1b',\n",
       " 'Htr1d',\n",
       " 'Htr1e',\n",
       " 'Htr1f',\n",
       " 'Htr2a',\n",
       " 'Htr2b',\n",
       " 'Htr2c',\n",
       " 'Htr4',\n",
       " 'Htr5a',\n",
       " 'Htr5bp',\n",
       " 'Htr6',\n",
       " 'Htr7',\n",
       " 'Htr3a',\n",
       " 'Htr3b',\n",
       " 'Htr3c',\n",
       " 'Htr3d',\n",
       " 'Htr3e',\n",
       " 'Chrna1',\n",
       " 'Chrna2',\n",
       " 'Chrna3',\n",
       " 'Chrna4',\n",
       " 'Chrna5',\n",
       " 'Chrna6',\n",
       " 'Chrna7',\n",
       " 'Chrna8',\n",
       " 'Chrna9 ',\n",
       " 'Chrna10 ',\n",
       " 'Chrnb1',\n",
       " 'Chrnb2',\n",
       " 'Chrnb3',\n",
       " 'Chrnb4',\n",
       " 'Chrnd',\n",
       " 'Chrne',\n",
       " 'Chrng',\n",
       " 'Chrm1',\n",
       " 'Chrm2',\n",
       " 'Chrm3',\n",
       " 'Chrm4',\n",
       " 'Ch4m5',\n",
       " 'Cnr1',\n",
       " 'Cnr2',\n",
       " 'Oprd1',\n",
       " 'Oprk1',\n",
       " 'Oprl1',\n",
       " 'Oprm1',\n",
       " 'Hrh1',\n",
       " 'Hrh2',\n",
       " 'Hrh3',\n",
       " 'Hrh4',\n",
       " 'P2ry1',\n",
       " 'P2ry2',\n",
       " 'P2ry4',\n",
       " 'P2ry6',\n",
       " 'P2ry11',\n",
       " 'P2ry12',\n",
       " 'P2ry13',\n",
       " 'P2ry14',\n",
       " 'P2rx1',\n",
       " 'P2rx2',\n",
       " 'P2rx3',\n",
       " 'P2rx4',\n",
       " 'P2rx5',\n",
       " 'P2rx6',\n",
       " 'P2rx7',\n",
       " 'Grm1',\n",
       " 'Grm2',\n",
       " 'Grm3',\n",
       " 'Grm4',\n",
       " 'Grm5',\n",
       " 'Grm6',\n",
       " 'Grm7',\n",
       " 'Grm8',\n",
       " 'Gabbr1',\n",
       " 'Gabbr2',\n",
       " 'Faah',\n",
       " 'Mgll',\n",
       " 'Nat2',\n",
       " 'Napepld',\n",
       " 'Amt',\n",
       " 'Adra1a',\n",
       " 'Adra2a',\n",
       " 'Adrb1',\n",
       " 'Adrb3',\n",
       " 'Adra1b',\n",
       " 'Adrad',\n",
       " 'Adra2b',\n",
       " 'Adra2c',\n",
       " 'Adrab2']"
      ]
     },
     "execution_count": 5,
     "metadata": {},
     "output_type": "execute_result"
    }
   ],
   "source": [
    "receptors = [x.lower()[0].upper()+x.lower()[1:] for x in list(df['Receptor'])]\n",
    "receptors"
   ]
  },
  {
   "cell_type": "code",
   "execution_count": 6,
   "id": "7e718fbd",
   "metadata": {},
   "outputs": [],
   "source": [
    "def query_id_path(s_id):\n",
    "    query = rma.model_query('StructureLookup', criteria=\"structure[id$eq\"+str(s_id)+\"]\",include=\"structure\",\n",
    "        options=\"[only$eq'structure_lookups.termtype,structure_lookups.structure_id_path']\")[0]\n",
    "    return query['structure']['structure_id_path']\n",
    "\n",
    "def select_structures_from_rma_query_with_given_parent_id(union_df, parent_id):\n",
    "    df = []\n",
    "    for s_id in union_df['structure_id']:\n",
    "        hasParentInPath = str(parent_id) in query_id_path(s_id)\n",
    "        if hasParentInPath: df.append(union_df[union_df['structure_id']==s_id].to_dict('records')[0])\n",
    "    df = pd.DataFrame(df)\n",
    "    return df\n",
    "\n",
    "def select_target_structures_from_df(union_df,target_structure_list):\n",
    "    df = union_df[union_df['structure_id'].isin(target_structure_list)]\n",
    "    return df\n",
    "\n",
    "def save_df_to_csv(df, filename):\n",
    "    filtered_df.to_csv(filename, index=False)\n",
    "    print(filename,'saved.')\n",
    "    \n",
    "def update_info():\n",
    "    pass"
   ]
  },
  {
   "cell_type": "code",
   "execution_count": 7,
   "id": "109f1afc",
   "metadata": {
    "scrolled": true
   },
   "outputs": [
    {
     "name": "stdout",
     "output_type": "stream",
     "text": [
      "Receptor: Drd1\n",
      "Experiment 71307280 data downloaded.\n",
      "Data from target areas filtered.\n",
      "gene_Drd1_exp_71307280_query_area_id_[433, 565, 894, 778].csv saved.\n",
      "= = =\n",
      "Experiment 352 data downloaded.\n",
      "Data from target areas filtered.\n",
      "gene_Drd1_exp_352_query_area_id_[433, 565, 894, 778].csv saved.\n",
      "= = =\n",
      "Experiment 353 data downloaded.\n",
      "Data from target areas filtered.\n",
      "gene_Drd1_exp_353_query_area_id_[433, 565, 894, 778].csv saved.\n",
      "= = =\n",
      "Experiment 354 data downloaded.\n",
      "Data from target areas filtered.\n",
      "gene_Drd1_exp_354_query_area_id_[433, 565, 894, 778].csv saved.\n",
      "= = =\n",
      "=== === ===\n"
     ]
    },
    {
     "ename": "KeyboardInterrupt",
     "evalue": "",
     "output_type": "error",
     "traceback": [
      "\u001b[0;31m---------------------------------------------------------------------------\u001b[0m",
      "\u001b[0;31mKeyboardInterrupt\u001b[0m                         Traceback (most recent call last)",
      "\u001b[0;32m/tmp/ipykernel_59258/3010511572.py\u001b[0m in \u001b[0;36m<module>\u001b[0;34m\u001b[0m\n\u001b[1;32m      1\u001b[0m \u001b[0minfo_df\u001b[0m \u001b[0;34m=\u001b[0m \u001b[0;34m[\u001b[0m\u001b[0;34m]\u001b[0m\u001b[0;34m\u001b[0m\u001b[0;34m\u001b[0m\u001b[0m\n\u001b[1;32m      2\u001b[0m \u001b[0;32mfor\u001b[0m \u001b[0mreceptor\u001b[0m \u001b[0;32min\u001b[0m \u001b[0mreceptors\u001b[0m\u001b[0;34m:\u001b[0m\u001b[0;34m\u001b[0m\u001b[0;34m\u001b[0m\u001b[0m\n\u001b[0;32m----> 3\u001b[0;31m     \u001b[0mdata\u001b[0m \u001b[0;34m=\u001b[0m \u001b[0mrma\u001b[0m\u001b[0;34m.\u001b[0m\u001b[0mmodel_query\u001b[0m\u001b[0;34m(\u001b[0m\u001b[0;34m'SectionDataSet'\u001b[0m\u001b[0;34m,\u001b[0m \u001b[0mcriteria\u001b[0m\u001b[0;34m=\u001b[0m\u001b[0;34m\"[failed$eqfalse],products[abbreviation$eq'Mouse'],genes[acronym$eq'\"\u001b[0m\u001b[0;34m+\u001b[0m\u001b[0mreceptor\u001b[0m\u001b[0;34m+\u001b[0m\u001b[0;34m\"']\"\u001b[0m\u001b[0;34m,\u001b[0m \u001b[0minclude\u001b[0m\u001b[0;34m=\u001b[0m\u001b[0;34m\"structure_unionizes\"\u001b[0m\u001b[0;34m)\u001b[0m\u001b[0;34m\u001b[0m\u001b[0;34m\u001b[0m\u001b[0m\n\u001b[0m\u001b[1;32m      4\u001b[0m     \u001b[0mdata_df\u001b[0m \u001b[0;34m=\u001b[0m \u001b[0mpd\u001b[0m\u001b[0;34m.\u001b[0m\u001b[0mDataFrame\u001b[0m\u001b[0;34m(\u001b[0m\u001b[0mdata\u001b[0m\u001b[0;34m)\u001b[0m\u001b[0;34m\u001b[0m\u001b[0;34m\u001b[0m\u001b[0m\n\u001b[1;32m      5\u001b[0m     \u001b[0mprint\u001b[0m\u001b[0;34m(\u001b[0m\u001b[0;34m'Receptor:'\u001b[0m\u001b[0;34m,\u001b[0m\u001b[0mreceptor\u001b[0m\u001b[0;34m)\u001b[0m\u001b[0;34m\u001b[0m\u001b[0;34m\u001b[0m\u001b[0m\n",
      "\u001b[0;32m~/anaconda3/envs/allendata/lib/python3.7/site-packages/allensdk/api/queries/rma_api.py\u001b[0m in \u001b[0;36mmodel_query\u001b[0;34m(self, *args, **kwargs)\u001b[0m\n\u001b[1;32m    257\u001b[0m         return self.json_msg_query(\n\u001b[1;32m    258\u001b[0m             self.build_query_url(\n\u001b[0;32m--> 259\u001b[0;31m                 self.model_stage(*args, **kwargs)))\n\u001b[0m\u001b[1;32m    260\u001b[0m \u001b[0;34m\u001b[0m\u001b[0m\n\u001b[1;32m    261\u001b[0m     \u001b[0;32mdef\u001b[0m \u001b[0mservice_query\u001b[0m\u001b[0;34m(\u001b[0m\u001b[0mself\u001b[0m\u001b[0;34m,\u001b[0m \u001b[0;34m*\u001b[0m\u001b[0margs\u001b[0m\u001b[0;34m,\u001b[0m \u001b[0;34m**\u001b[0m\u001b[0mkwargs\u001b[0m\u001b[0;34m)\u001b[0m\u001b[0;34m:\u001b[0m\u001b[0;34m\u001b[0m\u001b[0;34m\u001b[0m\u001b[0m\n",
      "\u001b[0;32m~/anaconda3/envs/allendata/lib/python3.7/site-packages/allensdk/api/api.py\u001b[0m in \u001b[0;36mjson_msg_query\u001b[0;34m(self, url, dataframe)\u001b[0m\n\u001b[1;32m    163\u001b[0m \u001b[0;34m\u001b[0m\u001b[0m\n\u001b[1;32m    164\u001b[0m         data = self.do_query(lambda *a, **k: url,\n\u001b[0;32m--> 165\u001b[0;31m                              self.read_data)\n\u001b[0m\u001b[1;32m    166\u001b[0m \u001b[0;34m\u001b[0m\u001b[0m\n\u001b[1;32m    167\u001b[0m         \u001b[0;32mif\u001b[0m \u001b[0mdataframe\u001b[0m \u001b[0;32mis\u001b[0m \u001b[0;32mTrue\u001b[0m\u001b[0;34m:\u001b[0m\u001b[0;34m\u001b[0m\u001b[0;34m\u001b[0m\u001b[0m\n",
      "\u001b[0;32m~/anaconda3/envs/allendata/lib/python3.7/site-packages/allensdk/api/api.py\u001b[0m in \u001b[0;36mdo_query\u001b[0;34m(self, url_builder_fn, json_traversal_fn, *args, **kwargs)\u001b[0m\n\u001b[1;32m    202\u001b[0m         \u001b[0mpost\u001b[0m \u001b[0;34m=\u001b[0m \u001b[0mkwargs\u001b[0m\u001b[0;34m.\u001b[0m\u001b[0mget\u001b[0m\u001b[0;34m(\u001b[0m\u001b[0;34m'post'\u001b[0m\u001b[0;34m,\u001b[0m \u001b[0;32mFalse\u001b[0m\u001b[0;34m)\u001b[0m\u001b[0;34m\u001b[0m\u001b[0;34m\u001b[0m\u001b[0m\n\u001b[1;32m    203\u001b[0m \u001b[0;34m\u001b[0m\u001b[0m\n\u001b[0;32m--> 204\u001b[0;31m         \u001b[0mjson_parsed_data\u001b[0m \u001b[0;34m=\u001b[0m \u001b[0mself\u001b[0m\u001b[0;34m.\u001b[0m\u001b[0mretrieve_parsed_json_over_http\u001b[0m\u001b[0;34m(\u001b[0m\u001b[0mapi_url\u001b[0m\u001b[0;34m,\u001b[0m \u001b[0mpost\u001b[0m\u001b[0;34m)\u001b[0m\u001b[0;34m\u001b[0m\u001b[0;34m\u001b[0m\u001b[0m\n\u001b[0m\u001b[1;32m    205\u001b[0m \u001b[0;34m\u001b[0m\u001b[0m\n\u001b[1;32m    206\u001b[0m         \u001b[0;32mreturn\u001b[0m \u001b[0mjson_traversal_fn\u001b[0m\u001b[0;34m(\u001b[0m\u001b[0mjson_parsed_data\u001b[0m\u001b[0;34m)\u001b[0m\u001b[0;34m\u001b[0m\u001b[0;34m\u001b[0m\u001b[0m\n",
      "\u001b[0;32m~/anaconda3/envs/allendata/lib/python3.7/site-packages/allensdk/api/api.py\u001b[0m in \u001b[0;36mretrieve_parsed_json_over_http\u001b[0;34m(self, url, post)\u001b[0m\n\u001b[1;32m    369\u001b[0m             data = json_utilities.read_url_get(\n\u001b[1;32m    370\u001b[0m                 requests.utils.quote(url,\n\u001b[0;32m--> 371\u001b[0;31m                                      ';/?:@&=+$,'))\n\u001b[0m\u001b[1;32m    372\u001b[0m         \u001b[0;32melse\u001b[0m\u001b[0;34m:\u001b[0m\u001b[0;34m\u001b[0m\u001b[0;34m\u001b[0m\u001b[0m\n\u001b[1;32m    373\u001b[0m             \u001b[0mdata\u001b[0m \u001b[0;34m=\u001b[0m \u001b[0mjson_utilities\u001b[0m\u001b[0;34m.\u001b[0m\u001b[0mread_url_post\u001b[0m\u001b[0;34m(\u001b[0m\u001b[0murl\u001b[0m\u001b[0;34m)\u001b[0m\u001b[0;34m\u001b[0m\u001b[0;34m\u001b[0m\u001b[0m\n",
      "\u001b[0;32m~/anaconda3/envs/allendata/lib/python3.7/site-packages/allensdk/core/json_utilities.py\u001b[0m in \u001b[0;36mread_url_get\u001b[0;34m(url)\u001b[0m\n\u001b[1;32m    108\u001b[0m     '''\n\u001b[1;32m    109\u001b[0m     \u001b[0mresponse\u001b[0m \u001b[0;34m=\u001b[0m \u001b[0murllib_request\u001b[0m\u001b[0;34m.\u001b[0m\u001b[0murlopen\u001b[0m\u001b[0;34m(\u001b[0m\u001b[0murl\u001b[0m\u001b[0;34m)\u001b[0m\u001b[0;34m\u001b[0m\u001b[0;34m\u001b[0m\u001b[0m\n\u001b[0;32m--> 110\u001b[0;31m     \u001b[0mjson_string\u001b[0m \u001b[0;34m=\u001b[0m \u001b[0mresponse\u001b[0m\u001b[0;34m.\u001b[0m\u001b[0mread\u001b[0m\u001b[0;34m(\u001b[0m\u001b[0;34m)\u001b[0m\u001b[0;34m.\u001b[0m\u001b[0mdecode\u001b[0m\u001b[0;34m(\u001b[0m\u001b[0;34m'utf-8'\u001b[0m\u001b[0;34m)\u001b[0m\u001b[0;34m\u001b[0m\u001b[0;34m\u001b[0m\u001b[0m\n\u001b[0m\u001b[1;32m    111\u001b[0m \u001b[0;34m\u001b[0m\u001b[0m\n\u001b[1;32m    112\u001b[0m     \u001b[0;32mreturn\u001b[0m \u001b[0mjson\u001b[0m\u001b[0;34m.\u001b[0m\u001b[0mloads\u001b[0m\u001b[0;34m(\u001b[0m\u001b[0mjson_string\u001b[0m\u001b[0;34m)\u001b[0m\u001b[0;34m\u001b[0m\u001b[0;34m\u001b[0m\u001b[0m\n",
      "\u001b[0;32m~/anaconda3/envs/allendata/lib/python3.7/http/client.py\u001b[0m in \u001b[0;36mread\u001b[0;34m(self, amt)\u001b[0m\n\u001b[1;32m    470\u001b[0m \u001b[0;34m\u001b[0m\u001b[0m\n\u001b[1;32m    471\u001b[0m             \u001b[0;32mif\u001b[0m \u001b[0mself\u001b[0m\u001b[0;34m.\u001b[0m\u001b[0mchunked\u001b[0m\u001b[0;34m:\u001b[0m\u001b[0;34m\u001b[0m\u001b[0;34m\u001b[0m\u001b[0m\n\u001b[0;32m--> 472\u001b[0;31m                 \u001b[0;32mreturn\u001b[0m \u001b[0mself\u001b[0m\u001b[0;34m.\u001b[0m\u001b[0m_readall_chunked\u001b[0m\u001b[0;34m(\u001b[0m\u001b[0;34m)\u001b[0m\u001b[0;34m\u001b[0m\u001b[0;34m\u001b[0m\u001b[0m\n\u001b[0m\u001b[1;32m    473\u001b[0m \u001b[0;34m\u001b[0m\u001b[0m\n\u001b[1;32m    474\u001b[0m             \u001b[0;32mif\u001b[0m \u001b[0mself\u001b[0m\u001b[0;34m.\u001b[0m\u001b[0mlength\u001b[0m \u001b[0;32mis\u001b[0m \u001b[0;32mNone\u001b[0m\u001b[0;34m:\u001b[0m\u001b[0;34m\u001b[0m\u001b[0;34m\u001b[0m\u001b[0m\n",
      "\u001b[0;32m~/anaconda3/envs/allendata/lib/python3.7/http/client.py\u001b[0m in \u001b[0;36m_readall_chunked\u001b[0;34m(self)\u001b[0m\n\u001b[1;32m    580\u001b[0m                 \u001b[0;32mif\u001b[0m \u001b[0mchunk_left\u001b[0m \u001b[0;32mis\u001b[0m \u001b[0;32mNone\u001b[0m\u001b[0;34m:\u001b[0m\u001b[0;34m\u001b[0m\u001b[0;34m\u001b[0m\u001b[0m\n\u001b[1;32m    581\u001b[0m                     \u001b[0;32mbreak\u001b[0m\u001b[0;34m\u001b[0m\u001b[0;34m\u001b[0m\u001b[0m\n\u001b[0;32m--> 582\u001b[0;31m                 \u001b[0mvalue\u001b[0m\u001b[0;34m.\u001b[0m\u001b[0mappend\u001b[0m\u001b[0;34m(\u001b[0m\u001b[0mself\u001b[0m\u001b[0;34m.\u001b[0m\u001b[0m_safe_read\u001b[0m\u001b[0;34m(\u001b[0m\u001b[0mchunk_left\u001b[0m\u001b[0;34m)\u001b[0m\u001b[0;34m)\u001b[0m\u001b[0;34m\u001b[0m\u001b[0;34m\u001b[0m\u001b[0m\n\u001b[0m\u001b[1;32m    583\u001b[0m                 \u001b[0mself\u001b[0m\u001b[0;34m.\u001b[0m\u001b[0mchunk_left\u001b[0m \u001b[0;34m=\u001b[0m \u001b[0;36m0\u001b[0m\u001b[0;34m\u001b[0m\u001b[0;34m\u001b[0m\u001b[0m\n\u001b[1;32m    584\u001b[0m             \u001b[0;32mreturn\u001b[0m \u001b[0;34mb''\u001b[0m\u001b[0;34m.\u001b[0m\u001b[0mjoin\u001b[0m\u001b[0;34m(\u001b[0m\u001b[0mvalue\u001b[0m\u001b[0;34m)\u001b[0m\u001b[0;34m\u001b[0m\u001b[0;34m\u001b[0m\u001b[0m\n",
      "\u001b[0;32m~/anaconda3/envs/allendata/lib/python3.7/http/client.py\u001b[0m in \u001b[0;36m_safe_read\u001b[0;34m(self, amt)\u001b[0m\n\u001b[1;32m    626\u001b[0m         \u001b[0ms\u001b[0m \u001b[0;34m=\u001b[0m \u001b[0;34m[\u001b[0m\u001b[0;34m]\u001b[0m\u001b[0;34m\u001b[0m\u001b[0;34m\u001b[0m\u001b[0m\n\u001b[1;32m    627\u001b[0m         \u001b[0;32mwhile\u001b[0m \u001b[0mamt\u001b[0m \u001b[0;34m>\u001b[0m \u001b[0;36m0\u001b[0m\u001b[0;34m:\u001b[0m\u001b[0;34m\u001b[0m\u001b[0;34m\u001b[0m\u001b[0m\n\u001b[0;32m--> 628\u001b[0;31m             \u001b[0mchunk\u001b[0m \u001b[0;34m=\u001b[0m \u001b[0mself\u001b[0m\u001b[0;34m.\u001b[0m\u001b[0mfp\u001b[0m\u001b[0;34m.\u001b[0m\u001b[0mread\u001b[0m\u001b[0;34m(\u001b[0m\u001b[0mmin\u001b[0m\u001b[0;34m(\u001b[0m\u001b[0mamt\u001b[0m\u001b[0;34m,\u001b[0m \u001b[0mMAXAMOUNT\u001b[0m\u001b[0;34m)\u001b[0m\u001b[0;34m)\u001b[0m\u001b[0;34m\u001b[0m\u001b[0;34m\u001b[0m\u001b[0m\n\u001b[0m\u001b[1;32m    629\u001b[0m             \u001b[0;32mif\u001b[0m \u001b[0;32mnot\u001b[0m \u001b[0mchunk\u001b[0m\u001b[0;34m:\u001b[0m\u001b[0;34m\u001b[0m\u001b[0;34m\u001b[0m\u001b[0m\n\u001b[1;32m    630\u001b[0m                 \u001b[0;32mraise\u001b[0m \u001b[0mIncompleteRead\u001b[0m\u001b[0;34m(\u001b[0m\u001b[0;34mb''\u001b[0m\u001b[0;34m.\u001b[0m\u001b[0mjoin\u001b[0m\u001b[0;34m(\u001b[0m\u001b[0ms\u001b[0m\u001b[0;34m)\u001b[0m\u001b[0;34m,\u001b[0m \u001b[0mamt\u001b[0m\u001b[0;34m)\u001b[0m\u001b[0;34m\u001b[0m\u001b[0;34m\u001b[0m\u001b[0m\n",
      "\u001b[0;32m~/anaconda3/envs/allendata/lib/python3.7/socket.py\u001b[0m in \u001b[0;36mreadinto\u001b[0;34m(self, b)\u001b[0m\n\u001b[1;32m    587\u001b[0m         \u001b[0;32mwhile\u001b[0m \u001b[0;32mTrue\u001b[0m\u001b[0;34m:\u001b[0m\u001b[0;34m\u001b[0m\u001b[0;34m\u001b[0m\u001b[0m\n\u001b[1;32m    588\u001b[0m             \u001b[0;32mtry\u001b[0m\u001b[0;34m:\u001b[0m\u001b[0;34m\u001b[0m\u001b[0;34m\u001b[0m\u001b[0m\n\u001b[0;32m--> 589\u001b[0;31m                 \u001b[0;32mreturn\u001b[0m \u001b[0mself\u001b[0m\u001b[0;34m.\u001b[0m\u001b[0m_sock\u001b[0m\u001b[0;34m.\u001b[0m\u001b[0mrecv_into\u001b[0m\u001b[0;34m(\u001b[0m\u001b[0mb\u001b[0m\u001b[0;34m)\u001b[0m\u001b[0;34m\u001b[0m\u001b[0;34m\u001b[0m\u001b[0m\n\u001b[0m\u001b[1;32m    590\u001b[0m             \u001b[0;32mexcept\u001b[0m \u001b[0mtimeout\u001b[0m\u001b[0;34m:\u001b[0m\u001b[0;34m\u001b[0m\u001b[0;34m\u001b[0m\u001b[0m\n\u001b[1;32m    591\u001b[0m                 \u001b[0mself\u001b[0m\u001b[0;34m.\u001b[0m\u001b[0m_timeout_occurred\u001b[0m \u001b[0;34m=\u001b[0m \u001b[0;32mTrue\u001b[0m\u001b[0;34m\u001b[0m\u001b[0;34m\u001b[0m\u001b[0m\n",
      "\u001b[0;31mKeyboardInterrupt\u001b[0m: "
     ]
    }
   ],
   "source": [
    "info_df = []\n",
    "for receptor in receptors:\n",
    "    data = rma.model_query('SectionDataSet', criteria=\"[failed$eqfalse],products[abbreviation$eq'Mouse'],genes[acronym$eq'\"+receptor+\"']\", include=\"structure_unionizes\")\n",
    "    data_df = pd.DataFrame(data)\n",
    "    print('Receptor:',receptor)\n",
    "    if len(data_df)==0:\n",
    "        info_df.append({'receptor': receptor,'experiment_id': 'null','plane': 'null','query_area_id': QUERY_AREA_ID,'filename': 'null','has_data': 'false'})\n",
    "        print('Receptor',receptor,'does\\'t exist or doesn\\'t have any experiments. Continuing.')\n",
    "        print('=== === ===')\n",
    "        continue\n",
    "    for exp_id in data_df['id']:\n",
    "        exp_union_data = pd.DataFrame(data_df[data_df['id']==exp_id]['structure_unionizes'].item())\n",
    "        if len(data_df[data_df['id']==exp_id]['structure_unionizes'].item()) == 0:\n",
    "            print('Experiment',exp_id,'contains no unionized data. Continuing.')\n",
    "            info_df.append({'receptor': receptor,'experiment_id': exp_id,'plane': data_df[data_df['id']==exp_id]['plane_of_section_id'].item(),\n",
    "                            'query_area_id': QUERY_AREA_ID,'filename': 'null','has_data': 'false'})\n",
    "            continue\n",
    "        print('Experiment',exp_id,'data downloaded.')\n",
    "#         filtered_df = select_structures_from_rma_query_with_given_parent_id(exp_union_data, QUERY_AREA_ID)\n",
    "        filtered_df = select_target_structures_from_df(exp_union_data,QUERY_AREA_ID)\n",
    "        print('Data from target areas filtered.')\n",
    "#         filename = 'gene_'+receptor+'_exp_'+str(exp_id)+'_query_id_'+str(QUERY_AREA_ID)+'.csv'\n",
    "        filename = 'gene_'+receptor+'_exp_'+str(exp_id)+'_query_area_id_'+str(QUERY_AREA_ID)+'.csv'\n",
    "        save_df_to_csv(filtered_df, filename)\n",
    "        print('= = =')\n",
    "        info_df.append({'receptor': receptor,'experiment_id': exp_id,'plane': data_df[data_df['id']==exp_id]['plane_of_section_id'].item(),\n",
    "                        'query_area_id': QUERY_AREA_ID,'filename': filename,'has_data': 'true'})\n",
    "    print('=== === ===')\n",
    "pd.DataFrame(info_df).to_csv('info.csv',index=False)"
   ]
  },
  {
   "cell_type": "code",
   "execution_count": null,
   "id": "d069a27b",
   "metadata": {},
   "outputs": [],
   "source": []
  }
 ],
 "metadata": {
  "kernelspec": {
   "display_name": "allendata",
   "language": "python",
   "name": "allendata"
  },
  "language_info": {
   "codemirror_mode": {
    "name": "ipython",
    "version": 3
   },
   "file_extension": ".py",
   "mimetype": "text/x-python",
   "name": "python",
   "nbconvert_exporter": "python",
   "pygments_lexer": "ipython3",
   "version": "3.7.15"
  }
 },
 "nbformat": 4,
 "nbformat_minor": 5
}
