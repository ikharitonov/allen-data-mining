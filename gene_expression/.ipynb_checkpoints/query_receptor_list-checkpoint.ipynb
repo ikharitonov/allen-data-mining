{
 "cells": [
  {
   "cell_type": "code",
   "execution_count": 1,
   "id": "5a11f8cc",
   "metadata": {},
   "outputs": [],
   "source": [
    "from allensdk.api.queries.rma_api import RmaApi\n",
    "import pandas as pd\n",
    "import matplotlib.pyplot as plt\n",
    "from tqdm.notebook import tqdm"
   ]
  },
  {
   "cell_type": "code",
   "execution_count": 3,
   "id": "21f395bf",
   "metadata": {},
   "outputs": [],
   "source": [
    "rma = RmaApi()"
   ]
  },
  {
   "cell_type": "code",
   "execution_count": 35,
   "id": "460fbbb9",
   "metadata": {
    "scrolled": true
   },
   "outputs": [],
   "source": [
    "path = \"C:\\\\Users\\\\sarfi\\\\Desktop\\\\Drive\\\\KR1\\\\list_of_receptors.xlsx\"\n",
    "df = pd.read_excel(path)"
   ]
  },
  {
   "cell_type": "code",
   "execution_count": 45,
   "id": "f4ad8d9e",
   "metadata": {},
   "outputs": [],
   "source": [
    "param = 'expression_density'\n",
    "PARENT_AREA_ID = 669 # all visual areas"
   ]
  },
  {
   "cell_type": "code",
   "execution_count": 43,
   "id": "385c5076",
   "metadata": {
    "scrolled": true
   },
   "outputs": [
    {
     "data": {
      "text/plain": [
       "['Drd1',\n",
       " 'Drd2',\n",
       " 'Drd3',\n",
       " 'Drd4',\n",
       " 'Drd5',\n",
       " 'Htr1a',\n",
       " 'Htr1b',\n",
       " 'Htr1d',\n",
       " 'Htr1e',\n",
       " 'Htr1f',\n",
       " 'Htr2a',\n",
       " 'Htr2b',\n",
       " 'Htr2c',\n",
       " 'Htr4',\n",
       " 'Htr5a',\n",
       " 'Htr5bp',\n",
       " 'Htr6',\n",
       " 'Htr7',\n",
       " 'Htr3a',\n",
       " 'Htr3b',\n",
       " 'Htr3c',\n",
       " 'Htr3d',\n",
       " 'Htr3e',\n",
       " 'Chrna1',\n",
       " 'Chrna2',\n",
       " 'Chrna3',\n",
       " 'Chrna4',\n",
       " 'Chrna5',\n",
       " 'Chrna6',\n",
       " 'Chrna7',\n",
       " 'Chrna8',\n",
       " 'Chrna9 ',\n",
       " 'Chrna10 ',\n",
       " 'Chrnb1',\n",
       " 'Chrnb2',\n",
       " 'Chrnb3',\n",
       " 'Chrnb4',\n",
       " 'Chrnd',\n",
       " 'Chrne',\n",
       " 'Chrng',\n",
       " 'Chrm1',\n",
       " 'Chrm2',\n",
       " 'Chrm3',\n",
       " 'Chrm4',\n",
       " 'Ch4m5',\n",
       " 'Cnr1',\n",
       " 'Cnr2',\n",
       " 'Oprd1',\n",
       " 'Oprk1',\n",
       " 'Oprl1',\n",
       " 'Oprm1',\n",
       " 'Hrh1',\n",
       " 'Hrh2',\n",
       " 'Hrh3',\n",
       " 'Hrh4']"
      ]
     },
     "execution_count": 43,
     "metadata": {},
     "output_type": "execute_result"
    }
   ],
   "source": [
    "receptors = [x.lower()[0].upper()+x.lower()[1:] for x in list(df['Receptor'])]\n",
    "receptors"
   ]
  },
  {
   "cell_type": "code",
   "execution_count": null,
   "id": "469cf6d4",
   "metadata": {},
   "outputs": [],
   "source": [
    "def query_id_path(s_id):\n",
    "    query = rma.model_query('StructureLookup', criteria=\"structure[id$eq\"+str(s_id)+\"]\",include=\"structure\",\n",
    "        options=\"[only$eq'structure_lookups.termtype,structure_lookups.structure_id_path']\")[0]\n",
    "    return query['structure']['structure_id_path']"
   ]
  },
  {
   "cell_type": "code",
   "execution_count": null,
   "id": "0c58482e",
   "metadata": {},
   "outputs": [],
   "source": [
    "info_df = []\n",
    "for receptor in receptors:\n",
    "    data = rma.model_query('SectionDataSet', criteria=\"products[abbreviation$eq'Mouse'],genes[acronym$eq'\"+gene+\"']\", include=\"structure_unionizes\")\n",
    "    data_df = pd.DataFrame(data)\n",
    "    print('Receptor:',receptor)\n",
    "    for exp_id in data_df['id']:\n",
    "        exp_union_data = pd.DataFrame(data_df[data_df['id']==exp_id]['structure_unionizes'].item())\n",
    "        print('Experiment',expt_id,'data downloaded.')\n",
    "        save_df = []\n",
    "        for s_id in exp_union_data['structure_id']:\n",
    "            hasParentInPath = str(PARENT_AREA_ID) in query_id_path(s_id)\n",
    "            if hasParentInPath: out_df.append(newdf[newdf['structure_id']==s_id].to_dict('records')[0])\n",
    "        print('Data from visual areas filtered.')\n",
    "        save_df = pd.DataFrame(save_df)\n",
    "        filename = 'gene_'+receptor+'_exp_'+str(exp_id)+'_parent_id_'+str(PARENT_AREA_ID)+'.csv'\n",
    "        save_df.to_csv(filename, index=False)\n",
    "        print(filename,'saved.')\n",
    "        exp_info = {\n",
    "            'receptor': receptor,\n",
    "            'experiment_id': exp_id,\n",
    "            'parent_area_id': PARENT_AREA_ID,\n",
    "            'filename': filename\n",
    "        }\n",
    "        info_df.append(exp_info)\n",
    "pd.DataFrame(info_df).to_csv('info.csv',index=False)"
   ]
  }
 ],
 "metadata": {
  "kernelspec": {
   "display_name": "allendata",
   "language": "python",
   "name": "allendata"
  },
  "language_info": {
   "codemirror_mode": {
    "name": "ipython",
    "version": 3
   },
   "file_extension": ".py",
   "mimetype": "text/x-python",
   "name": "python",
   "nbconvert_exporter": "python",
   "pygments_lexer": "ipython3",
   "version": "3.7.13"
  }
 },
 "nbformat": 4,
 "nbformat_minor": 5
}
