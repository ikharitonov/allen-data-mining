{
 "cells": [
  {
   "cell_type": "markdown",
   "id": "f570bc67",
   "metadata": {},
   "source": [
    "## 1. In Situ Hybridization (ISH) Data Portal"
   ]
  },
  {
   "cell_type": "markdown",
   "id": "0287972a",
   "metadata": {},
   "source": [
    "The main web portal to access gene expression data, injection and target structures, experiments, expression summaries, expression visualisations (through online or offline version of 3D BrainExplorer tool), etc is https://mouse.brain-map.org/\n",
    "\n",
    "[This page](http://help.brain-map.org/display/mousebrain/In+Situ+Hybridization+%28ISH%29+Data) provides explanation of different functions available with the search. It covers [the syntax for search queries](http://help.brain-map.org/display/mousebrain/In+Situ+Hybridization+%28ISH%29+Data#InSituHybridization(ISH)Data-BooleanSyntaxQuery), [starting search from brain structures (Differential Search)](http://help.brain-map.org/display/mousebrain/In+Situ+Hybridization+%28ISH%29+Data#InSituHybridization(ISH)Data-DifferentialSearch) to find what genes they express, comparison to [human microarray datasets (Human Differential Search)](http://help.brain-map.org/display/mousebrain/In+Situ+Hybridization+%28ISH%29+Data#InSituHybridization(ISH)Data-HumanDifferentialSearch).\n",
    "\n",
    "Exploring genes with similar expression patterns to those queried is possible with [the Corrlative Search](http://help.brain-map.org/display/mousebrain/In+Situ+Hybridization+%28ISH%29+Data#InSituHybridization(ISH)Data-CorrelativeSearch). Once you click on an experiment, a panel to the right appears, which gives access to it.\n",
    "\n",
    "Details on [experimental detail](http://help.brain-map.org/display/mousebrain/In+Situ+Hybridization+%28ISH%29+Data#InSituHybridization(ISH)Data-ExperimentalDetail) and [image viewer](http://help.brain-map.org/display/mousebrain/In+Situ+Hybridization+%28ISH%29+Data#InSituHybridization(ISH)Data-ExperimentalDetail) are also available."
   ]
  },
  {
   "cell_type": "markdown",
   "id": "64bc772b",
   "metadata": {},
   "source": [
    "## 2. Accessing the data through the API"
   ]
  },
  {
   "cell_type": "markdown",
   "id": "595f0c3b",
   "metadata": {},
   "source": [
    "### 2.1 Overview of experiments and reference spaces"
   ]
  },
  {
   "cell_type": "markdown",
   "id": "8ef87fcd",
   "metadata": {},
   "source": [
    "The overview of ISH data available through API is given here: http://help.brain-map.org/display/mousebrain/API"
   ]
  },
  {
   "cell_type": "markdown",
   "id": "3ec70b30",
   "metadata": {},
   "source": [
    "### 2.2. RESTful Model Access (RMA)"
   ]
  },
  {
   "cell_type": "markdown",
   "id": "edc8fef7",
   "metadata": {},
   "source": [
    "Gene expression, along with many other data types, are provided through [RMA queries](http://help.brain-map.org/pages/viewpage.action?pageId=5308449). Output provided as _JSON_, _XML_ or _CSV_, it can be parsed accordingly to the format. In essence, RMA queries are URL addresses that can be simply pasted into a browser.\n",
    "\n",
    "For example, looking up metadata on a particular gene:\n",
    "\n",
    "http://api.brain-map.org/api/v2/data/query.xml?include=model::Gene[id$eq15]\n",
    "\n",
    "Other examples of queries can be found [here](http://help.brain-map.org/display/api/Example+Queries+for+Experiment+Metadata)."
   ]
  },
  {
   "cell_type": "markdown",
   "id": "532dfe13",
   "metadata": {},
   "source": [
    "### 2.3. Accessing RMA through Web App"
   ]
  },
  {
   "cell_type": "markdown",
   "id": "06353391",
   "metadata": {},
   "source": [
    "A very convenient way to contruct and test RMA queries (and recommended to understand how they work) is the web [RMA Query Builder Utility](http://api.brain-map.org/examples/rma_builder/rma_builder.html).\n",
    "\n",
    "To use it:\n",
    "- select output format\n",
    "- add \"Model\" stage\n",
    "- enter desired parameters\n",
    "- press \"Build Query\"\n",
    "\n",
    "Key parameter to choose is \"Model\", corresponding to the type of data/metadata/information queried (there are many). Options relevant to this project are \"[SectionDataSet](http://api.brain-map.org/api/v2/data/query.xml?criteria=model::SectionDataSet,rma::criteria,products[abbreviation$eqMouse],genes[acronym$eqDrd1],rma::include,structure_unionizes)\" (list of experiments for a gene + expression data in unionized format for each experiment) and \"[StructureLookup](http://api.brain-map.org/api/v2/data/query.xml?criteria=model::StructureLookup,rma::criteria,structure[id$eq15566],rma::include,structure,rma::options[only$eq%27structure_lookups.structure_id_path,structure_lookups.termtype%27])\" (retrieves metadata of brain structures, hierarchical relationships).\n",
    "\n",
    "Then, there are \"criteria\" for selection of data. For example, to look up a particular structure, one will want to specify its id. This is done by selecting the category of criteria from drop down list and pressing \"[]\" to select criterion type (e.g. id) and what it should be equal to (or >, <, etc). Pressing \",\" allows to add more criteria.\n",
    "\n",
    "In the \"include\" option, the overall kind of data to be queried is specificed. In \"only\" and \"except\" options, desired data fields to be included in _JSON/XML/CSV_ are further specified.\n",
    "\n",
    "Hierarchical relationships between \"Model\" classes in RMA API are available [here](http://api.brain-map.org/class_hierarchy)."
   ]
  },
  {
   "cell_type": "markdown",
   "id": "e9ed78ac",
   "metadata": {},
   "source": [
    "### 2.4. Accessing RMA through Python"
   ]
  },
  {
   "cell_type": "markdown",
   "id": "7da44eab",
   "metadata": {},
   "source": [
    "A short guide to working with RMA API in Python is shown [here](https://alleninstitute.github.io/AllenSDK/data_api_client.html). First step after the [installation](https://allensdk.readthedocs.io/en/latest/install.html) is importing _RmaApi_:"
   ]
  },
  {
   "cell_type": "code",
   "execution_count": 1,
   "id": "b1b0c96f",
   "metadata": {},
   "outputs": [],
   "source": [
    "from allensdk.api.queries.rma_api import RmaApi\n",
    "import pandas as pd\n",
    "import numpy as np"
   ]
  },
  {
   "cell_type": "markdown",
   "id": "fef113d2",
   "metadata": {},
   "source": [
    "Using the [_model_query_ method](https://alleninstitute.github.io/AllenSDK/allensdk.api.queries.rma_api.html#allensdk.api.queries.rma_api.RmaApi.model_query) from _RmaApi_ and specifying the parameters, it is possible to extract list of experiments for a gene and display it as _Pandas_ data frame:"
   ]
  },
  {
   "cell_type": "code",
   "execution_count": 2,
   "id": "1417ad1a",
   "metadata": {
    "scrolled": true
   },
   "outputs": [
    {
     "data": {
      "text/html": [
       "<div>\n",
       "<style scoped>\n",
       "    .dataframe tbody tr th:only-of-type {\n",
       "        vertical-align: middle;\n",
       "    }\n",
       "\n",
       "    .dataframe tbody tr th {\n",
       "        vertical-align: top;\n",
       "    }\n",
       "\n",
       "    .dataframe thead th {\n",
       "        text-align: right;\n",
       "    }\n",
       "</style>\n",
       "<table border=\"1\" class=\"dataframe\">\n",
       "  <thead>\n",
       "    <tr style=\"text-align: right;\">\n",
       "      <th></th>\n",
       "      <th>blue_channel</th>\n",
       "      <th>delegate</th>\n",
       "      <th>expression</th>\n",
       "      <th>failed</th>\n",
       "      <th>failed_facet</th>\n",
       "      <th>green_channel</th>\n",
       "      <th>id</th>\n",
       "      <th>name</th>\n",
       "      <th>plane_of_section_id</th>\n",
       "      <th>qc_date</th>\n",
       "      <th>red_channel</th>\n",
       "      <th>reference_space_id</th>\n",
       "      <th>rnaseq_design_id</th>\n",
       "      <th>section_thickness</th>\n",
       "      <th>specimen_id</th>\n",
       "      <th>sphinx_id</th>\n",
       "      <th>storage_directory</th>\n",
       "      <th>weight</th>\n",
       "      <th>structure_unionizes</th>\n",
       "    </tr>\n",
       "  </thead>\n",
       "  <tbody>\n",
       "    <tr>\n",
       "      <th>0</th>\n",
       "      <td>None</td>\n",
       "      <td>True</td>\n",
       "      <td>True</td>\n",
       "      <td>False</td>\n",
       "      <td>734881840</td>\n",
       "      <td>None</td>\n",
       "      <td>71307280</td>\n",
       "      <td>None</td>\n",
       "      <td>2</td>\n",
       "      <td>2009-05-02T22:56:37Z</td>\n",
       "      <td>None</td>\n",
       "      <td>10</td>\n",
       "      <td>None</td>\n",
       "      <td>25.0</td>\n",
       "      <td>70429761</td>\n",
       "      <td>150678</td>\n",
       "      <td>/external/aibssan/production32/prod334/image_s...</td>\n",
       "      <td>5470</td>\n",
       "      <td>[{'expression_density': 0.0159272, 'expression...</td>\n",
       "    </tr>\n",
       "    <tr>\n",
       "      <th>1</th>\n",
       "      <td>None</td>\n",
       "      <td>False</td>\n",
       "      <td>False</td>\n",
       "      <td>False</td>\n",
       "      <td>734881840</td>\n",
       "      <td>None</td>\n",
       "      <td>352</td>\n",
       "      <td>None</td>\n",
       "      <td>1</td>\n",
       "      <td>None</td>\n",
       "      <td>None</td>\n",
       "      <td>9</td>\n",
       "      <td>None</td>\n",
       "      <td>25.0</td>\n",
       "      <td>702565</td>\n",
       "      <td>78451</td>\n",
       "      <td>/external/mouse/prod1/image_series_352/</td>\n",
       "      <td>5470</td>\n",
       "      <td>[{'expression_density': 0.0136562, 'expression...</td>\n",
       "    </tr>\n",
       "    <tr>\n",
       "      <th>2</th>\n",
       "      <td>None</td>\n",
       "      <td>False</td>\n",
       "      <td>False</td>\n",
       "      <td>False</td>\n",
       "      <td>734881840</td>\n",
       "      <td>None</td>\n",
       "      <td>353</td>\n",
       "      <td>None</td>\n",
       "      <td>2</td>\n",
       "      <td>None</td>\n",
       "      <td>None</td>\n",
       "      <td>10</td>\n",
       "      <td>None</td>\n",
       "      <td>25.0</td>\n",
       "      <td>702529</td>\n",
       "      <td>76510</td>\n",
       "      <td>/external/mouse/prod1/image_series_353/</td>\n",
       "      <td>5470</td>\n",
       "      <td>[{'expression_density': 0.00817143, 'expressio...</td>\n",
       "    </tr>\n",
       "    <tr>\n",
       "      <th>3</th>\n",
       "      <td>None</td>\n",
       "      <td>False</td>\n",
       "      <td>False</td>\n",
       "      <td>False</td>\n",
       "      <td>734881840</td>\n",
       "      <td>None</td>\n",
       "      <td>354</td>\n",
       "      <td>None</td>\n",
       "      <td>2</td>\n",
       "      <td>None</td>\n",
       "      <td>None</td>\n",
       "      <td>10</td>\n",
       "      <td>None</td>\n",
       "      <td>25.0</td>\n",
       "      <td>702473</td>\n",
       "      <td>95220</td>\n",
       "      <td>/external/mouse/prod0/image_series_354/</td>\n",
       "      <td>5270</td>\n",
       "      <td>[{'expression_density': 7.11597e-05, 'expressi...</td>\n",
       "    </tr>\n",
       "  </tbody>\n",
       "</table>\n",
       "</div>"
      ],
      "text/plain": [
       "  blue_channel  delegate  expression  failed  failed_facet green_channel  \\\n",
       "0         None      True        True   False     734881840          None   \n",
       "1         None     False       False   False     734881840          None   \n",
       "2         None     False       False   False     734881840          None   \n",
       "3         None     False       False   False     734881840          None   \n",
       "\n",
       "         id  name  plane_of_section_id               qc_date red_channel  \\\n",
       "0  71307280  None                    2  2009-05-02T22:56:37Z        None   \n",
       "1       352  None                    1                  None        None   \n",
       "2       353  None                    2                  None        None   \n",
       "3       354  None                    2                  None        None   \n",
       "\n",
       "   reference_space_id rnaseq_design_id  section_thickness  specimen_id  \\\n",
       "0                  10             None               25.0     70429761   \n",
       "1                   9             None               25.0       702565   \n",
       "2                  10             None               25.0       702529   \n",
       "3                  10             None               25.0       702473   \n",
       "\n",
       "   sphinx_id                                  storage_directory  weight  \\\n",
       "0     150678  /external/aibssan/production32/prod334/image_s...    5470   \n",
       "1      78451            /external/mouse/prod1/image_series_352/    5470   \n",
       "2      76510            /external/mouse/prod1/image_series_353/    5470   \n",
       "3      95220            /external/mouse/prod0/image_series_354/    5270   \n",
       "\n",
       "                                 structure_unionizes  \n",
       "0  [{'expression_density': 0.0159272, 'expression...  \n",
       "1  [{'expression_density': 0.0136562, 'expression...  \n",
       "2  [{'expression_density': 0.00817143, 'expressio...  \n",
       "3  [{'expression_density': 7.11597e-05, 'expressi...  "
      ]
     },
     "execution_count": 2,
     "metadata": {},
     "output_type": "execute_result"
    }
   ],
   "source": [
    "rma = RmaApi()\n",
    "\n",
    "gene = \"Drd1\"\n",
    "        \n",
    "data = rma.model_query('SectionDataSet', criteria=\"products[abbreviation$eq'Mouse'],genes[acronym$eq'\"+gene+\"']\",\n",
    "                      include=\"structure_unionizes\")\n",
    "\n",
    "data_df = pd.DataFrame(data)\n",
    "\n",
    "data_df.head()"
   ]
  },
  {
   "cell_type": "markdown",
   "id": "32b99124",
   "metadata": {},
   "source": [
    "### 2.5. Unionized data format"
   ]
  },
  {
   "cell_type": "markdown",
   "id": "ca987bf2",
   "metadata": {},
   "source": [
    "In the data frame above, experiment ids are in \"id\" column and the unionized data is in the \"structure_unionizes\". The content of \"structure_unionizes\" column are lists with dictionaries, which themselves can be turned into data frames:"
   ]
  },
  {
   "cell_type": "code",
   "execution_count": 3,
   "id": "e60d7933",
   "metadata": {},
   "outputs": [
    {
     "data": {
      "text/html": [
       "<div>\n",
       "<style scoped>\n",
       "    .dataframe tbody tr th:only-of-type {\n",
       "        vertical-align: middle;\n",
       "    }\n",
       "\n",
       "    .dataframe tbody tr th {\n",
       "        vertical-align: top;\n",
       "    }\n",
       "\n",
       "    .dataframe thead th {\n",
       "        text-align: right;\n",
       "    }\n",
       "</style>\n",
       "<table border=\"1\" class=\"dataframe\">\n",
       "  <thead>\n",
       "    <tr style=\"text-align: right;\">\n",
       "      <th></th>\n",
       "      <th>expression_density</th>\n",
       "      <th>expression_energy</th>\n",
       "      <th>id</th>\n",
       "      <th>section_data_set_id</th>\n",
       "      <th>structure_id</th>\n",
       "      <th>sum_expressing_pixel_intensity</th>\n",
       "      <th>sum_expressing_pixels</th>\n",
       "      <th>sum_pixel_intensity</th>\n",
       "      <th>sum_pixels</th>\n",
       "      <th>voxel_energy_cv</th>\n",
       "      <th>voxel_energy_mean</th>\n",
       "    </tr>\n",
       "  </thead>\n",
       "  <tbody>\n",
       "    <tr>\n",
       "      <th>0</th>\n",
       "      <td>0.008171</td>\n",
       "      <td>1.097120</td>\n",
       "      <td>398484594</td>\n",
       "      <td>353</td>\n",
       "      <td>15564</td>\n",
       "      <td>1.247590e+09</td>\n",
       "      <td>9292150.0</td>\n",
       "      <td>2.520100e+10</td>\n",
       "      <td>1.137150e+09</td>\n",
       "      <td>2.65761</td>\n",
       "      <td>1.096010</td>\n",
       "    </tr>\n",
       "    <tr>\n",
       "      <th>1</th>\n",
       "      <td>0.008171</td>\n",
       "      <td>1.097120</td>\n",
       "      <td>398484597</td>\n",
       "      <td>353</td>\n",
       "      <td>15565</td>\n",
       "      <td>1.247590e+09</td>\n",
       "      <td>9292150.0</td>\n",
       "      <td>2.520100e+10</td>\n",
       "      <td>1.137150e+09</td>\n",
       "      <td>2.65761</td>\n",
       "      <td>1.096010</td>\n",
       "    </tr>\n",
       "    <tr>\n",
       "      <th>2</th>\n",
       "      <td>0.010952</td>\n",
       "      <td>1.481770</td>\n",
       "      <td>398484604</td>\n",
       "      <td>353</td>\n",
       "      <td>15566</td>\n",
       "      <td>1.148940e+09</td>\n",
       "      <td>8491790.0</td>\n",
       "      <td>1.678110e+10</td>\n",
       "      <td>7.753830e+08</td>\n",
       "      <td>2.32817</td>\n",
       "      <td>1.481180</td>\n",
       "    </tr>\n",
       "    <tr>\n",
       "      <th>3</th>\n",
       "      <td>0.012336</td>\n",
       "      <td>1.672050</td>\n",
       "      <td>398484612</td>\n",
       "      <td>353</td>\n",
       "      <td>15567</td>\n",
       "      <td>1.135570e+09</td>\n",
       "      <td>8378020.0</td>\n",
       "      <td>1.474800e+10</td>\n",
       "      <td>6.791490e+08</td>\n",
       "      <td>2.18009</td>\n",
       "      <td>1.671290</td>\n",
       "    </tr>\n",
       "    <tr>\n",
       "      <th>4</th>\n",
       "      <td>0.000695</td>\n",
       "      <td>0.087989</td>\n",
       "      <td>398484614</td>\n",
       "      <td>353</td>\n",
       "      <td>15568</td>\n",
       "      <td>2.630740e+06</td>\n",
       "      <td>20770.7</td>\n",
       "      <td>4.662790e+08</td>\n",
       "      <td>2.989850e+07</td>\n",
       "      <td>2.34418</td>\n",
       "      <td>0.087989</td>\n",
       "    </tr>\n",
       "  </tbody>\n",
       "</table>\n",
       "</div>"
      ],
      "text/plain": [
       "   expression_density  expression_energy         id  section_data_set_id  \\\n",
       "0            0.008171           1.097120  398484594                  353   \n",
       "1            0.008171           1.097120  398484597                  353   \n",
       "2            0.010952           1.481770  398484604                  353   \n",
       "3            0.012336           1.672050  398484612                  353   \n",
       "4            0.000695           0.087989  398484614                  353   \n",
       "\n",
       "   structure_id  sum_expressing_pixel_intensity  sum_expressing_pixels  \\\n",
       "0         15564                    1.247590e+09              9292150.0   \n",
       "1         15565                    1.247590e+09              9292150.0   \n",
       "2         15566                    1.148940e+09              8491790.0   \n",
       "3         15567                    1.135570e+09              8378020.0   \n",
       "4         15568                    2.630740e+06                20770.7   \n",
       "\n",
       "   sum_pixel_intensity    sum_pixels  voxel_energy_cv  voxel_energy_mean  \n",
       "0         2.520100e+10  1.137150e+09          2.65761           1.096010  \n",
       "1         2.520100e+10  1.137150e+09          2.65761           1.096010  \n",
       "2         1.678110e+10  7.753830e+08          2.32817           1.481180  \n",
       "3         1.474800e+10  6.791490e+08          2.18009           1.671290  \n",
       "4         4.662790e+08  2.989850e+07          2.34418           0.087989  "
      ]
     },
     "execution_count": 3,
     "metadata": {},
     "output_type": "execute_result"
    }
   ],
   "source": [
    "experiment_id = 353\n",
    "\n",
    "exp_union_data = pd.DataFrame(data_df[data_df['id']==experiment_id]['structure_unionizes'].item())\n",
    "\n",
    "exp_union_data.head()"
   ]
  },
  {
   "cell_type": "markdown",
   "id": "dfed42d7",
   "metadata": {},
   "source": [
    "As explained [here](http://help.brain-map.org/display/mousebrain/API#API-Expression3DGridsExpressionGridding), expression density, intensity and energy are interconnected in the following way:"
   ]
  },
  {
   "cell_type": "code",
   "execution_count": 35,
   "id": "92e23016",
   "metadata": {},
   "outputs": [
    {
     "name": "stdout",
     "output_type": "stream",
     "text": [
      "1.0971190040733307\n",
      "1.09712\n"
     ]
    }
   ],
   "source": [
    "single_structure_df = exp_union_data[exp_union_data['structure_id']==15564]\n",
    "\n",
    "expression_density = single_structure_df['expression_density'].item()\n",
    "expression_energy = single_structure_df['expression_energy'].item()\n",
    "\n",
    "sum_expressing_pixel_intensity = single_structure_df['sum_expressing_pixel_intensity'].item()\n",
    "sum_pixel_intensity = single_structure_df['sum_pixel_intensity'].item()\n",
    "\n",
    "sum_expressing_pixels = single_structure_df['sum_expressing_pixels'].item()\n",
    "sum_pixels = single_structure_df['sum_pixels'].item()\n",
    "\n",
    "expression_intensity = sum_expressing_pixel_intensity / sum_expressing_pixels\n",
    "\n",
    "print(expression_intensity * expression_density)\n",
    "print(expression_energy)"
   ]
  },
  {
   "cell_type": "markdown",
   "id": "78e3e11b",
   "metadata": {},
   "source": [
    "One can easily obtain the data above (expression density/energy and manually calculate intensity) for a particular brain structure. Here is an example of using RMA query to look up the parent of the structure with id = 15568 and retrieving its expression density:"
   ]
  },
  {
   "cell_type": "code",
   "execution_count": 6,
   "id": "a92cbabc",
   "metadata": {},
   "outputs": [],
   "source": [
    "# Function to make the RMA query\n",
    "\n",
    "def query_id_path(s_id):\n",
    "    query = rma.model_query('StructureLookup', criteria=\"structure[id$eq\"+str(s_id)+\"]\",include=\"structure\",\n",
    "        options=\"[only$eq'structure_lookups.termtype,structure_lookups.structure_id_path']\")[0]\n",
    "    return query"
   ]
  },
  {
   "cell_type": "code",
   "execution_count": 13,
   "id": "6b629169",
   "metadata": {},
   "outputs": [
    {
     "name": "stdout",
     "output_type": "stream",
     "text": [
      "Query contents:\n",
      "{'id': 4259, 'ontology_id': 12, 'structure_id': 15568, 'term': 'RSP', 'termtype': 'a', 'structure': {'acronym': 'RSP', 'atlas_id': None, 'color_hex_triplet': 'A84D10', 'depth': 4, 'failed': False, 'failed_facet': 734881840, 'graph_id': 17, 'graph_order': 4, 'hemisphere_id': 3, 'id': 15568, 'name': 'rostral secondary prosencephalon', 'neuro_name_structure_id': None, 'neuro_name_structure_id_path': None, 'ontology_id': 12, 'parent_structure_id': 15567, 'safe_name': 'rostral secondary prosencephalon', 'sphinx_id': 9921, 'st_level': 3, 'structure_id_path': '/15564/15565/15566/15567/15568/', 'structure_name_facet': 2675393843, 'weight': 8390}}\n"
     ]
    }
   ],
   "source": [
    "query = query_id_path(15568)\n",
    "\n",
    "print(\"Query contents:\")\n",
    "print(query)"
   ]
  },
  {
   "cell_type": "markdown",
   "id": "129dfb6e",
   "metadata": {},
   "source": [
    "Its id path is \"/15564/15565/15566/15567/15568/\". It specifies the hierarchical sequence of structures, starting from its parent (15567) and above. These paths can be different depending on the structure set adopted."
   ]
  },
  {
   "cell_type": "code",
   "execution_count": 20,
   "id": "e482ca63",
   "metadata": {},
   "outputs": [
    {
     "name": "stdout",
     "output_type": "stream",
     "text": [
      "expression density = 0.0123361\n"
     ]
    }
   ],
   "source": [
    "print(\"expression density =\", exp_union_data[exp_union_data['structure_id']==15567]['expression_density'].item())"
   ]
  },
  {
   "cell_type": "markdown",
   "id": "12d5dbb9",
   "metadata": {},
   "source": [
    "## 3. Understanding brain structure divisions and hierarchical sets"
   ]
  },
  {
   "cell_type": "markdown",
   "id": "d320d5a3",
   "metadata": {},
   "source": [
    "## 4. Data mining methodology"
   ]
  },
  {
   "cell_type": "markdown",
   "id": "9720aaa1",
   "metadata": {},
   "source": [
    "### 4.1. Choosing the hierarchical structure set"
   ]
  },
  {
   "cell_type": "markdown",
   "id": "87396b98",
   "metadata": {},
   "source": [
    "### 4.2. Choosing V2m strcutures"
   ]
  },
  {
   "cell_type": "markdown",
   "id": "ab65269a",
   "metadata": {},
   "source": [
    "### 4.3. Selecting injection experiments"
   ]
  },
  {
   "cell_type": "code",
   "execution_count": null,
   "id": "fa2cb0a3",
   "metadata": {},
   "outputs": [],
   "source": []
  }
 ],
 "metadata": {
  "kernelspec": {
   "display_name": "allendata",
   "language": "python",
   "name": "allendata"
  },
  "language_info": {
   "codemirror_mode": {
    "name": "ipython",
    "version": 3
   },
   "file_extension": ".py",
   "mimetype": "text/x-python",
   "name": "python",
   "nbconvert_exporter": "python",
   "pygments_lexer": "ipython3",
   "version": "3.7.15"
  }
 },
 "nbformat": 4,
 "nbformat_minor": 5
}
