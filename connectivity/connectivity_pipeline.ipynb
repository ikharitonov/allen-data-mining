{
 "cells": [
  {
   "cell_type": "markdown",
   "id": "69f66ba6-a5da-4968-8945-1f6dc8158824",
   "metadata": {},
   "source": [
    "## Connectivity Pipeline"
   ]
  },
  {
   "cell_type": "code",
   "execution_count": 1,
   "id": "96318270-91d5-4ab9-a1e0-cc592cf742cc",
   "metadata": {},
   "outputs": [],
   "source": [
    "import os\n",
    "import sys\n",
    "module_path = os.path.abspath(os.path.join('..'))\n",
    "if module_path not in sys.path: sys.path.append(module_path)\n",
    "from pathlib import Path\n",
    "\n",
    "from AllenDataClasses import *"
   ]
  },
  {
   "cell_type": "markdown",
   "id": "40364e80-e362-4090-8166-21f311e206c8",
   "metadata": {},
   "source": [
    "Loading csv files with experiment metadata projecting to the structure of interest and Allen Atlas structure set"
   ]
  },
  {
   "cell_type": "code",
   "execution_count": null,
   "id": "43c10845-6693-408d-95d2-d7e09c24af79",
   "metadata": {},
   "outputs": [],
   "source": [
    "desktop_path = Path.home() / 'Desktop'\n",
    "connectivity_path = desktop_path / 'data' / 'connectivity'"
   ]
  },
  {
   "cell_type": "code",
   "execution_count": null,
   "id": "db938dd6-f2db-44d4-b1db-ccf887748a05",
   "metadata": {},
   "outputs": [],
   "source": [
    "connectivity = AllenConnectivity(connectivity_path / 'config.json', connectivity_path / 'connectivity_target_experiment_lists', connectivity_path)"
   ]
  },
  {
   "cell_type": "code",
   "execution_count": null,
   "id": "c6b5956b-252b-4a58-91e7-ada1443de4c7",
   "metadata": {},
   "outputs": [],
   "source": [
    "connectivity.config"
   ]
  },
  {
   "cell_type": "code",
   "execution_count": null,
   "id": "dc29dd6e-2e5d-4c09-9e1a-462b5abba8d9",
   "metadata": {},
   "outputs": [],
   "source": [
    "connectivity.experiment_metadata.head()"
   ]
  },
  {
   "cell_type": "code",
   "execution_count": null,
   "id": "98b59f06-9f4a-403e-9b79-2811ecfdd67c",
   "metadata": {},
   "outputs": [],
   "source": [
    "connectivity.structure_set.head()"
   ]
  },
  {
   "cell_type": "code",
   "execution_count": null,
   "id": "41bdb369-f6b2-4e4a-a7a0-2e37bb767386",
   "metadata": {},
   "outputs": [],
   "source": [
    "connectivity.experiment_list"
   ]
  },
  {
   "cell_type": "markdown",
   "id": "fe4d5dd7-f953-4b8f-8812-5451ac062b3a",
   "metadata": {},
   "source": [
    "Check that all projecting experiments are linked to an area in the list"
   ]
  },
  {
   "cell_type": "code",
   "execution_count": null,
   "id": "a4943d9e-e6ee-4cf2-afb5-aa305826ef7e",
   "metadata": {},
   "outputs": [],
   "source": [
    "connectivity.areas_experiments_cross_check()"
   ]
  },
  {
   "cell_type": "markdown",
   "id": "f37398be-1df9-4dfe-9f0e-cc8b5ba586be",
   "metadata": {},
   "source": [
    "Filter out experiments where target structure and injection structures overlap"
   ]
  },
  {
   "cell_type": "code",
   "execution_count": null,
   "id": "6d54b449-f595-40b0-b1b0-39977f53f7e8",
   "metadata": {},
   "outputs": [],
   "source": [
    "connectivity.remove_injection_target_overlap_areas()"
   ]
  },
  {
   "cell_type": "markdown",
   "id": "0b2c29ed-5d3f-4ec8-80a0-774fbb65c168",
   "metadata": {},
   "source": [
    "Download unionized data in csv files for every experiment (long download)"
   ]
  },
  {
   "cell_type": "code",
   "execution_count": null,
   "id": "edd6992f-8d6e-4b5c-9bb9-0e94c357145f",
   "metadata": {},
   "outputs": [],
   "source": [
    "connectivity.download_unionized_data()"
   ]
  },
  {
   "cell_type": "markdown",
   "id": "c624fed2-947e-48a3-94b9-f31e922b324e",
   "metadata": {},
   "source": [
    "Removing experiments which have not been injected into specified hemisphere (in the config file)"
   ]
  },
  {
   "cell_type": "code",
   "execution_count": null,
   "id": "275eebc0-c144-4a0e-b8d5-4b96a252aeec",
   "metadata": {},
   "outputs": [],
   "source": [
    "connectivity.select_by_hemisphere()"
   ]
  },
  {
   "cell_type": "markdown",
   "id": "fd4b57d7-d6e1-422b-baa2-fe8b292f6d64",
   "metadata": {},
   "source": [
    "Quality check for experiments with zero-valued projection metric in unionzed data"
   ]
  },
  {
   "cell_type": "code",
   "execution_count": null,
   "id": "382526c5-412a-4a4a-80c5-1428f6e1064f",
   "metadata": {},
   "outputs": [],
   "source": [
    "connectivity.zero_projection_QC()"
   ]
  },
  {
   "cell_type": "markdown",
   "id": "c8c51e06-4bf7-4389-8451-3d491f1d5bd9",
   "metadata": {},
   "source": [
    "Apply <b>injection</b> volume thresholding to experiments"
   ]
  },
  {
   "cell_type": "code",
   "execution_count": null,
   "id": "d6ef8511-6533-44c7-a289-45a705de8c62",
   "metadata": {},
   "outputs": [],
   "source": [
    "connectivity.injection_volume_thresholding()"
   ]
  },
  {
   "cell_type": "markdown",
   "id": "6a6a0f33-0b25-4a84-baba-3ab8902154c0",
   "metadata": {},
   "source": [
    "Separate experiments by those projecting ipsilaterally or contralaterally"
   ]
  },
  {
   "cell_type": "code",
   "execution_count": null,
   "id": "b3361125-eb6b-4296-99d8-a06355e1420e",
   "metadata": {},
   "outputs": [],
   "source": [
    "connectivity.separate_by_projection_hemisphere()"
   ]
  },
  {
   "cell_type": "markdown",
   "id": "13a1df72-029c-48d6-ae41-240c2e525fc4",
   "metadata": {},
   "source": [
    "Apply <b>projection</b> volume thresholding to experiments"
   ]
  },
  {
   "cell_type": "code",
   "execution_count": null,
   "id": "4c025e22-f911-4459-903c-fe1a74a94070",
   "metadata": {},
   "outputs": [],
   "source": [
    "connectivity.projection_volume_thresholding()"
   ]
  },
  {
   "cell_type": "markdown",
   "id": "12e54655-27b6-4edc-bf78-68d2daae06ec",
   "metadata": {},
   "source": [
    "For every brain area compute average projection metric and use it to compute weighted centroid"
   ]
  },
  {
   "cell_type": "code",
   "execution_count": null,
   "id": "e4f079a1-0c1c-4b14-b304-f2f422985a9e",
   "metadata": {},
   "outputs": [],
   "source": [
    "connectivity.compute_weighted_centroids()"
   ]
  },
  {
   "cell_type": "markdown",
   "id": "6ae0bf9d-68b0-48aa-b7a0-b7fc9b2149b4",
   "metadata": {},
   "source": [
    "Saving computed centroids"
   ]
  },
  {
   "cell_type": "code",
   "execution_count": null,
   "id": "afbae948-53f1-46c6-8c96-0a6ac510550d",
   "metadata": {},
   "outputs": [],
   "source": [
    "connectivity.save_centroids()"
   ]
  }
 ],
 "metadata": {
  "kernelspec": {
   "display_name": "Python [conda env:allendata]",
   "language": "python",
   "name": "conda-env-allendata-py"
  },
  "language_info": {
   "codemirror_mode": {
    "name": "ipython",
    "version": 3
   },
   "file_extension": ".py",
   "mimetype": "text/x-python",
   "name": "python",
   "nbconvert_exporter": "python",
   "pygments_lexer": "ipython3",
   "version": "3.10.9"
  }
 },
 "nbformat": 4,
 "nbformat_minor": 5
}
