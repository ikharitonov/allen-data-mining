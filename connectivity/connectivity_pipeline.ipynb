{
 "cells": [
  {
   "cell_type": "markdown",
   "id": "69f66ba6-a5da-4968-8945-1f6dc8158824",
   "metadata": {},
   "source": [
    "## Connectivity Pipeline"
   ]
  },
  {
   "cell_type": "code",
   "execution_count": 46,
   "id": "96318270-91d5-4ab9-a1e0-cc592cf742cc",
   "metadata": {},
   "outputs": [],
   "source": [
    "import os\n",
    "import sys\n",
    "module_path = os.path.abspath(os.path.join('..'))\n",
    "if module_path not in sys.path: sys.path.append(module_path)\n",
    "from pathlib import Path\n",
    "\n",
    "from AllenDataClasses import *"
   ]
  },
  {
   "cell_type": "markdown",
   "id": "40364e80-e362-4090-8166-21f311e206c8",
   "metadata": {},
   "source": [
    "Loading csv files with experiment metadata projecting to the structure of interest and Allen Atlas structure set"
   ]
  },
  {
   "cell_type": "code",
   "execution_count": 47,
   "id": "43c10845-6693-408d-95d2-d7e09c24af79",
   "metadata": {},
   "outputs": [],
   "source": [
    "desktop_path = Path.home() / 'Desktop'\n",
    "connectivity_path = desktop_path / 'data' / 'connectivity'"
   ]
  },
  {
   "cell_type": "code",
   "execution_count": 48,
   "id": "db938dd6-f2db-44d4-b1db-ccf887748a05",
   "metadata": {},
   "outputs": [
    {
     "name": "stdout",
     "output_type": "stream",
     "text": [
      "316 number of areas collected in the dictionary.\n",
      "2795 experiments collected in the dictionary.\n"
     ]
    }
   ],
   "source": [
    "connectivity = AllenConnectivity(desktop_path / 'repos' / 'allen_data_mining' / 'connectivity' / 'config.json', connectivity_path / 'connectivity_target_experiment_lists', connectivity_path)"
   ]
  },
  {
   "cell_type": "code",
   "execution_count": 49,
   "id": "c6b5956b-252b-4a58-91e7-ada1443de4c7",
   "metadata": {},
   "outputs": [
    {
     "data": {
      "text/plain": [
       "{'target_structure': 'VISpm',\n",
       " 'projection_metric': 'projection_energy',\n",
       " 'hemisphere_id_to_select': 2,\n",
       " 'injection_volume_threshold': 0.01,\n",
       " 'projection_volume_threshold': 0.1,\n",
       " 'metric_for_projection_thresholding': 'normalized_projection_volume',\n",
       " 'read_unionized_data': True,\n",
       " 'read_experiment_list': False}"
      ]
     },
     "execution_count": 49,
     "metadata": {},
     "output_type": "execute_result"
    }
   ],
   "source": [
    "connectivity.config"
   ]
  },
  {
   "cell_type": "code",
   "execution_count": 50,
   "id": "dc29dd6e-2e5d-4c09-9e1a-462b5abba8d9",
   "metadata": {},
   "outputs": [
    {
     "data": {
      "text/html": [
       "<div>\n",
       "<style scoped>\n",
       "    .dataframe tbody tr th:only-of-type {\n",
       "        vertical-align: middle;\n",
       "    }\n",
       "\n",
       "    .dataframe tbody tr th {\n",
       "        vertical-align: top;\n",
       "    }\n",
       "\n",
       "    .dataframe thead th {\n",
       "        text-align: right;\n",
       "    }\n",
       "</style>\n",
       "<table border=\"1\" class=\"dataframe\">\n",
       "  <thead>\n",
       "    <tr style=\"text-align: right;\">\n",
       "      <th></th>\n",
       "      <th>id</th>\n",
       "      <th>transgenic-line</th>\n",
       "      <th>product-id</th>\n",
       "      <th>structure-id</th>\n",
       "      <th>structure-abbrev</th>\n",
       "      <th>structure-name</th>\n",
       "      <th>name</th>\n",
       "      <th>injection-volume</th>\n",
       "      <th>injection-structures</th>\n",
       "      <th>gender</th>\n",
       "      <th>strain</th>\n",
       "      <th>sum</th>\n",
       "      <th>structure-color</th>\n",
       "      <th>num-voxels</th>\n",
       "      <th>injection-coordinates</th>\n",
       "      <th>selected</th>\n",
       "      <th>experiment_page_url</th>\n",
       "    </tr>\n",
       "  </thead>\n",
       "  <tbody>\n",
       "    <tr>\n",
       "      <th>0</th>\n",
       "      <td>100141599</td>\n",
       "      <td>NaN</td>\n",
       "      <td>5</td>\n",
       "      <td>394</td>\n",
       "      <td>VISam</td>\n",
       "      <td>Anteromedial visual area</td>\n",
       "      <td>378-757</td>\n",
       "      <td>0.125483</td>\n",
       "      <td>[{\"id\"=&gt;394, \"abbreviation\"=&gt;\"VISam\", \"name\"=&gt;...</td>\n",
       "      <td>M</td>\n",
       "      <td>C57BL/6J</td>\n",
       "      <td>0.418080</td>\n",
       "      <td>08858c</td>\n",
       "      <td>NaN</td>\n",
       "      <td>[7900, 580, 7380]</td>\n",
       "      <td>False</td>\n",
       "      <td>http://connectivity.brain-map.org/projection/e...</td>\n",
       "    </tr>\n",
       "    <tr>\n",
       "      <th>1</th>\n",
       "      <td>479673174</td>\n",
       "      <td>Emx1-IRES-Cre</td>\n",
       "      <td>35</td>\n",
       "      <td>409</td>\n",
       "      <td>VISl</td>\n",
       "      <td>Lateral visual area</td>\n",
       "      <td>Emx1-IRES-Cre-191135</td>\n",
       "      <td>0.605379</td>\n",
       "      <td>[{\"id\"=&gt;385, \"abbreviation\"=&gt;\"VISp\", \"name\"=&gt;\"...</td>\n",
       "      <td>M</td>\n",
       "      <td>B6.129</td>\n",
       "      <td>0.322064</td>\n",
       "      <td>08858c</td>\n",
       "      <td>NaN</td>\n",
       "      <td>[9140, 2290, 2390]</td>\n",
       "      <td>False</td>\n",
       "      <td>http://connectivity.brain-map.org/projection/e...</td>\n",
       "    </tr>\n",
       "    <tr>\n",
       "      <th>2</th>\n",
       "      <td>512315551</td>\n",
       "      <td>Emx1-IRES-Cre</td>\n",
       "      <td>36</td>\n",
       "      <td>385</td>\n",
       "      <td>VISp</td>\n",
       "      <td>Primary visual area</td>\n",
       "      <td>Emx1-IRES-Cre-234272</td>\n",
       "      <td>1.614223</td>\n",
       "      <td>[{\"id\"=&gt;385, \"abbreviation\"=&gt;\"VISp\", \"name\"=&gt;\"...</td>\n",
       "      <td>M</td>\n",
       "      <td>NaN</td>\n",
       "      <td>0.314968</td>\n",
       "      <td>08858c</td>\n",
       "      <td>NaN</td>\n",
       "      <td>[8460, 1630, 2340]</td>\n",
       "      <td>False</td>\n",
       "      <td>http://connectivity.brain-map.org/projection/e...</td>\n",
       "    </tr>\n",
       "    <tr>\n",
       "      <th>3</th>\n",
       "      <td>309004492</td>\n",
       "      <td>NaN</td>\n",
       "      <td>5</td>\n",
       "      <td>385</td>\n",
       "      <td>VISp</td>\n",
       "      <td>Primary visual area</td>\n",
       "      <td>C57BL/6-155459</td>\n",
       "      <td>1.083030</td>\n",
       "      <td>[{\"id\"=&gt;385, \"abbreviation\"=&gt;\"VISp\", \"name\"=&gt;\"...</td>\n",
       "      <td>M</td>\n",
       "      <td>C57BL/6J</td>\n",
       "      <td>0.264272</td>\n",
       "      <td>08858c</td>\n",
       "      <td>NaN</td>\n",
       "      <td>[9450, 2180, 8700]</td>\n",
       "      <td>False</td>\n",
       "      <td>http://connectivity.brain-map.org/projection/e...</td>\n",
       "    </tr>\n",
       "    <tr>\n",
       "      <th>4</th>\n",
       "      <td>180296424</td>\n",
       "      <td>NaN</td>\n",
       "      <td>5</td>\n",
       "      <td>385</td>\n",
       "      <td>VISp</td>\n",
       "      <td>Primary visual area</td>\n",
       "      <td>378-1815</td>\n",
       "      <td>0.814006</td>\n",
       "      <td>[{\"id\"=&gt;385, \"abbreviation\"=&gt;\"VISp\", \"name\"=&gt;\"...</td>\n",
       "      <td>M</td>\n",
       "      <td>C57BL/6J</td>\n",
       "      <td>0.252463</td>\n",
       "      <td>08858c</td>\n",
       "      <td>NaN</td>\n",
       "      <td>[9290, 2220, 9410]</td>\n",
       "      <td>False</td>\n",
       "      <td>http://connectivity.brain-map.org/projection/e...</td>\n",
       "    </tr>\n",
       "  </tbody>\n",
       "</table>\n",
       "</div>"
      ],
      "text/plain": [
       "          id transgenic-line  product-id  structure-id structure-abbrev  \\\n",
       "0  100141599             NaN           5           394            VISam   \n",
       "1  479673174   Emx1-IRES-Cre          35           409             VISl   \n",
       "2  512315551   Emx1-IRES-Cre          36           385             VISp   \n",
       "3  309004492             NaN           5           385             VISp   \n",
       "4  180296424             NaN           5           385             VISp   \n",
       "\n",
       "             structure-name                  name  injection-volume  \\\n",
       "0  Anteromedial visual area               378-757          0.125483   \n",
       "1       Lateral visual area  Emx1-IRES-Cre-191135          0.605379   \n",
       "2       Primary visual area  Emx1-IRES-Cre-234272          1.614223   \n",
       "3       Primary visual area        C57BL/6-155459          1.083030   \n",
       "4       Primary visual area              378-1815          0.814006   \n",
       "\n",
       "                                injection-structures gender    strain  \\\n",
       "0  [{\"id\"=>394, \"abbreviation\"=>\"VISam\", \"name\"=>...      M  C57BL/6J   \n",
       "1  [{\"id\"=>385, \"abbreviation\"=>\"VISp\", \"name\"=>\"...      M    B6.129   \n",
       "2  [{\"id\"=>385, \"abbreviation\"=>\"VISp\", \"name\"=>\"...      M       NaN   \n",
       "3  [{\"id\"=>385, \"abbreviation\"=>\"VISp\", \"name\"=>\"...      M  C57BL/6J   \n",
       "4  [{\"id\"=>385, \"abbreviation\"=>\"VISp\", \"name\"=>\"...      M  C57BL/6J   \n",
       "\n",
       "        sum structure-color  num-voxels injection-coordinates  selected  \\\n",
       "0  0.418080          08858c         NaN     [7900, 580, 7380]     False   \n",
       "1  0.322064          08858c         NaN    [9140, 2290, 2390]     False   \n",
       "2  0.314968          08858c         NaN    [8460, 1630, 2340]     False   \n",
       "3  0.264272          08858c         NaN    [9450, 2180, 8700]     False   \n",
       "4  0.252463          08858c         NaN    [9290, 2220, 9410]     False   \n",
       "\n",
       "                                 experiment_page_url  \n",
       "0  http://connectivity.brain-map.org/projection/e...  \n",
       "1  http://connectivity.brain-map.org/projection/e...  \n",
       "2  http://connectivity.brain-map.org/projection/e...  \n",
       "3  http://connectivity.brain-map.org/projection/e...  \n",
       "4  http://connectivity.brain-map.org/projection/e...  "
      ]
     },
     "execution_count": 50,
     "metadata": {},
     "output_type": "execute_result"
    }
   ],
   "source": [
    "connectivity.experiment_metadata.head()"
   ]
  },
  {
   "cell_type": "code",
   "execution_count": 51,
   "id": "98b59f06-9f4a-403e-9b79-2811ecfdd67c",
   "metadata": {},
   "outputs": [
    {
     "data": {
      "text/html": [
       "<div>\n",
       "<style scoped>\n",
       "    .dataframe tbody tr th:only-of-type {\n",
       "        vertical-align: middle;\n",
       "    }\n",
       "\n",
       "    .dataframe tbody tr th {\n",
       "        vertical-align: top;\n",
       "    }\n",
       "\n",
       "    .dataframe thead th {\n",
       "        text-align: right;\n",
       "    }\n",
       "</style>\n",
       "<table border=\"1\" class=\"dataframe\">\n",
       "  <thead>\n",
       "    <tr style=\"text-align: right;\">\n",
       "      <th></th>\n",
       "      <th>acronym</th>\n",
       "      <th>atlas_id</th>\n",
       "      <th>color_hex_triplet</th>\n",
       "      <th>depth</th>\n",
       "      <th>failed</th>\n",
       "      <th>failed_facet</th>\n",
       "      <th>graph_id</th>\n",
       "      <th>graph_order</th>\n",
       "      <th>hemisphere_id</th>\n",
       "      <th>id</th>\n",
       "      <th>...</th>\n",
       "      <th>neuro_name_structure_id</th>\n",
       "      <th>neuro_name_structure_id_path</th>\n",
       "      <th>ontology_id</th>\n",
       "      <th>parent_structure_id</th>\n",
       "      <th>safe_name</th>\n",
       "      <th>sphinx_id</th>\n",
       "      <th>st_level</th>\n",
       "      <th>structure_id_path</th>\n",
       "      <th>structure_name_facet</th>\n",
       "      <th>weight</th>\n",
       "    </tr>\n",
       "  </thead>\n",
       "  <tbody>\n",
       "    <tr>\n",
       "      <th>0</th>\n",
       "      <td>PAG</td>\n",
       "      <td>240.0</td>\n",
       "      <td>FF90FF</td>\n",
       "      <td>5</td>\n",
       "      <td>False</td>\n",
       "      <td>734881840</td>\n",
       "      <td>1</td>\n",
       "      <td>838</td>\n",
       "      <td>3</td>\n",
       "      <td>795</td>\n",
       "      <td>...</td>\n",
       "      <td>None</td>\n",
       "      <td>None</td>\n",
       "      <td>1</td>\n",
       "      <td>323</td>\n",
       "      <td>Periaqueductal gray</td>\n",
       "      <td>839</td>\n",
       "      <td>8</td>\n",
       "      <td>/997/8/343/313/323/795/</td>\n",
       "      <td>3260726339</td>\n",
       "      <td>8690</td>\n",
       "    </tr>\n",
       "    <tr>\n",
       "      <th>1</th>\n",
       "      <td>ARH</td>\n",
       "      <td>27.0</td>\n",
       "      <td>FF5D50</td>\n",
       "      <td>6</td>\n",
       "      <td>False</td>\n",
       "      <td>734881840</td>\n",
       "      <td>1</td>\n",
       "      <td>733</td>\n",
       "      <td>3</td>\n",
       "      <td>223</td>\n",
       "      <td>...</td>\n",
       "      <td>None</td>\n",
       "      <td>None</td>\n",
       "      <td>1</td>\n",
       "      <td>157</td>\n",
       "      <td>Arcuate hypothalamic nucleus</td>\n",
       "      <td>734</td>\n",
       "      <td>8</td>\n",
       "      <td>/997/8/343/1129/1097/157/223/</td>\n",
       "      <td>218062747</td>\n",
       "      <td>8690</td>\n",
       "    </tr>\n",
       "    <tr>\n",
       "      <th>2</th>\n",
       "      <td>ORBm</td>\n",
       "      <td>232.0</td>\n",
       "      <td>248A5E</td>\n",
       "      <td>7</td>\n",
       "      <td>False</td>\n",
       "      <td>734881840</td>\n",
       "      <td>1</td>\n",
       "      <td>264</td>\n",
       "      <td>3</td>\n",
       "      <td>731</td>\n",
       "      <td>...</td>\n",
       "      <td>None</td>\n",
       "      <td>None</td>\n",
       "      <td>1</td>\n",
       "      <td>714</td>\n",
       "      <td>Orbital area medial part</td>\n",
       "      <td>265</td>\n",
       "      <td>9</td>\n",
       "      <td>/997/8/567/688/695/315/714/731/</td>\n",
       "      <td>3012751712</td>\n",
       "      <td>8690</td>\n",
       "    </tr>\n",
       "    <tr>\n",
       "      <th>3</th>\n",
       "      <td>LSv</td>\n",
       "      <td>174.0</td>\n",
       "      <td>90CBED</td>\n",
       "      <td>7</td>\n",
       "      <td>False</td>\n",
       "      <td>734881840</td>\n",
       "      <td>1</td>\n",
       "      <td>589</td>\n",
       "      <td>3</td>\n",
       "      <td>266</td>\n",
       "      <td>...</td>\n",
       "      <td>None</td>\n",
       "      <td>None</td>\n",
       "      <td>1</td>\n",
       "      <td>242</td>\n",
       "      <td>Lateral septal nucleus ventral part</td>\n",
       "      <td>590</td>\n",
       "      <td>9</td>\n",
       "      <td>/997/8/567/623/477/275/242/266/</td>\n",
       "      <td>1660459064</td>\n",
       "      <td>8690</td>\n",
       "    </tr>\n",
       "    <tr>\n",
       "      <th>4</th>\n",
       "      <td>PD</td>\n",
       "      <td>255.0</td>\n",
       "      <td>FF5547</td>\n",
       "      <td>6</td>\n",
       "      <td>False</td>\n",
       "      <td>734881840</td>\n",
       "      <td>1</td>\n",
       "      <td>746</td>\n",
       "      <td>3</td>\n",
       "      <td>914</td>\n",
       "      <td>...</td>\n",
       "      <td>None</td>\n",
       "      <td>None</td>\n",
       "      <td>1</td>\n",
       "      <td>141</td>\n",
       "      <td>Posterodorsal preoptic nucleus</td>\n",
       "      <td>747</td>\n",
       "      <td>8</td>\n",
       "      <td>/997/8/343/1129/1097/141/914/</td>\n",
       "      <td>2759126254</td>\n",
       "      <td>8690</td>\n",
       "    </tr>\n",
       "  </tbody>\n",
       "</table>\n",
       "<p>5 rows × 21 columns</p>\n",
       "</div>"
      ],
      "text/plain": [
       "  acronym  atlas_id color_hex_triplet  depth  failed  failed_facet  graph_id  \\\n",
       "0     PAG     240.0            FF90FF      5   False     734881840         1   \n",
       "1     ARH      27.0            FF5D50      6   False     734881840         1   \n",
       "2    ORBm     232.0            248A5E      7   False     734881840         1   \n",
       "3     LSv     174.0            90CBED      7   False     734881840         1   \n",
       "4      PD     255.0            FF5547      6   False     734881840         1   \n",
       "\n",
       "   graph_order  hemisphere_id   id  ... neuro_name_structure_id  \\\n",
       "0          838              3  795  ...                    None   \n",
       "1          733              3  223  ...                    None   \n",
       "2          264              3  731  ...                    None   \n",
       "3          589              3  266  ...                    None   \n",
       "4          746              3  914  ...                    None   \n",
       "\n",
       "  neuro_name_structure_id_path ontology_id  parent_structure_id  \\\n",
       "0                         None           1                  323   \n",
       "1                         None           1                  157   \n",
       "2                         None           1                  714   \n",
       "3                         None           1                  242   \n",
       "4                         None           1                  141   \n",
       "\n",
       "                             safe_name sphinx_id  st_level  \\\n",
       "0                  Periaqueductal gray       839         8   \n",
       "1         Arcuate hypothalamic nucleus       734         8   \n",
       "2             Orbital area medial part       265         9   \n",
       "3  Lateral septal nucleus ventral part       590         9   \n",
       "4       Posterodorsal preoptic nucleus       747         8   \n",
       "\n",
       "                 structure_id_path structure_name_facet  weight  \n",
       "0          /997/8/343/313/323/795/           3260726339    8690  \n",
       "1    /997/8/343/1129/1097/157/223/            218062747    8690  \n",
       "2  /997/8/567/688/695/315/714/731/           3012751712    8690  \n",
       "3  /997/8/567/623/477/275/242/266/           1660459064    8690  \n",
       "4    /997/8/343/1129/1097/141/914/           2759126254    8690  \n",
       "\n",
       "[5 rows x 21 columns]"
      ]
     },
     "execution_count": 51,
     "metadata": {},
     "output_type": "execute_result"
    }
   ],
   "source": [
    "connectivity.structure_set.head()"
   ]
  },
  {
   "cell_type": "code",
   "execution_count": 52,
   "id": "41bdb369-f6b2-4e4a-a7a0-2e37bb767386",
   "metadata": {},
   "outputs": [
    {
     "name": "stdout",
     "output_type": "stream",
     "text": [
      "[300076066, 496114558, 267029447, 266500714, 272829745, 287247978, 272699357, 266099165, 182144176, 300166697, 287712779, 156979283, 158376179, 120761491, 182280207, 160538548, 302053755, 301540850, 120571672, 262188772, 162020630, 298079928, 147635309, 301671287, 128002057, 304949216, 300111793, 113096571, 180524412, 267030155, 299856390, 543880631]\n"
     ]
    }
   ],
   "source": [
    "print(connectivity.experiment_list[795])"
   ]
  },
  {
   "cell_type": "markdown",
   "id": "fe4d5dd7-f953-4b8f-8812-5451ac062b3a",
   "metadata": {},
   "source": [
    "Check that all projecting experiments are linked to an area in the list"
   ]
  },
  {
   "cell_type": "code",
   "execution_count": 53,
   "id": "a4943d9e-e6ee-4cf2-afb5-aa305826ef7e",
   "metadata": {},
   "outputs": [
    {
     "name": "stdout",
     "output_type": "stream",
     "text": [
      "Number of experiments from metadata (2795) corresponds to the number of experiments matched with Allen structure set (2795) ==> True.\n"
     ]
    }
   ],
   "source": [
    "connectivity.areas_experiments_cross_check()"
   ]
  },
  {
   "cell_type": "markdown",
   "id": "f37398be-1df9-4dfe-9f0e-cc8b5ba586be",
   "metadata": {},
   "source": [
    "Filter out experiments where target structure and injection structures overlap"
   ]
  },
  {
   "cell_type": "code",
   "execution_count": 54,
   "id": "6d54b449-f595-40b0-b1b0-39977f53f7e8",
   "metadata": {},
   "outputs": [
    {
     "name": "stdout",
     "output_type": "stream",
     "text": [
      "98 experiments removed:\n",
      "[496113850, 531443949, 599076623, 606778738, 113846682, 576341623, 646525997, 593018150, 576036240, 495345959, 595884140, 554333581, 577298618, 127991964, 114474520, 584511827, 288168426, 657042668, 598605738, 517962765, 656632388, 597256577, 294484177, 495877413, 268040381, 297597186, 482640524, 511817919, 168097187, 579628905, 297627858, 646527844, 584511119, 100141599, 159753308, 571100135, 518742338, 297233422, 184167484, 552431726, 524667618, 294434867, 288264047, 517326050, 297670312, 518619451, 559878074, 516491813, 606930364, 523714940, 268038969, 478678606, 651703553, 293821389, 653191449, 597007143, 557347149, 586041882, 552279683, 520012330, 535696750, 482581199, 520018181, 175018829, 267493760, 272873704, 146078721, 294481346, 512314723, 146077302, 572588941, 501006221, 495345251, 519186737, 485237081, 590987294, 257667830, 502074651, 182896517, 299733445, 523718823, 561506791, 297946154, 570460301, 557342452, 298324391, 636803957, 301618122, 502180994, 287225041, 649361916, 503813164, 605093074, 496097187, 656958144, 180405830, 511550172, 601268292]\n"
     ]
    }
   ],
   "source": [
    "connectivity.remove_injection_target_overlap_areas()"
   ]
  },
  {
   "cell_type": "markdown",
   "id": "0b2c29ed-5d3f-4ec8-80a0-774fbb65c168",
   "metadata": {},
   "source": [
    "Download unionized data in csv files for every experiment (long download)"
   ]
  },
  {
   "cell_type": "code",
   "execution_count": 55,
   "id": "edd6992f-8d6e-4b5c-9bb9-0e94c357145f",
   "metadata": {},
   "outputs": [
    {
     "name": "stdout",
     "output_type": "stream",
     "text": [
      "Unionized data already downloaded.\n"
     ]
    }
   ],
   "source": [
    "connectivity.download_unionized_data()"
   ]
  },
  {
   "cell_type": "markdown",
   "id": "c624fed2-947e-48a3-94b9-f31e922b324e",
   "metadata": {},
   "source": [
    "Removing experiments which have not been injected into specified hemisphere (in the config file)"
   ]
  },
  {
   "cell_type": "code",
   "execution_count": 56,
   "id": "275eebc0-c144-4a0e-b8d5-4b96a252aeec",
   "metadata": {},
   "outputs": [
    {
     "name": "stderr",
     "output_type": "stream",
     "text": [
      "Only selecting experiments injectied in hemisphere_id = 2: 100%|██████████| 316/316 [16:49<00:00,  3.20s/it]"
     ]
    },
    {
     "name": "stdout",
     "output_type": "stream",
     "text": [
      "433 experiments removed:\n",
      "[496114558, 266500714, 287247978, 182144176, 162020630, 478582494, 496554237, 293471629, 524267323, 159209586, 593277684, 555745687, 568502684, 584651014, 642970691, 603468246, 527393013, 556922813, 531233132, 527390805, 528512680, 300888673, 182185289, 164985329, 552973699, 480074702, 168300027, 183562831, 547510030, 160080778, 147159899, 267703239, 160081484, 278259822, 100141597, 303580293, 547509190, 287095785, 577773267, 479673174, 479700629, 520750912, 592518697, 500836105, 495344543, 503018656, 501883865, 484503464, 523180728, 562520963, 504176074, 657162589, 567723369, 531397136, 518012479, 572388976, 502956560, 518013943, 553080579, 589702885, 589065144, 552430870, 589398486, 495754475, 589322070, 585931968, 484504171, 578332611, 480703321, 558697990, 553747363, 300889379, 551756337, 479267539, 605092364, 601904029, 479268685, 479670988, 479671695, 480692170, 592540591, 591535205, 664716091, 561307215, 666090944, 569904687, 555012592, 561511939, 616674416, 475830603, 570071403, 521255975, 592724077, 623838656, 475828414, 561910766, 480994108, 522773270, 479115470, 526783792, 532005897, 617898760, 617900105, 478995566, 175264587, 167376068, 539641136, 513498584, 127908173, 583320505, 646525156, 562674923, 553746532, 617901499, 604100536, 643635656, 595259180, 572595932, 585021827, 167212217, 141603895, 168227692, 554421791, 579203888, 587345518, 556922099, 642809043, 642460814, 539498984, 579409876, 522274859, 483094671, 525413115, 528328648, 506426038, 496965687, 127350480, 177904363, 177606140, 556341848, 478581080, 159432479, 301732962, 147135812, 592698832, 592698087, 606278526, 573035760, 267538735, 304859407, 184212995, 512315551, 479984127, 546103149, 479756361, 479701339, 479755622, 501004474, 536299435, 480069939, 479983421, 540146149, 536298726, 501115762, 554641575, 529692491, 591169915, 517077687, 596252304, 535692871, 522636747, 501116471, 510835921, 596253012, 524666049, 483013787, 502140653, 524656772, 479982715, 522408611, 574941472, 566732238, 510417993, 501711996, 483014695, 591623061, 510417255, 510582887, 517962038, 506890448, 539739321, 506891241, 503058936, 526501457, 503809372, 561918178, 580150240, 506946046, 522409371, 563205064, 501787135, 574637452, 495346667, 543297033, 482639810, 479085232, 502592260, 485553574, 517072832, 563352720, 519486602, 526784559, 527575484, 545799841, 604581497, 508889322, 520985971, 495753765, 536298009, 543679575, 566992832, 602094339, 514332492, 514313871, 589397775, 501837158, 539511058, 552544043, 563731437, 577241399, 501923898, 544488252, 528964707, 580594514, 601486918, 514314707, 174957972, 278500868, 175374982, 607316031, 184158290, 310976160, 607289053, 528732005, 528510546, 590548119, 566244185, 560045081, 561986735, 613898292, 666936463, 278510903, 301209502, 313324664, 127255962, 184158996, 272874417, 519735413, 568768472, 485929089, 496150781, 571652998, 496151571, 573977678, 572753855, 540140513, 614737677, 507798246, 518222748, 518023283, 505790715, 518218546, 602828622, 518217838, 616857128, 671464291, 517313256, 647576768, 671463542, 616856399, 504105304, 616676552, 603717939, 603574321, 517314004, 639647390, 552758186, 552757477, 603331422, 636967182, 615543017, 603891334, 569623967, 529428776, 651041703, 656959718, 591394174, 286313491, 475616128, 527713163, 496097913, 521954271, 584895127, 536920234, 518605181, 591223633, 523718075, 543680289, 516273371, 517078399, 554420321, 560029094, 650408717, 601804603, 636799953, 572390577, 504521113, 478491810, 478490368, 504519805, 593296997, 158314987, 182182936, 307655867, 304720741, 478376197, 527711024, 523481517, 606260719, 614738437, 299759881, 264078267, 504173156, 177605425, 562671482, 569994739, 553092069, 480689656, 522255595, 478095541, 573330828, 503036583, 503324388, 540139629, 120572378, 165975096, 477927130, 517975511, 301538025, 158841171, 503035875, 504100025, 507708083, 518606617, 522635991, 657334568, 524874308, 517325325, 667294910, 572771153, 576660608, 182459635, 299247009, 647574144, 518605900, 524666904, 510834706, 520996382, 544454674, 544488964, 516274127, 534175823, 570461017, 156929391, 562963492, 167029528, 302222934, 303468314, 475616836, 572969377, 286728896, 478491090, 496576666, 607059419, 478376911, 539521918, 584194481, 475829896, 501483880, 571401645, 609475867, 607321130, 649362978, 477435412, 637855050, 522774029, 156742543, 164986046, 573624241, 551738231, 176898557, 302086846, 657172447, 652753758, 646214807, 592392441, 554334685, 648252402, 648050335, 648048130, 601885751, 649183036, 593407064, 649484051, 484612961, 300209456, 128003477, 571823196, 582814018, 528511254, 569932566, 607052300, 114473794, 583748537, 647806688, 648253235, 657041814, 560736273, 538079359, 643749624, 644250774, 557826519, 603717226]\n"
     ]
    },
    {
     "name": "stderr",
     "output_type": "stream",
     "text": [
      "\n"
     ]
    }
   ],
   "source": [
    "connectivity.select_by_hemisphere()"
   ]
  },
  {
   "cell_type": "markdown",
   "id": "fd4b57d7-d6e1-422b-baa2-fe8b292f6d64",
   "metadata": {},
   "source": [
    "Quality check for experiments with zero-valued projection metric in unionzed data"
   ]
  },
  {
   "cell_type": "code",
   "execution_count": 57,
   "id": "382526c5-412a-4a4a-80c5-1428f6e1064f",
   "metadata": {},
   "outputs": [
    {
     "name": "stderr",
     "output_type": "stream",
     "text": [
      "Loading unionized data: 100%|██████████| 316/316 [00:16<00:00, 18.67it/s]\n"
     ]
    },
    {
     "name": "stdout",
     "output_type": "stream",
     "text": [
      "number of experiments BEFORE zero-valued projection QC = 2264\n",
      "number of experiments AFTER zero-valued projection QC = 1889\n"
     ]
    }
   ],
   "source": [
    "connectivity.zero_projection_QC()"
   ]
  },
  {
   "cell_type": "markdown",
   "id": "c8c51e06-4bf7-4389-8451-3d491f1d5bd9",
   "metadata": {},
   "source": [
    "Apply <b>injection</b> volume thresholding to experiments"
   ]
  },
  {
   "cell_type": "code",
   "execution_count": 58,
   "id": "d6ef8511-6533-44c7-a289-45a705de8c62",
   "metadata": {},
   "outputs": [
    {
     "name": "stdout",
     "output_type": "stream",
     "text": [
      "number of experiments BEFORE injection volume thresholding = 1889\n"
     ]
    },
    {
     "name": "stderr",
     "output_type": "stream",
     "text": [
      "100%|██████████| 316/316 [17:59<00:00,  3.42s/it]  "
     ]
    },
    {
     "name": "stdout",
     "output_type": "stream",
     "text": [
      "number of experiments AFTER injection volume thresholding = 1800\n"
     ]
    },
    {
     "name": "stderr",
     "output_type": "stream",
     "text": [
      "\n"
     ]
    }
   ],
   "source": [
    "connectivity.injection_volume_thresholding()"
   ]
  },
  {
   "cell_type": "markdown",
   "id": "6a6a0f33-0b25-4a84-baba-3ab8902154c0",
   "metadata": {},
   "source": [
    "Separate experiments by those projecting ipsilaterally or contralaterally"
   ]
  },
  {
   "cell_type": "code",
   "execution_count": 59,
   "id": "b3361125-eb6b-4296-99d8-a06355e1420e",
   "metadata": {},
   "outputs": [
    {
     "name": "stdout",
     "output_type": "stream",
     "text": [
      "1280 ipsilaterally projecting experiments.\n",
      "520 contralaterally projecting experiments.\n"
     ]
    }
   ],
   "source": [
    "connectivity.separate_by_projection_hemisphere()"
   ]
  },
  {
   "cell_type": "markdown",
   "id": "13a1df72-029c-48d6-ae41-240c2e525fc4",
   "metadata": {},
   "source": [
    "Apply <b>projection</b> volume thresholding to experiments"
   ]
  },
  {
   "cell_type": "code",
   "execution_count": 60,
   "id": "4c025e22-f911-4459-903c-fe1a74a94070",
   "metadata": {},
   "outputs": [
    {
     "name": "stdout",
     "output_type": "stream",
     "text": [
      "Number of ipsilateral experiments BEFORE projection volume thresholding = 1280\n",
      "Number of contralateral experiments BEFORE projection volume thresholding = 520\n"
     ]
    },
    {
     "name": "stderr",
     "output_type": "stream",
     "text": [
      "ipsilateral: 100%|██████████| 316/316 [00:00<00:00, 450.17it/s]\n",
      "contralateral: 100%|██████████| 316/316 [00:00<00:00, 1514.12it/s]"
     ]
    },
    {
     "name": "stdout",
     "output_type": "stream",
     "text": [
      "Number of ipsilateral experiments AFTER projection volume thresholding = 203\n",
      "Number of contralateral experiments AFTER projection volume thresholding = 81\n"
     ]
    },
    {
     "name": "stderr",
     "output_type": "stream",
     "text": [
      "\n"
     ]
    }
   ],
   "source": [
    "connectivity.projection_volume_thresholding()"
   ]
  },
  {
   "cell_type": "markdown",
   "id": "12e54655-27b6-4edc-bf78-68d2daae06ec",
   "metadata": {},
   "source": [
    "For every brain area compute average projection metric and use it to compute weighted centroid"
   ]
  },
  {
   "cell_type": "code",
   "execution_count": 61,
   "id": "e4f079a1-0c1c-4b14-b304-f2f422985a9e",
   "metadata": {},
   "outputs": [
    {
     "name": "stdout",
     "output_type": "stream",
     "text": [
      "42 ipsilateral centroids computed out of 316 regions\n",
      "19 contralateral centroids computed out of 316 regions\n"
     ]
    }
   ],
   "source": [
    "connectivity.compute_weighted_centroids()"
   ]
  },
  {
   "cell_type": "markdown",
   "id": "6ae0bf9d-68b0-48aa-b7a0-b7fc9b2149b4",
   "metadata": {},
   "source": [
    "Saving computed centroids"
   ]
  },
  {
   "cell_type": "code",
   "execution_count": 62,
   "id": "afbae948-53f1-46c6-8c96-0a6ac510550d",
   "metadata": {},
   "outputs": [],
   "source": [
    "connectivity.save_centroids()"
   ]
  },
  {
   "cell_type": "code",
   "execution_count": null,
   "id": "a1be5af4-873f-4a0f-8af2-20d6d87f40d5",
   "metadata": {},
   "outputs": [],
   "source": []
  }
 ],
 "metadata": {
  "kernelspec": {
   "display_name": "Python [conda env:allendata]",
   "language": "python",
   "name": "conda-env-allendata-py"
  },
  "language_info": {
   "codemirror_mode": {
    "name": "ipython",
    "version": 3
   },
   "file_extension": ".py",
   "mimetype": "text/x-python",
   "name": "python",
   "nbconvert_exporter": "python",
   "pygments_lexer": "ipython3",
   "version": "3.7.15"
  }
 },
 "nbformat": 4,
 "nbformat_minor": 5
}
