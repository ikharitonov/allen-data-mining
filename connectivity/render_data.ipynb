{
 "cells": [
  {
   "cell_type": "code",
   "execution_count": 3,
   "id": "e4f431ca-5ad9-49a0-bad4-3b9aee28533b",
   "metadata": {},
   "outputs": [],
   "source": [
    "import numpy as np\n",
    "\n",
    "from brainrender import Scene\n",
    "\n",
    "from vedo import embedWindow\n",
    "from vedo import show"
   ]
  },
  {
   "cell_type": "code",
   "execution_count": 4,
   "id": "71fe5fa7-9793-439a-a87c-0b91664ac61b",
   "metadata": {},
   "outputs": [],
   "source": [
    "embedWindow('k3d')"
   ]
  },
  {
   "cell_type": "code",
   "execution_count": 5,
   "id": "62ae8030-5a17-4420-b55e-c9a9e4e64f22",
   "metadata": {},
   "outputs": [
    {
     "data": {
      "text/html": [
       "<pre style=\"white-space:pre;overflow-x:auto;line-height:normal;font-family:Menlo,'DejaVu Sans Mono',consolas,'Courier New',monospace\">\n",
       "</pre>\n"
      ],
      "text/plain": [
       "\n"
      ]
     },
     "metadata": {},
     "output_type": "display_data"
    },
    {
     "data": {
      "text/html": [
       "<pre style=\"white-space:pre;overflow-x:auto;line-height:normal;font-family:Menlo,'DejaVu Sans Mono',consolas,'Courier New',monospace\">\n",
       "\n",
       "\n",
       "<span style=\"color: #c0c0c0; text-decoration-color: #c0c0c0\">╭──────────────────────────────────────────────────────────────────────────────────────╮</span>\n",
       "<span style=\"color: #c0c0c0; text-decoration-color: #c0c0c0\">│</span>  <span style=\"font-weight: bold\">                                                                                  </span>  <span style=\"color: #c0c0c0; text-decoration-color: #c0c0c0\">│</span>\n",
       "<span style=\"color: #c0c0c0; text-decoration-color: #c0c0c0\">│</span>   <span style=\"color: #ffa726; text-decoration-color: #ffa726; font-weight: bold\">brainrender.Actor: </span>                                                                <span style=\"color: #c0c0c0; text-decoration-color: #c0c0c0\">│</span>\n",
       "<span style=\"color: #c0c0c0; text-decoration-color: #c0c0c0\">│</span>   <span style=\"color: #ffa726; text-decoration-color: #ffa726; font-weight: bold\">──────────────────────</span>                                                             <span style=\"color: #c0c0c0; text-decoration-color: #c0c0c0\">│</span>\n",
       "<span style=\"color: #c0c0c0; text-decoration-color: #c0c0c0\">│</span>                                                                                      <span style=\"color: #c0c0c0; text-decoration-color: #c0c0c0\">│</span>\n",
       "<span style=\"color: #c0c0c0; text-decoration-color: #c0c0c0\">│</span>   <span style=\"color: #ffa726; text-decoration-color: #ffa726; font-weight: bold\">name:</span><span style=\"color: #ffca28; text-decoration-color: #ffca28\"> MOs</span>                                                                          <span style=\"color: #c0c0c0; text-decoration-color: #c0c0c0\">│</span>\n",
       "<span style=\"color: #c0c0c0; text-decoration-color: #c0c0c0\">│</span>   <span style=\"color: #ffa726; text-decoration-color: #ffa726; font-weight: bold\">type:</span><span style=\"color: #ffca28; text-decoration-color: #ffca28\"> brain region</span>                                                                 <span style=\"color: #c0c0c0; text-decoration-color: #c0c0c0\">│</span>\n",
       "<span style=\"color: #c0c0c0; text-decoration-color: #c0c0c0\">│</span>   <span style=\"color: #ffffff; text-decoration-color: #ffffff\">────────────────────────────────────────────────────────────────────────────────</span>   <span style=\"color: #c0c0c0; text-decoration-color: #c0c0c0\">│</span>\n",
       "<span style=\"color: #c0c0c0; text-decoration-color: #c0c0c0\">│</span>   <span style=\"color: #ffa726; text-decoration-color: #ffa726\">center of mass:</span><span style=\"color: #ffca28; text-decoration-color: #ffca28\"> [3834 2140 5697]</span>                                                   <span style=\"color: #c0c0c0; text-decoration-color: #c0c0c0\">│</span>\n",
       "<span style=\"color: #c0c0c0; text-decoration-color: #c0c0c0\">│</span>   <span style=\"color: #ffa726; text-decoration-color: #ffa726\">number of vertices:</span><span style=\"color: #ffca28; text-decoration-color: #ffca28\"> 6330</span>                                                           <span style=\"color: #c0c0c0; text-decoration-color: #c0c0c0\">│</span>\n",
       "<span style=\"color: #c0c0c0; text-decoration-color: #c0c0c0\">│</span>   <span style=\"color: #ffa726; text-decoration-color: #ffa726\">dimensions:</span><span style=\"color: #ffca28; text-decoration-color: #ffca28\"> [1939 6409  490 3799 2796 8586]</span>                                        <span style=\"color: #c0c0c0; text-decoration-color: #c0c0c0\">│</span>\n",
       "<span style=\"color: #c0c0c0; text-decoration-color: #c0c0c0\">│</span>   <span style=\"color: #ffa726; text-decoration-color: #ffa726\">color:</span><span style=\"color: #ffca28; text-decoration-color: #ffca28\"> [0.12156863 0.61568627 0.35294118]</span>                                          <span style=\"color: #c0c0c0; text-decoration-color: #c0c0c0\">│</span>\n",
       "<span style=\"color: #c0c0c0; text-decoration-color: #c0c0c0\">│</span>                                                                                      <span style=\"color: #c0c0c0; text-decoration-color: #c0c0c0\">│</span>\n",
       "<span style=\"color: #c0c0c0; text-decoration-color: #c0c0c0\">╰──────────────────────────────────────────────────────────────────────────────────────╯</span>\n",
       "</pre>\n"
      ],
      "text/plain": [
       "\n",
       "\n",
       "\n",
       "\u001b[38;2;192;192;192m╭──────────────────────────────────────────────────────────────────────────────────────╮\u001b[0m\n",
       "\u001b[38;2;192;192;192m│\u001b[0m  \u001b[1m \u001b[0m\u001b[1m                                                                                \u001b[0m\u001b[1m \u001b[0m  \u001b[38;2;192;192;192m│\u001b[0m\n",
       "\u001b[38;2;192;192;192m│\u001b[0m   \u001b[1;38;2;255;167;38mbrainrender.Actor: \u001b[0m                                                                \u001b[38;2;192;192;192m│\u001b[0m\n",
       "\u001b[38;2;192;192;192m│\u001b[0m   \u001b[1;38;2;255;167;38m──────────────────────\u001b[0m                                                             \u001b[38;2;192;192;192m│\u001b[0m\n",
       "\u001b[38;2;192;192;192m│\u001b[0m                                                                                      \u001b[38;2;192;192;192m│\u001b[0m\n",
       "\u001b[38;2;192;192;192m│\u001b[0m   \u001b[1;38;2;255;167;38mname:\u001b[0m\u001b[38;2;255;202;40m MOs\u001b[0m                                                                          \u001b[38;2;192;192;192m│\u001b[0m\n",
       "\u001b[38;2;192;192;192m│\u001b[0m   \u001b[1;38;2;255;167;38mtype:\u001b[0m\u001b[38;2;255;202;40m brain region\u001b[0m                                                                 \u001b[38;2;192;192;192m│\u001b[0m\n",
       "\u001b[38;2;192;192;192m│\u001b[0m   \u001b[38;2;255;255;255m─\u001b[0m\u001b[38;2;255;255;255m─\u001b[0m\u001b[38;2;255;255;255m─\u001b[0m\u001b[38;2;255;255;255m─\u001b[0m\u001b[38;2;255;255;255m─\u001b[0m\u001b[38;2;255;255;255m─\u001b[0m\u001b[38;2;255;255;255m─\u001b[0m\u001b[38;2;255;255;255m─\u001b[0m\u001b[38;2;255;255;255m─\u001b[0m\u001b[38;2;255;255;255m─\u001b[0m\u001b[38;2;255;255;255m─\u001b[0m\u001b[38;2;255;255;255m─\u001b[0m\u001b[38;2;255;255;255m─\u001b[0m\u001b[38;2;255;255;255m─\u001b[0m\u001b[38;2;255;255;255m─\u001b[0m\u001b[38;2;255;255;255m─\u001b[0m\u001b[38;2;255;255;255m─\u001b[0m\u001b[38;2;255;255;255m─\u001b[0m\u001b[38;2;255;255;255m─\u001b[0m\u001b[38;2;255;255;255m─\u001b[0m\u001b[38;2;255;255;255m─\u001b[0m\u001b[38;2;255;255;255m─\u001b[0m\u001b[38;2;255;255;255m─\u001b[0m\u001b[38;2;255;255;255m─\u001b[0m\u001b[38;2;255;255;255m─\u001b[0m\u001b[38;2;255;255;255m─\u001b[0m\u001b[38;2;255;255;255m─\u001b[0m\u001b[38;2;255;255;255m─\u001b[0m\u001b[38;2;255;255;255m─\u001b[0m\u001b[38;2;255;255;255m─\u001b[0m\u001b[38;2;255;255;255m─\u001b[0m\u001b[38;2;255;255;255m─\u001b[0m\u001b[38;2;255;255;255m─\u001b[0m\u001b[38;2;255;255;255m─\u001b[0m\u001b[38;2;255;255;255m─\u001b[0m\u001b[38;2;255;255;255m─\u001b[0m\u001b[38;2;255;255;255m─\u001b[0m\u001b[38;2;255;255;255m─\u001b[0m\u001b[38;2;255;255;255m─\u001b[0m\u001b[38;2;255;255;255m─\u001b[0m\u001b[38;2;255;255;255m─\u001b[0m\u001b[38;2;255;255;255m─\u001b[0m\u001b[38;2;255;255;255m─\u001b[0m\u001b[38;2;255;255;255m─\u001b[0m\u001b[38;2;255;255;255m─\u001b[0m\u001b[38;2;255;255;255m─\u001b[0m\u001b[38;2;255;255;255m─\u001b[0m\u001b[38;2;255;255;255m─\u001b[0m\u001b[38;2;255;255;255m─\u001b[0m\u001b[38;2;255;255;255m─\u001b[0m\u001b[38;2;255;255;255m─\u001b[0m\u001b[38;2;255;255;255m─\u001b[0m\u001b[38;2;255;255;255m─\u001b[0m\u001b[38;2;255;255;255m─\u001b[0m\u001b[38;2;255;255;255m─\u001b[0m\u001b[38;2;255;255;255m─\u001b[0m\u001b[38;2;255;255;255m─\u001b[0m\u001b[38;2;255;255;255m─\u001b[0m\u001b[38;2;255;255;255m─\u001b[0m\u001b[38;2;255;255;255m─\u001b[0m\u001b[38;2;255;255;255m─\u001b[0m\u001b[38;2;255;255;255m─\u001b[0m\u001b[38;2;255;255;255m─\u001b[0m\u001b[38;2;255;255;255m─\u001b[0m\u001b[38;2;255;255;255m─\u001b[0m\u001b[38;2;255;255;255m─\u001b[0m\u001b[38;2;255;255;255m─\u001b[0m\u001b[38;2;255;255;255m─\u001b[0m\u001b[38;2;255;255;255m─\u001b[0m\u001b[38;2;255;255;255m─\u001b[0m\u001b[38;2;255;255;255m─\u001b[0m\u001b[38;2;255;255;255m─\u001b[0m\u001b[38;2;255;255;255m─\u001b[0m\u001b[38;2;255;255;255m─\u001b[0m\u001b[38;2;255;255;255m─\u001b[0m\u001b[38;2;255;255;255m─\u001b[0m\u001b[38;2;255;255;255m─\u001b[0m\u001b[38;2;255;255;255m─\u001b[0m\u001b[38;2;255;255;255m─\u001b[0m\u001b[38;2;255;255;255m─\u001b[0m   \u001b[38;2;192;192;192m│\u001b[0m\n",
       "\u001b[38;2;192;192;192m│\u001b[0m   \u001b[38;2;255;167;38mcenter of mass:\u001b[0m\u001b[38;2;255;202;40m [3834 2140 5697]\u001b[0m                                                   \u001b[38;2;192;192;192m│\u001b[0m\n",
       "\u001b[38;2;192;192;192m│\u001b[0m   \u001b[38;2;255;167;38mnumber of vertices:\u001b[0m\u001b[38;2;255;202;40m 6330\u001b[0m                                                           \u001b[38;2;192;192;192m│\u001b[0m\n",
       "\u001b[38;2;192;192;192m│\u001b[0m   \u001b[38;2;255;167;38mdimensions:\u001b[0m\u001b[38;2;255;202;40m [1939 6409  490 3799 2796 8586]\u001b[0m                                        \u001b[38;2;192;192;192m│\u001b[0m\n",
       "\u001b[38;2;192;192;192m│\u001b[0m   \u001b[38;2;255;167;38mcolor:\u001b[0m\u001b[38;2;255;202;40m [0.12156863 0.61568627 0.35294118]\u001b[0m                                          \u001b[38;2;192;192;192m│\u001b[0m\n",
       "\u001b[38;2;192;192;192m│\u001b[0m                                                                                      \u001b[38;2;192;192;192m│\u001b[0m\n",
       "\u001b[38;2;192;192;192m╰──────────────────────────────────────────────────────────────────────────────────────╯\u001b[0m\n"
      ]
     },
     "metadata": {},
     "output_type": "display_data"
    }
   ],
   "source": [
    "scene = Scene(title='test')\n",
    "scene.add_brain_region('MOs',alpha=0.2)"
   ]
  },
  {
   "cell_type": "code",
   "execution_count": 11,
   "id": "88fb8675-fd4a-407d-b6b1-c6ca4ef7b639",
   "metadata": {},
   "outputs": [
    {
     "data": {
      "text/html": [
       "<pre style=\"white-space:pre;overflow-x:auto;line-height:normal;font-family:Menlo,'DejaVu Sans Mono',consolas,'Courier New',monospace\"><span style=\"color: #ffa726; text-decoration-color: #ffa726\">╭─────────────────────────────────╮</span>\n",
       "<span style=\"color: #ffa726; text-decoration-color: #ffa726\">│</span>  <span style=\"font-weight: bold\">                             </span>  <span style=\"color: #ffa726; text-decoration-color: #ffa726\">│</span>\n",
       "<span style=\"color: #ffa726; text-decoration-color: #ffa726\">│</span>   <span style=\"color: #ff7043; text-decoration-color: #ff7043; font-weight: bold\">Scene actors</span>                  <span style=\"color: #ffa726; text-decoration-color: #ffa726\">│</span>\n",
       "<span style=\"color: #ffa726; text-decoration-color: #ffa726\">│</span>   <span style=\"color: #ff7043; text-decoration-color: #ff7043; font-weight: bold\">────────────</span>                  <span style=\"color: #ffa726; text-decoration-color: #ffa726\">│</span>\n",
       "<span style=\"color: #ffa726; text-decoration-color: #ffa726\">│</span>                                 <span style=\"color: #ffa726; text-decoration-color: #ffa726\">│</span>\n",
       "<span style=\"color: #ffa726; text-decoration-color: #ffa726\">│</span>   <span style=\"color: #ffca28; text-decoration-color: #ffca28; font-weight: bold\">- root</span><span style=\"color: #ef6c00; text-decoration-color: #ef6c00\"> (type: </span><span style=\"color: #ffa726; text-decoration-color: #ffa726\">brain region</span><span style=\"color: #ef6c00; text-decoration-color: #ef6c00\">)</span>   <span style=\"color: #ffa726; text-decoration-color: #ffa726\">│</span>\n",
       "<span style=\"color: #ffa726; text-decoration-color: #ffa726\">│</span>   <span style=\"color: #ffca28; text-decoration-color: #ffca28; font-weight: bold\">- title</span><span style=\"color: #ef6c00; text-decoration-color: #ef6c00\"> (type: </span><span style=\"color: #ffa726; text-decoration-color: #ffa726\">title</span><span style=\"color: #ef6c00; text-decoration-color: #ef6c00\">)</span>         <span style=\"color: #ffa726; text-decoration-color: #ffa726\">│</span>\n",
       "<span style=\"color: #ffa726; text-decoration-color: #ffa726\">│</span>   <span style=\"color: #ffca28; text-decoration-color: #ffca28; font-weight: bold\">- MOs</span><span style=\"color: #ef6c00; text-decoration-color: #ef6c00\"> (type: </span><span style=\"color: #ffa726; text-decoration-color: #ffa726\">brain region</span><span style=\"color: #ef6c00; text-decoration-color: #ef6c00\">)</span>    <span style=\"color: #ffa726; text-decoration-color: #ffa726\">│</span>\n",
       "<span style=\"color: #ffa726; text-decoration-color: #ffa726\">│</span>                                 <span style=\"color: #ffa726; text-decoration-color: #ffa726\">│</span>\n",
       "<span style=\"color: #ffa726; text-decoration-color: #ffa726\">╰─────────────────────────────────╯</span>\n",
       "</pre>\n"
      ],
      "text/plain": [
       "\u001b[38;2;255;167;38m╭─────────────────────────────────╮\u001b[0m\n",
       "\u001b[38;2;255;167;38m│\u001b[0m  \u001b[1m \u001b[0m\u001b[1m                           \u001b[0m\u001b[1m \u001b[0m  \u001b[38;2;255;167;38m│\u001b[0m\n",
       "\u001b[38;2;255;167;38m│\u001b[0m   \u001b[1;38;2;255;112;67mScene actors\u001b[0m                  \u001b[38;2;255;167;38m│\u001b[0m\n",
       "\u001b[38;2;255;167;38m│\u001b[0m   \u001b[1;38;2;255;112;67m────────────\u001b[0m                  \u001b[38;2;255;167;38m│\u001b[0m\n",
       "\u001b[38;2;255;167;38m│\u001b[0m                                 \u001b[38;2;255;167;38m│\u001b[0m\n",
       "\u001b[38;2;255;167;38m│\u001b[0m   \u001b[1;38;2;255;202;40m- root\u001b[0m\u001b[38;2;239;108;0m (type: \u001b[0m\u001b[38;2;255;167;38mbrain region\u001b[0m\u001b[38;2;239;108;0m)\u001b[0m   \u001b[38;2;255;167;38m│\u001b[0m\n",
       "\u001b[38;2;255;167;38m│\u001b[0m   \u001b[1;38;2;255;202;40m- title\u001b[0m\u001b[38;2;239;108;0m (type: \u001b[0m\u001b[38;2;255;167;38mtitle\u001b[0m\u001b[38;2;239;108;0m)\u001b[0m         \u001b[38;2;255;167;38m│\u001b[0m\n",
       "\u001b[38;2;255;167;38m│\u001b[0m   \u001b[1;38;2;255;202;40m- MOs\u001b[0m\u001b[38;2;239;108;0m (type: \u001b[0m\u001b[38;2;255;167;38mbrain region\u001b[0m\u001b[38;2;239;108;0m)\u001b[0m    \u001b[38;2;255;167;38m│\u001b[0m\n",
       "\u001b[38;2;255;167;38m│\u001b[0m                                 \u001b[38;2;255;167;38m│\u001b[0m\n",
       "\u001b[38;2;255;167;38m╰─────────────────────────────────╯\u001b[0m\n"
      ]
     },
     "metadata": {},
     "output_type": "display_data"
    },
    {
     "data": {
      "text/html": [
       "<pre style=\"white-space:pre;overflow-x:auto;line-height:normal;font-family:Menlo,'DejaVu Sans Mono',consolas,'Courier New',monospace\"><span style=\"color: #26a69a; text-decoration-color: #26a69a\">Your scene is ready for rendering, use:</span>\n",
       "\n",
       "<span style=\"color: #f92672; text-decoration-color: #f92672; background-color: #272822\">from</span><span style=\"color: #f8f8f2; text-decoration-color: #f8f8f2; background-color: #272822\"> vedo </span><span style=\"color: #f92672; text-decoration-color: #f92672; background-color: #272822\">import</span><span style=\"color: #f8f8f2; text-decoration-color: #f8f8f2; background-color: #272822\"> show</span><span style=\"background-color: #272822\">                                                                                              </span>\n",
       "<span style=\"color: #f8f8f2; text-decoration-color: #f8f8f2; background-color: #272822\">vedo</span><span style=\"color: #f92672; text-decoration-color: #f92672; background-color: #272822\">.</span><span style=\"color: #f8f8f2; text-decoration-color: #f8f8f2; background-color: #272822\">show(</span><span style=\"color: #f92672; text-decoration-color: #f92672; background-color: #272822\">*</span><span style=\"color: #f8f8f2; text-decoration-color: #f8f8f2; background-color: #272822\">scene</span><span style=\"color: #f92672; text-decoration-color: #f92672; background-color: #272822\">.</span><span style=\"color: #f8f8f2; text-decoration-color: #f8f8f2; background-color: #272822\">renderables)</span><span style=\"background-color: #272822\">                                                                                      </span>\n",
       "</pre>\n"
      ],
      "text/plain": [
       "\u001b[38;2;38;166;154mYour scene is ready for rendering, use:\u001b[0m\n",
       "\n",
       "\u001b[38;2;249;38;114;48;2;39;40;34mfrom\u001b[0m\u001b[38;2;248;248;242;48;2;39;40;34m \u001b[0m\u001b[38;2;248;248;242;48;2;39;40;34mvedo\u001b[0m\u001b[38;2;248;248;242;48;2;39;40;34m \u001b[0m\u001b[38;2;249;38;114;48;2;39;40;34mimport\u001b[0m\u001b[38;2;248;248;242;48;2;39;40;34m \u001b[0m\u001b[38;2;248;248;242;48;2;39;40;34mshow\u001b[0m\u001b[48;2;39;40;34m                                                                                              \u001b[0m\n",
       "\u001b[38;2;248;248;242;48;2;39;40;34mvedo\u001b[0m\u001b[38;2;249;38;114;48;2;39;40;34m.\u001b[0m\u001b[38;2;248;248;242;48;2;39;40;34mshow\u001b[0m\u001b[38;2;248;248;242;48;2;39;40;34m(\u001b[0m\u001b[38;2;249;38;114;48;2;39;40;34m*\u001b[0m\u001b[38;2;248;248;242;48;2;39;40;34mscene\u001b[0m\u001b[38;2;249;38;114;48;2;39;40;34m.\u001b[0m\u001b[38;2;248;248;242;48;2;39;40;34mrenderables\u001b[0m\u001b[38;2;248;248;242;48;2;39;40;34m)\u001b[0m\u001b[48;2;39;40;34m                                                                                      \u001b[0m\n"
      ]
     },
     "metadata": {},
     "output_type": "display_data"
    },
    {
     "name": "stdout",
     "output_type": "stream",
     "text": [
      "\u001b[1m\u001b[31;1mError: cannot understand input in show(): <class 'brainrender.actor.Actor'>\u001b[0m\n",
      "\u001b[1m\u001b[31;1mError: cannot understand input in show(): <class 'brainrender.actor.Actor'>\u001b[0m\n",
      "\u001b[1m\u001b[31;1mError: cannot understand input in show(): <class 'brainrender.actor.Actor'>\u001b[0m\n"
     ]
    },
    {
     "data": {
      "application/vnd.jupyter.widget-view+json": {
       "model_id": "2ca89d1c4ce94cbd8c1bb7f87aa70ba8",
       "version_major": 2,
       "version_minor": 0
      },
      "text/plain": [
       "Plot(antialias=True, axes=['x', 'y', 'z'], axes_helper=1.0, background_color=16777215, camera=[2, -3, 0.2, 0.0…"
      ]
     },
     "metadata": {},
     "output_type": "display_data"
    }
   ],
   "source": [
    "scene.content\n",
    "scene.render()\n",
    "show(scene.actors)"
   ]
  },
  {
   "cell_type": "code",
   "execution_count": 7,
   "id": "1f82d596-fb8e-4939-bf40-7c06a096880d",
   "metadata": {},
   "outputs": [],
   "source": [
    "# https://docs.brainrender.info/usage/actors\n",
    "# https://www.youtube.com/watch?v=Rr2nxHIM19w"
   ]
  },
  {
   "cell_type": "code",
   "execution_count": null,
   "id": "9f145bec-8d4f-428c-99a2-4a4a7414a6da",
   "metadata": {},
   "outputs": [],
   "source": []
  }
 ],
 "metadata": {
  "kernelspec": {
   "display_name": "brainrender",
   "language": "python",
   "name": "brainrender"
  },
  "language_info": {
   "codemirror_mode": {
    "name": "ipython",
    "version": 3
   },
   "file_extension": ".py",
   "mimetype": "text/x-python",
   "name": "python",
   "nbconvert_exporter": "python",
   "pygments_lexer": "ipython3",
   "version": "3.10.4"
  }
 },
 "nbformat": 4,
 "nbformat_minor": 5
}
