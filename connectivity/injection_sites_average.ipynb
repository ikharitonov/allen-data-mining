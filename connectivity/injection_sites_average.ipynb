{
 "cells": [
  {
   "cell_type": "code",
   "execution_count": 512,
   "id": "ab3f649b-1e52-4c0e-97dc-9dbaae4e5084",
   "metadata": {},
   "outputs": [],
   "source": [
    "import os\n",
    "import sys\n",
    "module_path = os.path.abspath(os.path.join('..'))\n",
    "if module_path not in sys.path: sys.path.append(module_path)\n",
    "\n",
    "import pandas as pd\n",
    "import json\n",
    "from tqdm import tqdm\n",
    "import pickle\n",
    "from pathlib import Path\n",
    "\n",
    "from RMALoaders import *"
   ]
  },
  {
   "cell_type": "markdown",
   "id": "f0bd29be-5197-4a00-96fd-baddf0b3d438",
   "metadata": {},
   "source": [
    "### Helper Functions"
   ]
  },
  {
   "cell_type": "code",
   "execution_count": 513,
   "id": "3f33a1a0-192c-4da7-81e1-5325fba05f15",
   "metadata": {},
   "outputs": [],
   "source": [
    "def mkdir(path):\n",
    "    if not os.path.exists(path): os.makedirs(path)\n",
    "    return path"
   ]
  },
  {
   "cell_type": "code",
   "execution_count": 514,
   "id": "b975f546-37a4-4a4d-b77c-dd744e1a5a45",
   "metadata": {},
   "outputs": [
    {
     "name": "stdout",
     "output_type": "stream",
     "text": [
      "/home/ikharitonov/Desktop/data/connectivity\n"
     ]
    }
   ],
   "source": [
    "desktop_path = Path.home() / 'Desktop'\n",
    "connectivity_path = desktop_path / 'data' / 'connectivity'\n",
    "print(connectivity_path)"
   ]
  },
  {
   "cell_type": "markdown",
   "id": "526451b4-cde3-4683-9374-a6ede42475fe",
   "metadata": {
    "tags": []
   },
   "source": [
    "### Main Parameters"
   ]
  },
  {
   "cell_type": "code",
   "execution_count": 515,
   "id": "cabce203-c423-4081-81e5-8f5cfd24ab90",
   "metadata": {},
   "outputs": [],
   "source": [
    "main_structure = 'RSPagl'\n",
    "main_structure_object = RMAStructure(acronym=main_structure)\n",
    "main_structure_id = main_structure_object.id\n",
    "\n",
    "HEMISPHERE_TO_FILTER = 1 # only experiments injected in this hemisphere will be selected\n",
    "\n",
    "projection_metric = 'projection_energy' # for later export into brainrender\n",
    "\n",
    "INJECTION_VOLUME_THRESHOLD = 0.01\n",
    "\n",
    "READ_UNIONIZED_DATA = True # load the unionized data from experiments specified in dictionary above\n",
    "READ_EXPERIMENT_LIST = True # read area-experiment_id dictionary from existing file"
   ]
  },
  {
   "cell_type": "markdown",
   "id": "0d8b815c-2ba7-4725-a372-7e36491929bc",
   "metadata": {},
   "source": [
    "### Loading csv file with metadata of experiments projecting to the structure of interest"
   ]
  },
  {
   "cell_type": "code",
   "execution_count": 516,
   "id": "f75f6ee5-e6e4-47e6-882d-333e5e1ea140",
   "metadata": {},
   "outputs": [
    {
     "data": {
      "text/html": [
       "<div>\n",
       "<style scoped>\n",
       "    .dataframe tbody tr th:only-of-type {\n",
       "        vertical-align: middle;\n",
       "    }\n",
       "\n",
       "    .dataframe tbody tr th {\n",
       "        vertical-align: top;\n",
       "    }\n",
       "\n",
       "    .dataframe thead th {\n",
       "        text-align: right;\n",
       "    }\n",
       "</style>\n",
       "<table border=\"1\" class=\"dataframe\">\n",
       "  <thead>\n",
       "    <tr style=\"text-align: right;\">\n",
       "      <th></th>\n",
       "      <th>id</th>\n",
       "      <th>transgenic-line</th>\n",
       "      <th>product-id</th>\n",
       "      <th>structure-id</th>\n",
       "      <th>structure-abbrev</th>\n",
       "      <th>structure-name</th>\n",
       "      <th>name</th>\n",
       "      <th>injection-volume</th>\n",
       "      <th>injection-structures</th>\n",
       "      <th>gender</th>\n",
       "      <th>strain</th>\n",
       "      <th>sum</th>\n",
       "      <th>structure-color</th>\n",
       "      <th>num-voxels</th>\n",
       "      <th>injection-coordinates</th>\n",
       "      <th>selected</th>\n",
       "      <th>experiment_page_url</th>\n",
       "    </tr>\n",
       "  </thead>\n",
       "  <tbody>\n",
       "    <tr>\n",
       "      <th>0</th>\n",
       "      <td>512314723</td>\n",
       "      <td>Emx1-IRES-Cre</td>\n",
       "      <td>35</td>\n",
       "      <td>533</td>\n",
       "      <td>VISpm</td>\n",
       "      <td>posteromedial visual area</td>\n",
       "      <td>Emx1-IRES-Cre-234273</td>\n",
       "      <td>0.275993</td>\n",
       "      <td>[{\"id\"=&gt;385, \"abbreviation\"=&gt;\"VISp\", \"name\"=&gt;\"...</td>\n",
       "      <td>M</td>\n",
       "      <td>NaN</td>\n",
       "      <td>5.082025e-01</td>\n",
       "      <td>08858c</td>\n",
       "      <td>NaN</td>\n",
       "      <td>[8480, 510, 4080]</td>\n",
       "      <td>False</td>\n",
       "      <td>http://connectivity.brain-map.org/projection/e...</td>\n",
       "    </tr>\n",
       "    <tr>\n",
       "      <th>1</th>\n",
       "      <td>267608343</td>\n",
       "      <td>Prkcd-GluCla-CFP-IRES-Cre</td>\n",
       "      <td>5</td>\n",
       "      <td>155</td>\n",
       "      <td>LD</td>\n",
       "      <td>Lateral dorsal nucleus of thalamus</td>\n",
       "      <td>Prkcd-GluCla-CFP-IRES-Cre-125</td>\n",
       "      <td>0.299917</td>\n",
       "      <td>[{\"id\"=&gt;155, \"abbreviation\"=&gt;\"LD\", \"name\"=&gt;\"La...</td>\n",
       "      <td>F</td>\n",
       "      <td>C57BL/6J</td>\n",
       "      <td>3.815785e-01</td>\n",
       "      <td>ff909f</td>\n",
       "      <td>NaN</td>\n",
       "      <td>[6870, 2780, 7060]</td>\n",
       "      <td>False</td>\n",
       "      <td>http://connectivity.brain-map.org/projection/e...</td>\n",
       "    </tr>\n",
       "    <tr>\n",
       "      <th>2</th>\n",
       "      <td>571100135</td>\n",
       "      <td>Emx1-IRES-Cre</td>\n",
       "      <td>36</td>\n",
       "      <td>394</td>\n",
       "      <td>VISam</td>\n",
       "      <td>Anteromedial visual area</td>\n",
       "      <td>Emx1-IRES-Cre-294569</td>\n",
       "      <td>0.518470</td>\n",
       "      <td>[{\"id\"=&gt;394, \"abbreviation\"=&gt;\"VISam\", \"name\"=&gt;...</td>\n",
       "      <td>M</td>\n",
       "      <td>NaN</td>\n",
       "      <td>3.743496e-01</td>\n",
       "      <td>08858c</td>\n",
       "      <td>NaN</td>\n",
       "      <td>[8180, 570, 4120]</td>\n",
       "      <td>False</td>\n",
       "      <td>http://connectivity.brain-map.org/projection/e...</td>\n",
       "    </tr>\n",
       "    <tr>\n",
       "      <th>3</th>\n",
       "      <td>180296424</td>\n",
       "      <td>NaN</td>\n",
       "      <td>5</td>\n",
       "      <td>385</td>\n",
       "      <td>VISp</td>\n",
       "      <td>Primary visual area</td>\n",
       "      <td>378-1815</td>\n",
       "      <td>0.814006</td>\n",
       "      <td>[{\"id\"=&gt;385, \"abbreviation\"=&gt;\"VISp\", \"name\"=&gt;\"...</td>\n",
       "      <td>M</td>\n",
       "      <td>C57BL/6J</td>\n",
       "      <td>3.645531e-01</td>\n",
       "      <td>08858c</td>\n",
       "      <td>NaN</td>\n",
       "      <td>[9290, 2220, 9410]</td>\n",
       "      <td>False</td>\n",
       "      <td>http://connectivity.brain-map.org/projection/e...</td>\n",
       "    </tr>\n",
       "    <tr>\n",
       "      <th>4</th>\n",
       "      <td>100141796</td>\n",
       "      <td>NaN</td>\n",
       "      <td>5</td>\n",
       "      <td>312782574</td>\n",
       "      <td>VISli</td>\n",
       "      <td>Laterointermediate area</td>\n",
       "      <td>378-796</td>\n",
       "      <td>0.178562</td>\n",
       "      <td>[{\"id\"=&gt;409, \"abbreviation\"=&gt;\"VISl\", \"name\"=&gt;\"...</td>\n",
       "      <td>M</td>\n",
       "      <td>C57BL/6J</td>\n",
       "      <td>3.644571e-01</td>\n",
       "      <td>08858c</td>\n",
       "      <td>NaN</td>\n",
       "      <td>[9180, 2370, 9440]</td>\n",
       "      <td>False</td>\n",
       "      <td>http://connectivity.brain-map.org/projection/e...</td>\n",
       "    </tr>\n",
       "    <tr>\n",
       "      <th>...</th>\n",
       "      <td>...</td>\n",
       "      <td>...</td>\n",
       "      <td>...</td>\n",
       "      <td>...</td>\n",
       "      <td>...</td>\n",
       "      <td>...</td>\n",
       "      <td>...</td>\n",
       "      <td>...</td>\n",
       "      <td>...</td>\n",
       "      <td>...</td>\n",
       "      <td>...</td>\n",
       "      <td>...</td>\n",
       "      <td>...</td>\n",
       "      <td>...</td>\n",
       "      <td>...</td>\n",
       "      <td>...</td>\n",
       "      <td>...</td>\n",
       "    </tr>\n",
       "    <tr>\n",
       "      <th>2894</th>\n",
       "      <td>304337288</td>\n",
       "      <td>Th-Cre_FI172</td>\n",
       "      <td>5</td>\n",
       "      <td>749</td>\n",
       "      <td>VTA</td>\n",
       "      <td>Ventral tegmental area</td>\n",
       "      <td>Th-Cre_FI172-135967</td>\n",
       "      <td>0.010615</td>\n",
       "      <td>[{\"id\"=&gt;128, \"abbreviation\"=&gt;\"MRN\", \"name\"=&gt;\"M...</td>\n",
       "      <td>F</td>\n",
       "      <td>B6.FVB</td>\n",
       "      <td>1.089119e-07</td>\n",
       "      <td>ff90ff</td>\n",
       "      <td>NaN</td>\n",
       "      <td>[8410, 4830, 6180]</td>\n",
       "      <td>False</td>\n",
       "      <td>http://connectivity.brain-map.org/projection/e...</td>\n",
       "    </tr>\n",
       "    <tr>\n",
       "      <th>2895</th>\n",
       "      <td>125831616</td>\n",
       "      <td>NaN</td>\n",
       "      <td>5</td>\n",
       "      <td>951</td>\n",
       "      <td>PYR</td>\n",
       "      <td>Pyramus (VIII)</td>\n",
       "      <td>378-1265</td>\n",
       "      <td>0.157833</td>\n",
       "      <td>[{\"id\"=&gt;944, \"abbreviation\"=&gt;\"FOTU\", \"name\"=&gt;\"...</td>\n",
       "      <td>M</td>\n",
       "      <td>C57BL/6J</td>\n",
       "      <td>9.928820e-08</td>\n",
       "      <td>fffc91</td>\n",
       "      <td>NaN</td>\n",
       "      <td>[12830, 3150, 6300]</td>\n",
       "      <td>False</td>\n",
       "      <td>http://connectivity.brain-map.org/projection/e...</td>\n",
       "    </tr>\n",
       "    <tr>\n",
       "      <th>2896</th>\n",
       "      <td>277854916</td>\n",
       "      <td>Erbb4-T2A-CreERT2</td>\n",
       "      <td>5</td>\n",
       "      <td>693</td>\n",
       "      <td>VMH</td>\n",
       "      <td>Ventromedial hypothalamic nucleus</td>\n",
       "      <td>Erbb4-2A-CreERT2-D-5769</td>\n",
       "      <td>0.502381</td>\n",
       "      <td>[{\"id\"=&gt;1, \"abbreviation\"=&gt;\"TMv\", \"name\"=&gt;\"Tub...</td>\n",
       "      <td>M</td>\n",
       "      <td>C57BL/6J</td>\n",
       "      <td>3.300412e-08</td>\n",
       "      <td>ff4c3e</td>\n",
       "      <td>NaN</td>\n",
       "      <td>[7350, 6660, 6370]</td>\n",
       "      <td>False</td>\n",
       "      <td>http://connectivity.brain-map.org/projection/e...</td>\n",
       "    </tr>\n",
       "    <tr>\n",
       "      <th>2897</th>\n",
       "      <td>310695955</td>\n",
       "      <td>Crh-IRES-Cre_ZJH</td>\n",
       "      <td>5</td>\n",
       "      <td>679</td>\n",
       "      <td>CS</td>\n",
       "      <td>Superior central nucleus raphe</td>\n",
       "      <td>Crh-IRES-Cre-125986</td>\n",
       "      <td>0.007551</td>\n",
       "      <td>[{\"id\"=&gt;146, \"abbreviation\"=&gt;\"PRNr\", \"name\"=&gt;\"...</td>\n",
       "      <td>F</td>\n",
       "      <td>C57BL/6J</td>\n",
       "      <td>2.488443e-08</td>\n",
       "      <td>ffc395</td>\n",
       "      <td>NaN</td>\n",
       "      <td>[9830, 5230, 6000]</td>\n",
       "      <td>False</td>\n",
       "      <td>http://connectivity.brain-map.org/projection/e...</td>\n",
       "    </tr>\n",
       "    <tr>\n",
       "      <th>2898</th>\n",
       "      <td>584903636</td>\n",
       "      <td>NaN</td>\n",
       "      <td>5</td>\n",
       "      <td>985</td>\n",
       "      <td>MOp</td>\n",
       "      <td>Primary motor area</td>\n",
       "      <td>C57BL6J-314640</td>\n",
       "      <td>0.337165</td>\n",
       "      <td>[{\"id\"=&gt;985, \"abbreviation\"=&gt;\"MOp\", \"name\"=&gt;\"P...</td>\n",
       "      <td>M</td>\n",
       "      <td>C57BL/6J</td>\n",
       "      <td>4.542449e-09</td>\n",
       "      <td>1f9d5a</td>\n",
       "      <td>NaN</td>\n",
       "      <td>[3450, 1960, 7850]</td>\n",
       "      <td>False</td>\n",
       "      <td>http://connectivity.brain-map.org/projection/e...</td>\n",
       "    </tr>\n",
       "  </tbody>\n",
       "</table>\n",
       "<p>2899 rows × 17 columns</p>\n",
       "</div>"
      ],
      "text/plain": [
       "             id            transgenic-line  product-id  structure-id  \\\n",
       "0     512314723              Emx1-IRES-Cre          35           533   \n",
       "1     267608343  Prkcd-GluCla-CFP-IRES-Cre           5           155   \n",
       "2     571100135              Emx1-IRES-Cre          36           394   \n",
       "3     180296424                        NaN           5           385   \n",
       "4     100141796                        NaN           5     312782574   \n",
       "...         ...                        ...         ...           ...   \n",
       "2894  304337288               Th-Cre_FI172           5           749   \n",
       "2895  125831616                        NaN           5           951   \n",
       "2896  277854916          Erbb4-T2A-CreERT2           5           693   \n",
       "2897  310695955           Crh-IRES-Cre_ZJH           5           679   \n",
       "2898  584903636                        NaN           5           985   \n",
       "\n",
       "     structure-abbrev                      structure-name  \\\n",
       "0               VISpm           posteromedial visual area   \n",
       "1                  LD  Lateral dorsal nucleus of thalamus   \n",
       "2               VISam            Anteromedial visual area   \n",
       "3                VISp                 Primary visual area   \n",
       "4               VISli             Laterointermediate area   \n",
       "...               ...                                 ...   \n",
       "2894              VTA              Ventral tegmental area   \n",
       "2895              PYR                      Pyramus (VIII)   \n",
       "2896              VMH   Ventromedial hypothalamic nucleus   \n",
       "2897               CS      Superior central nucleus raphe   \n",
       "2898              MOp                  Primary motor area   \n",
       "\n",
       "                               name  injection-volume  \\\n",
       "0              Emx1-IRES-Cre-234273          0.275993   \n",
       "1     Prkcd-GluCla-CFP-IRES-Cre-125          0.299917   \n",
       "2              Emx1-IRES-Cre-294569          0.518470   \n",
       "3                          378-1815          0.814006   \n",
       "4                           378-796          0.178562   \n",
       "...                             ...               ...   \n",
       "2894            Th-Cre_FI172-135967          0.010615   \n",
       "2895                       378-1265          0.157833   \n",
       "2896        Erbb4-2A-CreERT2-D-5769          0.502381   \n",
       "2897            Crh-IRES-Cre-125986          0.007551   \n",
       "2898                 C57BL6J-314640          0.337165   \n",
       "\n",
       "                                   injection-structures gender    strain  \\\n",
       "0     [{\"id\"=>385, \"abbreviation\"=>\"VISp\", \"name\"=>\"...      M       NaN   \n",
       "1     [{\"id\"=>155, \"abbreviation\"=>\"LD\", \"name\"=>\"La...      F  C57BL/6J   \n",
       "2     [{\"id\"=>394, \"abbreviation\"=>\"VISam\", \"name\"=>...      M       NaN   \n",
       "3     [{\"id\"=>385, \"abbreviation\"=>\"VISp\", \"name\"=>\"...      M  C57BL/6J   \n",
       "4     [{\"id\"=>409, \"abbreviation\"=>\"VISl\", \"name\"=>\"...      M  C57BL/6J   \n",
       "...                                                 ...    ...       ...   \n",
       "2894  [{\"id\"=>128, \"abbreviation\"=>\"MRN\", \"name\"=>\"M...      F    B6.FVB   \n",
       "2895  [{\"id\"=>944, \"abbreviation\"=>\"FOTU\", \"name\"=>\"...      M  C57BL/6J   \n",
       "2896  [{\"id\"=>1, \"abbreviation\"=>\"TMv\", \"name\"=>\"Tub...      M  C57BL/6J   \n",
       "2897  [{\"id\"=>146, \"abbreviation\"=>\"PRNr\", \"name\"=>\"...      F  C57BL/6J   \n",
       "2898  [{\"id\"=>985, \"abbreviation\"=>\"MOp\", \"name\"=>\"P...      M  C57BL/6J   \n",
       "\n",
       "               sum structure-color  num-voxels injection-coordinates  \\\n",
       "0     5.082025e-01          08858c         NaN     [8480, 510, 4080]   \n",
       "1     3.815785e-01          ff909f         NaN    [6870, 2780, 7060]   \n",
       "2     3.743496e-01          08858c         NaN     [8180, 570, 4120]   \n",
       "3     3.645531e-01          08858c         NaN    [9290, 2220, 9410]   \n",
       "4     3.644571e-01          08858c         NaN    [9180, 2370, 9440]   \n",
       "...            ...             ...         ...                   ...   \n",
       "2894  1.089119e-07          ff90ff         NaN    [8410, 4830, 6180]   \n",
       "2895  9.928820e-08          fffc91         NaN   [12830, 3150, 6300]   \n",
       "2896  3.300412e-08          ff4c3e         NaN    [7350, 6660, 6370]   \n",
       "2897  2.488443e-08          ffc395         NaN    [9830, 5230, 6000]   \n",
       "2898  4.542449e-09          1f9d5a         NaN    [3450, 1960, 7850]   \n",
       "\n",
       "      selected                                experiment_page_url  \n",
       "0        False  http://connectivity.brain-map.org/projection/e...  \n",
       "1        False  http://connectivity.brain-map.org/projection/e...  \n",
       "2        False  http://connectivity.brain-map.org/projection/e...  \n",
       "3        False  http://connectivity.brain-map.org/projection/e...  \n",
       "4        False  http://connectivity.brain-map.org/projection/e...  \n",
       "...        ...                                                ...  \n",
       "2894     False  http://connectivity.brain-map.org/projection/e...  \n",
       "2895     False  http://connectivity.brain-map.org/projection/e...  \n",
       "2896     False  http://connectivity.brain-map.org/projection/e...  \n",
       "2897     False  http://connectivity.brain-map.org/projection/e...  \n",
       "2898     False  http://connectivity.brain-map.org/projection/e...  \n",
       "\n",
       "[2899 rows x 17 columns]"
      ]
     },
     "execution_count": 516,
     "metadata": {},
     "output_type": "execute_result"
    }
   ],
   "source": [
    "filename = main_structure + \".csv\"\n",
    "df = pd.read_csv(connectivity_path / 'connectivity_target_experiment_lists' / filename)\n",
    "df"
   ]
  },
  {
   "cell_type": "code",
   "execution_count": 517,
   "id": "a3ac504b-801a-4c2f-8355-3c02ed24f547",
   "metadata": {
    "tags": []
   },
   "outputs": [
    {
     "data": {
      "text/html": [
       "<div>\n",
       "<style scoped>\n",
       "    .dataframe tbody tr th:only-of-type {\n",
       "        vertical-align: middle;\n",
       "    }\n",
       "\n",
       "    .dataframe tbody tr th {\n",
       "        vertical-align: top;\n",
       "    }\n",
       "\n",
       "    .dataframe thead th {\n",
       "        text-align: right;\n",
       "    }\n",
       "</style>\n",
       "<table border=\"1\" class=\"dataframe\">\n",
       "  <thead>\n",
       "    <tr style=\"text-align: right;\">\n",
       "      <th></th>\n",
       "      <th>hemisphere_id</th>\n",
       "      <th>id</th>\n",
       "      <th>is_injection</th>\n",
       "      <th>max_voxel_density</th>\n",
       "      <th>max_voxel_x</th>\n",
       "      <th>max_voxel_y</th>\n",
       "      <th>max_voxel_z</th>\n",
       "      <th>normalized_projection_volume</th>\n",
       "      <th>projection_density</th>\n",
       "      <th>projection_energy</th>\n",
       "      <th>projection_intensity</th>\n",
       "      <th>projection_volume</th>\n",
       "      <th>section_data_set_id</th>\n",
       "      <th>structure_id</th>\n",
       "      <th>sum_pixel_intensity</th>\n",
       "      <th>sum_pixels</th>\n",
       "      <th>sum_projection_pixel_intensity</th>\n",
       "      <th>sum_projection_pixels</th>\n",
       "      <th>volume</th>\n",
       "      <th>structure</th>\n",
       "    </tr>\n",
       "  </thead>\n",
       "  <tbody>\n",
       "    <tr>\n",
       "      <th>0</th>\n",
       "      <td>2</td>\n",
       "      <td>640689589</td>\n",
       "      <td>False</td>\n",
       "      <td>0.696321</td>\n",
       "      <td>6920</td>\n",
       "      <td>350</td>\n",
       "      <td>6900</td>\n",
       "      <td>0.013240</td>\n",
       "      <td>0.016449</td>\n",
       "      <td>9.820845</td>\n",
       "      <td>597.049358</td>\n",
       "      <td>0.021373</td>\n",
       "      <td>512315551</td>\n",
       "      <td>894</td>\n",
       "      <td>1.216443e+11</td>\n",
       "      <td>1.060688e+09</td>\n",
       "      <td>1.041685e+10</td>\n",
       "      <td>1.744722e+07</td>\n",
       "      <td>1.299343</td>\n",
       "      <td>{'acronym': 'RSPagl', 'atlas_id': 394, 'color_...</td>\n",
       "    </tr>\n",
       "    <tr>\n",
       "      <th>1</th>\n",
       "      <td>1</td>\n",
       "      <td>640690930</td>\n",
       "      <td>False</td>\n",
       "      <td>1.000000</td>\n",
       "      <td>9720</td>\n",
       "      <td>1630</td>\n",
       "      <td>3410</td>\n",
       "      <td>0.068989</td>\n",
       "      <td>0.099411</td>\n",
       "      <td>206.254527</td>\n",
       "      <td>2074.762553</td>\n",
       "      <td>0.111363</td>\n",
       "      <td>512315551</td>\n",
       "      <td>894</td>\n",
       "      <td>3.327241e+11</td>\n",
       "      <td>9.144732e+08</td>\n",
       "      <td>1.886142e+11</td>\n",
       "      <td>9.090883e+07</td>\n",
       "      <td>1.120230</td>\n",
       "      <td>{'acronym': 'RSPagl', 'atlas_id': 394, 'color_...</td>\n",
       "    </tr>\n",
       "    <tr>\n",
       "      <th>2</th>\n",
       "      <td>3</td>\n",
       "      <td>640692612</td>\n",
       "      <td>False</td>\n",
       "      <td>1.000000</td>\n",
       "      <td>9720</td>\n",
       "      <td>1630</td>\n",
       "      <td>3410</td>\n",
       "      <td>0.082229</td>\n",
       "      <td>0.054859</td>\n",
       "      <td>100.767021</td>\n",
       "      <td>1836.824888</td>\n",
       "      <td>0.132736</td>\n",
       "      <td>512315551</td>\n",
       "      <td>894</td>\n",
       "      <td>4.543683e+11</td>\n",
       "      <td>1.975161e+09</td>\n",
       "      <td>1.990311e+11</td>\n",
       "      <td>1.083561e+08</td>\n",
       "      <td>2.419572</td>\n",
       "      <td>{'acronym': 'RSPagl', 'atlas_id': 394, 'color_...</td>\n",
       "    </tr>\n",
       "  </tbody>\n",
       "</table>\n",
       "</div>"
      ],
      "text/plain": [
       "   hemisphere_id         id  is_injection  max_voxel_density  max_voxel_x  \\\n",
       "0              2  640689589         False           0.696321         6920   \n",
       "1              1  640690930         False           1.000000         9720   \n",
       "2              3  640692612         False           1.000000         9720   \n",
       "\n",
       "   max_voxel_y  max_voxel_z  normalized_projection_volume  projection_density  \\\n",
       "0          350         6900                      0.013240            0.016449   \n",
       "1         1630         3410                      0.068989            0.099411   \n",
       "2         1630         3410                      0.082229            0.054859   \n",
       "\n",
       "   projection_energy  projection_intensity  projection_volume  \\\n",
       "0           9.820845            597.049358           0.021373   \n",
       "1         206.254527           2074.762553           0.111363   \n",
       "2         100.767021           1836.824888           0.132736   \n",
       "\n",
       "   section_data_set_id  structure_id  sum_pixel_intensity    sum_pixels  \\\n",
       "0            512315551           894         1.216443e+11  1.060688e+09   \n",
       "1            512315551           894         3.327241e+11  9.144732e+08   \n",
       "2            512315551           894         4.543683e+11  1.975161e+09   \n",
       "\n",
       "   sum_projection_pixel_intensity  sum_projection_pixels    volume  \\\n",
       "0                    1.041685e+10           1.744722e+07  1.299343   \n",
       "1                    1.886142e+11           9.090883e+07  1.120230   \n",
       "2                    1.990311e+11           1.083561e+08  2.419572   \n",
       "\n",
       "                                           structure  \n",
       "0  {'acronym': 'RSPagl', 'atlas_id': 394, 'color_...  \n",
       "1  {'acronym': 'RSPagl', 'atlas_id': 394, 'color_...  \n",
       "2  {'acronym': 'RSPagl', 'atlas_id': 394, 'color_...  "
      ]
     },
     "execution_count": 517,
     "metadata": {},
     "output_type": "execute_result"
    }
   ],
   "source": [
    "# https://allensdk.readthedocs.io/en/latest/_modules/allensdk/api/queries/mouse_connectivity_api.html#MouseConnectivityApi.get_structure_unionizes\n",
    "# using this approach, unionized data would have to be downloaded for every experiment (might take a lot of time e.g. 1855 experiments for RSPagl)\n",
    "RMAUnionizedData(experiment_id=512315551, select_structure_id=894).data"
   ]
  },
  {
   "cell_type": "markdown",
   "id": "2aa7fe35-37ba-47be-86c7-73111474f6bc",
   "metadata": {
    "tags": []
   },
   "source": [
    "### Get the reference list of brain areas"
   ]
  },
  {
   "cell_type": "code",
   "execution_count": 518,
   "id": "b61868e4-28e0-493c-96c7-c737c377d935",
   "metadata": {},
   "outputs": [
    {
     "data": {
      "text/html": [
       "<div>\n",
       "<style scoped>\n",
       "    .dataframe tbody tr th:only-of-type {\n",
       "        vertical-align: middle;\n",
       "    }\n",
       "\n",
       "    .dataframe tbody tr th {\n",
       "        vertical-align: top;\n",
       "    }\n",
       "\n",
       "    .dataframe thead th {\n",
       "        text-align: right;\n",
       "    }\n",
       "</style>\n",
       "<table border=\"1\" class=\"dataframe\">\n",
       "  <thead>\n",
       "    <tr style=\"text-align: right;\">\n",
       "      <th></th>\n",
       "      <th>acronym</th>\n",
       "      <th>atlas_id</th>\n",
       "      <th>color_hex_triplet</th>\n",
       "      <th>depth</th>\n",
       "      <th>failed</th>\n",
       "      <th>failed_facet</th>\n",
       "      <th>graph_id</th>\n",
       "      <th>graph_order</th>\n",
       "      <th>hemisphere_id</th>\n",
       "      <th>id</th>\n",
       "      <th>...</th>\n",
       "      <th>neuro_name_structure_id</th>\n",
       "      <th>neuro_name_structure_id_path</th>\n",
       "      <th>ontology_id</th>\n",
       "      <th>parent_structure_id</th>\n",
       "      <th>safe_name</th>\n",
       "      <th>sphinx_id</th>\n",
       "      <th>st_level</th>\n",
       "      <th>structure_id_path</th>\n",
       "      <th>structure_name_facet</th>\n",
       "      <th>weight</th>\n",
       "    </tr>\n",
       "  </thead>\n",
       "  <tbody>\n",
       "    <tr>\n",
       "      <th>0</th>\n",
       "      <td>PAG</td>\n",
       "      <td>240.0</td>\n",
       "      <td>FF90FF</td>\n",
       "      <td>5</td>\n",
       "      <td>False</td>\n",
       "      <td>734881840</td>\n",
       "      <td>1</td>\n",
       "      <td>838</td>\n",
       "      <td>3</td>\n",
       "      <td>795</td>\n",
       "      <td>...</td>\n",
       "      <td>None</td>\n",
       "      <td>None</td>\n",
       "      <td>1</td>\n",
       "      <td>323</td>\n",
       "      <td>Periaqueductal gray</td>\n",
       "      <td>839</td>\n",
       "      <td>8</td>\n",
       "      <td>/997/8/343/313/323/795/</td>\n",
       "      <td>3260726339</td>\n",
       "      <td>8690</td>\n",
       "    </tr>\n",
       "    <tr>\n",
       "      <th>1</th>\n",
       "      <td>ARH</td>\n",
       "      <td>27.0</td>\n",
       "      <td>FF5D50</td>\n",
       "      <td>6</td>\n",
       "      <td>False</td>\n",
       "      <td>734881840</td>\n",
       "      <td>1</td>\n",
       "      <td>733</td>\n",
       "      <td>3</td>\n",
       "      <td>223</td>\n",
       "      <td>...</td>\n",
       "      <td>None</td>\n",
       "      <td>None</td>\n",
       "      <td>1</td>\n",
       "      <td>157</td>\n",
       "      <td>Arcuate hypothalamic nucleus</td>\n",
       "      <td>734</td>\n",
       "      <td>8</td>\n",
       "      <td>/997/8/343/1129/1097/157/223/</td>\n",
       "      <td>218062747</td>\n",
       "      <td>8690</td>\n",
       "    </tr>\n",
       "    <tr>\n",
       "      <th>2</th>\n",
       "      <td>ORBm</td>\n",
       "      <td>232.0</td>\n",
       "      <td>248A5E</td>\n",
       "      <td>7</td>\n",
       "      <td>False</td>\n",
       "      <td>734881840</td>\n",
       "      <td>1</td>\n",
       "      <td>264</td>\n",
       "      <td>3</td>\n",
       "      <td>731</td>\n",
       "      <td>...</td>\n",
       "      <td>None</td>\n",
       "      <td>None</td>\n",
       "      <td>1</td>\n",
       "      <td>714</td>\n",
       "      <td>Orbital area medial part</td>\n",
       "      <td>265</td>\n",
       "      <td>9</td>\n",
       "      <td>/997/8/567/688/695/315/714/731/</td>\n",
       "      <td>3012751712</td>\n",
       "      <td>8690</td>\n",
       "    </tr>\n",
       "    <tr>\n",
       "      <th>3</th>\n",
       "      <td>LSv</td>\n",
       "      <td>174.0</td>\n",
       "      <td>90CBED</td>\n",
       "      <td>7</td>\n",
       "      <td>False</td>\n",
       "      <td>734881840</td>\n",
       "      <td>1</td>\n",
       "      <td>589</td>\n",
       "      <td>3</td>\n",
       "      <td>266</td>\n",
       "      <td>...</td>\n",
       "      <td>None</td>\n",
       "      <td>None</td>\n",
       "      <td>1</td>\n",
       "      <td>242</td>\n",
       "      <td>Lateral septal nucleus ventral part</td>\n",
       "      <td>590</td>\n",
       "      <td>9</td>\n",
       "      <td>/997/8/567/623/477/275/242/266/</td>\n",
       "      <td>1660459064</td>\n",
       "      <td>8690</td>\n",
       "    </tr>\n",
       "    <tr>\n",
       "      <th>4</th>\n",
       "      <td>PD</td>\n",
       "      <td>255.0</td>\n",
       "      <td>FF5547</td>\n",
       "      <td>6</td>\n",
       "      <td>False</td>\n",
       "      <td>734881840</td>\n",
       "      <td>1</td>\n",
       "      <td>746</td>\n",
       "      <td>3</td>\n",
       "      <td>914</td>\n",
       "      <td>...</td>\n",
       "      <td>None</td>\n",
       "      <td>None</td>\n",
       "      <td>1</td>\n",
       "      <td>141</td>\n",
       "      <td>Posterodorsal preoptic nucleus</td>\n",
       "      <td>747</td>\n",
       "      <td>8</td>\n",
       "      <td>/997/8/343/1129/1097/141/914/</td>\n",
       "      <td>2759126254</td>\n",
       "      <td>8690</td>\n",
       "    </tr>\n",
       "    <tr>\n",
       "      <th>...</th>\n",
       "      <td>...</td>\n",
       "      <td>...</td>\n",
       "      <td>...</td>\n",
       "      <td>...</td>\n",
       "      <td>...</td>\n",
       "      <td>...</td>\n",
       "      <td>...</td>\n",
       "      <td>...</td>\n",
       "      <td>...</td>\n",
       "      <td>...</td>\n",
       "      <td>...</td>\n",
       "      <td>...</td>\n",
       "      <td>...</td>\n",
       "      <td>...</td>\n",
       "      <td>...</td>\n",
       "      <td>...</td>\n",
       "      <td>...</td>\n",
       "      <td>...</td>\n",
       "      <td>...</td>\n",
       "      <td>...</td>\n",
       "      <td>...</td>\n",
       "    </tr>\n",
       "    <tr>\n",
       "      <th>311</th>\n",
       "      <td>SSp-bfd</td>\n",
       "      <td>748.0</td>\n",
       "      <td>188064</td>\n",
       "      <td>8</td>\n",
       "      <td>False</td>\n",
       "      <td>734881840</td>\n",
       "      <td>1</td>\n",
       "      <td>51</td>\n",
       "      <td>3</td>\n",
       "      <td>329</td>\n",
       "      <td>...</td>\n",
       "      <td>None</td>\n",
       "      <td>None</td>\n",
       "      <td>1</td>\n",
       "      <td>322</td>\n",
       "      <td>Primary somatosensory area barrel field</td>\n",
       "      <td>52</td>\n",
       "      <td>9</td>\n",
       "      <td>/997/8/567/688/695/315/453/322/329/</td>\n",
       "      <td>3406319794</td>\n",
       "      <td>8690</td>\n",
       "    </tr>\n",
       "    <tr>\n",
       "      <th>312</th>\n",
       "      <td>OT</td>\n",
       "      <td>235.0</td>\n",
       "      <td>80CDF8</td>\n",
       "      <td>6</td>\n",
       "      <td>False</td>\n",
       "      <td>734881840</td>\n",
       "      <td>1</td>\n",
       "      <td>577</td>\n",
       "      <td>3</td>\n",
       "      <td>754</td>\n",
       "      <td>...</td>\n",
       "      <td>None</td>\n",
       "      <td>None</td>\n",
       "      <td>1</td>\n",
       "      <td>493</td>\n",
       "      <td>Olfactory tubercle</td>\n",
       "      <td>578</td>\n",
       "      <td>8</td>\n",
       "      <td>/997/8/567/623/477/493/754/</td>\n",
       "      <td>1598442672</td>\n",
       "      <td>8690</td>\n",
       "    </tr>\n",
       "    <tr>\n",
       "      <th>313</th>\n",
       "      <td>SubG</td>\n",
       "      <td>464.0</td>\n",
       "      <td>FF909F</td>\n",
       "      <td>7</td>\n",
       "      <td>False</td>\n",
       "      <td>734881840</td>\n",
       "      <td>1</td>\n",
       "      <td>710</td>\n",
       "      <td>3</td>\n",
       "      <td>321</td>\n",
       "      <td>...</td>\n",
       "      <td>None</td>\n",
       "      <td>None</td>\n",
       "      <td>1</td>\n",
       "      <td>1014</td>\n",
       "      <td>Subgeniculate nucleus</td>\n",
       "      <td>711</td>\n",
       "      <td>8</td>\n",
       "      <td>/997/8/343/1129/549/856/1014/321/</td>\n",
       "      <td>3545734096</td>\n",
       "      <td>8690</td>\n",
       "    </tr>\n",
       "    <tr>\n",
       "      <th>314</th>\n",
       "      <td>SNr</td>\n",
       "      <td>330.0</td>\n",
       "      <td>FF90FF</td>\n",
       "      <td>5</td>\n",
       "      <td>False</td>\n",
       "      <td>734881840</td>\n",
       "      <td>1</td>\n",
       "      <td>822</td>\n",
       "      <td>3</td>\n",
       "      <td>381</td>\n",
       "      <td>...</td>\n",
       "      <td>None</td>\n",
       "      <td>None</td>\n",
       "      <td>1</td>\n",
       "      <td>323</td>\n",
       "      <td>Substantia nigra reticular part</td>\n",
       "      <td>823</td>\n",
       "      <td>8</td>\n",
       "      <td>/997/8/343/313/323/381/</td>\n",
       "      <td>1375238552</td>\n",
       "      <td>8690</td>\n",
       "    </tr>\n",
       "    <tr>\n",
       "      <th>315</th>\n",
       "      <td>CP</td>\n",
       "      <td>83.0</td>\n",
       "      <td>98D6F9</td>\n",
       "      <td>6</td>\n",
       "      <td>False</td>\n",
       "      <td>734881840</td>\n",
       "      <td>1</td>\n",
       "      <td>573</td>\n",
       "      <td>3</td>\n",
       "      <td>672</td>\n",
       "      <td>...</td>\n",
       "      <td>None</td>\n",
       "      <td>None</td>\n",
       "      <td>1</td>\n",
       "      <td>485</td>\n",
       "      <td>Caudoputamen</td>\n",
       "      <td>574</td>\n",
       "      <td>8</td>\n",
       "      <td>/997/8/567/623/477/485/672/</td>\n",
       "      <td>2140591882</td>\n",
       "      <td>8690</td>\n",
       "    </tr>\n",
       "  </tbody>\n",
       "</table>\n",
       "<p>316 rows × 21 columns</p>\n",
       "</div>"
      ],
      "text/plain": [
       "     acronym  atlas_id color_hex_triplet  depth  failed  failed_facet  \\\n",
       "0        PAG     240.0            FF90FF      5   False     734881840   \n",
       "1        ARH      27.0            FF5D50      6   False     734881840   \n",
       "2       ORBm     232.0            248A5E      7   False     734881840   \n",
       "3        LSv     174.0            90CBED      7   False     734881840   \n",
       "4         PD     255.0            FF5547      6   False     734881840   \n",
       "..       ...       ...               ...    ...     ...           ...   \n",
       "311  SSp-bfd     748.0            188064      8   False     734881840   \n",
       "312       OT     235.0            80CDF8      6   False     734881840   \n",
       "313     SubG     464.0            FF909F      7   False     734881840   \n",
       "314      SNr     330.0            FF90FF      5   False     734881840   \n",
       "315       CP      83.0            98D6F9      6   False     734881840   \n",
       "\n",
       "     graph_id  graph_order  hemisphere_id   id  ... neuro_name_structure_id  \\\n",
       "0           1          838              3  795  ...                    None   \n",
       "1           1          733              3  223  ...                    None   \n",
       "2           1          264              3  731  ...                    None   \n",
       "3           1          589              3  266  ...                    None   \n",
       "4           1          746              3  914  ...                    None   \n",
       "..        ...          ...            ...  ...  ...                     ...   \n",
       "311         1           51              3  329  ...                    None   \n",
       "312         1          577              3  754  ...                    None   \n",
       "313         1          710              3  321  ...                    None   \n",
       "314         1          822              3  381  ...                    None   \n",
       "315         1          573              3  672  ...                    None   \n",
       "\n",
       "    neuro_name_structure_id_path ontology_id  parent_structure_id  \\\n",
       "0                           None           1                  323   \n",
       "1                           None           1                  157   \n",
       "2                           None           1                  714   \n",
       "3                           None           1                  242   \n",
       "4                           None           1                  141   \n",
       "..                           ...         ...                  ...   \n",
       "311                         None           1                  322   \n",
       "312                         None           1                  493   \n",
       "313                         None           1                 1014   \n",
       "314                         None           1                  323   \n",
       "315                         None           1                  485   \n",
       "\n",
       "                                   safe_name sphinx_id  st_level  \\\n",
       "0                        Periaqueductal gray       839         8   \n",
       "1               Arcuate hypothalamic nucleus       734         8   \n",
       "2                   Orbital area medial part       265         9   \n",
       "3        Lateral septal nucleus ventral part       590         9   \n",
       "4             Posterodorsal preoptic nucleus       747         8   \n",
       "..                                       ...       ...       ...   \n",
       "311  Primary somatosensory area barrel field        52         9   \n",
       "312                       Olfactory tubercle       578         8   \n",
       "313                    Subgeniculate nucleus       711         8   \n",
       "314          Substantia nigra reticular part       823         8   \n",
       "315                             Caudoputamen       574         8   \n",
       "\n",
       "                       structure_id_path structure_name_facet  weight  \n",
       "0                /997/8/343/313/323/795/           3260726339    8690  \n",
       "1          /997/8/343/1129/1097/157/223/            218062747    8690  \n",
       "2        /997/8/567/688/695/315/714/731/           3012751712    8690  \n",
       "3        /997/8/567/623/477/275/242/266/           1660459064    8690  \n",
       "4          /997/8/343/1129/1097/141/914/           2759126254    8690  \n",
       "..                                   ...                  ...     ...  \n",
       "311  /997/8/567/688/695/315/453/322/329/           3406319794    8690  \n",
       "312          /997/8/567/623/477/493/754/           1598442672    8690  \n",
       "313    /997/8/343/1129/549/856/1014/321/           3545734096    8690  \n",
       "314              /997/8/343/313/323/381/           1375238552    8690  \n",
       "315          /997/8/567/623/477/485/672/           2140591882    8690  \n",
       "\n",
       "[316 rows x 21 columns]"
      ]
     },
     "execution_count": 518,
     "metadata": {},
     "output_type": "execute_result"
    }
   ],
   "source": [
    "struct_set_id = 167587189 # Curated list of non-overlapping substructures at a mid-ontology level\n",
    "\n",
    "structure_sets = RMAStructureSet()\n",
    "struct_set = structure_sets.get_structure_set(id=struct_set_id)\n",
    "struct_set"
   ]
  },
  {
   "cell_type": "markdown",
   "id": "9444a192-d625-41b1-b97c-107b67b655dd",
   "metadata": {},
   "source": [
    "### Check that all projecting experiments are linked to an area in the list"
   ]
  },
  {
   "cell_type": "code",
   "execution_count": 519,
   "id": "04f36aa4-3678-4e46-a9f0-573e7e40ab35",
   "metadata": {
    "tags": []
   },
   "outputs": [
    {
     "name": "stdout",
     "output_type": "stream",
     "text": [
      "2899\n"
     ]
    },
    {
     "data": {
      "text/html": [
       "<div>\n",
       "<style scoped>\n",
       "    .dataframe tbody tr th:only-of-type {\n",
       "        vertical-align: middle;\n",
       "    }\n",
       "\n",
       "    .dataframe tbody tr th {\n",
       "        vertical-align: top;\n",
       "    }\n",
       "\n",
       "    .dataframe thead th {\n",
       "        text-align: right;\n",
       "    }\n",
       "</style>\n",
       "<table border=\"1\" class=\"dataframe\">\n",
       "  <thead>\n",
       "    <tr style=\"text-align: right;\">\n",
       "      <th></th>\n",
       "      <th>id</th>\n",
       "      <th>transgenic-line</th>\n",
       "      <th>product-id</th>\n",
       "      <th>structure-id</th>\n",
       "      <th>structure-abbrev</th>\n",
       "      <th>structure-name</th>\n",
       "      <th>name</th>\n",
       "      <th>injection-volume</th>\n",
       "      <th>injection-structures</th>\n",
       "      <th>gender</th>\n",
       "      <th>strain</th>\n",
       "      <th>sum</th>\n",
       "      <th>structure-color</th>\n",
       "      <th>num-voxels</th>\n",
       "      <th>injection-coordinates</th>\n",
       "      <th>selected</th>\n",
       "      <th>experiment_page_url</th>\n",
       "    </tr>\n",
       "  </thead>\n",
       "  <tbody>\n",
       "  </tbody>\n",
       "</table>\n",
       "</div>"
      ],
      "text/plain": [
       "Empty DataFrame\n",
       "Columns: [id, transgenic-line, product-id, structure-id, structure-abbrev, structure-name, name, injection-volume, injection-structures, gender, strain, sum, structure-color, num-voxels, injection-coordinates, selected, experiment_page_url]\n",
       "Index: []"
      ]
     },
     "execution_count": 519,
     "metadata": {},
     "output_type": "execute_result"
    }
   ],
   "source": [
    "# SANITY CHECK\n",
    "\n",
    "# make a copy of experiment df\n",
    "unmatched_df = df.copy()\n",
    "num_collected_exps = 0\n",
    "\n",
    "# loop through brain areas, removing experiments successfully matching with an area\n",
    "for area_id in struct_set['id']:\n",
    "    indexes_to_drop = df.index[df['structure-id']==area_id]\n",
    "    num_collected_exps += len(indexes_to_drop)\n",
    "    unmatched_df = unmatched_df.drop(indexes_to_drop)\n",
    "    # if area_id == 329: break\n",
    "\n",
    "# display df with unmatched experiments\n",
    "print(num_collected_exps)\n",
    "unmatched_df"
   ]
  },
  {
   "cell_type": "markdown",
   "id": "2805f9c4-c7c5-4fc0-8ef9-ac01ab2d03f9",
   "metadata": {
    "tags": []
   },
   "source": [
    "dataframe is empty\n",
    "\n",
    "167587189 -> sanity checked -> all experiments, from corresponding metadata downloaded in csv in connectivity_target_experiment_lists, are assigned to an area -> no missed experiments due to injection area (labelling convention) mismatch"
   ]
  },
  {
   "cell_type": "markdown",
   "id": "260226b6-406d-4cf8-816a-2d3a714bc774",
   "metadata": {},
   "source": [
    "### Collect experiments in {area_id: [exp_id_1, exp_id_2, ...]} dictionary"
   ]
  },
  {
   "cell_type": "code",
   "execution_count": 520,
   "id": "8e89c111-2ef3-4a48-89cd-e76d9ad2d2cc",
   "metadata": {
    "tags": []
   },
   "outputs": [
    {
     "name": "stdout",
     "output_type": "stream",
     "text": [
      "2899 experiments collected in the dictionary\n",
      "316 number of areas collected in the dictionary\n",
      "area 795\n",
      "[300076066, 272699357, 267029447, 287247978, 266500714, 496114558, 272829745, 120761491, 266099165, 156979283, 302053755, 162020630, 287712779, 182144176, 301540850, 300166697, 160538548, 158376179, 147635309, 113096571, 300111793, 128002057, 120571672, 180524412, 298079928, 182280207, 304949216, 262188772, 299856390, 267030155, 301671287, 301541824, 543880631, 114155923, 292624169]\n",
      "area 223\n",
      "[263369222, 171482142, 175738378, 146554676, 241278553, 178282527, 286726777, 232311236, 181891892, 158142090, 286318327, 176431817, 146660999, 232310521, 586447435, 298105299, 159751184]\n"
     ]
    }
   ],
   "source": [
    "# Number of experiments from injections across all brain areas targeting RSPagl\n",
    "total_num_collected_exps = 0\n",
    "experiment_list = {}\n",
    "\n",
    "for area_id in struct_set['id']:\n",
    "    total_num_collected_exps += len(df[df['structure-id']==area_id])\n",
    "    experiment_list[area_id] = list(df[df['structure-id']==area_id]['id'])\n",
    "    # print(\"Experiments in area\",struct_set[struct_set['id']==area_id]['acronym'].item(),\"=\", len(df[df['structure-id']==area_id]))\n",
    "print(total_num_collected_exps,\"experiments collected in the dictionary\")\n",
    "print(len(experiment_list),\"number of areas collected in the dictionary\")\n",
    "print(\"area\",795)\n",
    "print(experiment_list[795])\n",
    "print(\"area\",223)\n",
    "print(experiment_list[223])"
   ]
  },
  {
   "cell_type": "markdown",
   "id": "c9188718-5594-4641-a482-83c9e1c4e493",
   "metadata": {},
   "source": [
    "### Filter out experiments where target structure and injection structures overlap"
   ]
  },
  {
   "cell_type": "code",
   "execution_count": 521,
   "id": "6c9f070a-162c-456d-b32f-7d6dd5dd0a1e",
   "metadata": {},
   "outputs": [
    {
     "name": "stdout",
     "output_type": "stream",
     "text": [
      "0 experiments removed:\n",
      "[]\n"
     ]
    }
   ],
   "source": [
    "# Filtering out experiments with overlapping injection and target structures\n",
    "\n",
    "experiment_list_inj_structs_removed = {}\n",
    "exps_removed = []\n",
    "\n",
    "for area_id, exps in experiment_list.items():\n",
    "    # if a V2m structure id is contained in injection-structures of an experiment, drop that experiment (id) from experiment_list\n",
    "    exps_ids_to_retain = []\n",
    "    for exp_id in exps:\n",
    "        # Loading and formatting dictionary with experiment's injection structures from Allen metadata\n",
    "        inj_structs_dict = json.loads(df[df['id']==exp_id]['injection-structures'].item().replace(\"=>\",\":\"))\n",
    "        # Getting ids of experiment's injection structures\n",
    "        inj_structs_id_list = [x['id'] for x in inj_structs_dict]\n",
    "        if main_structure_id in inj_structs_id_list: exps_removed.append(exp_id)\n",
    "        else: exps_ids_to_retain.append(exp_id)\n",
    "    experiment_list_inj_structs_removed[area_id] = exps_ids_to_retain\n",
    "    break # DELETE\n",
    "print(len(exps_removed),\"experiments removed:\")\n",
    "print(exps_removed)"
   ]
  },
  {
   "cell_type": "markdown",
   "id": "4ddf16d3-ad1c-4c5c-b216-a6acc39db16a",
   "metadata": {
    "tags": []
   },
   "source": [
    "### Save / load unionized data in csv files for every experiment"
   ]
  },
  {
   "cell_type": "code",
   "execution_count": 522,
   "id": "b1849445-b554-434b-a1e7-a25e33ad6231",
   "metadata": {},
   "outputs": [],
   "source": [
    "def load_unionized_data(experiment_dict):\n",
    "    # each csv file with unionized data is read into memory\n",
    "    area_experiment_unionized_data = {}\n",
    "    foldername = f'{main_structure}_unionized_data'\n",
    "    for area, experiments in tqdm(experiment_dict.items(),'Loading'):\n",
    "        area_experiment_unionized_data[area] = {}\n",
    "        for e in experiments:\n",
    "            filename = f'area_{area}_experiment_{e}.csv'\n",
    "            temp_df = pd.read_csv(connectivity_path / foldername / filename)\n",
    "            area_experiment_unionized_data[area][e] = temp_df\n",
    "    return area_experiment_unionized_data\n",
    "\n",
    "def download_unionized_data(experiment_dict):\n",
    "    # for each area, each experiment, download unionized data\n",
    "    foldername = f'{main_structure}_unionized_data'\n",
    "    path = mkdir(connectivity_path / foldername)\n",
    "    for area, experiments in tqdm(experiment_dict.items(),'Downloading'):\n",
    "        for e in experiments:\n",
    "            filename = f'area_{area}_experiment_{e}.csv'\n",
    "            # Skip if it already was downloaded\n",
    "            if os.path.isfile(connectivity_path / foldername / filename):\n",
    "                continue\n",
    "            else:\n",
    "                temp_data = RMAUnionizedData(experiment_id=e).data\n",
    "                temp_data.to_csv(connectivity_path / foldername / filename)"
   ]
  },
  {
   "cell_type": "code",
   "execution_count": 523,
   "id": "e88e1fdc-1097-4f73-9868-9ba9dce6091c",
   "metadata": {
    "tags": []
   },
   "outputs": [
    {
     "name": "stderr",
     "output_type": "stream",
     "text": [
      "Loading: 100%|██████████| 1/1 [00:00<00:00,  3.40it/s]\n"
     ]
    }
   ],
   "source": [
    "if READ_UNIONIZED_DATA: area_experiment_unionized_data = load_unionized_data(experiment_list_inj_structs_removed)\n",
    "else: download_unionized_data(experiment_list_inj_structs_removed)"
   ]
  },
  {
   "cell_type": "markdown",
   "id": "197689bf-0046-4df6-b634-043d833a2227",
   "metadata": {
    "tags": []
   },
   "source": [
    "### Checking the hemisphere of injection for each experiment"
   ]
  },
  {
   "cell_type": "markdown",
   "id": "3879130a-109e-4143-bc3a-5b14bf4ee901",
   "metadata": {},
   "source": [
    "#### average template dimensions (from https://www.sciencedirect.com/science/article/pii/S0092867420304025)"
   ]
  },
  {
   "cell_type": "markdown",
   "id": "930e2d25-d577-4260-9de5-2e1de7542584",
   "metadata": {},
   "source": [
    "<img src=\"https://global.discourse-cdn.com/standard10/uploads/brainobservatory/original/1X/44f3499fd49d9396d9d12597725afd41693582f5.png\" alt=\"coordinate_system\" width=900 />"
   ]
  },
  {
   "cell_type": "markdown",
   "id": "131ab711-2ed5-48ab-b5bb-e79a37888514",
   "metadata": {},
   "source": [
    "13.2 mm x 8.0 mm x 11.4 mm\n",
    "\n",
    "13200 µm x 8000 µm x 11400 µm"
   ]
  },
  {
   "cell_type": "code",
   "execution_count": 524,
   "id": "ee311652-3993-49f6-a310-db1619731e6d",
   "metadata": {},
   "outputs": [],
   "source": [
    "def get_hemisphere_from_z_coordinate(unionized_data):\n",
    "    \"\"\"\n",
    "    Returns the hemisphere_id of the row in passed unionized data with the biggest volume.\n",
    "    \n",
    "        Parameters:\n",
    "            unionized_data (pandas.DataFrame): unionized data with a single structure selected\n",
    "            \n",
    "        Returns:\n",
    "            hemisphere_id (int): 1 for left hemisphere and 2 for right hemisphere. If there is no injection structure with specified structure_id, 0 is returned.\n",
    "    \"\"\"\n",
    "    z_coord = unionized_data['max_voxel_z'].unique()\n",
    "    # if there is data in both hemispheres, choose the one with higher volume\n",
    "    if len(z_coord) > 1:\n",
    "        z_coord = [unionized_data.iloc[unionized_data['volume'].idxmax()]['max_voxel_z']]\n",
    "\n",
    "    if len(z_coord)==0: return 0\n",
    "    elif z_coord[0] < 5700: return 1\n",
    "    elif z_coord[0] >= 5700: return 2\n",
    "\n",
    "def check_hemisphere(experiment_id, structure_id):\n",
    "    \"\"\"\n",
    "    Returns the hemisphere_id for a given injection structure and experiment id. If the injection spans both hemispheres, the one with higher volume is chosen.\n",
    "    \n",
    "        Parameters:\n",
    "            experiment_id (int): id of the experiment (section_data_set_id).\n",
    "            structure_id (int): id of the injection structure.\n",
    "            \n",
    "        Returns:\n",
    "            hemisphere_id (int): 1 for left hemisphere and 2 for right hemisphere. If there is no injection structure with specified structure_id, 0 is returned.\n",
    "    \"\"\"\n",
    "    temp_data = RMAUnionizedData(experiment_id=experiment_id, is_injection=True, select_structure_id=structure_id).data.reset_index(drop=True)\n",
    "    # temp_data = temp_data[temp_data['structure_id']==structure_id].reset_index(drop=True)\n",
    "\n",
    "    return get_hemisphere_from_z_coordinate(temp_data)"
   ]
  },
  {
   "cell_type": "markdown",
   "id": "4e7e4782-aa54-46dd-bd77-37d9a7af0b65",
   "metadata": {},
   "source": [
    "### Removing experiments which have not been injected into specified hemisphere"
   ]
  },
  {
   "cell_type": "code",
   "execution_count": 525,
   "id": "52d6c031-4cd3-46f0-bd34-bb1d12ecaa13",
   "metadata": {
    "tags": []
   },
   "outputs": [],
   "source": [
    "# Removing all experiments that were not injected in the specified hemisphere\n",
    "\n",
    "if READ_EXPERIMENT_LIST:\n",
    "    # Reading from a file\n",
    "    filename = f'{main_structure}_experiment_list_filtered_by_hemisphere_{HEMISPHERE_TO_FILTER}.pkl'\n",
    "    with open(connectivity_path / filename, 'rb') as f: experiment_list_filtered_by_hemisphere = pickle.load(f)\n",
    "else:\n",
    "    # Copy the dictionary\n",
    "    experiment_list_filtered_by_hemisphere = {k:v.copy() for k,v in experiment_list_inj_structs_removed.items()}\n",
    "    exps_removed = []\n",
    "    for area, exps in tqdm(experiment_list_filtered_by_hemisphere.items()):\n",
    "        for e in exps:\n",
    "            ind = exps.index(e)\n",
    "            hem = check_hemisphere(e, area)\n",
    "            if hem != HEMISPHERE_TO_FILTER: exps_removed.append(experiment_list_filtered_by_hemisphere[area].pop(ind))\n",
    "    print(len(exps_removed),\"experiments removed:\")\n",
    "    print(exps_removed)\n",
    "    # Saving to a file\n",
    "    filename = f'{main_structure}_experiment_list_filtered_by_hemisphere_{HEMISPHERE_TO_FILTER}.pkl'\n",
    "    with open(connectivity_path / filename, 'wb') as f: pickle.dump(experiment_list_filtered_by_hemisphere, f)"
   ]
  },
  {
   "cell_type": "code",
   "execution_count": 526,
   "id": "0ae7d87d-da9f-40bd-af06-4893c4c1c70e",
   "metadata": {},
   "outputs": [
    {
     "name": "stdout",
     "output_type": "stream",
     "text": [
      "35\n",
      "18\n"
     ]
    }
   ],
   "source": [
    "# DELETE\n",
    "print(sum(len(experiment_list_inj_structs_removed[area]) for area in experiment_list_inj_structs_removed.keys()))\n",
    "print(sum(len(experiment_list_filtered_by_hemisphere[area]) for area in experiment_list_filtered_by_hemisphere.keys()))"
   ]
  },
  {
   "cell_type": "code",
   "execution_count": 527,
   "id": "07828863-f579-4595-8d8e-b8e01e2a9e20",
   "metadata": {},
   "outputs": [
    {
     "data": {
      "text/html": [
       "<div>\n",
       "<style scoped>\n",
       "    .dataframe tbody tr th:only-of-type {\n",
       "        vertical-align: middle;\n",
       "    }\n",
       "\n",
       "    .dataframe tbody tr th {\n",
       "        vertical-align: top;\n",
       "    }\n",
       "\n",
       "    .dataframe thead th {\n",
       "        text-align: right;\n",
       "    }\n",
       "</style>\n",
       "<table border=\"1\" class=\"dataframe\">\n",
       "  <thead>\n",
       "    <tr style=\"text-align: right;\">\n",
       "      <th></th>\n",
       "      <th>id</th>\n",
       "      <th>transgenic-line</th>\n",
       "      <th>product-id</th>\n",
       "      <th>structure-id</th>\n",
       "      <th>structure-abbrev</th>\n",
       "      <th>structure-name</th>\n",
       "      <th>name</th>\n",
       "      <th>injection-volume</th>\n",
       "      <th>injection-structures</th>\n",
       "      <th>gender</th>\n",
       "      <th>strain</th>\n",
       "      <th>sum</th>\n",
       "      <th>structure-color</th>\n",
       "      <th>num-voxels</th>\n",
       "      <th>injection-coordinates</th>\n",
       "      <th>selected</th>\n",
       "      <th>experiment_page_url</th>\n",
       "    </tr>\n",
       "  </thead>\n",
       "  <tbody>\n",
       "    <tr>\n",
       "      <th>946</th>\n",
       "      <td>300076066</td>\n",
       "      <td>Dbh-Cre_KH212</td>\n",
       "      <td>5</td>\n",
       "      <td>795</td>\n",
       "      <td>PAG</td>\n",
       "      <td>Periaqueductal gray</td>\n",
       "      <td>Dbh-Cre_KH212-125311</td>\n",
       "      <td>0.013064</td>\n",
       "      <td>[{\"id\"=&gt;162, \"abbreviation\"=&gt;\"LDT\", \"name\"=&gt;\"L...</td>\n",
       "      <td>F</td>\n",
       "      <td>C57BL/6J</td>\n",
       "      <td>0.002407</td>\n",
       "      <td>ff90ff</td>\n",
       "      <td>NaN</td>\n",
       "      <td>[9940, 3700, 6280]</td>\n",
       "      <td>False</td>\n",
       "      <td>http://connectivity.brain-map.org/projection/e...</td>\n",
       "    </tr>\n",
       "  </tbody>\n",
       "</table>\n",
       "</div>"
      ],
      "text/plain": [
       "            id transgenic-line  product-id  structure-id structure-abbrev  \\\n",
       "946  300076066   Dbh-Cre_KH212           5           795              PAG   \n",
       "\n",
       "          structure-name                  name  injection-volume  \\\n",
       "946  Periaqueductal gray  Dbh-Cre_KH212-125311          0.013064   \n",
       "\n",
       "                                  injection-structures gender    strain  \\\n",
       "946  [{\"id\"=>162, \"abbreviation\"=>\"LDT\", \"name\"=>\"L...      F  C57BL/6J   \n",
       "\n",
       "          sum structure-color  num-voxels injection-coordinates  selected  \\\n",
       "946  0.002407          ff90ff         NaN    [9940, 3700, 6280]     False   \n",
       "\n",
       "                                   experiment_page_url  \n",
       "946  http://connectivity.brain-map.org/projection/e...  "
      ]
     },
     "execution_count": 527,
     "metadata": {},
     "output_type": "execute_result"
    }
   ],
   "source": [
    "df[df['id']==300076066]"
   ]
  },
  {
   "cell_type": "code",
   "execution_count": 528,
   "id": "cf09924c-7465-43b8-96b7-443cc3787a8b",
   "metadata": {},
   "outputs": [
    {
     "name": "stdout",
     "output_type": "stream",
     "text": [
      "dict_keys([795])\n"
     ]
    }
   ],
   "source": [
    "print(experiment_list_filtered_by_hemisphere.keys())"
   ]
  },
  {
   "cell_type": "code",
   "execution_count": 529,
   "id": "45742332-1a9c-4541-96a7-12fb4d2f632b",
   "metadata": {},
   "outputs": [
    {
     "name": "stdout",
     "output_type": "stream",
     "text": [
      "1\n"
     ]
    }
   ],
   "source": [
    "print(len(experiment_list_filtered_by_hemisphere))"
   ]
  },
  {
   "cell_type": "markdown",
   "id": "bdb2c027-db9e-449f-bc9f-d01f2712baae",
   "metadata": {},
   "source": [
    "### Quality check for experiments with zero-valued projection metric in unionzed data"
   ]
  },
  {
   "cell_type": "code",
   "execution_count": 530,
   "id": "37c4f2c3-2915-4c7b-b906-a9e7987059aa",
   "metadata": {},
   "outputs": [],
   "source": [
    "if not load_unionized_data: area_experiment_unionized_data = load_unionized_data(experiment_list_filtered_by_hemisphere)"
   ]
  },
  {
   "cell_type": "code",
   "execution_count": 531,
   "id": "ba0887e8-db2d-4ea9-8abb-b173dd27ab91",
   "metadata": {},
   "outputs": [
    {
     "name": "stdout",
     "output_type": "stream",
     "text": [
      "number of experiments BEFORE QC = 35\n",
      "number of experiments AFTER QC = 33\n"
     ]
    }
   ],
   "source": [
    "print(f'number of experiments BEFORE QC = {sum(len(area_experiment_unionized_data[area]) for area in area_experiment_unionized_data.keys())}')\n",
    "\n",
    "temp_dict = {}\n",
    "for area in area_experiment_unionized_data:\n",
    "    temp_dict[area] = {}\n",
    "    for exp, exp_df in area_experiment_unionized_data[area].items():\n",
    "        if (exp_df[exp_df['structure_id']==main_structure_id][projection_metric] == 0).any():\n",
    "            continue\n",
    "        else:\n",
    "            temp_dict[area][exp] = exp_df\n",
    "\n",
    "del area_experiment_unionized_data\n",
    "area_experiment_unionized_data = temp_dict\n",
    "\n",
    "print(f'number of experiments AFTER QC = {sum(len(area_experiment_unionized_data[area]) for area in area_experiment_unionized_data.keys())}')"
   ]
  },
  {
   "cell_type": "code",
   "execution_count": 532,
   "id": "355395ae-1fe3-4629-8dee-754173b1c47c",
   "metadata": {},
   "outputs": [],
   "source": [
    "# DELETE\n",
    "# len(area_experiment_unionized_data.keys())\n",
    "# t = area_experiment_unionized_data[223][171482142]\n",
    "# t[t['structure_id']==533]\n",
    "\n"
   ]
  },
  {
   "cell_type": "code",
   "execution_count": 533,
   "id": "7a8b0356-d2e6-4071-a18d-5a833a1c4bdc",
   "metadata": {},
   "outputs": [],
   "source": [
    "# DELETE\n",
    "# area_experiment_unionized_data[223].keys()"
   ]
  },
  {
   "cell_type": "markdown",
   "id": "deb04e82-fba0-4f8b-accf-84d18b96e1c0",
   "metadata": {},
   "source": [
    "### Apply injection volume thresholding to experiments"
   ]
  },
  {
   "cell_type": "code",
   "execution_count": 534,
   "id": "0fa8e972-b9b6-419c-b49d-1f115572b28b",
   "metadata": {},
   "outputs": [],
   "source": [
    "def get_vol_from_downloaded_unionized_data(path, area, experiment):\n",
    "    # For provided area and experiment id, reads corresponding csv file and returns volume\n",
    "    filename = 'area_id_'+str(area)+'exp_id_'+str(experiment)+'.csv'\n",
    "    if os.path.isfile(path / filename):\n",
    "        temp_data = pd.read_csv(path / filename)\n",
    "    else: return 0\n",
    "    # DELETE temp_data = temp_data[(temp_data['is_injection']==True) & (temp_data['structure_id']==area) & (temp_data['hemisphere_id']==3)].reset_index(drop=True)\n",
    "    # Query data for injection structure and return volume of injection hemisphere\n",
    "    temp_data = RMAUnionizedData(experiment_id=experiment,is_injection=True,select_structure_id=area).data.reset_index(drop=True)\n",
    "    temp_data = temp_data[temp_data['hemisphere_id']==get_hemisphere_from_z_coordinate(temp_data)]\n",
    "    return temp_data['volume'].item()"
   ]
  },
  {
   "cell_type": "code",
   "execution_count": 535,
   "id": "ed231bd1-4887-4808-bbab-9f6125f9d316",
   "metadata": {},
   "outputs": [
    {
     "name": "stdout",
     "output_type": "stream",
     "text": [
      "number of experiments BEFORE injection volume thresholding = 33\n"
     ]
    },
    {
     "name": "stderr",
     "output_type": "stream",
     "text": [
      "100%|██████████| 1/1 [00:10<00:00, 10.42s/it]"
     ]
    },
    {
     "name": "stdout",
     "output_type": "stream",
     "text": [
      "number of experiments AFTER injection volume thresholding = 16\n"
     ]
    },
    {
     "name": "stderr",
     "output_type": "stream",
     "text": [
      "\n"
     ]
    }
   ],
   "source": [
    "print(f'number of experiments BEFORE injection volume thresholding = {sum(len(area_experiment_unionized_data[area]) for area in area_experiment_unionized_data.keys())}')\n",
    "\n",
    "foldername = f'unionized_data_from_hem_{HEMISPHERE_TO_FILTER}_{main_structure}_projecting_experiments'\n",
    "folderpath = connectivity_path / foldername\n",
    "\n",
    "temp_dict = {}\n",
    "\n",
    "for area in tqdm(area_experiment_unionized_data):\n",
    "    temp_dict[area] = {}\n",
    "    for exp, exp_df in area_experiment_unionized_data[area].items():\n",
    "        temp_vol = get_vol_from_downloaded_unionized_data(folderpath, area, exp)\n",
    "        if temp_vol >= INJECTION_VOLUME_THRESHOLD:\n",
    "            temp_dict[area][exp] = area_experiment_unionized_data[area][exp]\n",
    "del area_experiment_unionized_data\n",
    "area_experiment_unionized_data = temp_dict\n",
    "\n",
    "print(f'number of experiments AFTER injection volume thresholding = {sum(len(area_experiment_unionized_data[area]) for area in area_experiment_unionized_data.keys())}')"
   ]
  },
  {
   "cell_type": "code",
   "execution_count": 536,
   "id": "165be4b5-67db-4d43-8130-c3aedf91a178",
   "metadata": {},
   "outputs": [
    {
     "data": {
      "text/plain": [
       "1"
      ]
     },
     "execution_count": 536,
     "metadata": {},
     "output_type": "execute_result"
    }
   ],
   "source": [
    "# DELETE\n",
    "len(area_experiment_unionized_data.keys())"
   ]
  },
  {
   "cell_type": "markdown",
   "id": "281ee539-9570-4981-8d7a-c39aa2a9a2ec",
   "metadata": {},
   "source": [
    "### Separate experiments by the difference in ipsilateral and contralateral projections to target area"
   ]
  },
  {
   "cell_type": "code",
   "execution_count": 537,
   "id": "18cb7fda-9d7e-4cdd-82ad-4d8b524e8759",
   "metadata": {},
   "outputs": [
    {
     "name": "stdout",
     "output_type": "stream",
     "text": [
      "5 ipsilaterally projecting experiments\n",
      "11 contralaterally projecting experiments\n"
     ]
    }
   ],
   "source": [
    "# Display projection information about experiments and hemisphere of target structure\n",
    "# And collect experiments into two dictionaries\n",
    "\n",
    "ipsilateral_projecting_exps = []\n",
    "contralateral_projecting_exps = []\n",
    "ipsilateral_dict = {}\n",
    "contralateral_dict = {}\n",
    "\n",
    "hem_ids = [2,1] # for getting the index of contralateral hemisphere to the one specified before\n",
    "\n",
    "for area in area_experiment_unionized_data:\n",
    "    ipsilateral_dict[area] = {}\n",
    "    contralateral_dict[area] = {}\n",
    "    for exp, exp_df in area_experiment_unionized_data[area].items():\n",
    "        # Checking if unionized data of experiment has higher projection metric value in previosly selected hemisphere\n",
    "        if exp_df[(exp_df['hemisphere_id']==HEMISPHERE_TO_FILTER) & (exp_df['structure_id']==main_structure_id)][projection_metric].item() > exp_df[(exp_df['hemisphere_id']==hem_ids[HEMISPHERE_TO_FILTER-1]) & (exp_df['structure_id']==main_structure_id)][projection_metric].item():\n",
    "            ipsilateral_projecting_exps.append(exp)\n",
    "            # Taking coordinates data from the Source structure and joining it with projection metric data from Target structure (for the convenience of access later) in one dataframe\n",
    "            temp_df1 = exp_df[exp_df['structure_id']==area][['hemisphere_id','max_voxel_x','max_voxel_y','max_voxel_z']]\n",
    "            temp_df2 = exp_df[exp_df['structure_id']==main_structure_id][['hemisphere_id',projection_metric]]\n",
    "            ipsilateral_dict[area][exp] = temp_df1.merge(temp_df2, on='hemisphere_id')\n",
    "        else: \n",
    "            contralateral_projecting_exps.append(exp)\n",
    "            temp_df1 = exp_df[exp_df['structure_id']==area][['hemisphere_id','max_voxel_x','max_voxel_y','max_voxel_z']]\n",
    "            temp_df2 = exp_df[exp_df['structure_id']==main_structure_id][['hemisphere_id',projection_metric]]\n",
    "            contralateral_dict[area][exp] = temp_df1.merge(temp_df2, on='hemisphere_id')\n",
    "\n",
    "print(len(ipsilateral_projecting_exps),'ipsilaterally projecting experiments')\n",
    "print(len(contralateral_projecting_exps),'contralaterally projecting experiments')"
   ]
  },
  {
   "cell_type": "markdown",
   "id": "86af04ad-cee8-49df-9fa7-fc34e006847e",
   "metadata": {},
   "source": [
    "### Display mouse lines of ipsilateral and contralateral experiments"
   ]
  },
  {
   "cell_type": "code",
   "execution_count": 538,
   "id": "c3344d52-3aaf-4121-8b88-3dc957b61bc9",
   "metadata": {},
   "outputs": [
    {
     "name": "stdout",
     "output_type": "stream",
     "text": [
      "Ipsilateral mouse lines\n",
      "['Gad2-IRES-Cre', 'Syt6-Cre_KI148', nan, 'Vipr2-Cre_KE2', 'Vip-IRES-Cre']\n",
      "Contralateral mouse lines\n",
      "['Th-Cre_FI172', 'Adcyap1-2A-Cre', 'Th-Cre_FI172', nan, nan, 'Gabrr3-Cre_KC112', nan, nan, 'Tac1-IRES2-Cre', 'Pvalb-IRES-Cre', 'Rbp4-Cre_KL100']\n"
     ]
    }
   ],
   "source": [
    "print(\"Ipsilateral mouse lines\")\n",
    "ipsilateral_lines = [df[df['id']==x]['transgenic-line'].item() for x in ipsilateral_projecting_exps]\n",
    "print(ipsilateral_lines)\n",
    "\n",
    "print(\"Contralateral mouse lines\")\n",
    "contralateral_lines = [df[df['id']==x]['transgenic-line'].item() for x in contralateral_projecting_exps]\n",
    "print(contralateral_lines)"
   ]
  },
  {
   "cell_type": "markdown",
   "id": "ee586b77-881a-4081-8a5c-54fb1d80cf05",
   "metadata": {
    "tags": []
   },
   "source": [
    "### For every brain area compute average projection metric and use it to compute weighted centroid"
   ]
  },
  {
   "cell_type": "code",
   "execution_count": 539,
   "id": "8a214102-acae-4ed1-bb29-33e5ea8a04a2",
   "metadata": {},
   "outputs": [],
   "source": [
    "def xyz_weighted_centroid(coordinates):\n",
    "    \"\"\"\n",
    "    Returns xyz coordinates of a centroid weighted by vertices and the associated average projection metric. Computed to determine central coordinate within a brain region, weighted by projection metric of each experiment injected in that region.\n",
    "    \n",
    "    cx = (v1x*m1 + v2x*m2 + ... vnx*mn) / (m1 + m2 .... mn) \n",
    "    cy = (v1y*m1 + v2y*m2 + ... vny*mn) / (m1 + m2 .... mn)\n",
    "    cz = (v1z*m1 + v2z*m2 + ... vnz*mn) / (m1 + m2 .... mn)\n",
    "    \n",
    "    where v1x, v1y and v1z are xyz coordinates of vertex 1 and m1 is its weight.\n",
    "    \n",
    "        Parameters:\n",
    "            coordinates (List): list of nested lists containing coordinates and weight of each vertex nested [[x1, y1, z3, w1], [x2, y2, z2, w2], ...].\n",
    "        \n",
    "        Returns:\n",
    "            centroid_point (List): location of centroid and related average value of projection metric in the form of [x, y, z, avg_projection].\n",
    "    \"\"\"\n",
    "    denom = sum(exp[3] for exp in coordinates)\n",
    "    centroid_point = [int(sum(exp[0]*exp[3] for exp in coordinates) / denom), int(sum(exp[1]*exp[3] for exp in coordinates) / denom), int(sum(exp[2]*exp[3] for exp in coordinates) / denom), denom / len(coordinates)]\n",
    "    \n",
    "    return centroid_point"
   ]
  },
  {
   "cell_type": "code",
   "execution_count": 540,
   "id": "c37d04fb-2286-45cc-bce1-b667c69827fe",
   "metadata": {},
   "outputs": [],
   "source": [
    "# DELETE\n",
    "# area_experiment_unionized_data[223]"
   ]
  },
  {
   "cell_type": "code",
   "execution_count": 541,
   "id": "3ee118a5-5bee-498b-a8ab-c92ae3ad10f1",
   "metadata": {},
   "outputs": [],
   "source": [
    "# DELETE\n",
    "# l = [223, 266, 914, 207, 1049, 609, 35, 1009, 38, 1105, 59, 390, 591, 262, 872, 1061, 287, 30, 564, 604, 238, 619, 689, 88, 880, 614, 422, 255, 576073699, 549009223, 333, 27, 131, 483, 583, 23, 706, 677, 1037, 133, 484682470, 966, 1025, 151, 763, 280, 369, 830, 765, 231, 356, 839, 549009215, 206, 612, 169, 898, 757, 66, 968, 484682508, 182305689, 621, 210, 177, 374, 589508451, 639, 263, 982, 178, 534, 136, 75, 607344830, 106, 975, 222, 970, 1027, 347, 1031, 1077, 773, 15, 12, 574, 549009219, 10671, 581, 127, 1113, 589508447, 7, 100, 470, 181, 203, 149, 162, 350, 358, 1041, 998, 96, 72, 235, 576073704, 398, 560581559, 1018, 246, 599626927, 147, 118, 549009227, 576, 1044, 115, 629, 318, 298, 566, 58, 312782574, 271, 922, 1039, 491, 272, 63, 741, 135, 1109, 126, 515, 907, 173, 718, 725, 295, 146, 230, 414, 616, 606826663, 580, 1029, 563807435, 460, 445, 310, 560581563, 693, 642, 423, 749, 951, 292, 226, 653, 531, 599, 475, 225, 1052, 1098, 364, 197, 563807439, 19, 286, 957, 859, 814, 523, 1069, 325, 372, 250, 628, 1020, 186, 944, 366, 980, 679, 589, 332, 874, 846, 936, 788, 781, 952, 589508455, 780, 307, 549009211, 452, 903, 1, 1004, 946, 1107, 189, 711, 1120, 214, 1057, 525, 912, 338, 217, 533, 989, 575, 634, 599626923, 930, 1126, 83, 64, 209, 321, 381]\n",
    "# for a in l: print(a,contralateral_dict[a])\n",
    "# 1041 the only in ipsilateral\n",
    "# contralateral has more e.g. 262"
   ]
  },
  {
   "cell_type": "code",
   "execution_count": 542,
   "id": "dc07e31f-b017-43f1-b97e-4d44a68e0394",
   "metadata": {},
   "outputs": [
    {
     "name": "stdout",
     "output_type": "stream",
     "text": [
      "1 ipsilateral centroids computed out of 1 regions\n",
      "1 contralateral centroids computed out of 1 regions\n"
     ]
    }
   ],
   "source": [
    "hem_ids = [2,1] # for getting the index of contralateral hemisphere to the one specified before\n",
    "ipsilateral_centroids_dict = {}\n",
    "contralateral_centroids_dict = {}\n",
    "\n",
    "for area in ipsilateral_dict:\n",
    "    coordinates = [[exp[exp['hemisphere_id']==HEMISPHERE_TO_FILTER]['max_voxel_x'].item(), exp[exp['hemisphere_id']==HEMISPHERE_TO_FILTER]['max_voxel_y'].item(), exp[exp['hemisphere_id']==HEMISPHERE_TO_FILTER]['max_voxel_z'].item(), exp[exp['hemisphere_id']==HEMISPHERE_TO_FILTER][projection_metric].item()] for exp in ipsilateral_dict[area].values()]\n",
    "    if len(coordinates) == 0: \n",
    "        print(area)\n",
    "        print(coordinates)\n",
    "        print('===')\n",
    "        centroid_xyz = None\n",
    "    else: centroid_xyz = xyz_weighted_centroid(coordinates)\n",
    "    if centroid_xyz: ipsilateral_centroids_dict[area] = centroid_xyz\n",
    "print(len(ipsilateral_centroids_dict.keys()),'ipsilateral centroids computed out of',str(len(ipsilateral_dict.keys())),'regions')\n",
    "\n",
    "for area in contralateral_dict:\n",
    "    coordinates = [[exp[exp['hemisphere_id']==hem_ids[HEMISPHERE_TO_FILTER-1]]['max_voxel_x'].item(), exp[exp['hemisphere_id']==hem_ids[HEMISPHERE_TO_FILTER-1]]['max_voxel_y'].item(), exp[exp['hemisphere_id']==hem_ids[HEMISPHERE_TO_FILTER-1]]['max_voxel_z'].item(), exp[exp['hemisphere_id']==hem_ids[HEMISPHERE_TO_FILTER-1]][projection_metric].item()] for exp in contralateral_dict[area].values()]\n",
    "    if len(coordinates) == 0: centroid_xyz = None\n",
    "    else: centroid_xyz = xyz_weighted_centroid(coordinates)\n",
    "    if centroid_xyz: contralateral_centroids_dict[area] = centroid_xyz\n",
    "print(len(contralateral_centroids_dict.keys()),'contralateral centroids computed out of',str(len(contralateral_dict.keys())),'regions')"
   ]
  },
  {
   "cell_type": "markdown",
   "id": "91cb4545-7263-4950-931f-1deb6fdb90e7",
   "metadata": {},
   "source": [
    "### Saving computed centroids"
   ]
  },
  {
   "cell_type": "code",
   "execution_count": 543,
   "id": "dd9ce721-af23-47d3-926a-4acbbb239427",
   "metadata": {},
   "outputs": [
    {
     "data": {
      "text/plain": [
       "1"
      ]
     },
     "execution_count": 543,
     "metadata": {},
     "output_type": "execute_result"
    }
   ],
   "source": [
    "# DELETE\n",
    "len(ipsilateral_centroids_dict.keys())"
   ]
  },
  {
   "cell_type": "code",
   "execution_count": 544,
   "id": "72f0c6f4-babb-4eb3-9dfc-5b98fe7264fd",
   "metadata": {
    "tags": []
   },
   "outputs": [
    {
     "data": {
      "text/plain": [
       "{795: [8574, 3581, 5616, 0.024587566168900843]}"
      ]
     },
     "execution_count": 544,
     "metadata": {},
     "output_type": "execute_result"
    }
   ],
   "source": [
    "ipsilateral_centroids_dict"
   ]
  },
  {
   "cell_type": "code",
   "execution_count": 545,
   "id": "b2885ee7-d659-4b80-951d-9d5193afc03e",
   "metadata": {},
   "outputs": [
    {
     "data": {
      "text/plain": [
       "PosixPath('/home/ikharitonov/Desktop/data/connectivity/centroids_projection_energy_hem_id_1_inj_vol_thresh_0.01_RSPagl')"
      ]
     },
     "execution_count": 545,
     "metadata": {},
     "output_type": "execute_result"
    }
   ],
   "source": [
    "foldername = f'centroids_{projection_metric}_hem_id_{HEMISPHERE_TO_FILTER}_inj_vol_thresh_{INJECTION_VOLUME_THRESHOLD}_{main_structure}'\n",
    "folderpath = connectivity_path / foldername\n",
    "mkdir(folderpath)"
   ]
  },
  {
   "cell_type": "code",
   "execution_count": 546,
   "id": "067bac03-7a5a-4fcd-a254-4f8ce49bf9ec",
   "metadata": {},
   "outputs": [],
   "source": [
    "filename = f'ipsilateral_centroids_dict_hem_{HEMISPHERE_TO_FILTER}_inj_vol_thresh_{INJECTION_VOLUME_THRESHOLD}_{main_structure}.pkl'\n",
    "with open(folderpath / filename, 'wb') as f: pickle.dump(ipsilateral_centroids_dict, f)\n",
    "filename = f'contralateral_centroids_dict_hem_{HEMISPHERE_TO_FILTER}_inj_vol_thresh_{INJECTION_VOLUME_THRESHOLD}_{main_structure}.pkl'\n",
    "with open(folderpath / filename, 'wb') as f: pickle.dump(contralateral_centroids_dict, f)"
   ]
  },
  {
   "cell_type": "code",
   "execution_count": 547,
   "id": "fc496021-d028-4abe-bdb8-81c6e8374ba5",
   "metadata": {},
   "outputs": [],
   "source": [
    "# Reading from a file\n",
    "filename = f'ipsilateral_centroids_dict_hem_{HEMISPHERE_TO_FILTER}_inj_vol_thresh_{INJECTION_VOLUME_THRESHOLD}_{main_structure}.pkl'\n",
    "with open(folderpath / filename, 'rb') as f: ipsilateral_centroids_dict = pickle.load(f)\n",
    "filename = f'contralateral_centroids_dict_hem_{HEMISPHERE_TO_FILTER}_inj_vol_thresh_{INJECTION_VOLUME_THRESHOLD}_{main_structure}.pkl'\n",
    "with open(folderpath / filename, 'rb') as f: contralateral_centroids_dict = pickle.load(f)"
   ]
  },
  {
   "cell_type": "code",
   "execution_count": null,
   "id": "e4b88343-6bcd-45f4-a122-da34e9b091c7",
   "metadata": {},
   "outputs": [],
   "source": []
  }
 ],
 "metadata": {
  "kernelspec": {
   "display_name": "Python [conda env:allendata]",
   "language": "python",
   "name": "conda-env-allendata-py"
  },
  "language_info": {
   "codemirror_mode": {
    "name": "ipython",
    "version": 3
   },
   "file_extension": ".py",
   "mimetype": "text/x-python",
   "name": "python",
   "nbconvert_exporter": "python",
   "pygments_lexer": "ipython3",
   "version": "3.7.15"
  }
 },
 "nbformat": 4,
 "nbformat_minor": 5
}
