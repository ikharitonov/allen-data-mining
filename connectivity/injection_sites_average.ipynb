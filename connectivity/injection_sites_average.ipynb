{
 "cells": [
  {
   "cell_type": "code",
   "execution_count": 7,
   "id": "ab3f649b-1e52-4c0e-97dc-9dbaae4e5084",
   "metadata": {},
   "outputs": [],
   "source": [
    "import os\n",
    "import sys\n",
    "module_path = os.path.abspath(os.path.join('..'))\n",
    "if module_path not in sys.path: sys.path.append(module_path)\n",
    "\n",
    "import pandas as pd\n",
    "import json\n",
    "from tqdm import tqdm\n",
    "import pickle\n",
    "from pathlib import Path\n",
    "\n",
    "from RMALoaders import *"
   ]
  },
  {
   "cell_type": "markdown",
   "id": "f0bd29be-5197-4a00-96fd-baddf0b3d438",
   "metadata": {},
   "source": [
    "### Helper Functions"
   ]
  },
  {
   "cell_type": "code",
   "execution_count": 8,
   "id": "3f33a1a0-192c-4da7-81e1-5325fba05f15",
   "metadata": {},
   "outputs": [],
   "source": [
    "def mkdir(path):\n",
    "    if not os.path.exists(path): os.makedirs(path)\n",
    "    return path"
   ]
  },
  {
   "cell_type": "code",
   "execution_count": 11,
   "id": "b975f546-37a4-4a4d-b77c-dd744e1a5a45",
   "metadata": {},
   "outputs": [
    {
     "name": "stdout",
     "output_type": "stream",
     "text": [
      "/home/ikharitonov/Desktop/data/connectivity\n"
     ]
    }
   ],
   "source": [
    "desktop_path = Path.home() / 'Desktop'\n",
    "connectivity_path = desktop_path / 'data' / 'connectivity'\n",
    "print(connectivity_path)"
   ]
  },
  {
   "cell_type": "markdown",
   "id": "526451b4-cde3-4683-9374-a6ede42475fe",
   "metadata": {
    "tags": []
   },
   "source": [
    "### Main Parameters"
   ]
  },
  {
   "cell_type": "code",
   "execution_count": 12,
   "id": "cabce203-c423-4081-81e5-8f5cfd24ab90",
   "metadata": {},
   "outputs": [],
   "source": [
    "main_structure = 'VISpm'\n",
    "main_structure_object = RMAStructure(acronym=main_structure)\n",
    "main_structure_id = main_structure_object.id\n",
    "\n",
    "HEMISPHERE_TO_FILTER = 1 # only experiments injected in this hemisphere will be selected\n",
    "\n",
    "projection_metric = 'normalized_projection_volume' # for later export into brainrender\n",
    "\n",
    "INJECTION_VOLUME_THRESHOLD = 0.5\n",
    "\n",
    "read_filtered_area_experiment_id_dict_2 = True # read area-experiment_id dictionary from existing file\n",
    "load_unionized_data = True # load the unionized data from experiments specified in dictionary above"
   ]
  },
  {
   "cell_type": "markdown",
   "id": "0d8b815c-2ba7-4725-a372-7e36491929bc",
   "metadata": {},
   "source": [
    "### Loading csv file with metadata of experiments projecting to the structure of interest"
   ]
  },
  {
   "cell_type": "code",
   "execution_count": 13,
   "id": "f75f6ee5-e6e4-47e6-882d-333e5e1ea140",
   "metadata": {},
   "outputs": [
    {
     "data": {
      "text/html": [
       "<div>\n",
       "<style scoped>\n",
       "    .dataframe tbody tr th:only-of-type {\n",
       "        vertical-align: middle;\n",
       "    }\n",
       "\n",
       "    .dataframe tbody tr th {\n",
       "        vertical-align: top;\n",
       "    }\n",
       "\n",
       "    .dataframe thead th {\n",
       "        text-align: right;\n",
       "    }\n",
       "</style>\n",
       "<table border=\"1\" class=\"dataframe\">\n",
       "  <thead>\n",
       "    <tr style=\"text-align: right;\">\n",
       "      <th></th>\n",
       "      <th>id</th>\n",
       "      <th>transgenic-line</th>\n",
       "      <th>product-id</th>\n",
       "      <th>structure-id</th>\n",
       "      <th>structure-abbrev</th>\n",
       "      <th>structure-name</th>\n",
       "      <th>name</th>\n",
       "      <th>injection-volume</th>\n",
       "      <th>injection-structures</th>\n",
       "      <th>gender</th>\n",
       "      <th>strain</th>\n",
       "      <th>sum</th>\n",
       "      <th>structure-color</th>\n",
       "      <th>num-voxels</th>\n",
       "      <th>injection-coordinates</th>\n",
       "      <th>selected</th>\n",
       "      <th>experiment_page_url</th>\n",
       "    </tr>\n",
       "  </thead>\n",
       "  <tbody>\n",
       "    <tr>\n",
       "      <th>0</th>\n",
       "      <td>100141599</td>\n",
       "      <td>NaN</td>\n",
       "      <td>5</td>\n",
       "      <td>394</td>\n",
       "      <td>VISam</td>\n",
       "      <td>Anteromedial visual area</td>\n",
       "      <td>378-757</td>\n",
       "      <td>0.125483</td>\n",
       "      <td>[{\"id\"=&gt;394, \"abbreviation\"=&gt;\"VISam\", \"name\"=&gt;...</td>\n",
       "      <td>M</td>\n",
       "      <td>C57BL/6J</td>\n",
       "      <td>4.180800e-01</td>\n",
       "      <td>08858c</td>\n",
       "      <td>NaN</td>\n",
       "      <td>[7900, 580, 7380]</td>\n",
       "      <td>False</td>\n",
       "      <td>http://connectivity.brain-map.org/projection/e...</td>\n",
       "    </tr>\n",
       "    <tr>\n",
       "      <th>1</th>\n",
       "      <td>479673174</td>\n",
       "      <td>Emx1-IRES-Cre</td>\n",
       "      <td>35</td>\n",
       "      <td>409</td>\n",
       "      <td>VISl</td>\n",
       "      <td>Lateral visual area</td>\n",
       "      <td>Emx1-IRES-Cre-191135</td>\n",
       "      <td>0.605379</td>\n",
       "      <td>[{\"id\"=&gt;385, \"abbreviation\"=&gt;\"VISp\", \"name\"=&gt;\"...</td>\n",
       "      <td>M</td>\n",
       "      <td>B6.129</td>\n",
       "      <td>3.220639e-01</td>\n",
       "      <td>08858c</td>\n",
       "      <td>NaN</td>\n",
       "      <td>[9140, 2290, 2390]</td>\n",
       "      <td>False</td>\n",
       "      <td>http://connectivity.brain-map.org/projection/e...</td>\n",
       "    </tr>\n",
       "    <tr>\n",
       "      <th>2</th>\n",
       "      <td>512315551</td>\n",
       "      <td>Emx1-IRES-Cre</td>\n",
       "      <td>36</td>\n",
       "      <td>385</td>\n",
       "      <td>VISp</td>\n",
       "      <td>Primary visual area</td>\n",
       "      <td>Emx1-IRES-Cre-234272</td>\n",
       "      <td>1.614223</td>\n",
       "      <td>[{\"id\"=&gt;385, \"abbreviation\"=&gt;\"VISp\", \"name\"=&gt;\"...</td>\n",
       "      <td>M</td>\n",
       "      <td>NaN</td>\n",
       "      <td>3.149679e-01</td>\n",
       "      <td>08858c</td>\n",
       "      <td>NaN</td>\n",
       "      <td>[8460, 1630, 2340]</td>\n",
       "      <td>False</td>\n",
       "      <td>http://connectivity.brain-map.org/projection/e...</td>\n",
       "    </tr>\n",
       "    <tr>\n",
       "      <th>3</th>\n",
       "      <td>309004492</td>\n",
       "      <td>NaN</td>\n",
       "      <td>5</td>\n",
       "      <td>385</td>\n",
       "      <td>VISp</td>\n",
       "      <td>Primary visual area</td>\n",
       "      <td>C57BL/6-155459</td>\n",
       "      <td>1.083030</td>\n",
       "      <td>[{\"id\"=&gt;385, \"abbreviation\"=&gt;\"VISp\", \"name\"=&gt;\"...</td>\n",
       "      <td>M</td>\n",
       "      <td>C57BL/6J</td>\n",
       "      <td>2.642719e-01</td>\n",
       "      <td>08858c</td>\n",
       "      <td>NaN</td>\n",
       "      <td>[9450, 2180, 8700]</td>\n",
       "      <td>False</td>\n",
       "      <td>http://connectivity.brain-map.org/projection/e...</td>\n",
       "    </tr>\n",
       "    <tr>\n",
       "      <th>4</th>\n",
       "      <td>180296424</td>\n",
       "      <td>NaN</td>\n",
       "      <td>5</td>\n",
       "      <td>385</td>\n",
       "      <td>VISp</td>\n",
       "      <td>Primary visual area</td>\n",
       "      <td>378-1815</td>\n",
       "      <td>0.814006</td>\n",
       "      <td>[{\"id\"=&gt;385, \"abbreviation\"=&gt;\"VISp\", \"name\"=&gt;\"...</td>\n",
       "      <td>M</td>\n",
       "      <td>C57BL/6J</td>\n",
       "      <td>2.524630e-01</td>\n",
       "      <td>08858c</td>\n",
       "      <td>NaN</td>\n",
       "      <td>[9290, 2220, 9410]</td>\n",
       "      <td>False</td>\n",
       "      <td>http://connectivity.brain-map.org/projection/e...</td>\n",
       "    </tr>\n",
       "    <tr>\n",
       "      <th>...</th>\n",
       "      <td>...</td>\n",
       "      <td>...</td>\n",
       "      <td>...</td>\n",
       "      <td>...</td>\n",
       "      <td>...</td>\n",
       "      <td>...</td>\n",
       "      <td>...</td>\n",
       "      <td>...</td>\n",
       "      <td>...</td>\n",
       "      <td>...</td>\n",
       "      <td>...</td>\n",
       "      <td>...</td>\n",
       "      <td>...</td>\n",
       "      <td>...</td>\n",
       "      <td>...</td>\n",
       "      <td>...</td>\n",
       "      <td>...</td>\n",
       "    </tr>\n",
       "    <tr>\n",
       "      <th>2790</th>\n",
       "      <td>122641784</td>\n",
       "      <td>NaN</td>\n",
       "      <td>5</td>\n",
       "      <td>382</td>\n",
       "      <td>CA1</td>\n",
       "      <td>Field CA1</td>\n",
       "      <td>378-1250</td>\n",
       "      <td>0.069547</td>\n",
       "      <td>[{\"id\"=&gt;382, \"abbreviation\"=&gt;\"CA1\", \"name\"=&gt;\"F...</td>\n",
       "      <td>M</td>\n",
       "      <td>C57BL/6J</td>\n",
       "      <td>5.745112e-11</td>\n",
       "      <td>7ed04b</td>\n",
       "      <td>NaN</td>\n",
       "      <td>[8040, 5550, 8970]</td>\n",
       "      <td>False</td>\n",
       "      <td>http://connectivity.brain-map.org/projection/e...</td>\n",
       "    </tr>\n",
       "    <tr>\n",
       "      <th>2791</th>\n",
       "      <td>126352037</td>\n",
       "      <td>NaN</td>\n",
       "      <td>5</td>\n",
       "      <td>128</td>\n",
       "      <td>MRN</td>\n",
       "      <td>Midbrain reticular nucleus</td>\n",
       "      <td>378-1281</td>\n",
       "      <td>0.018755</td>\n",
       "      <td>[{\"id\"=&gt;128, \"abbreviation\"=&gt;\"MRN\", \"name\"=&gt;\"M...</td>\n",
       "      <td>M</td>\n",
       "      <td>C57BL/6J</td>\n",
       "      <td>5.124817e-11</td>\n",
       "      <td>ff90ff</td>\n",
       "      <td>NaN</td>\n",
       "      <td>[9860, 3760, 6580]</td>\n",
       "      <td>False</td>\n",
       "      <td>http://connectivity.brain-map.org/projection/e...</td>\n",
       "    </tr>\n",
       "    <tr>\n",
       "      <th>2792</th>\n",
       "      <td>168401109</td>\n",
       "      <td>Pvalb-IRES-Cre</td>\n",
       "      <td>5</td>\n",
       "      <td>48</td>\n",
       "      <td>ACAv</td>\n",
       "      <td>Anterior cingulate area, ventral part</td>\n",
       "      <td>Pvalb-IRES-Cre-5045</td>\n",
       "      <td>0.194367</td>\n",
       "      <td>[{\"id\"=&gt;39, \"abbreviation\"=&gt;\"ACAd\", \"name\"=&gt;\"A...</td>\n",
       "      <td>M</td>\n",
       "      <td>B6.129</td>\n",
       "      <td>4.817813e-11</td>\n",
       "      <td>40a666</td>\n",
       "      <td>NaN</td>\n",
       "      <td>[5100, 1750, 6010]</td>\n",
       "      <td>False</td>\n",
       "      <td>http://connectivity.brain-map.org/projection/e...</td>\n",
       "    </tr>\n",
       "    <tr>\n",
       "      <th>2793</th>\n",
       "      <td>168302154</td>\n",
       "      <td>Grik4-Cre</td>\n",
       "      <td>5</td>\n",
       "      <td>647</td>\n",
       "      <td>COAp</td>\n",
       "      <td>Cortical amygdalar area, posterior part</td>\n",
       "      <td>Grik4-Cre-5027</td>\n",
       "      <td>0.325879</td>\n",
       "      <td>[{\"id\"=&gt;319, \"abbreviation\"=&gt;\"BMA\", \"name\"=&gt;\"B...</td>\n",
       "      <td>M</td>\n",
       "      <td>C57BL/6J</td>\n",
       "      <td>3.168943e-11</td>\n",
       "      <td>61e7b7</td>\n",
       "      <td>NaN</td>\n",
       "      <td>[7200, 6540, 8440]</td>\n",
       "      <td>False</td>\n",
       "      <td>http://connectivity.brain-map.org/projection/e...</td>\n",
       "    </tr>\n",
       "    <tr>\n",
       "      <th>2794</th>\n",
       "      <td>564357489</td>\n",
       "      <td>Esr2-IRES2-Cre</td>\n",
       "      <td>5</td>\n",
       "      <td>403</td>\n",
       "      <td>MEA</td>\n",
       "      <td>Medial amygdalar nucleus</td>\n",
       "      <td>Esr2-IR-Cre-284399</td>\n",
       "      <td>0.033794</td>\n",
       "      <td>[{\"id\"=&gt;342, \"abbreviation\"=&gt;\"SI\", \"name\"=&gt;\"Su...</td>\n",
       "      <td>M</td>\n",
       "      <td>NaN</td>\n",
       "      <td>1.779975e-11</td>\n",
       "      <td>80c0e2</td>\n",
       "      <td>NaN</td>\n",
       "      <td>[6910, 5560, 8200]</td>\n",
       "      <td>False</td>\n",
       "      <td>http://connectivity.brain-map.org/projection/e...</td>\n",
       "    </tr>\n",
       "  </tbody>\n",
       "</table>\n",
       "<p>2795 rows × 17 columns</p>\n",
       "</div>"
      ],
      "text/plain": [
       "             id transgenic-line  product-id  structure-id structure-abbrev  \\\n",
       "0     100141599             NaN           5           394            VISam   \n",
       "1     479673174   Emx1-IRES-Cre          35           409             VISl   \n",
       "2     512315551   Emx1-IRES-Cre          36           385             VISp   \n",
       "3     309004492             NaN           5           385             VISp   \n",
       "4     180296424             NaN           5           385             VISp   \n",
       "...         ...             ...         ...           ...              ...   \n",
       "2790  122641784             NaN           5           382              CA1   \n",
       "2791  126352037             NaN           5           128              MRN   \n",
       "2792  168401109  Pvalb-IRES-Cre           5            48             ACAv   \n",
       "2793  168302154       Grik4-Cre           5           647             COAp   \n",
       "2794  564357489  Esr2-IRES2-Cre           5           403              MEA   \n",
       "\n",
       "                               structure-name                  name  \\\n",
       "0                    Anteromedial visual area               378-757   \n",
       "1                         Lateral visual area  Emx1-IRES-Cre-191135   \n",
       "2                         Primary visual area  Emx1-IRES-Cre-234272   \n",
       "3                         Primary visual area        C57BL/6-155459   \n",
       "4                         Primary visual area              378-1815   \n",
       "...                                       ...                   ...   \n",
       "2790                                Field CA1              378-1250   \n",
       "2791               Midbrain reticular nucleus              378-1281   \n",
       "2792    Anterior cingulate area, ventral part   Pvalb-IRES-Cre-5045   \n",
       "2793  Cortical amygdalar area, posterior part        Grik4-Cre-5027   \n",
       "2794                 Medial amygdalar nucleus    Esr2-IR-Cre-284399   \n",
       "\n",
       "      injection-volume                               injection-structures  \\\n",
       "0             0.125483  [{\"id\"=>394, \"abbreviation\"=>\"VISam\", \"name\"=>...   \n",
       "1             0.605379  [{\"id\"=>385, \"abbreviation\"=>\"VISp\", \"name\"=>\"...   \n",
       "2             1.614223  [{\"id\"=>385, \"abbreviation\"=>\"VISp\", \"name\"=>\"...   \n",
       "3             1.083030  [{\"id\"=>385, \"abbreviation\"=>\"VISp\", \"name\"=>\"...   \n",
       "4             0.814006  [{\"id\"=>385, \"abbreviation\"=>\"VISp\", \"name\"=>\"...   \n",
       "...                ...                                                ...   \n",
       "2790          0.069547  [{\"id\"=>382, \"abbreviation\"=>\"CA1\", \"name\"=>\"F...   \n",
       "2791          0.018755  [{\"id\"=>128, \"abbreviation\"=>\"MRN\", \"name\"=>\"M...   \n",
       "2792          0.194367  [{\"id\"=>39, \"abbreviation\"=>\"ACAd\", \"name\"=>\"A...   \n",
       "2793          0.325879  [{\"id\"=>319, \"abbreviation\"=>\"BMA\", \"name\"=>\"B...   \n",
       "2794          0.033794  [{\"id\"=>342, \"abbreviation\"=>\"SI\", \"name\"=>\"Su...   \n",
       "\n",
       "     gender    strain           sum structure-color  num-voxels  \\\n",
       "0         M  C57BL/6J  4.180800e-01          08858c         NaN   \n",
       "1         M    B6.129  3.220639e-01          08858c         NaN   \n",
       "2         M       NaN  3.149679e-01          08858c         NaN   \n",
       "3         M  C57BL/6J  2.642719e-01          08858c         NaN   \n",
       "4         M  C57BL/6J  2.524630e-01          08858c         NaN   \n",
       "...     ...       ...           ...             ...         ...   \n",
       "2790      M  C57BL/6J  5.745112e-11          7ed04b         NaN   \n",
       "2791      M  C57BL/6J  5.124817e-11          ff90ff         NaN   \n",
       "2792      M    B6.129  4.817813e-11          40a666         NaN   \n",
       "2793      M  C57BL/6J  3.168943e-11          61e7b7         NaN   \n",
       "2794      M       NaN  1.779975e-11          80c0e2         NaN   \n",
       "\n",
       "     injection-coordinates  selected  \\\n",
       "0        [7900, 580, 7380]     False   \n",
       "1       [9140, 2290, 2390]     False   \n",
       "2       [8460, 1630, 2340]     False   \n",
       "3       [9450, 2180, 8700]     False   \n",
       "4       [9290, 2220, 9410]     False   \n",
       "...                    ...       ...   \n",
       "2790    [8040, 5550, 8970]     False   \n",
       "2791    [9860, 3760, 6580]     False   \n",
       "2792    [5100, 1750, 6010]     False   \n",
       "2793    [7200, 6540, 8440]     False   \n",
       "2794    [6910, 5560, 8200]     False   \n",
       "\n",
       "                                    experiment_page_url  \n",
       "0     http://connectivity.brain-map.org/projection/e...  \n",
       "1     http://connectivity.brain-map.org/projection/e...  \n",
       "2     http://connectivity.brain-map.org/projection/e...  \n",
       "3     http://connectivity.brain-map.org/projection/e...  \n",
       "4     http://connectivity.brain-map.org/projection/e...  \n",
       "...                                                 ...  \n",
       "2790  http://connectivity.brain-map.org/projection/e...  \n",
       "2791  http://connectivity.brain-map.org/projection/e...  \n",
       "2792  http://connectivity.brain-map.org/projection/e...  \n",
       "2793  http://connectivity.brain-map.org/projection/e...  \n",
       "2794  http://connectivity.brain-map.org/projection/e...  \n",
       "\n",
       "[2795 rows x 17 columns]"
      ]
     },
     "execution_count": 13,
     "metadata": {},
     "output_type": "execute_result"
    }
   ],
   "source": [
    "filename = main_structure + \".csv\"\n",
    "df = pd.read_csv(connectivity_path / 'connectivity_target_experiment_lists' / filename)\n",
    "df"
   ]
  },
  {
   "cell_type": "code",
   "execution_count": 14,
   "id": "a3ac504b-801a-4c2f-8355-3c02ed24f547",
   "metadata": {
    "tags": []
   },
   "outputs": [
    {
     "data": {
      "text/html": [
       "<div>\n",
       "<style scoped>\n",
       "    .dataframe tbody tr th:only-of-type {\n",
       "        vertical-align: middle;\n",
       "    }\n",
       "\n",
       "    .dataframe tbody tr th {\n",
       "        vertical-align: top;\n",
       "    }\n",
       "\n",
       "    .dataframe thead th {\n",
       "        text-align: right;\n",
       "    }\n",
       "</style>\n",
       "<table border=\"1\" class=\"dataframe\">\n",
       "  <thead>\n",
       "    <tr style=\"text-align: right;\">\n",
       "      <th></th>\n",
       "      <th>hemisphere_id</th>\n",
       "      <th>id</th>\n",
       "      <th>is_injection</th>\n",
       "      <th>max_voxel_density</th>\n",
       "      <th>max_voxel_x</th>\n",
       "      <th>max_voxel_y</th>\n",
       "      <th>max_voxel_z</th>\n",
       "      <th>normalized_projection_volume</th>\n",
       "      <th>projection_density</th>\n",
       "      <th>projection_energy</th>\n",
       "      <th>projection_intensity</th>\n",
       "      <th>projection_volume</th>\n",
       "      <th>section_data_set_id</th>\n",
       "      <th>structure_id</th>\n",
       "      <th>sum_pixel_intensity</th>\n",
       "      <th>sum_pixels</th>\n",
       "      <th>sum_projection_pixel_intensity</th>\n",
       "      <th>sum_projection_pixels</th>\n",
       "      <th>volume</th>\n",
       "      <th>structure</th>\n",
       "    </tr>\n",
       "  </thead>\n",
       "  <tbody>\n",
       "    <tr>\n",
       "      <th>0</th>\n",
       "      <td>2</td>\n",
       "      <td>640689589</td>\n",
       "      <td>False</td>\n",
       "      <td>0.696321</td>\n",
       "      <td>6920</td>\n",
       "      <td>350</td>\n",
       "      <td>6900</td>\n",
       "      <td>0.013240</td>\n",
       "      <td>0.016449</td>\n",
       "      <td>9.820845</td>\n",
       "      <td>597.049358</td>\n",
       "      <td>0.021373</td>\n",
       "      <td>512315551</td>\n",
       "      <td>894</td>\n",
       "      <td>1.216443e+11</td>\n",
       "      <td>1.060688e+09</td>\n",
       "      <td>1.041685e+10</td>\n",
       "      <td>1.744722e+07</td>\n",
       "      <td>1.299343</td>\n",
       "      <td>{'acronym': 'RSPagl', 'atlas_id': 394, 'color_...</td>\n",
       "    </tr>\n",
       "    <tr>\n",
       "      <th>1</th>\n",
       "      <td>1</td>\n",
       "      <td>640690930</td>\n",
       "      <td>False</td>\n",
       "      <td>1.000000</td>\n",
       "      <td>9720</td>\n",
       "      <td>1630</td>\n",
       "      <td>3410</td>\n",
       "      <td>0.068989</td>\n",
       "      <td>0.099411</td>\n",
       "      <td>206.254527</td>\n",
       "      <td>2074.762553</td>\n",
       "      <td>0.111363</td>\n",
       "      <td>512315551</td>\n",
       "      <td>894</td>\n",
       "      <td>3.327241e+11</td>\n",
       "      <td>9.144732e+08</td>\n",
       "      <td>1.886142e+11</td>\n",
       "      <td>9.090883e+07</td>\n",
       "      <td>1.120230</td>\n",
       "      <td>{'acronym': 'RSPagl', 'atlas_id': 394, 'color_...</td>\n",
       "    </tr>\n",
       "    <tr>\n",
       "      <th>2</th>\n",
       "      <td>3</td>\n",
       "      <td>640692612</td>\n",
       "      <td>False</td>\n",
       "      <td>1.000000</td>\n",
       "      <td>9720</td>\n",
       "      <td>1630</td>\n",
       "      <td>3410</td>\n",
       "      <td>0.082229</td>\n",
       "      <td>0.054859</td>\n",
       "      <td>100.767021</td>\n",
       "      <td>1836.824888</td>\n",
       "      <td>0.132736</td>\n",
       "      <td>512315551</td>\n",
       "      <td>894</td>\n",
       "      <td>4.543683e+11</td>\n",
       "      <td>1.975161e+09</td>\n",
       "      <td>1.990311e+11</td>\n",
       "      <td>1.083561e+08</td>\n",
       "      <td>2.419572</td>\n",
       "      <td>{'acronym': 'RSPagl', 'atlas_id': 394, 'color_...</td>\n",
       "    </tr>\n",
       "  </tbody>\n",
       "</table>\n",
       "</div>"
      ],
      "text/plain": [
       "   hemisphere_id         id  is_injection  max_voxel_density  max_voxel_x  \\\n",
       "0              2  640689589         False           0.696321         6920   \n",
       "1              1  640690930         False           1.000000         9720   \n",
       "2              3  640692612         False           1.000000         9720   \n",
       "\n",
       "   max_voxel_y  max_voxel_z  normalized_projection_volume  projection_density  \\\n",
       "0          350         6900                      0.013240            0.016449   \n",
       "1         1630         3410                      0.068989            0.099411   \n",
       "2         1630         3410                      0.082229            0.054859   \n",
       "\n",
       "   projection_energy  projection_intensity  projection_volume  \\\n",
       "0           9.820845            597.049358           0.021373   \n",
       "1         206.254527           2074.762553           0.111363   \n",
       "2         100.767021           1836.824888           0.132736   \n",
       "\n",
       "   section_data_set_id  structure_id  sum_pixel_intensity    sum_pixels  \\\n",
       "0            512315551           894         1.216443e+11  1.060688e+09   \n",
       "1            512315551           894         3.327241e+11  9.144732e+08   \n",
       "2            512315551           894         4.543683e+11  1.975161e+09   \n",
       "\n",
       "   sum_projection_pixel_intensity  sum_projection_pixels    volume  \\\n",
       "0                    1.041685e+10           1.744722e+07  1.299343   \n",
       "1                    1.886142e+11           9.090883e+07  1.120230   \n",
       "2                    1.990311e+11           1.083561e+08  2.419572   \n",
       "\n",
       "                                           structure  \n",
       "0  {'acronym': 'RSPagl', 'atlas_id': 394, 'color_...  \n",
       "1  {'acronym': 'RSPagl', 'atlas_id': 394, 'color_...  \n",
       "2  {'acronym': 'RSPagl', 'atlas_id': 394, 'color_...  "
      ]
     },
     "execution_count": 14,
     "metadata": {},
     "output_type": "execute_result"
    }
   ],
   "source": [
    "# https://allensdk.readthedocs.io/en/latest/_modules/allensdk/api/queries/mouse_connectivity_api.html#MouseConnectivityApi.get_structure_unionizes\n",
    "# using this approach, unionized data would have to be downloaded for every experiment (might take a lot of time e.g. 1855 experiments for RSPagl)\n",
    "RMAUnionizedData(experiment_id=512315551, select_structure_id=894).data"
   ]
  },
  {
   "cell_type": "markdown",
   "id": "2aa7fe35-37ba-47be-86c7-73111474f6bc",
   "metadata": {
    "tags": []
   },
   "source": [
    "### Get the reference list of brain areas"
   ]
  },
  {
   "cell_type": "code",
   "execution_count": 15,
   "id": "b61868e4-28e0-493c-96c7-c737c377d935",
   "metadata": {},
   "outputs": [
    {
     "data": {
      "text/html": [
       "<div>\n",
       "<style scoped>\n",
       "    .dataframe tbody tr th:only-of-type {\n",
       "        vertical-align: middle;\n",
       "    }\n",
       "\n",
       "    .dataframe tbody tr th {\n",
       "        vertical-align: top;\n",
       "    }\n",
       "\n",
       "    .dataframe thead th {\n",
       "        text-align: right;\n",
       "    }\n",
       "</style>\n",
       "<table border=\"1\" class=\"dataframe\">\n",
       "  <thead>\n",
       "    <tr style=\"text-align: right;\">\n",
       "      <th></th>\n",
       "      <th>acronym</th>\n",
       "      <th>atlas_id</th>\n",
       "      <th>color_hex_triplet</th>\n",
       "      <th>depth</th>\n",
       "      <th>failed</th>\n",
       "      <th>failed_facet</th>\n",
       "      <th>graph_id</th>\n",
       "      <th>graph_order</th>\n",
       "      <th>hemisphere_id</th>\n",
       "      <th>id</th>\n",
       "      <th>...</th>\n",
       "      <th>neuro_name_structure_id</th>\n",
       "      <th>neuro_name_structure_id_path</th>\n",
       "      <th>ontology_id</th>\n",
       "      <th>parent_structure_id</th>\n",
       "      <th>safe_name</th>\n",
       "      <th>sphinx_id</th>\n",
       "      <th>st_level</th>\n",
       "      <th>structure_id_path</th>\n",
       "      <th>structure_name_facet</th>\n",
       "      <th>weight</th>\n",
       "    </tr>\n",
       "  </thead>\n",
       "  <tbody>\n",
       "    <tr>\n",
       "      <th>0</th>\n",
       "      <td>PAG</td>\n",
       "      <td>240.0</td>\n",
       "      <td>FF90FF</td>\n",
       "      <td>5</td>\n",
       "      <td>False</td>\n",
       "      <td>734881840</td>\n",
       "      <td>1</td>\n",
       "      <td>838</td>\n",
       "      <td>3</td>\n",
       "      <td>795</td>\n",
       "      <td>...</td>\n",
       "      <td>None</td>\n",
       "      <td>None</td>\n",
       "      <td>1</td>\n",
       "      <td>323</td>\n",
       "      <td>Periaqueductal gray</td>\n",
       "      <td>839</td>\n",
       "      <td>8</td>\n",
       "      <td>/997/8/343/313/323/795/</td>\n",
       "      <td>3260726339</td>\n",
       "      <td>8690</td>\n",
       "    </tr>\n",
       "    <tr>\n",
       "      <th>1</th>\n",
       "      <td>ARH</td>\n",
       "      <td>27.0</td>\n",
       "      <td>FF5D50</td>\n",
       "      <td>6</td>\n",
       "      <td>False</td>\n",
       "      <td>734881840</td>\n",
       "      <td>1</td>\n",
       "      <td>733</td>\n",
       "      <td>3</td>\n",
       "      <td>223</td>\n",
       "      <td>...</td>\n",
       "      <td>None</td>\n",
       "      <td>None</td>\n",
       "      <td>1</td>\n",
       "      <td>157</td>\n",
       "      <td>Arcuate hypothalamic nucleus</td>\n",
       "      <td>734</td>\n",
       "      <td>8</td>\n",
       "      <td>/997/8/343/1129/1097/157/223/</td>\n",
       "      <td>218062747</td>\n",
       "      <td>8690</td>\n",
       "    </tr>\n",
       "    <tr>\n",
       "      <th>2</th>\n",
       "      <td>ORBm</td>\n",
       "      <td>232.0</td>\n",
       "      <td>248A5E</td>\n",
       "      <td>7</td>\n",
       "      <td>False</td>\n",
       "      <td>734881840</td>\n",
       "      <td>1</td>\n",
       "      <td>264</td>\n",
       "      <td>3</td>\n",
       "      <td>731</td>\n",
       "      <td>...</td>\n",
       "      <td>None</td>\n",
       "      <td>None</td>\n",
       "      <td>1</td>\n",
       "      <td>714</td>\n",
       "      <td>Orbital area medial part</td>\n",
       "      <td>265</td>\n",
       "      <td>9</td>\n",
       "      <td>/997/8/567/688/695/315/714/731/</td>\n",
       "      <td>3012751712</td>\n",
       "      <td>8690</td>\n",
       "    </tr>\n",
       "    <tr>\n",
       "      <th>3</th>\n",
       "      <td>LSv</td>\n",
       "      <td>174.0</td>\n",
       "      <td>90CBED</td>\n",
       "      <td>7</td>\n",
       "      <td>False</td>\n",
       "      <td>734881840</td>\n",
       "      <td>1</td>\n",
       "      <td>589</td>\n",
       "      <td>3</td>\n",
       "      <td>266</td>\n",
       "      <td>...</td>\n",
       "      <td>None</td>\n",
       "      <td>None</td>\n",
       "      <td>1</td>\n",
       "      <td>242</td>\n",
       "      <td>Lateral septal nucleus ventral part</td>\n",
       "      <td>590</td>\n",
       "      <td>9</td>\n",
       "      <td>/997/8/567/623/477/275/242/266/</td>\n",
       "      <td>1660459064</td>\n",
       "      <td>8690</td>\n",
       "    </tr>\n",
       "    <tr>\n",
       "      <th>4</th>\n",
       "      <td>PD</td>\n",
       "      <td>255.0</td>\n",
       "      <td>FF5547</td>\n",
       "      <td>6</td>\n",
       "      <td>False</td>\n",
       "      <td>734881840</td>\n",
       "      <td>1</td>\n",
       "      <td>746</td>\n",
       "      <td>3</td>\n",
       "      <td>914</td>\n",
       "      <td>...</td>\n",
       "      <td>None</td>\n",
       "      <td>None</td>\n",
       "      <td>1</td>\n",
       "      <td>141</td>\n",
       "      <td>Posterodorsal preoptic nucleus</td>\n",
       "      <td>747</td>\n",
       "      <td>8</td>\n",
       "      <td>/997/8/343/1129/1097/141/914/</td>\n",
       "      <td>2759126254</td>\n",
       "      <td>8690</td>\n",
       "    </tr>\n",
       "    <tr>\n",
       "      <th>...</th>\n",
       "      <td>...</td>\n",
       "      <td>...</td>\n",
       "      <td>...</td>\n",
       "      <td>...</td>\n",
       "      <td>...</td>\n",
       "      <td>...</td>\n",
       "      <td>...</td>\n",
       "      <td>...</td>\n",
       "      <td>...</td>\n",
       "      <td>...</td>\n",
       "      <td>...</td>\n",
       "      <td>...</td>\n",
       "      <td>...</td>\n",
       "      <td>...</td>\n",
       "      <td>...</td>\n",
       "      <td>...</td>\n",
       "      <td>...</td>\n",
       "      <td>...</td>\n",
       "      <td>...</td>\n",
       "      <td>...</td>\n",
       "      <td>...</td>\n",
       "    </tr>\n",
       "    <tr>\n",
       "      <th>311</th>\n",
       "      <td>SSp-bfd</td>\n",
       "      <td>748.0</td>\n",
       "      <td>188064</td>\n",
       "      <td>8</td>\n",
       "      <td>False</td>\n",
       "      <td>734881840</td>\n",
       "      <td>1</td>\n",
       "      <td>51</td>\n",
       "      <td>3</td>\n",
       "      <td>329</td>\n",
       "      <td>...</td>\n",
       "      <td>None</td>\n",
       "      <td>None</td>\n",
       "      <td>1</td>\n",
       "      <td>322</td>\n",
       "      <td>Primary somatosensory area barrel field</td>\n",
       "      <td>52</td>\n",
       "      <td>9</td>\n",
       "      <td>/997/8/567/688/695/315/453/322/329/</td>\n",
       "      <td>3406319794</td>\n",
       "      <td>8690</td>\n",
       "    </tr>\n",
       "    <tr>\n",
       "      <th>312</th>\n",
       "      <td>OT</td>\n",
       "      <td>235.0</td>\n",
       "      <td>80CDF8</td>\n",
       "      <td>6</td>\n",
       "      <td>False</td>\n",
       "      <td>734881840</td>\n",
       "      <td>1</td>\n",
       "      <td>577</td>\n",
       "      <td>3</td>\n",
       "      <td>754</td>\n",
       "      <td>...</td>\n",
       "      <td>None</td>\n",
       "      <td>None</td>\n",
       "      <td>1</td>\n",
       "      <td>493</td>\n",
       "      <td>Olfactory tubercle</td>\n",
       "      <td>578</td>\n",
       "      <td>8</td>\n",
       "      <td>/997/8/567/623/477/493/754/</td>\n",
       "      <td>1598442672</td>\n",
       "      <td>8690</td>\n",
       "    </tr>\n",
       "    <tr>\n",
       "      <th>313</th>\n",
       "      <td>SubG</td>\n",
       "      <td>464.0</td>\n",
       "      <td>FF909F</td>\n",
       "      <td>7</td>\n",
       "      <td>False</td>\n",
       "      <td>734881840</td>\n",
       "      <td>1</td>\n",
       "      <td>710</td>\n",
       "      <td>3</td>\n",
       "      <td>321</td>\n",
       "      <td>...</td>\n",
       "      <td>None</td>\n",
       "      <td>None</td>\n",
       "      <td>1</td>\n",
       "      <td>1014</td>\n",
       "      <td>Subgeniculate nucleus</td>\n",
       "      <td>711</td>\n",
       "      <td>8</td>\n",
       "      <td>/997/8/343/1129/549/856/1014/321/</td>\n",
       "      <td>3545734096</td>\n",
       "      <td>8690</td>\n",
       "    </tr>\n",
       "    <tr>\n",
       "      <th>314</th>\n",
       "      <td>SNr</td>\n",
       "      <td>330.0</td>\n",
       "      <td>FF90FF</td>\n",
       "      <td>5</td>\n",
       "      <td>False</td>\n",
       "      <td>734881840</td>\n",
       "      <td>1</td>\n",
       "      <td>822</td>\n",
       "      <td>3</td>\n",
       "      <td>381</td>\n",
       "      <td>...</td>\n",
       "      <td>None</td>\n",
       "      <td>None</td>\n",
       "      <td>1</td>\n",
       "      <td>323</td>\n",
       "      <td>Substantia nigra reticular part</td>\n",
       "      <td>823</td>\n",
       "      <td>8</td>\n",
       "      <td>/997/8/343/313/323/381/</td>\n",
       "      <td>1375238552</td>\n",
       "      <td>8690</td>\n",
       "    </tr>\n",
       "    <tr>\n",
       "      <th>315</th>\n",
       "      <td>CP</td>\n",
       "      <td>83.0</td>\n",
       "      <td>98D6F9</td>\n",
       "      <td>6</td>\n",
       "      <td>False</td>\n",
       "      <td>734881840</td>\n",
       "      <td>1</td>\n",
       "      <td>573</td>\n",
       "      <td>3</td>\n",
       "      <td>672</td>\n",
       "      <td>...</td>\n",
       "      <td>None</td>\n",
       "      <td>None</td>\n",
       "      <td>1</td>\n",
       "      <td>485</td>\n",
       "      <td>Caudoputamen</td>\n",
       "      <td>574</td>\n",
       "      <td>8</td>\n",
       "      <td>/997/8/567/623/477/485/672/</td>\n",
       "      <td>2140591882</td>\n",
       "      <td>8690</td>\n",
       "    </tr>\n",
       "  </tbody>\n",
       "</table>\n",
       "<p>316 rows × 21 columns</p>\n",
       "</div>"
      ],
      "text/plain": [
       "     acronym  atlas_id color_hex_triplet  depth  failed  failed_facet  \\\n",
       "0        PAG     240.0            FF90FF      5   False     734881840   \n",
       "1        ARH      27.0            FF5D50      6   False     734881840   \n",
       "2       ORBm     232.0            248A5E      7   False     734881840   \n",
       "3        LSv     174.0            90CBED      7   False     734881840   \n",
       "4         PD     255.0            FF5547      6   False     734881840   \n",
       "..       ...       ...               ...    ...     ...           ...   \n",
       "311  SSp-bfd     748.0            188064      8   False     734881840   \n",
       "312       OT     235.0            80CDF8      6   False     734881840   \n",
       "313     SubG     464.0            FF909F      7   False     734881840   \n",
       "314      SNr     330.0            FF90FF      5   False     734881840   \n",
       "315       CP      83.0            98D6F9      6   False     734881840   \n",
       "\n",
       "     graph_id  graph_order  hemisphere_id   id  ... neuro_name_structure_id  \\\n",
       "0           1          838              3  795  ...                    None   \n",
       "1           1          733              3  223  ...                    None   \n",
       "2           1          264              3  731  ...                    None   \n",
       "3           1          589              3  266  ...                    None   \n",
       "4           1          746              3  914  ...                    None   \n",
       "..        ...          ...            ...  ...  ...                     ...   \n",
       "311         1           51              3  329  ...                    None   \n",
       "312         1          577              3  754  ...                    None   \n",
       "313         1          710              3  321  ...                    None   \n",
       "314         1          822              3  381  ...                    None   \n",
       "315         1          573              3  672  ...                    None   \n",
       "\n",
       "    neuro_name_structure_id_path ontology_id  parent_structure_id  \\\n",
       "0                           None           1                  323   \n",
       "1                           None           1                  157   \n",
       "2                           None           1                  714   \n",
       "3                           None           1                  242   \n",
       "4                           None           1                  141   \n",
       "..                           ...         ...                  ...   \n",
       "311                         None           1                  322   \n",
       "312                         None           1                  493   \n",
       "313                         None           1                 1014   \n",
       "314                         None           1                  323   \n",
       "315                         None           1                  485   \n",
       "\n",
       "                                   safe_name sphinx_id  st_level  \\\n",
       "0                        Periaqueductal gray       839         8   \n",
       "1               Arcuate hypothalamic nucleus       734         8   \n",
       "2                   Orbital area medial part       265         9   \n",
       "3        Lateral septal nucleus ventral part       590         9   \n",
       "4             Posterodorsal preoptic nucleus       747         8   \n",
       "..                                       ...       ...       ...   \n",
       "311  Primary somatosensory area barrel field        52         9   \n",
       "312                       Olfactory tubercle       578         8   \n",
       "313                    Subgeniculate nucleus       711         8   \n",
       "314          Substantia nigra reticular part       823         8   \n",
       "315                             Caudoputamen       574         8   \n",
       "\n",
       "                       structure_id_path structure_name_facet  weight  \n",
       "0                /997/8/343/313/323/795/           3260726339    8690  \n",
       "1          /997/8/343/1129/1097/157/223/            218062747    8690  \n",
       "2        /997/8/567/688/695/315/714/731/           3012751712    8690  \n",
       "3        /997/8/567/623/477/275/242/266/           1660459064    8690  \n",
       "4          /997/8/343/1129/1097/141/914/           2759126254    8690  \n",
       "..                                   ...                  ...     ...  \n",
       "311  /997/8/567/688/695/315/453/322/329/           3406319794    8690  \n",
       "312          /997/8/567/623/477/493/754/           1598442672    8690  \n",
       "313    /997/8/343/1129/549/856/1014/321/           3545734096    8690  \n",
       "314              /997/8/343/313/323/381/           1375238552    8690  \n",
       "315          /997/8/567/623/477/485/672/           2140591882    8690  \n",
       "\n",
       "[316 rows x 21 columns]"
      ]
     },
     "execution_count": 15,
     "metadata": {},
     "output_type": "execute_result"
    }
   ],
   "source": [
    "struct_set_id = 167587189 # Curated list of non-overlapping substructures at a mid-ontology level\n",
    "\n",
    "structure_sets = RMAStructureSet()\n",
    "struct_set = structure_sets.get_structure_set(id=struct_set_id)\n",
    "struct_set"
   ]
  },
  {
   "cell_type": "markdown",
   "id": "9444a192-d625-41b1-b97c-107b67b655dd",
   "metadata": {},
   "source": [
    "### Check that all projecting experiments are linked to an area in the list"
   ]
  },
  {
   "cell_type": "code",
   "execution_count": 16,
   "id": "04f36aa4-3678-4e46-a9f0-573e7e40ab35",
   "metadata": {
    "tags": []
   },
   "outputs": [
    {
     "name": "stdout",
     "output_type": "stream",
     "text": [
      "2795\n"
     ]
    },
    {
     "data": {
      "text/html": [
       "<div>\n",
       "<style scoped>\n",
       "    .dataframe tbody tr th:only-of-type {\n",
       "        vertical-align: middle;\n",
       "    }\n",
       "\n",
       "    .dataframe tbody tr th {\n",
       "        vertical-align: top;\n",
       "    }\n",
       "\n",
       "    .dataframe thead th {\n",
       "        text-align: right;\n",
       "    }\n",
       "</style>\n",
       "<table border=\"1\" class=\"dataframe\">\n",
       "  <thead>\n",
       "    <tr style=\"text-align: right;\">\n",
       "      <th></th>\n",
       "      <th>id</th>\n",
       "      <th>transgenic-line</th>\n",
       "      <th>product-id</th>\n",
       "      <th>structure-id</th>\n",
       "      <th>structure-abbrev</th>\n",
       "      <th>structure-name</th>\n",
       "      <th>name</th>\n",
       "      <th>injection-volume</th>\n",
       "      <th>injection-structures</th>\n",
       "      <th>gender</th>\n",
       "      <th>strain</th>\n",
       "      <th>sum</th>\n",
       "      <th>structure-color</th>\n",
       "      <th>num-voxels</th>\n",
       "      <th>injection-coordinates</th>\n",
       "      <th>selected</th>\n",
       "      <th>experiment_page_url</th>\n",
       "    </tr>\n",
       "  </thead>\n",
       "  <tbody>\n",
       "  </tbody>\n",
       "</table>\n",
       "</div>"
      ],
      "text/plain": [
       "Empty DataFrame\n",
       "Columns: [id, transgenic-line, product-id, structure-id, structure-abbrev, structure-name, name, injection-volume, injection-structures, gender, strain, sum, structure-color, num-voxels, injection-coordinates, selected, experiment_page_url]\n",
       "Index: []"
      ]
     },
     "execution_count": 16,
     "metadata": {},
     "output_type": "execute_result"
    }
   ],
   "source": [
    "# SANITY CHECK\n",
    "\n",
    "# make a copy of experiment df\n",
    "unmatched_df = df.copy()\n",
    "num_collected_exps = 0\n",
    "\n",
    "# loop through brain areas, removing experiments successfully matching with an area\n",
    "for area_id in struct_set['id']:\n",
    "    indexes_to_drop = df.index[df['structure-id']==area_id]\n",
    "    num_collected_exps += len(indexes_to_drop)\n",
    "    unmatched_df = unmatched_df.drop(indexes_to_drop)\n",
    "    # if area_id == 329: break\n",
    "\n",
    "# display df with unmatched experiments\n",
    "print(num_collected_exps)\n",
    "unmatched_df"
   ]
  },
  {
   "cell_type": "markdown",
   "id": "2805f9c4-c7c5-4fc0-8ef9-ac01ab2d03f9",
   "metadata": {
    "tags": []
   },
   "source": [
    "dataframe is empty\n",
    "\n",
    "167587189 -> sanity checked -> all experiments, from corresponding metadata downloaded in csv in connectivity_target_experiment_lists, are assigned to an area -> no missed experiments due to injection area (labelling convention) mismatch"
   ]
  },
  {
   "cell_type": "markdown",
   "id": "260226b6-406d-4cf8-816a-2d3a714bc774",
   "metadata": {},
   "source": [
    "### Collect experiments in {area_id: [exp_id_1, exp_id_2, ...]} dictionary"
   ]
  },
  {
   "cell_type": "code",
   "execution_count": 17,
   "id": "8e89c111-2ef3-4a48-89cd-e76d9ad2d2cc",
   "metadata": {
    "tags": []
   },
   "outputs": [
    {
     "name": "stdout",
     "output_type": "stream",
     "text": [
      "2795 experiments collected in the dictionary\n",
      "316 number of areas collected in the dictionary\n",
      "area 795\n",
      "[300076066, 496114558, 267029447, 266500714, 272829745, 287247978, 272699357, 266099165, 182144176, 300166697, 287712779, 156979283, 158376179, 120761491, 182280207, 160538548, 302053755, 301540850, 120571672, 262188772, 162020630, 298079928, 147635309, 301671287, 128002057, 304949216, 300111793, 113096571, 180524412, 267030155, 299856390, 543880631]\n",
      "area 223\n",
      "[263369222, 171482142, 175738378, 286726777, 176431817, 241278553, 146554676, 232311236, 178282527, 181891892, 158142090, 286318327, 586447435, 146660999, 232310521, 298105299, 159751184]\n"
     ]
    }
   ],
   "source": [
    "# Number of experiments from injections across all brain areas targeting RSPagl\n",
    "total_num_collected_exps = 0\n",
    "area_experiment_id_dict = {}\n",
    "\n",
    "for area_id in struct_set['id']:\n",
    "    total_num_collected_exps += len(df[df['structure-id']==area_id])\n",
    "    area_experiment_id_dict[area_id] = list(df[df['structure-id']==area_id]['id'])\n",
    "    # print(\"Experiments in area\",struct_set[struct_set['id']==area_id]['acronym'].item(),\"=\", len(df[df['structure-id']==area_id]))\n",
    "print(total_num_collected_exps,\"experiments collected in the dictionary\")\n",
    "print(len(area_experiment_id_dict),\"number of areas collected in the dictionary\")\n",
    "print(\"area\",795)\n",
    "print(area_experiment_id_dict[795])\n",
    "print(\"area\",223)\n",
    "print(area_experiment_id_dict[223])"
   ]
  },
  {
   "cell_type": "markdown",
   "id": "c9188718-5594-4641-a482-83c9e1c4e493",
   "metadata": {},
   "source": [
    "### Filter out experiments where target structure and injection structures overlap"
   ]
  },
  {
   "cell_type": "code",
   "execution_count": 18,
   "id": "6c9f070a-162c-456d-b32f-7d6dd5dd0a1e",
   "metadata": {},
   "outputs": [
    {
     "name": "stdout",
     "output_type": "stream",
     "text": [
      "98 experiments removed:\n",
      "[496113850, 531443949, 599076623, 606778738, 113846682, 576341623, 646525997, 593018150, 576036240, 495345959, 595884140, 554333581, 577298618, 127991964, 114474520, 584511827, 288168426, 657042668, 598605738, 517962765, 656632388, 597256577, 294484177, 495877413, 268040381, 297597186, 482640524, 511817919, 168097187, 579628905, 297627858, 646527844, 584511119, 100141599, 159753308, 571100135, 518742338, 297233422, 184167484, 552431726, 524667618, 294434867, 288264047, 517326050, 297670312, 518619451, 559878074, 516491813, 606930364, 523714940, 268038969, 478678606, 651703553, 293821389, 653191449, 597007143, 557347149, 586041882, 552279683, 520012330, 535696750, 482581199, 520018181, 175018829, 267493760, 272873704, 146078721, 294481346, 512314723, 146077302, 572588941, 501006221, 495345251, 519186737, 485237081, 590987294, 257667830, 502074651, 182896517, 299733445, 523718823, 561506791, 297946154, 570460301, 557342452, 298324391, 636803957, 301618122, 502180994, 287225041, 649361916, 503813164, 605093074, 496097187, 656958144, 180405830, 511550172, 601268292]\n"
     ]
    }
   ],
   "source": [
    "# Filtering out experiments with overlapping injection and target structures\n",
    "\n",
    "filtered_area_experiment_id_dict_1 = {}\n",
    "exps_removed = []\n",
    "\n",
    "for area_id, exps in area_experiment_id_dict.items():\n",
    "    # if a V2m structure id is contained in injection-structures of an experiment, drop that experiment (id) from area_experiment_id_dict\n",
    "    exps_ids_to_retain = []\n",
    "    for exp_id in exps:\n",
    "        # Loading and formatting dictionary with experiment's injection structures from Allen metadata\n",
    "        inj_structs_dict = json.loads(df[df['id']==exp_id]['injection-structures'].item().replace(\"=>\",\":\"))\n",
    "        # Getting ids of experiment's injection structures\n",
    "        inj_structs_id_list = [x['id'] for x in inj_structs_dict]\n",
    "        if main_structure_id in inj_structs_id_list: exps_removed.append(exp_id)\n",
    "        else: exps_ids_to_retain.append(exp_id)\n",
    "    filtered_area_experiment_id_dict_1[area_id] = exps_ids_to_retain\n",
    "print(len(exps_removed),\"experiments removed:\")\n",
    "print(exps_removed)"
   ]
  },
  {
   "cell_type": "markdown",
   "id": "197689bf-0046-4df6-b634-043d833a2227",
   "metadata": {
    "tags": []
   },
   "source": [
    "### Checking the hemisphere of injection for each experiment"
   ]
  },
  {
   "cell_type": "markdown",
   "id": "3879130a-109e-4143-bc3a-5b14bf4ee901",
   "metadata": {},
   "source": [
    "#### average template dimensions (from https://www.sciencedirect.com/science/article/pii/S0092867420304025)"
   ]
  },
  {
   "cell_type": "markdown",
   "id": "930e2d25-d577-4260-9de5-2e1de7542584",
   "metadata": {},
   "source": [
    "<img src=\"https://global.discourse-cdn.com/standard10/uploads/brainobservatory/original/1X/44f3499fd49d9396d9d12597725afd41693582f5.png\" alt=\"coordinate_system\" width=900 />"
   ]
  },
  {
   "cell_type": "markdown",
   "id": "131ab711-2ed5-48ab-b5bb-e79a37888514",
   "metadata": {},
   "source": [
    "13.2 mm x 8.0 mm x 11.4 mm\n",
    "\n",
    "13200 µm x 8000 µm x 11400 µm"
   ]
  },
  {
   "cell_type": "code",
   "execution_count": 19,
   "id": "ee311652-3993-49f6-a310-db1619731e6d",
   "metadata": {},
   "outputs": [],
   "source": [
    "def check_hemisphere(experiment_id, structure_id):\n",
    "    \"\"\"\n",
    "    Returns the hemisphere_id for a given injection structure and experiment id. If the injection spans both hemispheres, the one with higher volume is chosen.\n",
    "    \n",
    "        Parameters:\n",
    "            experiment_id (int): id of the experiment (section_data_set_id).\n",
    "            structure_id (int): id of the injection structure.\n",
    "            \n",
    "        Returns:\n",
    "            hemisphere_id (int): 1 for left hemisphere and 2 for right hemisphere. If there is no injection structure with specified structure_id, 0 is returned.\n",
    "    \"\"\"\n",
    "    temp_data = RMAUnionizedData(experiment_id=experiment_id).data\n",
    "    temp_data = temp_data[temp_data['structure_id']==structure_id].reset_index(drop=True)\n",
    "\n",
    "    z_coord = temp_data['max_voxel_z'].unique()\n",
    "    # if there is data in both hemispheres, choose the one with higher volume\n",
    "    if len(z_coord) > 1:\n",
    "        z_coord = [temp_data.iloc[temp_data['volume'].idxmax()]['max_voxel_z']]\n",
    "\n",
    "    if len(z_coord)==0: return 0\n",
    "    elif z_coord[0] < 5700: return 1\n",
    "    elif z_coord[0] >= 5700: return 2"
   ]
  },
  {
   "cell_type": "code",
   "execution_count": 20,
   "id": "89050cd0",
   "metadata": {},
   "outputs": [
    {
     "data": {
      "text/plain": [
       "1"
      ]
     },
     "execution_count": 20,
     "metadata": {},
     "output_type": "execute_result"
    }
   ],
   "source": [
    "check_hemisphere(512315551, 894)"
   ]
  },
  {
   "cell_type": "markdown",
   "id": "4e7e4782-aa54-46dd-bd77-37d9a7af0b65",
   "metadata": {},
   "source": [
    "### Removing experiments which have not been injected into specified hemisphere"
   ]
  },
  {
   "cell_type": "code",
   "execution_count": 21,
   "id": "52d6c031-4cd3-46f0-bd34-bb1d12ecaa13",
   "metadata": {
    "tags": []
   },
   "outputs": [],
   "source": [
    "# Removing all experiments that were not injected in the specified hemisphere\n",
    "\n",
    "if read_filtered_area_experiment_id_dict_2:\n",
    "    # Reading from a file\n",
    "    filename = 'filtered_area_experiment_id_dict_2_hem_'+str(HEMISPHERE_TO_FILTER)+'_'+main_structure+'_vol.pkl'\n",
    "    with open(connectivity_path / filename, 'rb') as f: filtered_area_experiment_id_dict_2 = pickle.load(f)\n",
    "else:\n",
    "    # Copy the dictionary\n",
    "    filtered_area_experiment_id_dict_2 = {k:v.copy() for k,v in filtered_area_experiment_id_dict_1.items()}\n",
    "    exps_removed = []\n",
    "    for area, exps in tqdm(filtered_area_experiment_id_dict_2.items()):\n",
    "        for e in exps:\n",
    "            ind = exps.index(e)\n",
    "            hem = check_hemisphere(e, area)\n",
    "            if hem != HEMISPHERE_TO_FILTER: exps_removed.append(filtered_area_experiment_id_dict_2[area].pop(ind))\n",
    "    print(len(exps_removed),\"experiments removed:\")\n",
    "    print(exps_removed)\n",
    "    # Saving to a file\n",
    "    filename = 'filtered_area_experiment_id_dict_2_hem_'+str(HEMISPHERE_TO_FILTER)+'_'+main_structure+'_vol.pkl'\n",
    "    with open(connectivity_path / filename, 'wb') as f: pickle.dump(filtered_area_experiment_id_dict_2, f)"
   ]
  },
  {
   "cell_type": "code",
   "execution_count": 22,
   "id": "93823055-e77f-43f4-9247-eeddee50c57f",
   "metadata": {},
   "outputs": [
    {
     "data": {
      "text/plain": [
       "'\\nOutput of cell above for RSPagl hem 1:\\n1235 experiments removed:\\n[300076066, 267029447, 272829745, 266099165, 302053755, 287712779, 301540850, 160538548, 147635309, 300111793, 120571672, 298079928, 304949216, 299856390, 301671287, 543880631, 292624169, 263369222, 175738378, 241278553, 286726777, 181891892, 286318327, 146660999, 586447435, 159751184, 126860974, 292477301, 277956496, 265820216, 303537993, 182887258, 304997333, 177460028, 286417464, 299828473, 605660419, 287028480, 518745840, 127139568, 558580065, 278435864, 626107114, 585026021, 300078194, 287770700, 299403823, 267999034, 640282128, 527393818, 585775993, 181859467, 167793416, 293750063, 299447153, 288321385, 302014692, 112672974, 540685246, 581641279, 176432524, 287044088, 183459175, 127470976, 179902786, 292211743, 287459601, 176900059, 112827164, 178488152, 147790922, 587294457, 310176384, 287808449, 287446625, 292960052, 127468854, 171065200, 171064488, 301421253, 127085005, 114248377, 265135682, 112789899, 143515102, 182029881, 126710034, 125437921, 301875208, 126843905, 127041832, 286609510, 121145750, 302217570, 146984915, 509602066, 302084009, 113696423, 187269162, 300641829, 288171256, 120916102, 286834976, 297855879, 287951098, 177783918, 156395997, 257636467, 287996596, 297945448, 520728084, 117298988, 296047084, 156743264, 286314623, 120494024, 182616478, 166082842, 127084296, 156786234, 591612976, 287461719, 477836675, 166461193, 597007858, 277957908, 179640955, 179641666, 272697944, 159651060, 584903636, 114250546, 307295727, 297593942, 116903968, 301617370, 146858755, 557200148, 297225422, 266487079, 297629988, 301210923, 530018580, 530008580, 166461899, 294266031, 283017324, 286835688, 287036898, 309564818, 181057754, 175106053, 523705737, 267928135, 305677409, 180674463, 126116142, 127649713, 159375743, 300167479, 267928844, 175740500, 268076421, 168300739, 272830456, 267607635, 183058837, 294356922, 272875132, 168002780, 183329222, 293365328, 286646170, 284665639, 268399145, 168301446, 272875838, 301324895, 298001595, 264320076, 304948510, 264248605, 113037759, 267397226, 267609756, 292321278, 175818392, 292478008, 286553311, 298232793, 287171983, 305320171, 114009636, 264872385, 272970039, 299857813, 293115527, 113780276, 100148143, 264709761, 287097454, 182029174, 112672268, 114399224, 293011049, 305400137, 278504263, 293011759, 301122593, 112167395, 159996191, 175142304, 127042540, 127349111, 178283952, 171409520, 100140756, 286299886, 298404154, 298182842, 586052938, 281459203, 287027773, 516846757, 310437091, 298004028, 263241470, 298003295, 278070717, 642180077, 266248776, 287458895, 293914766, 514513838, 293787288, 293942897, 166054929, 100140949, 249396394, 521264566, 166271142, 538078619, 516838033, 166325321, 159097209, 586042591, 267658040, 157711043, 298000880, 168363168, 272735744, 288264753, 292172100, 308721884, 526502961, 292124058, 308027576, 167902586, 287769286, 112423392, 127560043, 266564027, 183618845, 293433283, 288263341, 300843826, 300236056, 485903475, 187268452, 513826657, 175372863, 113442864, 180436360, 292372636, 174361746, 304693450, 300623424, 156314054, 157063781, 293701770, 477271169, 266913240, 267749821, 120875816, 249327301, 180075597, 306268688, 171276330, 177322838, 168096467, 301583889, 512130913, 123664417, 125801739, 265930674, 147706228, 158838128, 515418047, 300691325, 272826010, 272918345, 161178152, 267760731, 120812686, 266249483, 112229814, 286312782, 292792016, 148964212, 303615412, 286300594, 298352336, 515254107, 304617742, 178283239, 518015408, 182336846, 160296448, 113314337, 179642401, 175728165, 146859480, 166156241, 264631432, 146921849, 304612686, 171021122, 182294687, 299623085, 267150949, 168302154, 266962653, 301618828, 178382220, 266488504, 179644545, 249402769, 177780284, 179902073, 182615063, 182615771, 301120618, 301326316, 112308468, 180523704, 114429338, 278318653, 554022330, 181890477, 112459547, 304970618, 265945645, 241279261, 127761449, 146795148, 278179088, 120281646, 157766259, 309385637, 258315443, 125830911, 265946352, 267810394, 168094300, 272917631, 301672755, 142655513, 262215150, 277853501, 120874405, 126115436, 181180790, 180601025, 162019589, 272829024, 520619072, 157952778, 100141596, 287714197, 287448038, 299761293, 116905391, 113368085, 183375545, 294173584, 287029186, 147354951, 113846682, 299759175, 127083591, 266646036, 265293391, 305426208, 525796603, 267538006, 278398949, 157765542, 126188607, 127041126, 147790181, 305293928, 127353220, 272738620, 160151570, 292794673, 115958825, 180073473, 304473503, 305024724, 232311959, 142654100, 642967852, 182794184, 301264977, 287952517, 146553971, 127397469, 183225124, 516278420, 182226133, 286837316, 301265683, 287769992, 518207061, 300319630, 305973112, 278317239, 181891184, 299857096, 298798846, 301988879, 159602279, 303536573, 264564375, 552280478, 268206050, 156202979, 180628971, 312240825, 159331462, 266839077, 176897793, 167373923, 171067319, 305125123, 121145045, 478818791, 157654817, 299447873, 278317945, 299829181, 159750477, 303785454, 306959448, 272928602, 177892379, 292318449, 159651770, 297985755, 168229820, 112936582, 127991964, 174583904, 273065264, 147354242, 174583187, 113400134, 581328778, 139311530, 258914806, 304761539, 156978574, 121509005, 287950390, 267611175, 167571459, 266174045, 156393801, 168095041, 114755811, 182465608, 303474463, 287879384, 301324157, 168230532, 181116850, 180296424, 307558646, 309113907, 113887162, 309004492, 307296433, 307137980, 307743253, 307321674, 307297141, 296052133, 307557934, 266250195, 309003780, 100141219, 300929973, 299859225, 294482052, 304586645, 268040381, 114008926, 288171964, 166326736, 304565427, 277714322, 277616630, 121510421, 184074388, 297629282, 301616660, 277712166, 183173527, 272821309, 623855077, 293472335, 605657236, 257667118, 656842599, 181258571, 159550125, 477475894, 511234217, 308385516, 156545918, 304762965, 299781566, 267931685, 671033786, 266100645, 166269819, 304564721, 304585910, 166562678, 288261928, 177781745, 670657874, 287224335, 626118851, 167511639, 292793967, 648051857, 286773358, 182184486, 266836749, 176882966, 176901480, 294312537, 477269754, 638313933, 616677276, 638978767, 156784823, 596828910, 298350212, 596571282, 575772121, 157767683, 168515938, 656657344, 638314843, 648048922, 623438145, 146986331, 564688610, 184075807, 127711098, 120280939, 100148554, 204832205, 538833505, 265947058, 170784358, 294040662, 113504763, 147134401, 287713485, 146012184, 100141599, 100148503, 159753308, 184167484, 267657327, 297233422, 297670312, 294434867, 288264047, 156671933, 516491813, 293821389, 204908781, 159510205, 539010002, 310377782, 165035106, 298048079, 515410820, 113506174, 298048787, 114046440, 171020416, 158373181, 278508779, 112372418, 287667137, 293254286, 117302771, 113225519, 113369603, 176887774, 158738894, 119847544, 506426778, 288322091, 127795906, 299446445, 550155867, 298795868, 152994878, 556343427, 527051458, 113368898, 640285199, 549809266, 516529585, 294314037, 293009970, 286556914, 160152987, 167213641, 177903648, 309794438, 292622743, 263553934, 287668550, 112881858, 113936696, 267106046, 159945113, 300622004, 287539649, 180916954, 182793477, 287995889, 166055636, 265292679, 278258073, 272822110, 168162771, 100141454, 176433237, 294532700, 477835774, 267930978, 292034715, 298000163, 277957202, 267813224, 585025284, 292374068, 265929196, 263242463, 120814821, 181598954, 305487964, 298718072, 157710335, 606785720, 177459319, 587659400, 292172846, 166460484, 156492394, 168454779, 266645328, 292210312, 159372889, 180719293, 477037203, 182795499, 183617432, 614735393, 258915564, 287807743, 157826227, 127908879, 141602484, 166082128, 297669605, 158139883, 297987980, 287807030, 569264117, 293827470, 584513749, 297946935, 596798450, 156394513, 288169842, 168002073, 297947641, 159373612, 300235349, 292208876, 294533406, 267761438, 278175580, 478782005, 168165712, 113884251, 126653015, 157556400, 298272589, 294399325, 298274021, 159511623, 278179794, 298720191, 182467736, 100141796, 286554724, 292791310, 159320367, 127091083, 156741826, 288324211, 180709230, 278171908, 170721670, 168164972, 183471174, 303783725, 278174451, 293889216, 307766627, 268321221, 300843120, 126841788, 299404532, 549362997, 305026861, 298835152, 146045723, 273026584, 299245589, 125436508, 302739608, 304720034, 126710740, 148197327, 273055501, 558673113, 287494320, 278433737, 266582782, 161463521, 266816894, 292374777, 138059031, 511971714, 301016175, 313141786, 292790567, 545427588, 183901489, 268415561, 552284594, 183284388, 264565965, 539028976, 294356216, 565721603, 311845972, 167442042, 300923916, 304998039, 162018169, 168005102, 167117360, 286319739, 292961470, 515191874, 301875966, 170860801, 293469501, 549361039, 272819994, 287666431, 299896150, 182041643, 175072921, 180981417, 305645132, 125361005, 287246555, 182460343, 587060515, 127909584, 294355509, 114472860, 183071513, 146858006, 182090318, 100149109, 184159706, 116903230, 303582161, 182686935, 305488671, 266963362, 165975810, 157954927, 293820681, 183105218, 301877386, 156202272, 113144533, 277710753, 299244730, 168515225, 272700063, 309701202, 158435826, 303709219, 292960764, 143512399, 121146455, 278261300, 126522350, 299783689, 296048512, 313327028, 262536037, 184168899, 264320859, 112596790, 168663472, 264697714, 287492899, 170858675, 126190743, 306270474, 170263370, 304858700, 305321883, 113095845, 511549277, 112826458, 147162736, 586054741, 287880821, 313325371, 158258062, 286556208, 182337561, 308641549, 176886958, 286319033, 114290225, 266489212, 277854916, 574572418, 127798146, 127867804, 127651139, 160540751, 127796728, 301062306, 156314762, 166054222, 125831616, 159021559, 265633461, 267153115, 302085421, 113553300, 293942188, 168616111, 303710632, 183057424, 182888003, 305269070, 183329991, 299996344, 113935990, 146012934, 267813932, 508775240, 167439900, 146658879, 183282261, 183282970, 292319865, 293914056, 301466249, 128056535, 129567943, 293252166, 298079222, 165974379, 303616127, 272929308, 286301303, 521402511, 293548317, 277851379, 297712045, 168615344, 146470726, 287533790, 293008559, 175373569, 300078901, 287993060, 127255254, 167904966, 287665706, 299653551, 141601779, 170949055, 267103498, 287715650, 264874516, 114755099, 159994059, 158738180, 298049545, 113554719, 294005186, 277800288, 182805258, 272873704, 527808181, 160294327, 265943460, 158373958, 300318924, 158915602, 120437703, 297231636, 166459778, 267999740, 174781014, 100147785, 182515576, 301674988, 292623457, 301057735, 510124187, 157063074, 170859382, 273025872, 180707817, 267929554, 112935169, 114292355, 297652799, 266644610, 182803137, 584902900, 178284661, 166566678, 278257366, 266643194, 166323186, 157768393, 266964788, 146078721, 278513131, 126523066, 523178542, 167118084, 126646502, 278511717, 175158132, 176886238, 267764292, 194948535, 265138021, 181786681, 147049515, 298835859, 304760810, 167026321, 146747721, 241280698, 159433187, 268163228, 273025166, 267958444, 263976175, 557972433, 286608092, 304996627, 122641078, 158321996, 308549214, 304721447, 286647583, 278066728, 177905562, 161460153, 113766744, 301800314, 513773998, 267762859, 514506712, 158314278, 139519496, 156493815, 477834984, 160080068, 520336173, 520342605, 157952068, 146659588, 267398651, 263780018, 298178912, 264096244, 586377476, 287460307, 146856593, 146593590, 125833030, 139426984, 112458114, 114428632, 287599685, 181858761, 592391705, 177783204, 183472596, 293432575, 286646877, 298758841, 166323896, 286774770, 278069982, 267705378, 288262635, 165644051, 267101850, 266964075, 181179335, 159551564, 516848198, 293431869, 183104511, 286728190, 158374671, 146984209, 300168916, 112307046, 299897573, 171485060, 506117918, 299655676, 485875903, 310436191, 551350026, 175374275, 127710392, 292480129, 555011865, 267213793, 268208632, 112425523, 266837456, 100141434, 300927483, 272827141, 485847695, 159433905, 286775476, 120811946, 300624130, 180404418, 292375491, 581350498, 519164644, 127089669, 298178204, 287953929, 157062358, 166083557, 293470216, 184075100, 176429574, 159321806, 294516943, 170261951, 158141324, 298830868, 294481346, 182896517, 257667830, 298324391, 127650431, 180435652, 180403712, 268389532, 304537794, 168664192, 120493315, 168361750, 294175704, 516526160, 286610923, 180405830, 181093729, 286610216, 286554017, 301119459, 182226839, 297894255, 171019004, 299656382, 292479421, 301130077, 181777177, 305380411, 278503555, 267608343, 113784293, 175817683, 113554008, 298833033, 267959197, 300642574, 266693274, 272968624, 182280916, 159648854, 180525136, 268323342, 302050617, 555739999, 286482701, 265712971, 161458737, 139520203, 265288825, 125801033, 585911240, 265291552, 303783015, 159319654, 299829892, 268038262, 299782983, 301179679, 478780588, 287714903, 298797288, 168401109, 266412788, 302079862, 156255078, 299732033, 292531359, 112424102, 126907302, 297654263, 112951804, 175819113, 127866392, 176881134, 100141473, 297671018, 166533924, 485022109, 294435580, 288170549, 266486371, 183374804, 266172624, 159602992, 177907797, 298718778, 297628576, 297668898, 511234957, 277801701, 265820951, 286772650, 178487444, 167441329, 159223769, 263370720, 304335875, 167904255, 158914182, 478096249, 303534443, 299895444, 513775257, 307910595, 120762196, 180982124, 514505957, 160537018, 293366741, 292620968, 117317884, 160537796, 112458831, 146553266, 113766038, 272697238, 160540013, 183009881, 159223001, 158020947, 287995180, 120570964, 175732996, 126853068, 175072215, 278434443, 293366035, 477924853, 292959343, 287994474, 158019342, 310175667, 127224133, 156670520, 575683020, 114399934]\\n'"
      ]
     },
     "execution_count": 22,
     "metadata": {},
     "output_type": "execute_result"
    }
   ],
   "source": [
    "\"\"\"\n",
    "Output of cell above for RSPagl hem 1:\n",
    "1235 experiments removed:\n",
    "[300076066, 267029447, 272829745, 266099165, 302053755, 287712779, 301540850, 160538548, 147635309, 300111793, 120571672, 298079928, 304949216, 299856390, 301671287, 543880631, 292624169, 263369222, 175738378, 241278553, 286726777, 181891892, 286318327, 146660999, 586447435, 159751184, 126860974, 292477301, 277956496, 265820216, 303537993, 182887258, 304997333, 177460028, 286417464, 299828473, 605660419, 287028480, 518745840, 127139568, 558580065, 278435864, 626107114, 585026021, 300078194, 287770700, 299403823, 267999034, 640282128, 527393818, 585775993, 181859467, 167793416, 293750063, 299447153, 288321385, 302014692, 112672974, 540685246, 581641279, 176432524, 287044088, 183459175, 127470976, 179902786, 292211743, 287459601, 176900059, 112827164, 178488152, 147790922, 587294457, 310176384, 287808449, 287446625, 292960052, 127468854, 171065200, 171064488, 301421253, 127085005, 114248377, 265135682, 112789899, 143515102, 182029881, 126710034, 125437921, 301875208, 126843905, 127041832, 286609510, 121145750, 302217570, 146984915, 509602066, 302084009, 113696423, 187269162, 300641829, 288171256, 120916102, 286834976, 297855879, 287951098, 177783918, 156395997, 257636467, 287996596, 297945448, 520728084, 117298988, 296047084, 156743264, 286314623, 120494024, 182616478, 166082842, 127084296, 156786234, 591612976, 287461719, 477836675, 166461193, 597007858, 277957908, 179640955, 179641666, 272697944, 159651060, 584903636, 114250546, 307295727, 297593942, 116903968, 301617370, 146858755, 557200148, 297225422, 266487079, 297629988, 301210923, 530018580, 530008580, 166461899, 294266031, 283017324, 286835688, 287036898, 309564818, 181057754, 175106053, 523705737, 267928135, 305677409, 180674463, 126116142, 127649713, 159375743, 300167479, 267928844, 175740500, 268076421, 168300739, 272830456, 267607635, 183058837, 294356922, 272875132, 168002780, 183329222, 293365328, 286646170, 284665639, 268399145, 168301446, 272875838, 301324895, 298001595, 264320076, 304948510, 264248605, 113037759, 267397226, 267609756, 292321278, 175818392, 292478008, 286553311, 298232793, 287171983, 305320171, 114009636, 264872385, 272970039, 299857813, 293115527, 113780276, 100148143, 264709761, 287097454, 182029174, 112672268, 114399224, 293011049, 305400137, 278504263, 293011759, 301122593, 112167395, 159996191, 175142304, 127042540, 127349111, 178283952, 171409520, 100140756, 286299886, 298404154, 298182842, 586052938, 281459203, 287027773, 516846757, 310437091, 298004028, 263241470, 298003295, 278070717, 642180077, 266248776, 287458895, 293914766, 514513838, 293787288, 293942897, 166054929, 100140949, 249396394, 521264566, 166271142, 538078619, 516838033, 166325321, 159097209, 586042591, 267658040, 157711043, 298000880, 168363168, 272735744, 288264753, 292172100, 308721884, 526502961, 292124058, 308027576, 167902586, 287769286, 112423392, 127560043, 266564027, 183618845, 293433283, 288263341, 300843826, 300236056, 485903475, 187268452, 513826657, 175372863, 113442864, 180436360, 292372636, 174361746, 304693450, 300623424, 156314054, 157063781, 293701770, 477271169, 266913240, 267749821, 120875816, 249327301, 180075597, 306268688, 171276330, 177322838, 168096467, 301583889, 512130913, 123664417, 125801739, 265930674, 147706228, 158838128, 515418047, 300691325, 272826010, 272918345, 161178152, 267760731, 120812686, 266249483, 112229814, 286312782, 292792016, 148964212, 303615412, 286300594, 298352336, 515254107, 304617742, 178283239, 518015408, 182336846, 160296448, 113314337, 179642401, 175728165, 146859480, 166156241, 264631432, 146921849, 304612686, 171021122, 182294687, 299623085, 267150949, 168302154, 266962653, 301618828, 178382220, 266488504, 179644545, 249402769, 177780284, 179902073, 182615063, 182615771, 301120618, 301326316, 112308468, 180523704, 114429338, 278318653, 554022330, 181890477, 112459547, 304970618, 265945645, 241279261, 127761449, 146795148, 278179088, 120281646, 157766259, 309385637, 258315443, 125830911, 265946352, 267810394, 168094300, 272917631, 301672755, 142655513, 262215150, 277853501, 120874405, 126115436, 181180790, 180601025, 162019589, 272829024, 520619072, 157952778, 100141596, 287714197, 287448038, 299761293, 116905391, 113368085, 183375545, 294173584, 287029186, 147354951, 113846682, 299759175, 127083591, 266646036, 265293391, 305426208, 525796603, 267538006, 278398949, 157765542, 126188607, 127041126, 147790181, 305293928, 127353220, 272738620, 160151570, 292794673, 115958825, 180073473, 304473503, 305024724, 232311959, 142654100, 642967852, 182794184, 301264977, 287952517, 146553971, 127397469, 183225124, 516278420, 182226133, 286837316, 301265683, 287769992, 518207061, 300319630, 305973112, 278317239, 181891184, 299857096, 298798846, 301988879, 159602279, 303536573, 264564375, 552280478, 268206050, 156202979, 180628971, 312240825, 159331462, 266839077, 176897793, 167373923, 171067319, 305125123, 121145045, 478818791, 157654817, 299447873, 278317945, 299829181, 159750477, 303785454, 306959448, 272928602, 177892379, 292318449, 159651770, 297985755, 168229820, 112936582, 127991964, 174583904, 273065264, 147354242, 174583187, 113400134, 581328778, 139311530, 258914806, 304761539, 156978574, 121509005, 287950390, 267611175, 167571459, 266174045, 156393801, 168095041, 114755811, 182465608, 303474463, 287879384, 301324157, 168230532, 181116850, 180296424, 307558646, 309113907, 113887162, 309004492, 307296433, 307137980, 307743253, 307321674, 307297141, 296052133, 307557934, 266250195, 309003780, 100141219, 300929973, 299859225, 294482052, 304586645, 268040381, 114008926, 288171964, 166326736, 304565427, 277714322, 277616630, 121510421, 184074388, 297629282, 301616660, 277712166, 183173527, 272821309, 623855077, 293472335, 605657236, 257667118, 656842599, 181258571, 159550125, 477475894, 511234217, 308385516, 156545918, 304762965, 299781566, 267931685, 671033786, 266100645, 166269819, 304564721, 304585910, 166562678, 288261928, 177781745, 670657874, 287224335, 626118851, 167511639, 292793967, 648051857, 286773358, 182184486, 266836749, 176882966, 176901480, 294312537, 477269754, 638313933, 616677276, 638978767, 156784823, 596828910, 298350212, 596571282, 575772121, 157767683, 168515938, 656657344, 638314843, 648048922, 623438145, 146986331, 564688610, 184075807, 127711098, 120280939, 100148554, 204832205, 538833505, 265947058, 170784358, 294040662, 113504763, 147134401, 287713485, 146012184, 100141599, 100148503, 159753308, 184167484, 267657327, 297233422, 297670312, 294434867, 288264047, 156671933, 516491813, 293821389, 204908781, 159510205, 539010002, 310377782, 165035106, 298048079, 515410820, 113506174, 298048787, 114046440, 171020416, 158373181, 278508779, 112372418, 287667137, 293254286, 117302771, 113225519, 113369603, 176887774, 158738894, 119847544, 506426778, 288322091, 127795906, 299446445, 550155867, 298795868, 152994878, 556343427, 527051458, 113368898, 640285199, 549809266, 516529585, 294314037, 293009970, 286556914, 160152987, 167213641, 177903648, 309794438, 292622743, 263553934, 287668550, 112881858, 113936696, 267106046, 159945113, 300622004, 287539649, 180916954, 182793477, 287995889, 166055636, 265292679, 278258073, 272822110, 168162771, 100141454, 176433237, 294532700, 477835774, 267930978, 292034715, 298000163, 277957202, 267813224, 585025284, 292374068, 265929196, 263242463, 120814821, 181598954, 305487964, 298718072, 157710335, 606785720, 177459319, 587659400, 292172846, 166460484, 156492394, 168454779, 266645328, 292210312, 159372889, 180719293, 477037203, 182795499, 183617432, 614735393, 258915564, 287807743, 157826227, 127908879, 141602484, 166082128, 297669605, 158139883, 297987980, 287807030, 569264117, 293827470, 584513749, 297946935, 596798450, 156394513, 288169842, 168002073, 297947641, 159373612, 300235349, 292208876, 294533406, 267761438, 278175580, 478782005, 168165712, 113884251, 126653015, 157556400, 298272589, 294399325, 298274021, 159511623, 278179794, 298720191, 182467736, 100141796, 286554724, 292791310, 159320367, 127091083, 156741826, 288324211, 180709230, 278171908, 170721670, 168164972, 183471174, 303783725, 278174451, 293889216, 307766627, 268321221, 300843120, 126841788, 299404532, 549362997, 305026861, 298835152, 146045723, 273026584, 299245589, 125436508, 302739608, 304720034, 126710740, 148197327, 273055501, 558673113, 287494320, 278433737, 266582782, 161463521, 266816894, 292374777, 138059031, 511971714, 301016175, 313141786, 292790567, 545427588, 183901489, 268415561, 552284594, 183284388, 264565965, 539028976, 294356216, 565721603, 311845972, 167442042, 300923916, 304998039, 162018169, 168005102, 167117360, 286319739, 292961470, 515191874, 301875966, 170860801, 293469501, 549361039, 272819994, 287666431, 299896150, 182041643, 175072921, 180981417, 305645132, 125361005, 287246555, 182460343, 587060515, 127909584, 294355509, 114472860, 183071513, 146858006, 182090318, 100149109, 184159706, 116903230, 303582161, 182686935, 305488671, 266963362, 165975810, 157954927, 293820681, 183105218, 301877386, 156202272, 113144533, 277710753, 299244730, 168515225, 272700063, 309701202, 158435826, 303709219, 292960764, 143512399, 121146455, 278261300, 126522350, 299783689, 296048512, 313327028, 262536037, 184168899, 264320859, 112596790, 168663472, 264697714, 287492899, 170858675, 126190743, 306270474, 170263370, 304858700, 305321883, 113095845, 511549277, 112826458, 147162736, 586054741, 287880821, 313325371, 158258062, 286556208, 182337561, 308641549, 176886958, 286319033, 114290225, 266489212, 277854916, 574572418, 127798146, 127867804, 127651139, 160540751, 127796728, 301062306, 156314762, 166054222, 125831616, 159021559, 265633461, 267153115, 302085421, 113553300, 293942188, 168616111, 303710632, 183057424, 182888003, 305269070, 183329991, 299996344, 113935990, 146012934, 267813932, 508775240, 167439900, 146658879, 183282261, 183282970, 292319865, 293914056, 301466249, 128056535, 129567943, 293252166, 298079222, 165974379, 303616127, 272929308, 286301303, 521402511, 293548317, 277851379, 297712045, 168615344, 146470726, 287533790, 293008559, 175373569, 300078901, 287993060, 127255254, 167904966, 287665706, 299653551, 141601779, 170949055, 267103498, 287715650, 264874516, 114755099, 159994059, 158738180, 298049545, 113554719, 294005186, 277800288, 182805258, 272873704, 527808181, 160294327, 265943460, 158373958, 300318924, 158915602, 120437703, 297231636, 166459778, 267999740, 174781014, 100147785, 182515576, 301674988, 292623457, 301057735, 510124187, 157063074, 170859382, 273025872, 180707817, 267929554, 112935169, 114292355, 297652799, 266644610, 182803137, 584902900, 178284661, 166566678, 278257366, 266643194, 166323186, 157768393, 266964788, 146078721, 278513131, 126523066, 523178542, 167118084, 126646502, 278511717, 175158132, 176886238, 267764292, 194948535, 265138021, 181786681, 147049515, 298835859, 304760810, 167026321, 146747721, 241280698, 159433187, 268163228, 273025166, 267958444, 263976175, 557972433, 286608092, 304996627, 122641078, 158321996, 308549214, 304721447, 286647583, 278066728, 177905562, 161460153, 113766744, 301800314, 513773998, 267762859, 514506712, 158314278, 139519496, 156493815, 477834984, 160080068, 520336173, 520342605, 157952068, 146659588, 267398651, 263780018, 298178912, 264096244, 586377476, 287460307, 146856593, 146593590, 125833030, 139426984, 112458114, 114428632, 287599685, 181858761, 592391705, 177783204, 183472596, 293432575, 286646877, 298758841, 166323896, 286774770, 278069982, 267705378, 288262635, 165644051, 267101850, 266964075, 181179335, 159551564, 516848198, 293431869, 183104511, 286728190, 158374671, 146984209, 300168916, 112307046, 299897573, 171485060, 506117918, 299655676, 485875903, 310436191, 551350026, 175374275, 127710392, 292480129, 555011865, 267213793, 268208632, 112425523, 266837456, 100141434, 300927483, 272827141, 485847695, 159433905, 286775476, 120811946, 300624130, 180404418, 292375491, 581350498, 519164644, 127089669, 298178204, 287953929, 157062358, 166083557, 293470216, 184075100, 176429574, 159321806, 294516943, 170261951, 158141324, 298830868, 294481346, 182896517, 257667830, 298324391, 127650431, 180435652, 180403712, 268389532, 304537794, 168664192, 120493315, 168361750, 294175704, 516526160, 286610923, 180405830, 181093729, 286610216, 286554017, 301119459, 182226839, 297894255, 171019004, 299656382, 292479421, 301130077, 181777177, 305380411, 278503555, 267608343, 113784293, 175817683, 113554008, 298833033, 267959197, 300642574, 266693274, 272968624, 182280916, 159648854, 180525136, 268323342, 302050617, 555739999, 286482701, 265712971, 161458737, 139520203, 265288825, 125801033, 585911240, 265291552, 303783015, 159319654, 299829892, 268038262, 299782983, 301179679, 478780588, 287714903, 298797288, 168401109, 266412788, 302079862, 156255078, 299732033, 292531359, 112424102, 126907302, 297654263, 112951804, 175819113, 127866392, 176881134, 100141473, 297671018, 166533924, 485022109, 294435580, 288170549, 266486371, 183374804, 266172624, 159602992, 177907797, 298718778, 297628576, 297668898, 511234957, 277801701, 265820951, 286772650, 178487444, 167441329, 159223769, 263370720, 304335875, 167904255, 158914182, 478096249, 303534443, 299895444, 513775257, 307910595, 120762196, 180982124, 514505957, 160537018, 293366741, 292620968, 117317884, 160537796, 112458831, 146553266, 113766038, 272697238, 160540013, 183009881, 159223001, 158020947, 287995180, 120570964, 175732996, 126853068, 175072215, 278434443, 293366035, 477924853, 292959343, 287994474, 158019342, 310175667, 127224133, 156670520, 575683020, 114399934]\n",
    "\"\"\""
   ]
  },
  {
   "cell_type": "code",
   "execution_count": 23,
   "id": "07828863-f579-4595-8d8e-b8e01e2a9e20",
   "metadata": {},
   "outputs": [
    {
     "data": {
      "text/html": [
       "<div>\n",
       "<style scoped>\n",
       "    .dataframe tbody tr th:only-of-type {\n",
       "        vertical-align: middle;\n",
       "    }\n",
       "\n",
       "    .dataframe tbody tr th {\n",
       "        vertical-align: top;\n",
       "    }\n",
       "\n",
       "    .dataframe thead th {\n",
       "        text-align: right;\n",
       "    }\n",
       "</style>\n",
       "<table border=\"1\" class=\"dataframe\">\n",
       "  <thead>\n",
       "    <tr style=\"text-align: right;\">\n",
       "      <th></th>\n",
       "      <th>id</th>\n",
       "      <th>transgenic-line</th>\n",
       "      <th>product-id</th>\n",
       "      <th>structure-id</th>\n",
       "      <th>structure-abbrev</th>\n",
       "      <th>structure-name</th>\n",
       "      <th>name</th>\n",
       "      <th>injection-volume</th>\n",
       "      <th>injection-structures</th>\n",
       "      <th>gender</th>\n",
       "      <th>strain</th>\n",
       "      <th>sum</th>\n",
       "      <th>structure-color</th>\n",
       "      <th>num-voxels</th>\n",
       "      <th>injection-coordinates</th>\n",
       "      <th>selected</th>\n",
       "      <th>experiment_page_url</th>\n",
       "    </tr>\n",
       "  </thead>\n",
       "  <tbody>\n",
       "    <tr>\n",
       "      <th>984</th>\n",
       "      <td>300076066</td>\n",
       "      <td>Dbh-Cre_KH212</td>\n",
       "      <td>5</td>\n",
       "      <td>795</td>\n",
       "      <td>PAG</td>\n",
       "      <td>Periaqueductal gray</td>\n",
       "      <td>Dbh-Cre_KH212-125311</td>\n",
       "      <td>0.013064</td>\n",
       "      <td>[{\"id\"=&gt;162, \"abbreviation\"=&gt;\"LDT\", \"name\"=&gt;\"L...</td>\n",
       "      <td>F</td>\n",
       "      <td>C57BL/6J</td>\n",
       "      <td>0.000638</td>\n",
       "      <td>ff90ff</td>\n",
       "      <td>NaN</td>\n",
       "      <td>[9940, 3700, 6280]</td>\n",
       "      <td>False</td>\n",
       "      <td>http://connectivity.brain-map.org/projection/e...</td>\n",
       "    </tr>\n",
       "  </tbody>\n",
       "</table>\n",
       "</div>"
      ],
      "text/plain": [
       "            id transgenic-line  product-id  structure-id structure-abbrev  \\\n",
       "984  300076066   Dbh-Cre_KH212           5           795              PAG   \n",
       "\n",
       "          structure-name                  name  injection-volume  \\\n",
       "984  Periaqueductal gray  Dbh-Cre_KH212-125311          0.013064   \n",
       "\n",
       "                                  injection-structures gender    strain  \\\n",
       "984  [{\"id\"=>162, \"abbreviation\"=>\"LDT\", \"name\"=>\"L...      F  C57BL/6J   \n",
       "\n",
       "          sum structure-color  num-voxels injection-coordinates  selected  \\\n",
       "984  0.000638          ff90ff         NaN    [9940, 3700, 6280]     False   \n",
       "\n",
       "                                   experiment_page_url  \n",
       "984  http://connectivity.brain-map.org/projection/e...  "
      ]
     },
     "execution_count": 23,
     "metadata": {},
     "output_type": "execute_result"
    }
   ],
   "source": [
    "df[df['id']==300076066]"
   ]
  },
  {
   "cell_type": "code",
   "execution_count": 24,
   "id": "3e62e1db-4f1c-4a44-95dd-6406f2034a47",
   "metadata": {},
   "outputs": [
    {
     "data": {
      "text/plain": [
       "2"
      ]
     },
     "execution_count": 24,
     "metadata": {},
     "output_type": "execute_result"
    }
   ],
   "source": [
    "check_hemisphere(300076066,795)"
   ]
  },
  {
   "cell_type": "code",
   "execution_count": 25,
   "id": "b3465781-4d71-4820-a212-ed86dea60911",
   "metadata": {},
   "outputs": [
    {
     "data": {
      "text/plain": [
       "'root/grey/BS/HB/P/P-sat/LDT'"
      ]
     },
     "execution_count": 25,
     "metadata": {},
     "output_type": "execute_result"
    }
   ],
   "source": [
    "# query_structure_path_acronyms_by_acronym('LDT')\n",
    "RMAStructure(acronym='LDT').get_structure_path()"
   ]
  },
  {
   "cell_type": "code",
   "execution_count": 26,
   "id": "cf09924c-7465-43b8-96b7-443cc3787a8b",
   "metadata": {},
   "outputs": [
    {
     "name": "stdout",
     "output_type": "stream",
     "text": [
      "dict_keys([795, 223, 731, 266, 914, 207, 1049, 609, 35, 425, 1009, 926, 38, 1105, 59, 302, 390, 591, 262, 872, 101, 1061, 287, 1048, 1084, 30, 564, 604, 238, 619, 689, 378, 985, 409, 88, 362, 880, 614, 422, 255, 576073699, 726, 978, 549009223, 333, 27, 184, 361, 131, 170, 886, 746, 483, 583, 23, 706, 677, 1037, 133, 484682470, 966, 353, 1025, 1093, 151, 763, 280, 369, 830, 765, 507, 231, 356, 839, 549009215, 647, 463, 536, 206, 612, 169, 258, 898, 757, 66, 968, 484682508, 182305689, 621, 210, 4, 852, 177, 374, 215, 589508451, 639, 263, 982, 178, 534, 136, 75, 894, 607344830, 106, 975, 437, 222, 970, 1027, 347, 1031, 918, 1077, 773, 733, 15, 12, 574, 549009219, 10671, 345, 128, 581, 1033, 127, 1113, 589508447, 7, 100, 1017, 385, 470, 843, 181, 203, 920, 394, 149, 162, 350, 358, 194, 1041, 502, 998, 96, 72, 235, 576073704, 398, 560581559, 1018, 246, 1007, 599626927, 147, 993, 118, 541, 549009227, 576, 312782546, 1044, 115, 629, 318, 298, 566, 58, 44, 879, 312782574, 271, 723, 922, 1039, 342, 491, 972, 272, 867, 63, 741, 135, 1109, 126, 596, 931, 403, 515, 907, 173, 1002, 718, 725, 295, 146, 202, 230, 414, 616, 104, 606826663, 580, 1029, 563807435, 797, 460, 445, 310, 560581563, 693, 642, 423, 749, 951, 292, 395, 226, 653, 531, 599, 475, 319, 218, 225, 1052, 1098, 364, 197, 563807439, 417, 19, 56, 286, 957, 859, 814, 159, 523, 1069, 325, 372, 250, 1022, 628, 402, 1020, 186, 944, 685, 337, 294, 351, 366, 980, 679, 589, 332, 874, 846, 936, 788, 781, 952, 589508455, 780, 307, 661, 549009211, 119, 452, 903, 1011, 1, 1004, 429, 39, 961, 946, 111, 1107, 189, 711, 1120, 214, 1057, 525, 912, 338, 217, 312782628, 533, 989, 895, 575, 91, 634, 382, 599626923, 155, 930, 1126, 83, 64, 651, 209, 48, 928, 329, 754, 321, 381, 672])\n"
     ]
    }
   ],
   "source": [
    "print(filtered_area_experiment_id_dict_2.keys())"
   ]
  },
  {
   "cell_type": "code",
   "execution_count": 27,
   "id": "45742332-1a9c-4541-96a7-12fb4d2f632b",
   "metadata": {},
   "outputs": [
    {
     "name": "stdout",
     "output_type": "stream",
     "text": [
      "316\n"
     ]
    }
   ],
   "source": [
    "print(len(filtered_area_experiment_id_dict_2))"
   ]
  },
  {
   "cell_type": "markdown",
   "id": "6e6706ba-cff9-4456-bebb-d48697c014fc",
   "metadata": {},
   "source": [
    "### Save/load unionized data in csv files for every experiment"
   ]
  },
  {
   "cell_type": "code",
   "execution_count": 28,
   "id": "e88e1fdc-1097-4f73-9868-9ba9dce6091c",
   "metadata": {
    "tags": []
   },
   "outputs": [
    {
     "name": "stderr",
     "output_type": "stream",
     "text": [
      "100%|██████████| 316/316 [00:12<00:00, 25.53it/s]\n"
     ]
    }
   ],
   "source": [
    "area_experiment_unionized_data = {}\n",
    "if load_unionized_data:\n",
    "    # each csv file with unionized data is read into memory and rows (data on all hemispheres) corresponding to the target structure are saved into a dictionary\n",
    "    foldername = 'unionized_data_from_hem_'+str(HEMISPHERE_TO_FILTER)+'_'+main_structure+'_projecting_experiments'\n",
    "    for area, experiments in tqdm(filtered_area_experiment_id_dict_2.items()):\n",
    "        area_experiment_unionized_data[area] = {}\n",
    "        for e in experiments:\n",
    "            filename = 'area_id_'+str(area)+'exp_id_'+str(e)+'.csv'\n",
    "            temp_df = pd.read_csv(connectivity_path / foldername / filename)\n",
    "            area_experiment_unionized_data[area][e] = temp_df\n",
    "else:\n",
    "    # for each area, each experiment, download unionized data\n",
    "    foldername = 'unionized_data_from_hem_'+str(HEMISPHERE_TO_FILTER)+'_'+main_structure+'_projecting_experiments'\n",
    "    path = mkdir(connectivity_path / foldername)\n",
    "    for area, experiments in tqdm(filtered_area_experiment_id_dict_2.items()):\n",
    "        area_experiment_unionized_data[area] = {}\n",
    "        for e in experiments:\n",
    "            filename = 'area_id_'+str(area)+'exp_id_'+str(e)+'.csv'\n",
    "            if os.path.isfile(connectivity_path / foldername / filename):\n",
    "                temp_data = pd.read_csv(connectivity_path / foldername / filename)\n",
    "            else:\n",
    "                temp_data = RMAUnionizedData(experiment_id=e).data\n",
    "                temp_data.to_csv(connectivity_path / foldername / filename)\n",
    "\n",
    "            area_experiment_unionized_data[area][e] = temp_data"
   ]
  },
  {
   "cell_type": "markdown",
   "id": "bdb2c027-db9e-449f-bc9f-d01f2712baae",
   "metadata": {},
   "source": [
    "### Quality check for experiments with zero-valued projection metric in unionzed data"
   ]
  },
  {
   "cell_type": "code",
   "execution_count": 29,
   "id": "ba0887e8-db2d-4ea9-8abb-b173dd27ab91",
   "metadata": {},
   "outputs": [],
   "source": [
    "temp_dict = {}\n",
    "for area in area_experiment_unionized_data:\n",
    "    temp_dict[area] = {}\n",
    "    for exp, exp_df in area_experiment_unionized_data[area].items():\n",
    "        if (exp_df[exp_df['structure_id']==area][projection_metric] == 0).any():\n",
    "            continue\n",
    "        else:\n",
    "            temp_dict[area][exp] = exp_df\n",
    "\n",
    "del area_experiment_unionized_data\n",
    "area_experiment_unionized_data = temp_dict"
   ]
  },
  {
   "cell_type": "markdown",
   "id": "deb04e82-fba0-4f8b-accf-84d18b96e1c0",
   "metadata": {},
   "source": [
    "### Apply injection volume thresholding to experiments"
   ]
  },
  {
   "cell_type": "code",
   "execution_count": 30,
   "id": "0fa8e972-b9b6-419c-b49d-1f115572b28b",
   "metadata": {},
   "outputs": [],
   "source": [
    "def get_vol_from_downloaded_unionized_data(path, area, experiment):\n",
    "    # For provided area and experiment id, reads corresponding csv file and returns volume\n",
    "    filename = 'area_id_'+str(area)+'exp_id_'+str(experiment)+'.csv'\n",
    "    if os.path.isfile(path / filename):\n",
    "        temp_data = pd.read_csv(path / filename)\n",
    "    else: return 0\n",
    "    temp_data = temp_data[(temp_data['structure_id']==area) & (temp_data['hemisphere_id']==3)].reset_index(drop=True)\n",
    "    return temp_data['volume'].item()"
   ]
  },
  {
   "cell_type": "code",
   "execution_count": 31,
   "id": "ed231bd1-4887-4808-bbab-9f6125f9d316",
   "metadata": {},
   "outputs": [
    {
     "name": "stdout",
     "output_type": "stream",
     "text": [
      "number of experiments BEFORE injection volume thresholding = 1450\n"
     ]
    },
    {
     "name": "stderr",
     "output_type": "stream",
     "text": [
      "100%|██████████| 316/316 [00:13<00:00, 23.41it/s]"
     ]
    },
    {
     "name": "stdout",
     "output_type": "stream",
     "text": [
      "number of experiments AFTER injection volume thresholding = 897\n"
     ]
    },
    {
     "name": "stderr",
     "output_type": "stream",
     "text": [
      "\n"
     ]
    }
   ],
   "source": [
    "print(f'number of experiments BEFORE injection volume thresholding = {sum(len(area_experiment_unionized_data[area]) for area in area_experiment_unionized_data.keys())}')\n",
    "\n",
    "foldername = f'unionized_data_from_hem_{HEMISPHERE_TO_FILTER}_{main_structure}_projecting_experiments'\n",
    "folderpath = connectivity_path / foldername\n",
    "\n",
    "temp_dict = {}\n",
    "\n",
    "for area in tqdm(area_experiment_unionized_data):\n",
    "    temp_dict[area] = {}\n",
    "    for exp, exp_df in area_experiment_unionized_data[area].items():\n",
    "        temp_vol = get_vol_from_downloaded_unionized_data(folderpath, area, exp)\n",
    "        if temp_vol >= INJECTION_VOLUME_THRESHOLD:\n",
    "            temp_dict[area][exp] = area_experiment_unionized_data[area][exp]\n",
    "del area_experiment_unionized_data\n",
    "area_experiment_unionized_data = temp_dict\n",
    "\n",
    "print(f'number of experiments AFTER injection volume thresholding = {sum(len(area_experiment_unionized_data[area]) for area in area_experiment_unionized_data.keys())}')"
   ]
  },
  {
   "cell_type": "markdown",
   "id": "281ee539-9570-4981-8d7a-c39aa2a9a2ec",
   "metadata": {},
   "source": [
    "### Separate experiments by the difference in ipsilateral and contralateral projections to target area"
   ]
  },
  {
   "cell_type": "code",
   "execution_count": 32,
   "id": "18cb7fda-9d7e-4cdd-82ad-4d8b524e8759",
   "metadata": {},
   "outputs": [
    {
     "name": "stdout",
     "output_type": "stream",
     "text": [
      "466 ipsilaterally projecting experiments\n",
      "431 contralaterally projecting experiments\n"
     ]
    }
   ],
   "source": [
    "# Display projection information about experiments and hemisphere of target structure\n",
    "# And collect experiments into two dictionaries\n",
    "\n",
    "ipsilateral_projecting_exps = []\n",
    "contralateral_projecting_exps = []\n",
    "ipsilateral_dict = {}\n",
    "contralateral_dict = {}\n",
    "\n",
    "hem_ids = [2,1] # for getting the index of contralateral hemisphere to the one specified before\n",
    "\n",
    "for area in area_experiment_unionized_data:\n",
    "    ipsilateral_dict[area] = {}\n",
    "    contralateral_dict[area] = {}\n",
    "    for exp, exp_df in area_experiment_unionized_data[area].items():\n",
    "        # Checking if unionized data of experiment has higher projection metric value in previosly selected hemisphere\n",
    "        if exp_df[(exp_df['hemisphere_id']==HEMISPHERE_TO_FILTER) & (exp_df['structure_id']==main_structure_id)][projection_metric].item() > exp_df[(exp_df['hemisphere_id']==hem_ids[HEMISPHERE_TO_FILTER-1]) & (exp_df['structure_id']==main_structure_id)][projection_metric].item():\n",
    "            ipsilateral_projecting_exps.append(exp)\n",
    "            ipsilateral_dict[area][exp] = exp_df[exp_df['structure_id']==area]\n",
    "        else: \n",
    "            contralateral_projecting_exps.append(exp)\n",
    "            contralateral_dict[area][exp] = exp_df[exp_df['structure_id']==area]\n",
    "\n",
    "print(len(ipsilateral_projecting_exps),'ipsilaterally projecting experiments')\n",
    "print(len(contralateral_projecting_exps),'contralaterally projecting experiments')"
   ]
  },
  {
   "cell_type": "markdown",
   "id": "86af04ad-cee8-49df-9fa7-fc34e006847e",
   "metadata": {},
   "source": [
    "### Display mouse lines of ipsilateral and contralateral experiments"
   ]
  },
  {
   "cell_type": "code",
   "execution_count": 33,
   "id": "c3344d52-3aaf-4121-8b88-3dc957b61bc9",
   "metadata": {},
   "outputs": [
    {
     "name": "stdout",
     "output_type": "stream",
     "text": [
      "Ipsilateral mouse lines\n",
      "['Dbh-Cre_KH212', nan, nan, 'Drd3-Cre_KI196', 'Emx1-IRES-Cre', 'Ai75(RCL-nT)', 'Cux2-IRES-Cre', 'Ai75(RCL-nT)', 'Ai75(RCL-nT)', 'Ai75(RCL-nT)', 'Calb1-T2A-dgCre', 'Pcdh9-Cre_NP276', 'Rorb-IRES2-Cre', 'Rorb-IRES2-Cre', 'Gad2-IRES-Cre', nan, 'Cux2-IRES-Cre', 'Rorb-IRES2-Cre', 'A930038C07Rik-Tg1-Cre', nan, 'Tlx3-Cre_PL56', 'Slc18a2-Cre_OZ14', 'Oxtr-Cre_ON66', 'Gnb4-IRES2-CreERT2', 'Calb1-T2A-dgCre', 'Htr2a-Cre_KM207', 'Sim1-Cre_KJ18', nan, 'Grp-Cre_KH288', 'Grm2-Cre_MR90', nan, 'Slc32a1-IRES-Cre', 'Grm2-Cre_MR90', 'Syt17-Cre_NO14', 'Ppp1r17-Cre_NL146', nan, 'Emx1-IRES-Cre', 'Emx1-IRES-Cre', 'Emx1-IRES-Cre', 'Ai75(RCL-nT)', 'Ai75(RCL-nT)', 'Ai75(RCL-nT)', 'Ai75(RCL-nT)', 'Ai75(RCL-nT)', 'Ai75(RCL-nT)', 'Ai75(RCL-nT)', 'Ai75(RCL-nT)', 'Ai75(RCL-nT)', 'Ai75(RCL-nT)', 'Ai75(RCL-nT)', 'Ai75(RCL-nT)', 'Ai75(RCL-nT)', 'Ai75(RCL-nT)', 'Ai75(RCL-nT)', 'Ai75(RCL-nT)', 'Ai75(RCL-nT)', 'Ai75(RCL-nT)', 'Ai75(RCL-nT)', 'Trib2-F2A-CreERT2', 'Ai75(RCL-nT)', 'Ai75(RCL-nT)', 'Ai75(RCL-nT)', 'Ai75(RCL-nT)', 'Ai75(RCL-nT)', 'Ai75(RCL-nT)', 'Ai75(RCL-nT)', 'Ai75(RCL-nT)', 'Ai75(RCL-nT)', 'Sst-IRES-Cre', 'Htr3a-Cre_NO152', 'Gpr26-Cre_KO250', 'Chrna2-Cre_OE25', 'Rbp4-Cre_KL100', 'A930038C07Rik-Tg1-Cre', 'Sim1-Cre_KJ18', nan, 'Slc6a3-Cre', 'Cdhr1-Cre_KG66', 'Slc6a3-Cre', 'Cdhr1-Cre_KG66', 'Slc32a1-IRES-Cre', 'Grik4-Cre', 'Grik4-Cre', 'Nos1-CreERT2', 'Grp-Cre_KH288', nan, nan, 'Ppp1r17-Cre_NL146', 'Gad2-IRES-Cre', 'A930038C07Rik-Tg1-Cre', 'Slc17a6-IRES-Cre', 'Nos1-CreERT2', 'Sst-IRES-Cre', 'Pnmt-Cre', 'Gad2-IRES-Cre', 'Rbp4-Cre_KL100', 'Emx1-IRES-Cre', 'Emx1-IRES-Cre', 'Cux2-IRES-Cre', 'Ntsr1-Cre_GN220', 'Ai75(RCL-nT)', 'Ai75(RCL-nT)', 'Ntsr1-Cre_GN220', 'A930038C07Rik-Tg1-Cre', 'Ai75(RCL-nT)', 'Ai75(RCL-nT)', 'Ntsr1-Cre_GN220', 'Ai75(RCL-nT)', 'Ntsr1-Cre_GN220', 'Ntsr1-Cre_GN220', 'Syt6-Cre_KI148', 'Slc6a5-Cre_KF109', 'Emx1-IRES-Cre', 'Ai75(RCL-nT)', 'Ai75(RCL-nT)', 'Ai75(RCL-nT)', 'Cux2-IRES-Cre', 'Chrna2-Cre_OE25', 'Otof-Cre', 'Ntsr1-Cre_GN220', 'Glt25d2-Cre_NF107', 'Prkcd-GluCla-CFP-IRES-Cre', 'Ntsr1-Cre_GN220', 'Scnn1a-Tg3-Cre', 'Syt6-Cre_KI148', 'Cux2-IRES-Cre', nan, 'Sim1-Cre_KJ18', 'Pdzk1ip1-Cre_KD31', 'Nos1-CreERT2', nan, 'Gad2-IRES-Cre', 'Emx1-IRES-Cre', 'Emx1-IRES-Cre', 'Emx1-IRES-Cre', 'Emx1-IRES-Cre', 'Emx1-IRES-Cre', 'Tlx3-Cre_PL56', 'Emx1-IRES-Cre', 'Emx1-IRES-Cre', 'Emx1-IRES-Cre', 'Emx1-IRES-Cre', 'Emx1-IRES-Cre', 'Rbp4-Cre_KL100', 'Emx1-IRES-Cre', 'Cux2-IRES-Cre', 'Emx1-IRES-Cre', 'Emx1-IRES-Cre', 'Tlx3-Cre_PL56', 'Emx1-IRES-Cre', 'Emx1-IRES-Cre', 'Emx1-IRES-Cre', 'Emx1-IRES-Cre', 'Tlx3-Cre_PL56', 'Tlx3-Cre_PL56', 'Tlx3-Cre_PL56', 'Ai75(RCL-nT)', 'Cux2-IRES-Cre', 'Cux2-IRES-Cre', 'Tlx3-Cre_PL56', 'Rbp4-Cre_KL100', 'Emx1-IRES-Cre', 'Emx1-IRES-Cre', 'Tlx3-Cre_PL56', 'Cux2-IRES-Cre', 'Rbp4-Cre_KL100', 'Tlx3-Cre_PL56', 'Rbp4-Cre_KL100', 'Tlx3-Cre_PL56', 'Cux2-IRES-Cre', 'Tlx3-Cre_PL56', 'Cux2-IRES-Cre', 'Ai75(RCL-nT)', 'Tlx3-Cre_PL56', 'Rbp4-Cre_KL100', 'Cux2-IRES-Cre', 'Emx1-IRES-Cre', 'Tlx3-Cre_PL56', 'Emx1-IRES-Cre', 'Emx1-IRES-Cre', 'Ai75(RCL-nT)', 'Cux2-IRES-Cre', 'Rbp4-Cre_KL100', 'Rbp4-Cre_KL100', 'Cux2-IRES-Cre', 'Ai75(RCL-nT)', 'Cux2-IRES-Cre', 'Cux2-IRES-Cre', 'Rbp4-Cre_KL100', 'Rbp4-Cre_KL100', 'Tlx3-Cre_PL56', 'Cux2-IRES-Cre', 'Cux2-IRES-Cre', 'Cux2-IRES-Cre', 'Tlx3-Cre_PL56', 'Ntsr1-Cre_GN220', 'Rbp4-Cre_KL100', 'Cux2-IRES-Cre', 'Ai75(RCL-nT)', 'Tlx3-Cre_PL56', 'Cux2-IRES-Cre', 'Rbp4-Cre_KL100', 'Rbp4-Cre_KL100', 'Ai75(RCL-nT)', 'Scnn1a-Tg3-Cre', 'Emx1-IRES-Cre', 'Ai75(RCL-nT)', 'Cux2-IRES-Cre', 'Emx1-IRES-Cre', 'Ntsr1-Cre_GN220', 'Ai75(RCL-nT)', 'A930038C07Rik-Tg1-Cre', 'Ai75(RCL-nT)', 'Ntsr1-Cre_GN220', 'Ai75(RCL-nT)', 'Scnn1a-Tg3-Cre', 'Ai75(RCL-nT)', 'Ai75(RCL-nT)', 'Ai75(RCL-nT)', 'Scnn1a-Tg3-Cre', 'Ai75(RCL-nT)', 'Scnn1a-Tg3-Cre', 'A930038C07Rik-Tg1-Cre', 'Ai75(RCL-nT)', 'Ai75(RCL-nT)', 'Rbp4-Cre_KL100', 'A930038C07Rik-Tg1-Cre', 'Ai75(RCL-nT)', 'A930038C07Rik-Tg1-Cre', 'A930038C07Rik-Tg1-Cre', 'A930038C07Rik-Tg1-Cre', 'A930038C07Rik-Tg1-Cre', 'Ai75(RCL-nT)', 'Ai75(RCL-nT)', 'A930038C07Rik-Tg1-Cre', 'Scnn1a-Tg3-Cre', 'A930038C07Rik-Tg1-Cre', 'A930038C07Rik-Tg1-Cre', 'A930038C07Rik-Tg1-Cre', 'A930038C07Rik-Tg1-Cre', 'Ntsr1-Cre_GN220', 'A930038C07Rik-Tg1-Cre', 'Ntsr1-Cre_GN220', 'Rbp4-Cre_KL100', 'A930038C07Rik-Tg1-Cre', 'Sim1-Cre_KJ18', 'Ntsr1-Cre_GN220', 'A930038C07Rik-Tg1-Cre', 'Ntsr1-Cre_GN220', 'Ai75(RCL-nT)', 'Ntsr1-Cre_GN220', 'Ai75(RCL-nT)', 'Ai75(RCL-nT)', 'A930038C07Rik-Tg1-Cre', 'Ai75(RCL-nT)', 'A930038C07Rik-Tg1-Cre', 'Ntsr1-Cre_GN220', 'Ntsr1-Cre_GN220', 'Cort-T2A-Cre', 'Rorb-IRES2-Cre-neo', 'Ai75(RCL-nT)', 'Rorb-IRES2-Cre-neo', 'Sim1-Cre_KJ18', 'Erbb4-T2A-CreERT2', 'Sim1-Cre_KJ18', 'Calb2-IRES-Cre', nan, 'Tac2-IRES2-Cre', nan, 'Sim1-Cre_KJ18', 'Sim1-Cre_KJ18', 'Calb2-IRES-Cre', 'Esr1-2A-Cre', nan, 'Ai75(RCL-nT)', 'Slc17a6-IRES-Cre', 'Penk-IRES2-Cre-neo', 'A930038C07Rik-Tg1-Cre', 'Trib2-F2A-CreERT2', 'Pcp2-Cre_GN135', 'Nos1-CreERT2', 'Cux2-IRES-Cre', 'Ai75(RCL-nT)', 'Rbp4-Cre_KL100', 'Ai75(RCL-nT)', 'Syt6-Cre_KI148', 'Rbp4-Cre_KL100', 'Ai75(RCL-nT)', 'Vip-IRES-Cre', 'Tlx3-Cre_PL56', 'Glt25d2-Cre_NF107', 'Sim1-Cre_KJ18', 'Ntsr1-Cre_GN220', 'Ai75(RCL-nT)', 'Sim1-Cre_KJ18', 'Htr3a-Cre_NO152', 'Cux2-IRES-Cre', 'Ai75(RCL-nT)', 'Tlx3-Cre_PL56', 'Ntsr1-Cre_GN220', 'Cux2-IRES-Cre', 'Rasgrf2-T2A-dCre', 'Ntsr1-Cre_GN220', 'Glt25d2-Cre_NF107', 'Tlx3-Cre_PL56', 'Tlx3-Cre_PL56', 'Rorb-IRES2-Cre-neo', 'A930038C07Rik-Tg1-Cre', 'Penk-IRES2-Cre-neo', 'Syt6-Cre_KI148', 'Cux2-IRES-Cre', 'Sepw1-Cre_NP39', 'Penk-IRES2-Cre-neo', 'Slc17a8-iCre', 'Tlx3-Cre_PL56', 'Penk-IRES2-Cre-neo', 'Sim1-Cre_KJ18', 'Syt6-Cre_KI148', 'Pvalb-T2A-CreERT2', 'Rorb-IRES2-Cre', 'Slc17a8-IRES2-Cre', 'Pvalb-IRES-Cre', 'Ai75(RCL-nT)', 'Ai75(RCL-nT)', 'Ntsr1-Cre_GN220', 'Emx1-IRES-Cre', 'Emx1-IRES-Cre', 'Ai75(RCL-nT)', 'Ai75(RCL-nT)', 'Tlx3-Cre_PL56', 'Tlx3-Cre_PL56', 'Rbp4-Cre_KL100', 'Ai75(RCL-nT)', 'Ntsr1-Cre_GN220', 'Ntsr1-Cre_GN220', 'Ntsr1-Cre_GN220', 'Ai75(RCL-nT)', 'Ai75(RCL-nT)', 'Ai75(RCL-nT)', 'Ai75(RCL-nT)', 'Syt6-Cre_KI148', 'Chat-IRES-Cre-neo', 'Chat-IRES-Cre-neo', 'Chat-IRES-Cre-neo', 'Ntrk1-IRES-Cre', 'Chat-IRES-Cre-neo', 'Emx1-IRES-Cre', 'Ai75(RCL-nT)', 'Ai75(RCL-nT)', 'Ai75(RCL-nT)', 'Ai75(RCL-nT)', 'Adcyap1-2A-Cre', 'Oxtr-T2A-Cre', 'Avp-IRES2-Cre', 'Nos1-CreERT2', 'Esr2-IRES2-Cre', 'Emx1-IRES-Cre', 'Emx1-IRES-Cre', 'Cux2-IRES-Cre', 'Ntsr1-Cre_GN220', 'Ntsr1-Cre_GN220', 'Crh-IRES-Cre_BL', 'Dbh-Cre_KH212', 'Grp-Cre_KH288', 'Htr2a-Cre_KM207', 'Sst-IRES-Cre', 'Gad2-IRES-Cre', 'Pvalb-IRES-Cre', 'Gad2-IRES-Cre', 'Slc32a1-IRES-Cre', 'Scnn1a-Tg2-Cre', nan, nan, 'Slc17a6-IRES-Cre', 'Sst-IRES-Cre', 'Drd1a-Cre_EY262', 'Gpr26-Cre_KO250', 'Ntrk1-IRES-Cre', 'Drd2-Cre_ER44', 'Htr2a-Cre_KM207', 'Cux2-IRES-Cre', 'Slc18a2-Cre_OZ14', 'Ai75(RCL-nT)', 'Pvalb-IRES-Cre', 'Cnnm2-Cre_KD18', 'Gnb4-IRES2-Cre', 'Ai75(RCL-nT)', nan, nan, nan, 'Emx1-IRES-Cre', 'Rbp4-Cre_KL100', 'Ai75(RCL-nT)', 'Emx1-IRES-Cre', 'Emx1-IRES-Cre', 'Cux2-IRES-Cre', 'Rbp4-Cre_KL100', 'Emx1-IRES-Cre', 'Ai75(RCL-nT)', 'Ai75(RCL-nT)', 'Emx1-IRES-Cre', 'Ai75(RCL-nT)', 'Ai75(RCL-nT)', 'Ai75(RCL-nT)', 'Ai75(RCL-nT)', 'Ai75(RCL-nT)', 'Ai75(RCL-nT)', 'Ai75(RCL-nT)', 'Ai75(RCL-nT)', 'Chrna2-Cre_OE25', 'Cux2-IRES-Cre', 'Efr3a-Cre_NO108', 'Erbb4-T2A-CreERT2', 'Chrna2-Cre_OE25', 'Cart-IRES2-Cre', nan, 'Vip-IRES-Cre', 'Syt6-Cre_KI148', 'Ai75(RCL-nT)', 'Sim1-Cre_KJ18', 'Ppp1r17-Cre_NL146', 'Etv1-CreERT2', 'Vip-IRES-Cre', 'Slc17a7-IRES2-Cre', 'Kcnc2-Cre', 'Cux2-IRES-Cre', 'Ai75(RCL-nT)', 'Glt25d2-Cre_NF107', 'Ai75(RCL-nT)', 'Ai75(RCL-nT)', 'Ai75(RCL-nT)', 'Ai75(RCL-nT)', 'Pvalb-IRES-Cre', 'Scnn1a-Tg3-Cre', 'Gad2-IRES-Cre', 'Slc17a6-IRES-Cre', 'Emx1-IRES-Cre', 'Rbp4-Cre_KL100', 'Tlx3-Cre_PL56', 'Rbp4-Cre_KL100', 'Emx1-IRES-Cre', 'Cux2-IRES-Cre', 'Ntsr1-Cre_GN220', 'Ntsr1-Cre_GN220', 'Sim1-Cre_KJ18', 'Efr3a-Cre_NO108', 'A930038C07Rik-Tg1-Cre', 'Drd3-Cre_KI196', 'Rasgrf2-T2A-dCre', 'A930038C07Rik-Tg1-Cre', 'Ntsr1-Cre_GN220', 'Ntsr1-Cre_GN220', 'Etv1-CreERT2', 'Etv1-CreERT2', 'Rorb-IRES2-Cre', 'Syt6-Cre_KI148', 'Ntrk1-IRES-Cre', 'Gnb4-IRES2-Cre', 'Gad2-IRES-Cre', nan, 'Drd2-Cre_ER44', 'Gabrr3-Cre_KC112', 'Penk-2A-CreERT2', 'Drd2-Cre_ER44', 'Penk-IRES2-Cre-neo', 'Drd2-Cre_ER44']\n",
      "Contralateral mouse lines\n",
      "['Th-Cre_FI172', 'Adcyap1-2A-Cre', 'Th-Cre_FI172', 'Syt6-Cre_KI148', 'Nxph4-T2A-CreERT2', 'Vipr2-Cre_KE2', 'Gad2-IRES-Cre', nan, 'Gad2-IRES-Cre', nan, 'Tac1-IRES2-Cre', 'Cck-IRES-Cre', 'Grp-Cre_KH288', nan, 'Syt17-Cre_NO14', nan, nan, 'Scnn1a-Tg3-Cre', nan, 'Cux2-CreERT2', 'Cux2-CreERT2', 'Wfs1-Tg2-CreERT2', 'Grik4-Cre', 'Wfs1-Tg3-CreERT2', 'Pcdh9-Cre_NP276', 'Scnn1a-Tg2-Cre', 'Gad2-IRES-Cre', 'Pvalb-IRES-Cre', 'Gad2-IRES-Cre', 'Slc6a5-Cre_KF109', 'Pdzk1ip1-Cre_KD31', 'Slc17a6-IRES-Cre', 'Slc6a5-Cre_KF109', 'A930038C07Rik-Tg1-Cre', 'Slc6a5-Cre_KF109', 'Tlx3-Cre_PL56', 'Cux2-IRES-Cre', nan, 'Cux2-IRES-Cre', 'Rbp4-Cre_KL100', 'Chrna2-Cre_OE25', 'Syt6-Cre_KI148', 'Rbp4-Cre_KL100', 'Cux2-IRES-Cre', nan, 'Syt6-Cre_KI148', 'Syt6-Cre_KI148', 'Scnn1a-Tg3-Cre', nan, 'A930038C07Rik-Tg1-Cre', nan, 'Crh-IRES-Cre_BL', 'Plxnd1-Cre_OG1', 'Rbp4-Cre_KL100', 'Grm2-Cre_MR90', nan, 'Pomc-Cre_ST', 'Lypd6-Cre_KL156', 'Rbp4-Cre_KL100', 'Syt17-Cre_NO14', 'Gad2-IRES-Cre', nan, 'Drd3-Cre_KI198', nan, 'Adcyap1-2A-Cre', nan, 'Syt17-Cre_NO14', 'Drd3-Cre_KI196', nan, 'A930038C07Rik-Tg1-Cre', nan, 'A930038C07Rik-Tg1-Cre', 'Drd3-Cre_KI196', 'Scnn1a-Tg3-Cre', 'Gpr26-Cre_KO250', 'Adcyap1-2A-Cre', 'Chrna2-Cre_OE25', 'Cux2-IRES-Cre', 'Nos1-CreERT2', 'Rbp4-Cre_KL100', nan, 'Htr2a-Cre_KM207', 'Tlx3-Cre_PL56', nan, 'Oxtr-Cre_ON66', 'Vip-IRES-Cre', 'Erbb4-T2A-CreERT2', 'Gng7-Cre_KH71', 'Rorb-IRES2-Cre', 'Drd3-Cre_KI196', 'Slc6a5-Cre_KF109', nan, nan, 'Cnnm2-Cre_KD18', nan, nan, 'A930038C07Rik-Tg1-Cre', 'Rbp4-Cre_KL100', 'Cux2-IRES-Cre', 'Scnn1a-Tg3-Cre', 'Chrna2-Cre_OE25', 'Cdhr1-Cre_KG66', nan, 'Slc17a7-IRES2-Cre', nan, 'Grik4-Cre', 'Kcnc2-Cre', 'Ppp1r17-Cre_NL146', 'Syt17-Cre_NO14', 'Grp-Cre_KH288', 'Grik4-Cre', 'Ppp1r17-Cre_NL146', nan, 'Prkcd-GluCla-CFP-IRES-Cre', 'Cart-Tg1-Cre', 'Slc18a2-Cre_OZ14', 'Nxph4-T2A-CreERT2', nan, 'Chrna2-Cre_OE25', nan, nan, nan, 'Slc32a1-IRES-Cre', nan, nan, nan, 'Rbp4-Cre_KL100', nan, 'Cux2-IRES-Cre', nan, 'Htr1a-IRES2-Cre', 'Grm2-Cre_MR90', 'Gpr26-Cre_KO250', 'Cux2-IRES-Cre', 'Drd3-Cre_KI196', 'A930038C07Rik-Tg1-Cre', 'Ai75(RCL-nT)', 'Penk-IRES2-Cre-neo', 'Drd3-Cre_KI196', 'Ai75(RCL-nT)', nan, nan, 'Cux2-IRES-Cre', 'Nr5a1-Cre', 'Sim1-Cre_KJ18', nan, 'Scnn1a-Tg3-Cre', 'Nr5a1-Cre', 'Scnn1a-Tg3-Cre', nan, nan, nan, nan, 'Erbb4-T2A-CreERT2', 'Th-Cre_FI172', nan, 'Grm2-Cre_MR90', nan, 'Gabra6-IRES-Cre', nan, nan, nan, nan, nan, nan, nan, nan, nan, nan, 'Rbp4-Cre_KL100', 'A930038C07Rik-Tg1-Cre', 'Tlx3-Cre_PL56', nan, 'Scnn1a-Tg3-Cre', 'Ntsr1-Cre_GN220', 'Nr5a1-Cre', 'Sepw1-Cre_NP39', 'Ctgf-T2A-dgCre', nan, 'Nr5a1-Cre', 'Penk-IRES2-Cre-neo', 'Etv1-CreERT2', 'Scnn1a-Tg3-Cre', 'Sepw1-Cre_NP39', 'A930038C07Rik-Tg1-Cre', 'A930038C07Rik-Tg1-Cre', 'Nos1-CreERT2', 'Penk-IRES2-Cre-neo', 'Gad2-IRES-Cre', 'Rbp4-Cre_KL100', 'Gng7-Cre_KH71', 'Nr5a1-Cre', 'Cux2-IRES-Cre', 'Slc17a8-iCre', 'Slc17a8-IRES2-Cre', 'Crh-IRES-Cre_BL', 'Rorb-IRES2-Cre-neo', 'Ntsr1-Cre_GN220', 'Nxph4-T2A-CreERT2', nan, 'Pmch-Cre', 'Lypd6-Cre_KL156', 'Rasgrf2-T2A-dCre', 'Pmch-Cre', 'Hcrt-Cre', 'Oxt-IRES-Cre', 'Pmch-Cre', 'Fezf1-T2A-dCre', 'Slc32a1-IRES-Cre', 'Cux2-IRES-Cre', 'Syt17-Cre_NO14', 'Slc17a6-IRES-Cre', 'Grik4-Cre', nan, 'Slc17a6-IRES-Cre', 'Slc32a1-IRES-Cre', 'Syt17-Cre_NO14', 'Scnn1a-Tg3-Cre', 'Gad2-IRES-Cre', 'Ppp1r17-Cre_NL146', nan, 'Grp-Cre_KH288', 'Rbp4-Cre_KL100', 'Cux2-IRES-Cre', 'Tlx3-Cre_PL56', 'A930038C07Rik-Tg1-Cre', 'Sepw1-Cre_NP39', 'Tlx3-Cre_PL56', 'Nos1-CreERT2', 'Gpr26-Cre_KO250', nan, 'Grm2-Cre_MR90', 'Chrna2-Cre_OE25', 'Sim1-Cre_KJ18', 'Tlx3-Cre_PL56', 'Penk-IRES2-Cre-neo', 'Gpr26-Cre_KO250', 'Ctgf-T2A-dgCre', 'Penk-IRES2-Cre-neo', 'Ntsr1-Cre_GN220', 'Gad2-IRES-Cre', 'Penk-IRES2-Cre-neo', 'Grp-Cre_KH288', 'A930038C07Rik-Tg1-Cre', 'Sim1-Cre_KJ18', 'Rorb-IRES2-Cre-neo', 'Sim1-Cre_KJ18', 'Sim1-Cre_KJ18', 'Efr3a-Cre_NO108', 'Rorb-IRES2-Cre', 'Syt6-Cre_KI148', 'Ntsr1-Cre_GN220', 'Sim1-Cre_KJ18', 'Crh-IRES-Cre_BL', 'Penk-IRES2-Cre-neo', 'Htr2a-Cre_KM207', 'Rorb-IRES2-Cre-neo', 'Tac1-IRES2-Cre', 'Sepw1-Cre_NP39', 'Grm2-Cre_MR90', 'Penk-IRES2-Cre-neo', nan, 'Efr3a-Cre_NO108', 'A930038C07Rik-Tg1-Cre', 'Scnn1a-Tg3-Cre', 'Grm2-Cre_MR90', nan, 'Sepw1-Cre_NP39', 'Oxtr-Cre_ON66', 'Oxtr-Cre_ON66', 'Rasgrf2-T2A-dCre', 'Cux2-IRES-Cre', 'Nr5a1-Cre', 'Drd3-Cre_KI196', 'Efr3a-Cre_NO108', nan, nan, 'Slc17a6-IRES-Cre', nan, 'Glt25d2-Cre_NF107', nan, 'Grp-Cre_KH288', 'A930038C07Rik-Tg1-Cre', 'Ai75(RCL-nT)', 'Sim1-Cre_KJ18', 'Cart-Tg1-Cre', nan, nan, 'Rbp4-Cre_KL100', nan, 'Gpr26-Cre_KO250', 'Trib2-F2A-CreERT2', 'Scnn1a-Tg3-Cre', 'Sst-IRES-Cre', 'Htr3a-Cre_NO152', 'Nos1-CreERT2', 'Calb1-T2A-dgCre', 'Sim1-Cre_KJ18', nan, 'Dlg3-Cre_KG118', 'Slc32a1-IRES-Cre', 'Slc6a5-Cre_KF109', nan, nan, 'Slc6a5-Cre_KF109', nan, 'Pnmt-Cre', 'Cux2-IRES-Cre', nan, 'Cux2-IRES-Cre', 'Slc18a2-Cre_OZ14', 'A930038C07Rik-Tg1-Cre', nan, 'Sim1-Cre_KJ18', nan, nan, 'Ntrk1-IRES-Cre', 'Ntrk1-IRES-Cre', nan, 'Syt17-Cre_NO14', 'Chrna2-Cre_OE25', nan, 'Syt17-Cre_NO14', 'Drd1a-Cre_EY262', 'Htr2a-Cre_KM207', nan, 'Rbp4-Cre_KL100', 'Rbp4-Cre_KL100', 'Cux2-IRES-Cre', 'Tlx3-Cre_PL56', 'Tlx3-Cre_PL56', 'Cux2-IRES-Cre', 'Rorb-IRES2-Cre', 'Nr5a1-Cre', nan, 'Ppp1r17-Cre_NL146', nan, 'Rasgrf2-T2A-dCre', 'Ppp1r17-Cre_NL146', 'Slc17a6-IRES-Cre', 'Ppp1r17-Cre_NL146', 'Nos1-CreERT2', nan, 'Rbp4-Cre_KL100', 'Adcyap1-2A-Cre', nan, 'Trib2-F2A-CreERT2', nan, 'Etv1-CreERT2', 'Npr3-IRES2-Cre', 'Scnn1a-Tg3-Cre', 'Htr3a-Cre_NO152', 'Ntsr1-Cre_GN220', 'Tlx3-Cre_PL56', 'Ntsr1-Cre_GN220', 'Ntsr1-Cre_GN220', 'Erbb4-T2A-CreERT2', 'Gad2-IRES-Cre', nan, nan, nan, 'Drd3-Cre_KI196', 'Gpr26-Cre_KO250', 'Cart-Tg1-Cre', 'Slc32a1-IRES-Cre', nan, 'Rbp4-Cre_KL100', 'Ntng2-IRES2-Cre', 'Rbp4-Cre_KL100', 'Chrnb4-Cre_OL57', nan, 'Oxtr-T2A-Cre', nan, 'Gad2-IRES-Cre', 'Ppp1r17-Cre_NL146', 'Etv1-CreERT2', 'Gad2-IRES-Cre', nan, 'Gpr26-Cre_KO250', nan, 'Rbp4-Cre_KL100', 'Trib2-F2A-CreERT2', 'Etv1-CreERT2', 'Cux2-IRES-Cre', 'Npr3-IRES2-Cre', 'Cux2-IRES-Cre', 'Ntsr1-Cre_GN220', 'Chrna2-Cre_OE25', 'Sepw1-Cre_NP39', 'Htr2a-Cre_KM207', 'Grp-Cre_KH288', 'Drd3-Cre_KI196', 'Gabra6-IRES-Cre', nan, 'Tlx3-Cre_PL56', 'Gpr26-Cre_KO250', nan, 'Ntsr1-Cre_GN220', 'Scnn1a-Tg3-Cre', 'Cux2-IRES-Cre', 'Scnn1a-Tg3-Cre', 'Calb1-T2A-dgCre', 'Sst-IRES-Cre', 'Efr3a-Cre_NO108', 'Slc18a2-Cre_OZ14', 'Ntsr1-Cre_GN220', 'A930038C07Rik-Tg1-Cre', 'Gad2-IRES-Cre', nan, nan, 'Gad2-IRES-Cre', 'Ntng2-IRES2-Cre', nan, 'Ntrk1-IRES-Cre', nan, 'Plxnd1-Cre_OG1', nan, 'Plxnd1-Cre_OG1', 'Drd1a-Cre_EY262', 'Slc32a1-IRES-Cre', 'Drd1a-Cre_EY262', 'Chat-IRES-Cre-neo', 'Cux2-IRES-Cre', 'Drd1a-Cre_EY262', 'Ntrk1-IRES-Cre', nan, 'Gad2-IRES-Cre', 'Kcnc2-Cre', 'Drd2-Cre_ER44', 'Efr3a-Cre_NO108', nan]\n"
     ]
    }
   ],
   "source": [
    "print(\"Ipsilateral mouse lines\")\n",
    "ipsilateral_lines = [df[df['id']==x]['transgenic-line'].item() for x in ipsilateral_projecting_exps]\n",
    "print(ipsilateral_lines)\n",
    "\n",
    "print(\"Contralateral mouse lines\")\n",
    "contralateral_lines = [df[df['id']==x]['transgenic-line'].item() for x in contralateral_projecting_exps]\n",
    "print(contralateral_lines)"
   ]
  },
  {
   "cell_type": "markdown",
   "id": "ee586b77-881a-4081-8a5c-54fb1d80cf05",
   "metadata": {
    "tags": []
   },
   "source": [
    "### For every brain area compute average projection metric and use it to compute weighted centroid"
   ]
  },
  {
   "cell_type": "code",
   "execution_count": 34,
   "id": "8a214102-acae-4ed1-bb29-33e5ea8a04a2",
   "metadata": {},
   "outputs": [],
   "source": [
    "def xyz_weighted_centroid(coordinates):\n",
    "    \"\"\"\n",
    "    Returns xyz coordinates of a centroid weighted by vertices and the associated average projection metric. Computed to determine central coordinate within a brain region, weighted by projection metric of each experiment injected in that region.\n",
    "    \n",
    "    cx = (v1x*m1 + v2x*m2 + ... vnx*mn) / (m1 + m2 .... mn) \n",
    "    cy = (v1y*m1 + v2y*m2 + ... vny*mn) / (m1 + m2 .... mn)\n",
    "    cz = (v1z*m1 + v2z*m2 + ... vnz*mn) / (m1 + m2 .... mn)\n",
    "    \n",
    "    where v1x, v1y and v1z are xyz coordinates of vertex 1 and m1 is its weight.\n",
    "    \n",
    "        Parameters:\n",
    "            coordinates (List): list of nested lists containing coordinates and weight of each vertex nested [[x1, y1, z3, w1], [x2, y2, z2, w2], ...].\n",
    "        \n",
    "        Returns:\n",
    "            centroid_point (List): location of centroid and related average value of projection metric in the form of [x, y, z, avg_projection].\n",
    "    \"\"\"\n",
    "    denom = sum(exp[3] for exp in coordinates)\n",
    "    centroid_point = [int(sum(exp[0]*exp[3] for exp in coordinates) / denom), int(sum(exp[1]*exp[3] for exp in coordinates) / denom), int(sum(exp[2]*exp[3] for exp in coordinates) / denom), denom / len(coordinates)]\n",
    "    \n",
    "    return centroid_point"
   ]
  },
  {
   "cell_type": "code",
   "execution_count": 35,
   "id": "dc07e31f-b017-43f1-b97e-4d44a68e0394",
   "metadata": {},
   "outputs": [
    {
     "name": "stdout",
     "output_type": "stream",
     "text": [
      "61 ipsilateral centroids computed out of 316 regions\n",
      "66 contralateral centroids computed out of 316 regions\n"
     ]
    }
   ],
   "source": [
    "hem_ids = [2,1] # for getting the index of contralateral hemisphere to the one specified before\n",
    "ipsilateral_centroids_dict = {}\n",
    "contralateral_centroids_dict = {}\n",
    "\n",
    "for area in ipsilateral_dict:\n",
    "    coordinates = [[exp[exp['hemisphere_id']==HEMISPHERE_TO_FILTER]['max_voxel_x'].item(), exp[exp['hemisphere_id']==HEMISPHERE_TO_FILTER]['max_voxel_y'].item(), exp[exp['hemisphere_id']==HEMISPHERE_TO_FILTER]['max_voxel_z'].item(), exp[exp['hemisphere_id']==HEMISPHERE_TO_FILTER][projection_metric].item()] for exp in ipsilateral_dict[area].values()]\n",
    "    if len(coordinates) == 0: centroid_xyz = None\n",
    "    else: centroid_xyz = xyz_weighted_centroid(coordinates)\n",
    "    if centroid_xyz: ipsilateral_centroids_dict[area] = centroid_xyz\n",
    "print(len(ipsilateral_centroids_dict.keys()),'ipsilateral centroids computed out of',str(len(ipsilateral_dict.keys())),'regions')\n",
    "\n",
    "for area in contralateral_dict:\n",
    "    coordinates = [[exp[exp['hemisphere_id']==hem_ids[HEMISPHERE_TO_FILTER-1]]['max_voxel_x'].item(), exp[exp['hemisphere_id']==hem_ids[HEMISPHERE_TO_FILTER-1]]['max_voxel_y'].item(), exp[exp['hemisphere_id']==hem_ids[HEMISPHERE_TO_FILTER-1]]['max_voxel_z'].item(), exp[exp['hemisphere_id']==hem_ids[HEMISPHERE_TO_FILTER-1]][projection_metric].item()] for exp in contralateral_dict[area].values()]\n",
    "    if len(coordinates) == 0: centroid_xyz = None\n",
    "    else: centroid_xyz = xyz_weighted_centroid(coordinates)\n",
    "    if centroid_xyz: contralateral_centroids_dict[area] = centroid_xyz\n",
    "print(len(contralateral_centroids_dict.keys()),'contralateral centroids computed out of',str(len(contralateral_dict.keys())),'regions')"
   ]
  },
  {
   "cell_type": "markdown",
   "id": "91cb4545-7263-4950-931f-1deb6fdb90e7",
   "metadata": {},
   "source": [
    "### Saving computed centroids"
   ]
  },
  {
   "cell_type": "code",
   "execution_count": 36,
   "id": "72f0c6f4-babb-4eb3-9dfc-5b98fe7264fd",
   "metadata": {},
   "outputs": [
    {
     "data": {
      "text/plain": [
       "[9880, 3635, 5190, 0.8192550033919425]"
      ]
     },
     "execution_count": 36,
     "metadata": {},
     "output_type": "execute_result"
    }
   ],
   "source": [
    "ipsilateral_centroids_dict[795]"
   ]
  },
  {
   "cell_type": "code",
   "execution_count": 37,
   "id": "b2885ee7-d659-4b80-951d-9d5193afc03e",
   "metadata": {},
   "outputs": [
    {
     "data": {
      "text/plain": [
       "PosixPath('/home/ikharitonov/Desktop/data/connectivity/centroids_normalized_projection_volume_hem_id_1_inj_vol_thresh_1.5_VISpm')"
      ]
     },
     "execution_count": 37,
     "metadata": {},
     "output_type": "execute_result"
    }
   ],
   "source": [
    "foldername = f'centroids_{projection_metric}_hem_id_{HEMISPHERE_TO_FILTER}_inj_vol_thresh_{INJECTION_VOLUME_THRESHOLD}_{main_structure}'\n",
    "folderpath = connectivity_path / foldername\n",
    "mkdir(folderpath)"
   ]
  },
  {
   "cell_type": "code",
   "execution_count": 38,
   "id": "067bac03-7a5a-4fcd-a254-4f8ce49bf9ec",
   "metadata": {},
   "outputs": [],
   "source": [
    "filename = f'ipsilateral_centroids_dict_hem_{HEMISPHERE_TO_FILTER}_inj_vol_thresh_{INJECTION_VOLUME_THRESHOLD}_{main_structure}.pkl'\n",
    "with open(folderpath / filename, 'wb') as f: pickle.dump(ipsilateral_centroids_dict, f)\n",
    "filename = f'contralateral_centroids_dict_hem_{HEMISPHERE_TO_FILTER}_inj_vol_thresh_{INJECTION_VOLUME_THRESHOLD}_{main_structure}.pkl'\n",
    "with open(folderpath / filename, 'wb') as f: pickle.dump(contralateral_centroids_dict, f)"
   ]
  },
  {
   "cell_type": "code",
   "execution_count": 39,
   "id": "fc496021-d028-4abe-bdb8-81c6e8374ba5",
   "metadata": {},
   "outputs": [],
   "source": [
    "# Reading from a file\n",
    "filename = f'ipsilateral_centroids_dict_hem_{HEMISPHERE_TO_FILTER}_inj_vol_thresh_{INJECTION_VOLUME_THRESHOLD}_{main_structure}.pkl'\n",
    "with open(folderpath / filename, 'rb') as f: ipsilateral_centroids_dict = pickle.load(f)\n",
    "filename = f'contralateral_centroids_dict_hem_{HEMISPHERE_TO_FILTER}_inj_vol_thresh_{INJECTION_VOLUME_THRESHOLD}_{main_structure}.pkl'\n",
    "with open(folderpath / filename, 'rb') as f: contralateral_centroids_dict = pickle.load(f)"
   ]
  },
  {
   "cell_type": "code",
   "execution_count": null,
   "id": "5edfe6c7-a830-42a9-b87d-a704889aa5f1",
   "metadata": {},
   "outputs": [],
   "source": []
  }
 ],
 "metadata": {
  "kernelspec": {
   "display_name": "allendata",
   "language": "python",
   "name": "python3"
  },
  "language_info": {
   "codemirror_mode": {
    "name": "ipython",
    "version": 3
   },
   "file_extension": ".py",
   "mimetype": "text/x-python",
   "name": "python",
   "nbconvert_exporter": "python",
   "pygments_lexer": "ipython3",
   "version": "3.7.15"
  }
 },
 "nbformat": 4,
 "nbformat_minor": 5
}
