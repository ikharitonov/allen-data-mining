{
 "cells": [
  {
   "cell_type": "code",
   "execution_count": 61,
   "id": "920c0254-5f45-4c92-91b1-9d27eee52bba",
   "metadata": {},
   "outputs": [],
   "source": [
    "import os\n",
    "import sys\n",
    "module_path = os.path.abspath(os.path.join('..'))\n",
    "if module_path not in sys.path: sys.path.append(module_path)\n",
    "\n",
    "import matplotlib.pyplot as plt\n",
    "import numpy as np\n",
    "import pandas as pd\n",
    "from pathlib import Path\n",
    "import pickle\n",
    "import os\n",
    "\n",
    "from RMALoaders import *"
   ]
  },
  {
   "cell_type": "code",
   "execution_count": 62,
   "id": "6c769e8c-2d79-4090-862c-070ffcff8ada",
   "metadata": {},
   "outputs": [],
   "source": [
    "# def get_proj_metric_value(path,target_area,source_area,experiment):\n",
    "#     filename = 'area_id_'+str(source_area)+'exp_id_'+str(experiment)+'.csv'\n",
    "#     data_df = pd.read_csv(path / filename)\n",
    "#     return data_df[(data_df['hemisphere_id']==1) & (data_df['structure_id']==target_area)]['projection_energy'].item()"
   ]
  },
  {
   "cell_type": "code",
   "execution_count": 63,
   "id": "83fb4ddc-8059-4e88-8e97-1d5a7a60837c",
   "metadata": {},
   "outputs": [
    {
     "data": {
      "text/plain": [
       "533"
      ]
     },
     "execution_count": 63,
     "metadata": {},
     "output_type": "execute_result"
    }
   ],
   "source": [
    "target_area_name = 'VISpm'\n",
    "target_area_object = RMAStructure(acronym=target_area_name)\n",
    "target_area_id = target_area_object.id\n",
    "target_area_id"
   ]
  },
  {
   "cell_type": "code",
   "execution_count": 64,
   "id": "3a044b38-8320-44ec-b670-6a332fe95054",
   "metadata": {},
   "outputs": [],
   "source": [
    "path = Path.home() / 'Desktop' / 'data' / 'connectivity'\n",
    "filename = path / 'filtered_area_experiment_id_dict_2_hem_1_VISpm_vol.pkl'\n",
    "with open(filename, 'rb') as f: meta_data_dict = pickle.load(f)"
   ]
  },
  {
   "cell_type": "code",
   "execution_count": 65,
   "id": "f3e5b380-4d77-46c1-889f-46e80dd5cc7d",
   "metadata": {},
   "outputs": [
    {
     "data": {
      "text/plain": [
       "316"
      ]
     },
     "execution_count": 65,
     "metadata": {},
     "output_type": "execute_result"
    }
   ],
   "source": [
    "len(meta_data_dict.keys())"
   ]
  },
  {
   "cell_type": "code",
   "execution_count": 66,
   "id": "8729a484-858a-47e7-90ca-1c1204a7ffc5",
   "metadata": {},
   "outputs": [],
   "source": [
    "path = Path.home() / 'Desktop' / 'data' / 'connectivity' / 'centroids_normalized_projection_volume_hem_id_1_inj_vol_thresh_0.7_VISpm'\n",
    "filename = path / 'ipsilateral_centroids_dict_hem_1_inj_vol_thresh_0.7_VISpm.pkl'\n",
    "with open(filename, 'rb') as f: data_dict = pickle.load(f)"
   ]
  },
  {
   "cell_type": "code",
   "execution_count": 67,
   "id": "690e9563-0287-4989-af32-791bd284a0c2",
   "metadata": {},
   "outputs": [
    {
     "data": {
      "text/plain": [
       "90"
      ]
     },
     "execution_count": 67,
     "metadata": {},
     "output_type": "execute_result"
    }
   ],
   "source": [
    "len(data_dict.keys())"
   ]
  },
  {
   "cell_type": "code",
   "execution_count": 68,
   "id": "d68a7ab2-2f5f-4392-acac-2542dbd8ead4",
   "metadata": {},
   "outputs": [
    {
     "name": "stdout",
     "output_type": "stream",
     "text": [
      "226\n",
      "[223, 266, 914, 207, 1049, 609, 35, 1009, 38, 1105, 59, 390, 591, 262, 872, 1061, 287, 30, 564, 604, 238, 619, 689, 88, 880, 614, 422, 255, 576073699, 549009223, 333, 27, 131, 483, 583, 23, 706, 677, 1037, 133, 484682470, 966, 1025, 151, 763, 280, 369, 830, 765, 231, 356, 839, 549009215, 206, 612, 169, 898, 757, 66, 968, 484682508, 182305689, 621, 210, 177, 374, 589508451, 639, 263, 982, 178, 534, 136, 75, 607344830, 106, 975, 222, 970, 1027, 347, 1031, 1077, 773, 15, 12, 574, 549009219, 10671, 581, 127, 1113, 589508447, 7, 100, 470, 181, 203, 149, 162, 350, 358, 1041, 998, 96, 72, 235, 576073704, 398, 560581559, 1018, 246, 599626927, 147, 118, 549009227, 576, 1044, 115, 629, 318, 298, 566, 58, 312782574, 271, 922, 1039, 491, 272, 63, 741, 135, 1109, 126, 515, 907, 173, 718, 725, 295, 146, 230, 414, 616, 606826663, 580, 1029, 563807435, 460, 445, 310, 560581563, 693, 642, 423, 749, 951, 292, 226, 653, 531, 599, 475, 225, 1052, 1098, 364, 197, 563807439, 19, 286, 957, 859, 814, 523, 1069, 325, 372, 250, 628, 1020, 186, 944, 366, 980, 679, 589, 332, 874, 846, 936, 788, 781, 952, 589508455, 780, 307, 549009211, 452, 903, 1, 1004, 946, 1107, 189, 711, 1120, 214, 1057, 525, 912, 338, 217, 533, 989, 575, 634, 599626923, 930, 1126, 83, 64, 209, 321, 381]\n"
     ]
    }
   ],
   "source": [
    "filtered_out = []\n",
    "for a in meta_data_dict.keys():\n",
    "    if a not in data_dict.keys(): \n",
    "        # print(a)\n",
    "        filtered_out.append(a)\n",
    "print(len(filtered_out))\n",
    "print(filtered_out)"
   ]
  },
  {
   "cell_type": "code",
   "execution_count": 69,
   "id": "be63671a-d1cc-4bb0-9717-1718643398ae",
   "metadata": {},
   "outputs": [
    {
     "name": "stdout",
     "output_type": "stream",
     "text": [
      "[171482142, 286726777, 241278553, 232311236, 181891892, 286318327, 146660999, 298105299]\n"
     ]
    }
   ],
   "source": [
    "# these areas are filtered out during calculation of weighted centroids in ipsilateral/contralateral sides because their len(coordinates)==0\n",
    "# coordinates = [[exp[exp['hemisphere_id']==HEMISPHERE_TO_FILTER]['max_voxel_x'].item(), exp[exp['hemisphere_id']==HEMISPHERE_TO_FILTER]['max_voxel_y'].item(), exp[exp['hemisphere_id']==HEMISPHERE_TO_FILTER]['max_voxel_z'].item(), exp[exp['hemisphere_id']==HEMISPHERE_TO_FILTER][projection_metric].item()] for exp in ipsilateral_dict[area].values()]\n",
    "\n",
    "# checking the unionized data manually\n",
    "print(meta_data_dict[223])"
   ]
  },
  {
   "cell_type": "code",
   "execution_count": 70,
   "id": "84d554e3-2254-419e-9d41-635e53b6d0ee",
   "metadata": {},
   "outputs": [
    {
     "data": {
      "text/html": [
       "<div>\n",
       "<style scoped>\n",
       "    .dataframe tbody tr th:only-of-type {\n",
       "        vertical-align: middle;\n",
       "    }\n",
       "\n",
       "    .dataframe tbody tr th {\n",
       "        vertical-align: top;\n",
       "    }\n",
       "\n",
       "    .dataframe thead th {\n",
       "        text-align: right;\n",
       "    }\n",
       "</style>\n",
       "<table border=\"1\" class=\"dataframe\">\n",
       "  <thead>\n",
       "    <tr style=\"text-align: right;\">\n",
       "      <th></th>\n",
       "      <th>Unnamed: 0</th>\n",
       "      <th>hemisphere_id</th>\n",
       "      <th>id</th>\n",
       "      <th>is_injection</th>\n",
       "      <th>max_voxel_density</th>\n",
       "      <th>max_voxel_x</th>\n",
       "      <th>max_voxel_y</th>\n",
       "      <th>max_voxel_z</th>\n",
       "      <th>normalized_projection_volume</th>\n",
       "      <th>projection_density</th>\n",
       "      <th>projection_energy</th>\n",
       "      <th>projection_intensity</th>\n",
       "      <th>projection_volume</th>\n",
       "      <th>section_data_set_id</th>\n",
       "      <th>structure_id</th>\n",
       "      <th>sum_pixel_intensity</th>\n",
       "      <th>sum_pixels</th>\n",
       "      <th>sum_projection_pixel_intensity</th>\n",
       "      <th>sum_projection_pixels</th>\n",
       "      <th>volume</th>\n",
       "    </tr>\n",
       "  </thead>\n",
       "  <tbody>\n",
       "    <tr>\n",
       "      <th>0</th>\n",
       "      <td>0</td>\n",
       "      <td>1</td>\n",
       "      <td>629925199</td>\n",
       "      <td>False</td>\n",
       "      <td>0.000000</td>\n",
       "      <td>0</td>\n",
       "      <td>0</td>\n",
       "      <td>0</td>\n",
       "      <td>0.000000</td>\n",
       "      <td>0.000000e+00</td>\n",
       "      <td>0.000000</td>\n",
       "      <td>0.000000</td>\n",
       "      <td>0.000000e+00</td>\n",
       "      <td>171482142</td>\n",
       "      <td>143</td>\n",
       "      <td>2.582928e+08</td>\n",
       "      <td>9.846000e+06</td>\n",
       "      <td>0.000000e+00</td>\n",
       "      <td>0.000000</td>\n",
       "      <td>0.012061</td>\n",
       "    </tr>\n",
       "    <tr>\n",
       "      <th>1</th>\n",
       "      <td>1</td>\n",
       "      <td>3</td>\n",
       "      <td>629925907</td>\n",
       "      <td>False</td>\n",
       "      <td>0.322724</td>\n",
       "      <td>9570</td>\n",
       "      <td>1830</td>\n",
       "      <td>7290</td>\n",
       "      <td>0.052720</td>\n",
       "      <td>2.914463e-04</td>\n",
       "      <td>0.080940</td>\n",
       "      <td>277.717407</td>\n",
       "      <td>1.160741e-04</td>\n",
       "      <td>171482142</td>\n",
       "      <td>834</td>\n",
       "      <td>1.620523e+10</td>\n",
       "      <td>3.251178e+08</td>\n",
       "      <td>2.631494e+07</td>\n",
       "      <td>94754.361328</td>\n",
       "      <td>0.398269</td>\n",
       "    </tr>\n",
       "    <tr>\n",
       "      <th>2</th>\n",
       "      <td>2</td>\n",
       "      <td>1</td>\n",
       "      <td>629923961</td>\n",
       "      <td>False</td>\n",
       "      <td>0.031083</td>\n",
       "      <td>7550</td>\n",
       "      <td>2690</td>\n",
       "      <td>4610</td>\n",
       "      <td>0.000237</td>\n",
       "      <td>4.541380e-07</td>\n",
       "      <td>0.000135</td>\n",
       "      <td>297.655899</td>\n",
       "      <td>5.207456e-07</td>\n",
       "      <td>171482142</td>\n",
       "      <td>1100</td>\n",
       "      <td>2.913848e+10</td>\n",
       "      <td>9.360558e+08</td>\n",
       "      <td>1.265331e+05</td>\n",
       "      <td>425.098480</td>\n",
       "      <td>1.146668</td>\n",
       "    </tr>\n",
       "    <tr>\n",
       "      <th>3</th>\n",
       "      <td>3</td>\n",
       "      <td>1</td>\n",
       "      <td>629924288</td>\n",
       "      <td>False</td>\n",
       "      <td>0.189408</td>\n",
       "      <td>8820</td>\n",
       "      <td>770</td>\n",
       "      <td>5450</td>\n",
       "      <td>0.039577</td>\n",
       "      <td>3.636223e-05</td>\n",
       "      <td>0.010444</td>\n",
       "      <td>287.207923</td>\n",
       "      <td>8.713754e-05</td>\n",
       "      <td>171482142</td>\n",
       "      <td>886</td>\n",
       "      <td>1.145220e+11</td>\n",
       "      <td>1.956225e+09</td>\n",
       "      <td>2.042987e+07</td>\n",
       "      <td>71132.685526</td>\n",
       "      <td>2.396375</td>\n",
       "    </tr>\n",
       "    <tr>\n",
       "      <th>4</th>\n",
       "      <td>4</td>\n",
       "      <td>1</td>\n",
       "      <td>629924916</td>\n",
       "      <td>False</td>\n",
       "      <td>0.335822</td>\n",
       "      <td>8610</td>\n",
       "      <td>6470</td>\n",
       "      <td>1600</td>\n",
       "      <td>0.203540</td>\n",
       "      <td>5.787284e-04</td>\n",
       "      <td>0.171521</td>\n",
       "      <td>296.375458</td>\n",
       "      <td>4.481401e-04</td>\n",
       "      <td>171482142</td>\n",
       "      <td>566</td>\n",
       "      <td>8.338566e+10</td>\n",
       "      <td>6.321249e+08</td>\n",
       "      <td>1.084226e+08</td>\n",
       "      <td>365828.687500</td>\n",
       "      <td>0.774353</td>\n",
       "    </tr>\n",
       "  </tbody>\n",
       "</table>\n",
       "</div>"
      ],
      "text/plain": [
       "   Unnamed: 0  hemisphere_id         id  is_injection  max_voxel_density  \\\n",
       "0           0              1  629925199         False           0.000000   \n",
       "1           1              3  629925907         False           0.322724   \n",
       "2           2              1  629923961         False           0.031083   \n",
       "3           3              1  629924288         False           0.189408   \n",
       "4           4              1  629924916         False           0.335822   \n",
       "\n",
       "   max_voxel_x  max_voxel_y  max_voxel_z  normalized_projection_volume  \\\n",
       "0            0            0            0                      0.000000   \n",
       "1         9570         1830         7290                      0.052720   \n",
       "2         7550         2690         4610                      0.000237   \n",
       "3         8820          770         5450                      0.039577   \n",
       "4         8610         6470         1600                      0.203540   \n",
       "\n",
       "   projection_density  projection_energy  projection_intensity  \\\n",
       "0        0.000000e+00           0.000000              0.000000   \n",
       "1        2.914463e-04           0.080940            277.717407   \n",
       "2        4.541380e-07           0.000135            297.655899   \n",
       "3        3.636223e-05           0.010444            287.207923   \n",
       "4        5.787284e-04           0.171521            296.375458   \n",
       "\n",
       "   projection_volume  section_data_set_id  structure_id  sum_pixel_intensity  \\\n",
       "0       0.000000e+00            171482142           143         2.582928e+08   \n",
       "1       1.160741e-04            171482142           834         1.620523e+10   \n",
       "2       5.207456e-07            171482142          1100         2.913848e+10   \n",
       "3       8.713754e-05            171482142           886         1.145220e+11   \n",
       "4       4.481401e-04            171482142           566         8.338566e+10   \n",
       "\n",
       "     sum_pixels  sum_projection_pixel_intensity  sum_projection_pixels  \\\n",
       "0  9.846000e+06                    0.000000e+00               0.000000   \n",
       "1  3.251178e+08                    2.631494e+07           94754.361328   \n",
       "2  9.360558e+08                    1.265331e+05             425.098480   \n",
       "3  1.956225e+09                    2.042987e+07           71132.685526   \n",
       "4  6.321249e+08                    1.084226e+08          365828.687500   \n",
       "\n",
       "     volume  \n",
       "0  0.012061  \n",
       "1  0.398269  \n",
       "2  1.146668  \n",
       "3  2.396375  \n",
       "4  0.774353  "
      ]
     },
     "execution_count": 70,
     "metadata": {},
     "output_type": "execute_result"
    }
   ],
   "source": [
    "filename = f'area_id_{223}exp_id_'+str(171482142)+'.csv'\n",
    "temp_data = pd.read_csv(Path.home() / 'Desktop' / 'data' / 'connectivity' / 'unionized_data_from_hem_1_VISpm_projecting_experiments' / filename)\n",
    "temp_data.head()"
   ]
  },
  {
   "cell_type": "code",
   "execution_count": 80,
   "id": "a9d82336-8e7e-4ff7-be76-a83d479808a7",
   "metadata": {},
   "outputs": [],
   "source": [
    "def get_df(area,exp):\n",
    "    filename = f'area_id_{area}exp_id_'+str(exp)+'.csv'\n",
    "    return pd.read_csv(Path.home() / 'Desktop' / 'data' / 'connectivity' / 'unionized_data_from_hem_1_VISpm_projecting_experiments' / filename)"
   ]
  },
  {
   "cell_type": "code",
   "execution_count": 88,
   "id": "ef0fae83-55ea-4985-aa03-b0cdb27f0971",
   "metadata": {},
   "outputs": [
    {
     "data": {
      "text/plain": [
       "[[8860, 380, 4330, 74.3925409052609],\n",
       " [8400, 540, 4210, 34.3892734144254],\n",
       " [8900, 390, 4310, 9.4033566420124],\n",
       " [8400, 350, 4190, 16.347809748976],\n",
       " [8390, 360, 4210, 0.241927406467233],\n",
       " [8110, 480, 3490, 1.66879267261235],\n",
       " [8450, 420, 4290, 0.45874831468067],\n",
       " [8380, 1080, 4120, 0.761513895200963],\n",
       " [8070, 450, 3700, 0.13765248388556],\n",
       " [8810, 330, 4080, 0.0063527976733433],\n",
       " [9550, 580, 4340, 0.0079557088869525]]"
      ]
     },
     "execution_count": 88,
     "metadata": {},
     "output_type": "execute_result"
    }
   ],
   "source": [
    "# checking why area 223 was filtered out in centroids calculation loop\n",
    "HEMISPHERE_TO_FILTER = 1\n",
    "missing_area = 425\n",
    "coordinates = []\n",
    "for exp in meta_data_dict[missing_area]:\n",
    "    edf = get_df(missing_area,exp)\n",
    "    edf = edf[edf['structure_id']==target_area_id]\n",
    "    coordinates.append([edf[edf['hemisphere_id']==HEMISPHERE_TO_FILTER]['max_voxel_x'].item(), edf[edf['hemisphere_id']==HEMISPHERE_TO_FILTER]['max_voxel_y'].item(), edf[edf['hemisphere_id']==HEMISPHERE_TO_FILTER]['max_voxel_z'].item(), edf[edf['hemisphere_id']==HEMISPHERE_TO_FILTER][projection_metric].item()])\n",
    "coordinates"
   ]
  },
  {
   "cell_type": "code",
   "execution_count": null,
   "id": "c179f6ad-f790-4603-a7f5-dbe061d5b0c8",
   "metadata": {},
   "outputs": [],
   "source": []
  },
  {
   "cell_type": "code",
   "execution_count": 72,
   "id": "dfdc082a-ff32-4dba-a4b1-2aab6761fa30",
   "metadata": {},
   "outputs": [],
   "source": [
    "data_arr = np.array(list(data_dict.values()))"
   ]
  },
  {
   "cell_type": "code",
   "execution_count": 73,
   "id": "14fcde15-d576-4a87-a0c3-0ee1b50d8b78",
   "metadata": {},
   "outputs": [
    {
     "data": {
      "text/plain": [
       "array([4.32607678e-02, 9.99917943e-02, 1.89509241e-01, 1.12073012e-01,\n",
       "       3.77172140e-04, 5.84676832e-04, 4.12903620e-03, 1.24669889e-04,\n",
       "       3.22907208e-03, 5.20299615e-05, 8.05453516e-01, 6.63402735e-03,\n",
       "       9.53821044e-04, 5.73403095e-04, 9.89055144e-06, 1.78022206e-02,\n",
       "       1.97104404e-01, 2.45615084e-01, 6.47390069e-02, 9.42614628e-04,\n",
       "       1.30805765e-03, 1.17795003e-03, 1.17636689e-05, 4.38742933e-05,\n",
       "       1.75589512e-03, 6.62655624e-06, 4.79337006e-03, 3.40578011e-04,\n",
       "       3.88736766e-04, 5.67798410e-01, 3.06903074e-05, 1.24608183e-01,\n",
       "       6.81424303e-02, 2.81296962e-05, 1.68701163e-03, 1.67584941e-05,\n",
       "       3.48513431e-05, 4.13540359e-01, 1.12767575e-03, 3.78437909e-04,\n",
       "       6.05158739e-02, 2.02557624e-03, 2.16138951e-03, 3.41295740e-06,\n",
       "       1.29191837e-02, 2.94515110e-01, 1.04897600e+00, 7.22553602e-03,\n",
       "       3.47744071e-01, 5.80335046e-03, 9.68764325e-02, 1.39300064e-02,\n",
       "       8.73133803e-03, 1.05645890e+00, 1.49180610e-04, 2.13505724e-03,\n",
       "       1.66645175e-01, 3.44875662e-02, 9.54098044e-05, 2.75435675e-04,\n",
       "       4.36510543e-05, 1.38587928e-04, 3.80997546e-01, 2.60092514e-01,\n",
       "       1.19879518e-03, 4.43298520e-03, 1.12749720e-01, 3.29098591e+00,\n",
       "       5.08800122e-06, 7.59780421e-04, 7.62456900e-04, 6.92916090e-05,\n",
       "       2.01262319e-05, 1.22050509e-04, 1.20290260e-01, 5.76558421e-05,\n",
       "       1.89367767e-01, 1.17598788e-04, 8.74437110e-05, 2.46758008e-01,\n",
       "       3.39214946e-01, 6.90012188e-06, 4.96761881e-04, 1.44840628e-03,\n",
       "       4.92521992e-03, 2.62673420e-02, 4.65158058e-04, 2.75448948e-02,\n",
       "       5.12195577e-05, 1.13185199e-03])"
      ]
     },
     "execution_count": 73,
     "metadata": {},
     "output_type": "execute_result"
    }
   ],
   "source": [
    "data_arr[:,3]"
   ]
  },
  {
   "cell_type": "code",
   "execution_count": 78,
   "id": "19587525-c575-4782-b659-0d19764f3d0d",
   "metadata": {},
   "outputs": [
    {
     "data": {
      "image/png": "[encoded data removed]",
      "text/plain": [
       "<Figure size 640x480 with 1 Axes>"
      ]
     },
     "metadata": {},
     "output_type": "display_data"
    }
   ],
   "source": [
    "plt.hist(data_arr[:,3],bins=20)\n",
    "plt.show()"
   ]
  },
  {
   "cell_type": "code",
   "execution_count": null,
   "id": "9b7921f5-64fb-45e0-9721-95b0d183c64c",
   "metadata": {},
   "outputs": [],
   "source": []
  },
  {
   "cell_type": "code",
   "execution_count": 75,
   "id": "688188de-775a-44c8-b328-a78a78a152ca",
   "metadata": {},
   "outputs": [],
   "source": [
    "# check distributions in specific areas"
   ]
  },
  {
   "cell_type": "code",
   "execution_count": 76,
   "id": "1de42ab1-7c48-42a7-9341-9e62b44c59cb",
   "metadata": {},
   "outputs": [
    {
     "name": "stdout",
     "output_type": "stream",
     "text": [
      "CA3 463\n",
      "TEa 541\n",
      "ENTm 926\n",
      "ENTl 918\n",
      "DG 726\n",
      "SCs 5744\n",
      "SCm 16680\n"
     ]
    }
   ],
   "source": [
    "areas_to_check = ['CA3','TEa','ENTm','ENTl','DG','SCs','SCm']\n",
    "for area in areas_to_check:\n",
    "    print(area,RMAStructure(acronym=area).id)"
   ]
  },
  {
   "cell_type": "code",
   "execution_count": null,
   "id": "8d1f1387-2202-4acc-86b5-f7fccbc5ea67",
   "metadata": {},
   "outputs": [],
   "source": []
  },
  {
   "cell_type": "code",
   "execution_count": null,
   "id": "d4f68f90-4ab6-49b3-b365-c7b676929468",
   "metadata": {},
   "outputs": [],
   "source": []
  },
  {
   "cell_type": "code",
   "execution_count": 77,
   "id": "b7ac6d8a-719d-4c9f-8154-9d266fb99f30",
   "metadata": {},
   "outputs": [],
   "source": [
    "# impletement volume thresholding - get the value of injection/target volume from unionized data - filter out low volume experiments"
   ]
  },
  {
   "cell_type": "code",
   "execution_count": null,
   "id": "d0b596c0-5319-4d67-8238-4de1f05a15b5",
   "metadata": {},
   "outputs": [],
   "source": []
  }
 ],
 "metadata": {
  "kernelspec": {
   "display_name": "Python [conda env:allendata]",
   "language": "python",
   "name": "conda-env-allendata-py"
  },
  "language_info": {
   "codemirror_mode": {
    "name": "ipython",
    "version": 3
   },
   "file_extension": ".py",
   "mimetype": "text/x-python",
   "name": "python",
   "nbconvert_exporter": "python",
   "pygments_lexer": "ipython3",
   "version": "3.7.15"
  }
 },
 "nbformat": 4,
 "nbformat_minor": 5
}
