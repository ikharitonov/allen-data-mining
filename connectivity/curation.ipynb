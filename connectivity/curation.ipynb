{
 "cells": [
  {
   "cell_type": "code",
   "execution_count": 2,
   "id": "920c0254-5f45-4c92-91b1-9d27eee52bba",
   "metadata": {},
   "outputs": [],
   "source": [
    "import matplotlib.pyplot as plt\n",
    "import numpy as np\n",
    "import pandas as pd\n",
    "from pathlib import Path\n",
    "import pickle\n",
    "import os"
   ]
  },
  {
   "cell_type": "code",
   "execution_count": 3,
   "id": "c45d9baa-232f-457c-ba67-648a6f66b82a",
   "metadata": {},
   "outputs": [],
   "source": [
    "from allensdk.api.queries.rma_api import RmaApi\n",
    "rma = RmaApi()"
   ]
  },
  {
   "cell_type": "code",
   "execution_count": 4,
   "id": "6c769e8c-2d79-4090-862c-070ffcff8ada",
   "metadata": {},
   "outputs": [],
   "source": [
    "def get_proj_metric_value(path,target_area,source_area,experiment):\n",
    "    filename = 'area_id_'+str(source_area)+'exp_id_'+str(experiment)+'.csv'\n",
    "    data_df = pd.read_csv(path / filename)\n",
    "    return data_df[(data_df['hemisphere_id']==1) & (data_df['structure_id']==target_area)]['projection_energy'].item()\n",
    "\n",
    "def query_structure_by_acronym(s_acronym):\n",
    "    query = rma.model_query('StructureLookup', criteria=\"structure[acronym$eq\"+str(s_acronym)+\"]\",include=\"structure\")[0]\n",
    "    return query['structure']\n",
    "\n",
    "def query_structure_by_id(s_id):\n",
    "    query = rma.model_query('StructureLookup', criteria=\"structure[id$eq\"+str(s_id)+\"]\",include=\"structure\")[0]\n",
    "    return query['structure']"
   ]
  },
  {
   "cell_type": "code",
   "execution_count": 5,
   "id": "83fb4ddc-8059-4e88-8e97-1d5a7a60837c",
   "metadata": {},
   "outputs": [],
   "source": [
    "target_area_name = 'RSPagl'\n",
    "target_area_id = query_structure_by_acronym(target_area_name)['id']"
   ]
  },
  {
   "cell_type": "code",
   "execution_count": 14,
   "id": "8729a484-858a-47e7-90ca-1c1204a7ffc5",
   "metadata": {},
   "outputs": [],
   "source": [
    "path = Path.home() / 'Desktop' / 'data' / 'connectivity'\n",
    "filename = path / 'filtered_area_experiment_id_dict_2_hem_2_RSPagl_vol.pkl'\n",
    "with open(filename, 'rb') as f: data_dict = pickle.load(f)"
   ]
  },
  {
   "cell_type": "code",
   "execution_count": 15,
   "id": "5ad1880e-d93b-4698-b2a7-0835f2a4ab5e",
   "metadata": {},
   "outputs": [],
   "source": [
    "filepath = path / 'unionized_data_from_hem_2_RSPagl_projecting_experiments'"
   ]
  },
  {
   "cell_type": "code",
   "execution_count": 16,
   "id": "8d1f1387-2202-4acc-86b5-f7fccbc5ea67",
   "metadata": {},
   "outputs": [
    {
     "name": "stderr",
     "output_type": "stream",
     "text": [
      "C:\\Users\\sarfi\\anaconda3\\envs\\allendata\\lib\\site-packages\\ipykernel_launcher.py:21: RuntimeWarning: Mean of empty slice.\n",
      "C:\\Users\\sarfi\\anaconda3\\envs\\allendata\\lib\\site-packages\\numpy\\core\\_methods.py:189: RuntimeWarning: invalid value encountered in double_scalars\n",
      "  ret = ret.dtype.type(ret / rcount)\n",
      "C:\\Users\\sarfi\\anaconda3\\envs\\allendata\\lib\\site-packages\\numpy\\core\\_methods.py:263: RuntimeWarning: Degrees of freedom <= 0 for slice\n",
      "  keepdims=keepdims, where=where)\n",
      "C:\\Users\\sarfi\\anaconda3\\envs\\allendata\\lib\\site-packages\\numpy\\core\\_methods.py:223: RuntimeWarning: invalid value encountered in true_divide\n",
      "  subok=False)\n",
      "C:\\Users\\sarfi\\anaconda3\\envs\\allendata\\lib\\site-packages\\numpy\\core\\_methods.py:254: RuntimeWarning: invalid value encountered in double_scalars\n",
      "  ret = ret.dtype.type(ret / rcount)\n"
     ]
    }
   ],
   "source": [
    "# f, axes = plt.subplots(2, len(data_dict)//2, figsize=(20,500))\n",
    "\n",
    "# i = 0\n",
    "# plot_col = 0\n",
    "\n",
    "area_list = []\n",
    "mean_std_arr = []\n",
    "\n",
    "for area, exps_list in data_dict.items():\n",
    "    \n",
    "    # if i == len(data_dict)//2: plot_col = 1\n",
    "    \n",
    "    # print(f'{area}:')\n",
    "    area_data = []\n",
    "    for e in exps_list:\n",
    "        area_data.append(get_proj_metric_value(filepath,target_area_id , area, e))\n",
    "        # print(f'experiment {e} == {get_proj_metric_value(filepath,target_area_id , area, e)}')\n",
    "    area_data = np.array(area_data)\n",
    "    \n",
    "    area_list.append(area)\n",
    "    mean_std_arr.append([area_data.mean(), area_data.std()])\n",
    "    \n",
    "    # print(f'area {area} mean = {area_data.mean()} std = {area_data.std()}')\n",
    "    # axes[i][plot_col].hist(area_data)\n",
    "    # axes[i][plot_col].title(query_structure_by_id(area)['acronym']+' '+str(area))\n",
    "# plt.show()"
   ]
  },
  {
   "cell_type": "code",
   "execution_count": 8,
   "id": "8f333e5c-ceb9-4a9c-be75-cfa2c9db9a56",
   "metadata": {},
   "outputs": [],
   "source": [
    "mean_std_arr = np.array(mean_std_arr)\n",
    "area_list = np.array(area_list)"
   ]
  },
  {
   "cell_type": "code",
   "execution_count": 9,
   "id": "e269b334-9abe-4c6e-bbae-efb057a59e1b",
   "metadata": {},
   "outputs": [
    {
     "data": {
      "text/plain": [
       "(0,)"
      ]
     },
     "execution_count": 9,
     "metadata": {},
     "output_type": "execute_result"
    }
   ],
   "source": [
    "area_list.shape"
   ]
  },
  {
   "cell_type": "code",
   "execution_count": 10,
   "id": "ce797caa-f9f7-42a2-9e19-3e4ec861ed89",
   "metadata": {},
   "outputs": [
    {
     "ename": "IndexError",
     "evalue": "too many indices for array: array is 1-dimensional, but 2 were indexed",
     "output_type": "error",
     "traceback": [
      "\u001b[1;31m---------------------------------------------------------------------------\u001b[0m",
      "\u001b[1;31mIndexError\u001b[0m                                Traceback (most recent call last)",
      "\u001b[1;32m~\\AppData\\Local\\Temp\\ipykernel_22596\\3623771599.py\u001b[0m in \u001b[0;36m<module>\u001b[1;34m\u001b[0m\n\u001b[0;32m      1\u001b[0m \u001b[0mplt\u001b[0m\u001b[1;33m.\u001b[0m\u001b[0mfigure\u001b[0m\u001b[1;33m(\u001b[0m\u001b[0mfigsize\u001b[0m\u001b[1;33m=\u001b[0m\u001b[1;33m(\u001b[0m\u001b[1;36m5\u001b[0m\u001b[1;33m,\u001b[0m\u001b[1;36m15\u001b[0m\u001b[1;33m)\u001b[0m\u001b[1;33m)\u001b[0m\u001b[1;33m\u001b[0m\u001b[1;33m\u001b[0m\u001b[0m\n\u001b[1;32m----> 2\u001b[1;33m \u001b[0mplt\u001b[0m\u001b[1;33m.\u001b[0m\u001b[0merrorbar\u001b[0m\u001b[1;33m(\u001b[0m\u001b[0marea_list\u001b[0m\u001b[1;33m,\u001b[0m\u001b[0mmean_std_arr\u001b[0m\u001b[1;33m[\u001b[0m\u001b[1;33m:\u001b[0m\u001b[1;33m,\u001b[0m\u001b[1;36m0\u001b[0m\u001b[1;33m]\u001b[0m\u001b[1;33m,\u001b[0m\u001b[0myerr\u001b[0m\u001b[1;33m=\u001b[0m\u001b[0mmean_std_arr\u001b[0m\u001b[1;33m[\u001b[0m\u001b[1;33m:\u001b[0m\u001b[1;33m,\u001b[0m\u001b[1;36m1\u001b[0m\u001b[1;33m]\u001b[0m\u001b[1;33m)\u001b[0m\u001b[1;33m\u001b[0m\u001b[1;33m\u001b[0m\u001b[0m\n\u001b[0m\u001b[0;32m      3\u001b[0m \u001b[0mplt\u001b[0m\u001b[1;33m.\u001b[0m\u001b[0mshow\u001b[0m\u001b[1;33m(\u001b[0m\u001b[1;33m)\u001b[0m\u001b[1;33m\u001b[0m\u001b[1;33m\u001b[0m\u001b[0m\n",
      "\u001b[1;31mIndexError\u001b[0m: too many indices for array: array is 1-dimensional, but 2 were indexed"
     ]
    },
    {
     "data": {
      "text/plain": [
       "<Figure size 360x1080 with 0 Axes>"
      ]
     },
     "metadata": {},
     "output_type": "display_data"
    }
   ],
   "source": [
    "plt.figure(figsize=(5,15))\n",
    "plt.errorbar(area_list,mean_std_arr[:,0],yerr=mean_std_arr[:,1])\n",
    "plt.show()"
   ]
  },
  {
   "cell_type": "code",
   "execution_count": null,
   "id": "5971076f-4ea3-4062-bfcc-f15910996e51",
   "metadata": {},
   "outputs": [],
   "source": []
  },
  {
   "cell_type": "code",
   "execution_count": null,
   "id": "d4f68f90-4ab6-49b3-b365-c7b676929468",
   "metadata": {},
   "outputs": [],
   "source": []
  },
  {
   "cell_type": "code",
   "execution_count": null,
   "id": "b7ac6d8a-719d-4c9f-8154-9d266fb99f30",
   "metadata": {},
   "outputs": [],
   "source": [
    "# impletement volume thresholding - get the value of injection/target volume from unionized data - filter out low volume experiments"
   ]
  },
  {
   "cell_type": "code",
   "execution_count": null,
   "id": "a11dd61b-3fd2-460b-9250-b27513d6ddff",
   "metadata": {},
   "outputs": [],
   "source": [
    "path = Path.home() / 'Desktop' / 'data' / 'connectivity' / 'unionized_data_from_hem_2_RSPagl_projecting_experiments'\n",
    "filename = 'area_id_795exp_id_272699357.csv'\n",
    "data_df = pd.read_csv(path / filename)\n",
    "data_df[(data_df['hemisphere_id']==1) & (data_df['structure_id']==target_area_id)]"
   ]
  },
  {
   "cell_type": "code",
   "execution_count": null,
   "id": "4375dabd-3924-42f2-a932-c4d611ec8ef1",
   "metadata": {},
   "outputs": [],
   "source": []
  },
  {
   "cell_type": "code",
   "execution_count": null,
   "id": "d0b596c0-5319-4d67-8238-4de1f05a15b5",
   "metadata": {},
   "outputs": [],
   "source": []
  }
 ],
 "metadata": {
  "kernelspec": {
   "display_name": "Python [conda env:allendata]",
   "language": "python",
   "name": "conda-env-allendata-py"
  },
  "language_info": {
   "codemirror_mode": {
    "name": "ipython",
    "version": 3
   },
   "file_extension": ".py",
   "mimetype": "text/x-python",
   "name": "python",
   "nbconvert_exporter": "python",
   "pygments_lexer": "ipython3",
   "version": "3.7.13"
  }
 },
 "nbformat": 4,
 "nbformat_minor": 5
}
