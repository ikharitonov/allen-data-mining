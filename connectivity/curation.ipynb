{
 "cells": [
  {
   "cell_type": "code",
   "execution_count": 1,
   "id": "920c0254-5f45-4c92-91b1-9d27eee52bba",
   "metadata": {},
   "outputs": [],
   "source": [
    "import os\n",
    "import sys\n",
    "module_path = os.path.abspath(os.path.join('..'))\n",
    "if module_path not in sys.path: sys.path.append(module_path)\n",
    "\n",
    "import matplotlib.pyplot as plt\n",
    "import numpy as np\n",
    "import pandas as pd\n",
    "from pathlib import Path\n",
    "import pickle\n",
    "import os\n",
    "\n",
    "from RMALoaders import *"
   ]
  },
  {
   "cell_type": "code",
   "execution_count": 2,
   "id": "867cdd63-da92-40a7-bcb9-3183948c77f0",
   "metadata": {},
   "outputs": [],
   "source": [
    "connectivity_path = Path.home() / 'Desktop' / 'data' / 'connectivity'\n",
    "path = connectivity_path / 'centroids_projection_energy_hem_id_1_inj_vol_thresh_0.01_target_vol_thresh_0.1_VISam'"
   ]
  },
  {
   "cell_type": "code",
   "execution_count": 3,
   "id": "5bab4dce-d0b4-4d54-8947-3cfe882f32d0",
   "metadata": {},
   "outputs": [],
   "source": [
    "filename = 'ipsilateral_centroids_dict_hem_1_inj_vol_thresh_0.01_target_vol_thresh_0.1_VISam.pkl'\n",
    "with open(path/filename, 'rb') as f: centroids_dict = pickle.load(f)"
   ]
  },
  {
   "cell_type": "code",
   "execution_count": 4,
   "id": "c08145d1-0fb3-40b3-a508-b65c410326c6",
   "metadata": {},
   "outputs": [],
   "source": [
    "with open(connectivity_path/'areas_acronyms.pkl', 'rb') as f: areas_acronyms = pickle.load(f)"
   ]
  },
  {
   "cell_type": "code",
   "execution_count": 5,
   "id": "b9ae4397-14fc-4c4a-a90c-11f1e41d2d90",
   "metadata": {},
   "outputs": [],
   "source": [
    "with open(path/'experiment_list_log.pkl', 'rb') as f: log = pickle.load(f)"
   ]
  },
  {
   "cell_type": "code",
   "execution_count": 6,
   "id": "ba56a52e-12d4-474b-b4db-955013ba5116",
   "metadata": {},
   "outputs": [
    {
     "name": "stdout",
     "output_type": "stream",
     "text": [
      "{795: 'PAG', 223: 'ARH', 731: 'ORBm', 266: 'LSv', 914: 'PD', 207: 'AP', 1049: 'FL', 609: 'SPA', 35: 'III', 425: 'VISpl', 1009: 'fiber tracts', 926: 'ENTm', 38: 'PVH', 1105: 'IA', 59: 'IMD', 302: 'SCs', 390: 'SO', 591: 'CLI', 262: 'RT', 872: 'DR', 101: 'VCO', 1061: 'PPT', 287: 'BAC', 1048: 'GRN', 1084: 'PRE', 30: 'PVa', 564: 'MS', 604: 'NI', 238: 'RPO', 619: 'NLOT', 689: 'VLPO', 378: 'SSs', 985: 'MOp', 409: 'VISl', 88: 'AHN', 362: 'MD', 880: 'DTN', 614: 'TU', 422: 'SPFp', 255: 'AV', 576073699: 'VMPO', 726: 'DG', 978: 'PGRNl', 549009223: 'PC5', 333: 'SH', 27: 'IGL', 184: 'FRP', 361: 'SSp-tr', 131: 'LA', 170: 'LGd', 886: 'RSPv', 746: 'ORBvl', 483: 'MH', 583: 'CLA', 23: 'AAA', 706: 'OP', 677: 'VISC', 1037: 'POST', 133: 'PVpo', 484682470: 'ProS', 966: 'EPv', 353: 'SSp-n', 1025: 'PRM', 1093: 'PRNc', 151: 'AOB', 763: 'OV', 280: 'B', 369: 'SSp-ul', 830: 'DMH', 765: 'x', 507: 'MOB', 231: 'AT', 356: 'PST', 839: 'DMX', 549009215: 'P5', 647: 'COAp', 463: 'CA3', 536: 'CEA', 206: 'RM', 612: 'NLL', 169: 'PRP', 258: 'LSr', 898: 'PCG', 757: 'VTN', 66: 'LT', 968: 'NOD', 484682508: 'APr', 182305689: 'SSp-un', 621: 'V', 210: 'LM', 4: 'IC', 852: 'PARN', 177: 'NR', 374: 'SNc', 215: 'APN', 589508451: 'Pa5', 639: 'COAa', 263: 'AVP', 982: 'FC', 178: 'LGv', 534: 'SUT', 136: 'IRN', 75: 'DT', 894: 'RSPagl', 607344830: 'PN', 106: 'ISN', 975: 'EW', 437: 'SPVI', 222: 'RO', 970: 'PGRNd', 1027: 'AUDpo', 347: 'SBPV', 1031: 'GPi', 918: 'ENTl', 1077: 'PR', 773: 'XII', 733: 'VPM', 15: 'PT', 12: 'IF', 574: 'TRN', 549009219: 'Acs5', 10671: 'ME', 345: 'SSp-m', 128: 'MRN', 581: 'TRS', 1033: 'COPY', 127: 'AM', 1113: 'IAD', 589508447: 'HATA', 7: 'PSV', 100: 'IPN', 1017: 'AN', 385: 'VISp', 470: 'STN', 843: 'PAR', 181: 'RE', 203: 'LIN', 920: 'CENT', 394: 'VISam', 149: 'PVT', 162: 'LDT', 350: 'SLC', 358: 'SLD', 194: 'LHA', 1041: 'PFL', 502: 'SUB', 998: 'FS', 96: 'DCO', 72: 'ADP', 235: 'LRN', 576073704: 'PeF', 398: 'SOC', 560581559: 'Xi', 1018: 'AUDv', 246: 'RR', 1007: 'SIM', 599626927: 'PDTg', 147: 'LC', 993: 'MOs', 118: 'PVi', 541: 'TEa', 549009227: 'I5', 576: 'ACVII', 312782546: 'VISa', 1044: 'PP', 115: 'IV', 629: 'VAL', 318: 'SG', 298: 'MA', 566: 'TR', 58: 'MT', 44: 'ILA', 879: 'RSPd', 312782574: 'VISli', 271: 'SAG', 723: 'ORBl', 922: 'PERI', 1039: 'GR', 342: 'SI', 491: 'MM', 972: 'PL', 272: 'AVPV', 867: 'PB', 63: 'PVHd', 741: 'VPMpc', 135: 'AMB', 1109: 'PS', 126: 'PVp', 596: 'NDB', 931: 'PG', 403: 'MEA', 515: 'MPN', 907: 'PCN', 173: 'RCH', 1002: 'AUDp', 718: 'VPL', 725: 'VPLpc', 295: 'BLA', 146: 'PRNr', 202: 'MV', 230: 'RPA', 414: 'SPFm', 616: 'CUN', 104: 'AId', 606826663: 'Pa4', 580: 'NB', 1029: 'POL', 563807435: 'PoT', 797: 'ZI', 460: 'MEV', 445: 'SPVO', 310: 'SF', 560581563: 'PIL', 693: 'VMH', 642: 'NTB', 423: 'CA2', 749: 'VTA', 951: 'PYR', 292: 'BA', 395: 'MDRN', 226: 'LPO', 653: 'VI', 531: 'MPT', 599: 'CM', 475: 'MG', 319: 'BMA', 218: 'LP', 225: 'SPIV', 1052: 'PPN', 1098: 'MDRNd', 364: 'PSTN', 197: 'RL', 563807439: 'IntG', 417: 'VISrl', 19: 'IG', 56: 'ACB', 286: 'SCH', 957: 'UVU', 859: 'PAS', 814: 'DP', 159: 'AON', 523: 'MPO', 1069: 'PPY', 325: 'SGN', 372: 'ICB', 250: 'LSc', 1022: 'GPe', 628: 'NOT', 402: 'VISal', 1020: 'PO', 186: 'LH', 944: 'FOTU', 685: 'VM', 337: 'SSp-ll', 294: 'SCm', 351: 'BST', 366: 'SMT', 980: 'PMd', 679: 'CS', 589: 'TT', 332: 'ASO', 874: 'PBG', 846: 'DN', 936: 'DEC', 788: 'PAA', 781: 'y', 952: 'EPd', 589508455: 'VeCB', 780: 'PA', 307: 'MARN', 661: 'VII', 549009211: 'MA3', 119: 'AIv', 452: 'MEPO', 903: 'ECU', 1011: 'AUDd', 1: 'TMv', 1004: 'PMv', 429: 'SPVC', 39: 'ACAd', 961: 'PIR', 946: 'PH', 111: 'AIp', 1107: 'MDRNv', 189: 'RH', 711: 'CU', 1120: 'IAM', 214: 'RN', 1057: 'GU', 525: 'SUM', 912: 'LING', 338: 'SFO', 217: 'SUV', 312782628: 'VISpor', 533: 'VISpm', 989: 'FN', 895: 'ECT', 575: 'CL', 91: 'IP', 634: 'NPC', 382: 'CA1', 599626923: 'SCO', 155: 'LD', 930: 'PF', 1126: 'TMd', 83: 'IO', 64: 'AD', 651: 'NTS', 209: 'LAV', 48: 'ACAv', 928: 'CUL', 329: 'SSp-bfd', 754: 'OT', 321: 'SubG', 381: 'SNr', 672: 'CP'}\n"
     ]
    }
   ],
   "source": [
    "print(areas_acronyms)"
   ]
  },
  {
   "cell_type": "code",
   "execution_count": 27,
   "id": "937fa1cc-9328-471d-b393-2aa3d51a1aa7",
   "metadata": {},
   "outputs": [
    {
     "data": {
      "text/plain": [
       "array([['ORBm', '731', '38.81764008447669'],\n",
       "       ['VISpl', '425', '11.39665559141695'],\n",
       "       ['VISl', '409', '136.2049408811814'],\n",
       "       ['AV', '255', '27.6066266443591'],\n",
       "       ['LGd', '170', '53.654837212054'],\n",
       "       ['RSPv', '886', '64.73910558561995'],\n",
       "       ['ORBvl', '746', '132.62698290780543'],\n",
       "       ['RSPagl', '894', '13.797468595597845'],\n",
       "       ['AUDpo', '1027', '441.973862516376'],\n",
       "       ['VISp', '385', '70.67805908698594'],\n",
       "       ['LDT', '162', '4.18178833038788'],\n",
       "       ['MOs', '993', '13.39450599759822'],\n",
       "       ['TEa', '541', '5.67925480112076'],\n",
       "       ['VISa', '312782546', '287.5206577109843'],\n",
       "       ['RSPd', '879', '36.4887439180757'],\n",
       "       ['VISli', '312782574', '94.54589205865337'],\n",
       "       ['SI', '342', '43.589037375743416'],\n",
       "       ['NDB', '596', '53.0231518702732'],\n",
       "       ['AUDp', '1002', '299.418019294861'],\n",
       "       ['LP', '218', '565.9653536803895'],\n",
       "       ['VISrl', '417', '197.75259704057643'],\n",
       "       ['VISal', '402', '265.1719789564647'],\n",
       "       ['AUDd', '1011', '76.9462348384738'],\n",
       "       ['ACAd', '39', '98.64564322176494'],\n",
       "       ['VISpor', '312782628', '64.79476118326849'],\n",
       "       ['VISpm', '533', '566.2078088619913'],\n",
       "       ['ACAv', '48', '19.911632424517965'],\n",
       "       ['SSp-bfd', '329', '74.90784541717849']], dtype='<U32')"
      ]
     },
     "execution_count": 27,
     "metadata": {},
     "output_type": "execute_result"
    }
   ],
   "source": [
    "l = np.array([[areas_acronyms[area_id], area_id, centroids_dict[area_id][-1]] for area_id in centroids_dict.keys()])\n",
    "l"
   ]
  },
  {
   "cell_type": "code",
   "execution_count": 9,
   "id": "2d7e8ac9-1d0d-452a-b0b8-f2b09a8fe365",
   "metadata": {},
   "outputs": [
    {
     "name": "stdout",
     "output_type": "stream",
     "text": [
      "[7640, 2731, 781, 299.418019294861]\n",
      "[8310, 2285, 1501, 441.973862516376]\n"
     ]
    }
   ],
   "source": [
    "# 1027: 'AUDpo'\n",
    "# 1002: 'AUDp'\n",
    "\n",
    "print(centroids_dict[1002])\n",
    "print(centroids_dict[1027])"
   ]
  },
  {
   "cell_type": "code",
   "execution_count": 10,
   "id": "f25608f6-98c4-4b2a-b0ad-7862dad5277e",
   "metadata": {},
   "outputs": [
    {
     "data": {
      "text/plain": [
       "dict_keys(['step_1_collected_from_web_metadata', 'step_2_overlapping_injection_and_target_structures_removed', 'step_3_hemisphere_id_1_only_selected', 'step_4_zero_value_projection_experiments_removed', 'step_5_injection_volume_thresholding_done', 'step_6_separated_by_projection', 'step_7_projection_volume_thresholding_done', 'step_8_data_used_for_centroids_computation_zero_experiment_areas_removed'])"
      ]
     },
     "execution_count": 10,
     "metadata": {},
     "output_type": "execute_result"
    }
   ],
   "source": [
    "log.keys()"
   ]
  },
  {
   "cell_type": "code",
   "execution_count": 23,
   "id": "513b8d65-0364-4c30-8375-3bb602dbc25a",
   "metadata": {},
   "outputs": [
    {
     "name": "stdout",
     "output_type": "stream",
     "text": [
      "[554421791, 606100558, 579203888, 587345518, 563179067, 566730846, 556922099]\n",
      "{554421791: [8110, 2290, 1840, 1292.13683894428], 606100558: [8380, 2150, 1100, 929.829720351346], 579203888: [8730, 3070, 1470, 161.805188499349], 587345518: [8510, 2400, 1260, 378.624620599796], 563179067: [8550, 2140, 1470, 205.137414532017], 566730846: [8310, 2070, 1790, 110.855528487084], 556922099: [8480, 2500, 1860, 15.4277262007604]}\n"
     ]
    }
   ],
   "source": [
    "# AUDpo\n",
    "print(log['step_7_projection_volume_thresholding_done'][0]['ipsilateral_experiment_list'][1027])\n",
    "print(log['step_8_data_used_for_centroids_computation_zero_experiment_areas_removed'][0]['ipsilateral_xyz_coordinates'][1027])"
   ]
  },
  {
   "cell_type": "code",
   "execution_count": 24,
   "id": "6966db38-14de-4f6e-bc48-18fabf5023cc",
   "metadata": {},
   "outputs": [
    {
     "name": "stdout",
     "output_type": "stream",
     "text": [
      "[562671482, 576332845, 569994739]\n",
      "{562671482: [7570, 2720, 780, 616.620730882367], 576332845: [7710, 2740, 730, 254.584881011162], 569994739: [8580, 2930, 1310, 27.048445991054]}\n"
     ]
    }
   ],
   "source": [
    "# AUDp\n",
    "print(log['step_7_projection_volume_thresholding_done'][0]['ipsilateral_experiment_list'][1002])\n",
    "print(log['step_8_data_used_for_centroids_computation_zero_experiment_areas_removed'][0]['ipsilateral_xyz_coordinates'][1002])"
   ]
  },
  {
   "cell_type": "code",
   "execution_count": 42,
   "id": "55bbf9be-4360-4db4-977c-ededc1f98d78",
   "metadata": {},
   "outputs": [],
   "source": [
    "average_projection_values = np.array(list(centroids_dict.values()))[:,3]"
   ]
  },
  {
   "cell_type": "code",
   "execution_count": 62,
   "id": "d15b0f1b-a482-478a-8b7b-12c454efcb00",
   "metadata": {},
   "outputs": [
    {
     "data": {
      "text/plain": [
       "(array([1., 0., 0., 1., 0., 0., 0., 0., 0., 1.]),\n",
       " array([ 27.04844599,  86.00567448, 144.96290297, 203.92013146,\n",
       "        262.87735995, 321.83458844, 380.79181693, 439.74904541,\n",
       "        498.7062739 , 557.66350239, 616.62073088]),\n",
       " <BarContainer object of 10 artists>)"
      ]
     },
     "execution_count": 62,
     "metadata": {},
     "output_type": "execute_result"
    },
    {
     "data": {
      "image/png": "[encoded data removed]",
      "text/plain": [
       "<Figure size 1500x600 with 3 Axes>"
      ]
     },
     "metadata": {},
     "output_type": "display_data"
    }
   ],
   "source": [
    "fig, axes = plt.subplots(1,3,figsize=(15,6))\n",
    "\n",
    "axes[0].set_title('average projection values over all areas')\n",
    "axes[0].hist(average_projection_values)\n",
    "\n",
    "axes[1].set_title('AUDpo experiments')\n",
    "vals = np.array(list(log['step_8_data_used_for_centroids_computation_zero_experiment_areas_removed'][0]['ipsilateral_xyz_coordinates'][1027].values()))[:,3]\n",
    "axes[1].hist(vals)\n",
    "\n",
    "axes[2].set_title('AUDp experiments')\n",
    "vals = np.array(list(log['step_8_data_used_for_centroids_computation_zero_experiment_areas_removed'][0]['ipsilateral_xyz_coordinates'][1002].values()))[:,3]\n",
    "axes[2].hist(vals)"
   ]
  },
  {
   "cell_type": "code",
   "execution_count": null,
   "id": "afb6e816-4354-45d9-8a80-9153bbe48e20",
   "metadata": {},
   "outputs": [],
   "source": []
  }
 ],
 "metadata": {
  "kernelspec": {
   "display_name": "Python [conda env:allendata]",
   "language": "python",
   "name": "conda-env-allendata-py"
  },
  "language_info": {
   "codemirror_mode": {
    "name": "ipython",
    "version": 3
   },
   "file_extension": ".py",
   "mimetype": "text/x-python",
   "name": "python",
   "nbconvert_exporter": "python",
   "pygments_lexer": "ipython3",
   "version": "3.7.15"
  }
 },
 "nbformat": 4,
 "nbformat_minor": 5
}
