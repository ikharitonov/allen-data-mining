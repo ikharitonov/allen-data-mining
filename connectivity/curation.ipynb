{
 "cells": [
  {
   "cell_type": "code",
   "execution_count": 7,
   "id": "920c0254-5f45-4c92-91b1-9d27eee52bba",
   "metadata": {},
   "outputs": [],
   "source": [
    "import matplotlib.pyplot as plt\n",
    "import numpy as np\n",
    "import pandas as pd\n",
    "from pathlib import Path\n",
    "import pickle\n",
    "import os"
   ]
  },
  {
   "cell_type": "code",
   "execution_count": 11,
   "id": "c45d9baa-232f-457c-ba67-648a6f66b82a",
   "metadata": {},
   "outputs": [],
   "source": [
    "from allensdk.api.queries.rma_api import RmaApi\n",
    "rma = RmaApi()"
   ]
  },
  {
   "cell_type": "code",
   "execution_count": 36,
   "id": "6c769e8c-2d79-4090-862c-070ffcff8ada",
   "metadata": {},
   "outputs": [],
   "source": [
    "def get_proj_metric_value(path,target_area,source_area,experiment):\n",
    "    filename = 'area_id_'+str(source_area)+'exp_id_'+str(experiment)+'.csv'\n",
    "    data_df = pd.read_csv(path / filename)\n",
    "    return data_df[(data_df['hemisphere_id']==1) & (data_df['structure_id']==target_area)]['projection_energy'].item()\n",
    "\n",
    "def query_structure_by_acronym(s_acronym):\n",
    "    query = rma.model_query('StructureLookup', criteria=\"structure[acronym$eq\"+str(s_acronym)+\"]\",include=\"structure\")[0]\n",
    "    return query['structure']\n",
    "\n",
    "def query_structure_by_id(s_id):\n",
    "    query = rma.model_query('StructureLookup', criteria=\"structure[id$eq\"+str(s_id)+\"]\",include=\"structure\")[0]\n",
    "    return query['structure']"
   ]
  },
  {
   "cell_type": "code",
   "execution_count": 29,
   "id": "83fb4ddc-8059-4e88-8e97-1d5a7a60837c",
   "metadata": {},
   "outputs": [],
   "source": [
    "target_area_name = 'RSPagl'\n",
    "target_area_id = query_structure_by_acronym(target_area_name)['id']"
   ]
  },
  {
   "cell_type": "code",
   "execution_count": 30,
   "id": "8729a484-858a-47e7-90ca-1c1204a7ffc5",
   "metadata": {},
   "outputs": [],
   "source": [
    "path = Path.home() / 'Desktop' / 'data' / 'connectivity'\n",
    "filename = path / 'filtered_area_experiment_id_dict_2_hem_1_RSPagl_vol.pkl'\n",
    "with open(filename, 'rb') as f: data_dict = pickle.load(f)"
   ]
  },
  {
   "cell_type": "code",
   "execution_count": 59,
   "id": "8d1f1387-2202-4acc-86b5-f7fccbc5ea67",
   "metadata": {},
   "outputs": [
    {
     "name": "stderr",
     "output_type": "stream",
     "text": [
      "/home/ikharitonov/anaconda3/envs/allendata/lib/python3.7/site-packages/ipykernel_launcher.py:21: RuntimeWarning: Mean of empty slice.\n",
      "/home/ikharitonov/anaconda3/envs/allendata/lib/python3.7/site-packages/numpy/core/_methods.py:188: RuntimeWarning: invalid value encountered in double_scalars\n",
      "  ret = ret.dtype.type(ret / rcount)\n",
      "/home/ikharitonov/anaconda3/envs/allendata/lib/python3.7/site-packages/numpy/core/_methods.py:262: RuntimeWarning: Degrees of freedom <= 0 for slice\n",
      "  keepdims=keepdims, where=where)\n",
      "/home/ikharitonov/anaconda3/envs/allendata/lib/python3.7/site-packages/numpy/core/_methods.py:222: RuntimeWarning: invalid value encountered in true_divide\n",
      "  subok=False)\n",
      "/home/ikharitonov/anaconda3/envs/allendata/lib/python3.7/site-packages/numpy/core/_methods.py:253: RuntimeWarning: invalid value encountered in double_scalars\n",
      "  ret = ret.dtype.type(ret / rcount)\n"
     ]
    }
   ],
   "source": [
    "# f, axes = plt.subplots(2, len(data_dict)//2, figsize=(20,500))\n",
    "\n",
    "# i = 0\n",
    "# plot_col = 0\n",
    "\n",
    "area_list = []\n",
    "mean_std_arr = []\n",
    "\n",
    "for area, exps_list in data_dict.items():\n",
    "    \n",
    "    if i == len(data_dict)//2: plot_col = 1\n",
    "    \n",
    "    # print(f'{area}:')\n",
    "    area_data = []\n",
    "    for e in exps_list:\n",
    "        area_data.append(get_proj_metric_value(filepath,target_area_id , area, e))\n",
    "        # print(f'experiment {e} == {get_proj_metric_value(filepath,target_area_id , area, e)}')\n",
    "    area_data = np.array(area_data)\n",
    "    \n",
    "    area_list.append(area)\n",
    "    mean_std_arr.append([area_data.mean(), area_data.std()])\n",
    "    \n",
    "    # print(f'area {area} mean = {area_data.mean()} std = {area_data.std()}')\n",
    "    # axes[i][plot_col].hist(area_data)\n",
    "    # axes[i][plot_col].title(query_structure_by_id(area)['acronym']+' '+str(area))\n",
    "# plt.show()"
   ]
  },
  {
   "cell_type": "code",
   "execution_count": 72,
   "id": "8f333e5c-ceb9-4a9c-be75-cfa2c9db9a56",
   "metadata": {},
   "outputs": [],
   "source": [
    "mean_std_arr = np.array(mean_std_arr)\n",
    "area_list = np.array(area_list)"
   ]
  },
  {
   "cell_type": "code",
   "execution_count": 73,
   "id": "e269b334-9abe-4c6e-bbae-efb057a59e1b",
   "metadata": {},
   "outputs": [
    {
     "data": {
      "text/plain": [
       "(316,)"
      ]
     },
     "execution_count": 73,
     "metadata": {},
     "output_type": "execute_result"
    }
   ],
   "source": [
    "area_list.shape"
   ]
  },
  {
   "cell_type": "code",
   "execution_count": 74,
   "id": "ce797caa-f9f7-42a2-9e19-3e4ec861ed89",
   "metadata": {},
   "outputs": [
    {
     "data": {
      "image/png": "[encoded data removed]",
      "text/plain": [
       "<Figure size 640x480 with 1 Axes>"
      ]
     },
     "metadata": {},
     "output_type": "display_data"
    }
   ],
   "source": [
    "plt.errorbar(area_list,mean_std_arr[:,0],yerr=mean_std_arr[:,1])\n",
    "plt.show()"
   ]
  },
  {
   "cell_type": "code",
   "execution_count": null,
   "id": "5971076f-4ea3-4062-bfcc-f15910996e51",
   "metadata": {},
   "outputs": [],
   "source": []
  },
  {
   "cell_type": "code",
   "execution_count": null,
   "id": "d4f68f90-4ab6-49b3-b365-c7b676929468",
   "metadata": {},
   "outputs": [],
   "source": []
  },
  {
   "cell_type": "code",
   "execution_count": 46,
   "id": "b7ac6d8a-719d-4c9f-8154-9d266fb99f30",
   "metadata": {},
   "outputs": [],
   "source": [
    "# impletement volume thresholding - get the value of injection/target volume from unionized data - filter out low volume experiments"
   ]
  },
  {
   "cell_type": "code",
   "execution_count": 58,
   "id": "a11dd61b-3fd2-460b-9250-b27513d6ddff",
   "metadata": {},
   "outputs": [
    {
     "data": {
      "text/html": [
       "<div>\n",
       "<style scoped>\n",
       "    .dataframe tbody tr th:only-of-type {\n",
       "        vertical-align: middle;\n",
       "    }\n",
       "\n",
       "    .dataframe tbody tr th {\n",
       "        vertical-align: top;\n",
       "    }\n",
       "\n",
       "    .dataframe thead th {\n",
       "        text-align: right;\n",
       "    }\n",
       "</style>\n",
       "<table border=\"1\" class=\"dataframe\">\n",
       "  <thead>\n",
       "    <tr style=\"text-align: right;\">\n",
       "      <th></th>\n",
       "      <th>Unnamed: 0</th>\n",
       "      <th>hemisphere_id</th>\n",
       "      <th>id</th>\n",
       "      <th>is_injection</th>\n",
       "      <th>max_voxel_density</th>\n",
       "      <th>max_voxel_x</th>\n",
       "      <th>max_voxel_y</th>\n",
       "      <th>max_voxel_z</th>\n",
       "      <th>normalized_projection_volume</th>\n",
       "      <th>projection_density</th>\n",
       "      <th>projection_energy</th>\n",
       "      <th>projection_intensity</th>\n",
       "      <th>projection_volume</th>\n",
       "      <th>section_data_set_id</th>\n",
       "      <th>structure_id</th>\n",
       "      <th>sum_pixel_intensity</th>\n",
       "      <th>sum_pixels</th>\n",
       "      <th>sum_projection_pixel_intensity</th>\n",
       "      <th>sum_projection_pixels</th>\n",
       "      <th>volume</th>\n",
       "    </tr>\n",
       "  </thead>\n",
       "  <tbody>\n",
       "    <tr>\n",
       "      <th>829</th>\n",
       "      <td>829</td>\n",
       "      <td>1</td>\n",
       "      <td>631425362</td>\n",
       "      <td>False</td>\n",
       "      <td>0.410302</td>\n",
       "      <td>7610</td>\n",
       "      <td>990</td>\n",
       "      <td>4510</td>\n",
       "      <td>0.00252</td>\n",
       "      <td>0.000246</td>\n",
       "      <td>0.113906</td>\n",
       "      <td>462.187577</td>\n",
       "      <td>0.00032</td>\n",
       "      <td>272699357</td>\n",
       "      <td>894</td>\n",
       "      <td>1.748340e+11</td>\n",
       "      <td>1.060688e+09</td>\n",
       "      <td>120818269.5</td>\n",
       "      <td>261405.272461</td>\n",
       "      <td>1.299343</td>\n",
       "    </tr>\n",
       "  </tbody>\n",
       "</table>\n",
       "</div>"
      ],
      "text/plain": [
       "     Unnamed: 0  hemisphere_id         id  is_injection  max_voxel_density  \\\n",
       "829         829              1  631425362         False           0.410302   \n",
       "\n",
       "     max_voxel_x  max_voxel_y  max_voxel_z  normalized_projection_volume  \\\n",
       "829         7610          990         4510                       0.00252   \n",
       "\n",
       "     projection_density  projection_energy  projection_intensity  \\\n",
       "829            0.000246           0.113906            462.187577   \n",
       "\n",
       "     projection_volume  section_data_set_id  structure_id  \\\n",
       "829            0.00032            272699357           894   \n",
       "\n",
       "     sum_pixel_intensity    sum_pixels  sum_projection_pixel_intensity  \\\n",
       "829         1.748340e+11  1.060688e+09                     120818269.5   \n",
       "\n",
       "     sum_projection_pixels    volume  \n",
       "829          261405.272461  1.299343  "
      ]
     },
     "execution_count": 58,
     "metadata": {},
     "output_type": "execute_result"
    }
   ],
   "source": [
    "path = Path.home() / 'Desktop' / 'data' / 'connectivity' / 'unionized_data_from_hem_1_RSPagl_projecting_experiments'\n",
    "filename = 'area_id_795exp_id_272699357.csv'\n",
    "data_df = pd.read_csv(path / filename)\n",
    "data_df[(data_df['hemisphere_id']==1) & (data_df['structure_id']==target_area_id)]"
   ]
  },
  {
   "cell_type": "code",
   "execution_count": null,
   "id": "4375dabd-3924-42f2-a932-c4d611ec8ef1",
   "metadata": {},
   "outputs": [],
   "source": []
  },
  {
   "cell_type": "code",
   "execution_count": null,
   "id": "d0b596c0-5319-4d67-8238-4de1f05a15b5",
   "metadata": {},
   "outputs": [],
   "source": []
  },
  {
   "cell_type": "code",
   "execution_count": null,
   "id": "4b86fa62-745c-426a-8cb9-bffa27e0014e",
   "metadata": {},
   "outputs": [],
   "source": [
    "# see if projection energy is normalised with respect to injection volume"
   ]
  },
  {
   "cell_type": "code",
   "execution_count": null,
   "id": "3cb95f39-1a5f-4c08-b92e-71160170bab0",
   "metadata": {},
   "outputs": [],
   "source": []
  }
 ],
 "metadata": {
  "kernelspec": {
   "display_name": "Python [conda env:allendata]",
   "language": "python",
   "name": "conda-env-allendata-py"
  },
  "language_info": {
   "codemirror_mode": {
    "name": "ipython",
    "version": 3
   },
   "file_extension": ".py",
   "mimetype": "text/x-python",
   "name": "python",
   "nbconvert_exporter": "python",
   "pygments_lexer": "ipython3",
   "version": "3.7.15"
  }
 },
 "nbformat": 4,
 "nbformat_minor": 5
}
