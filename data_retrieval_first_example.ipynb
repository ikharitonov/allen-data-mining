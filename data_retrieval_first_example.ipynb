{
 "cells": [
  {
   "cell_type": "markdown",
   "id": "7f81bc6e",
   "metadata": {},
   "source": [
    "# Data Mining Example with AllenSDK\n",
    "\n",
    "From https://allensdk.readthedocs.io/en/latest/_static/examples/nb/mouse_connectivity.html"
   ]
  },
  {
   "cell_type": "code",
   "execution_count": 1,
   "id": "b871c2d7",
   "metadata": {},
   "outputs": [],
   "source": [
    "from allensdk.core.mouse_connectivity_cache import MouseConnectivityCache"
   ]
  },
  {
   "cell_type": "code",
   "execution_count": 2,
   "id": "6c802517",
   "metadata": {},
   "outputs": [
    {
     "name": "stdout",
     "output_type": "stream",
     "text": [
      "2917 total experiments\n"
     ]
    },
    {
     "data": {
      "text/plain": [
       "gender                                                                   M\n",
       "id                                                               122642490\n",
       "injection-coordinates                                   [4300, 2690, 7050]\n",
       "injection-structures     [{'id': 985, 'abbreviation': 'MOp', 'name': 'P...\n",
       "product-id                                                               5\n",
       "strain                                                            C57BL/6J\n",
       "structure-abbrev                                                       MOs\n",
       "structure-color                                                     1f9d5a\n",
       "structure-id                                                           993\n",
       "structure-name                                        Secondary motor area\n",
       "transgenic-line                                             Syt6-Cre_KI148\n",
       "Name: 122642490, dtype: object"
      ]
     },
     "execution_count": 2,
     "metadata": {},
     "output_type": "execute_result"
    }
   ],
   "source": [
    "# The manifest file is a simple JSON file that keeps track of all of\n",
    "# the data that has already been downloaded onto the hard drives.\n",
    "# If you supply a relative path, it is assumed to be relative to your\n",
    "# current working directory.\n",
    "mcc = MouseConnectivityCache()\n",
    "\n",
    "# open up a list of all of the experiments\n",
    "all_experiments = mcc.get_experiments(dataframe=True)\n",
    "print(\"%d total experiments\" % len(all_experiments))\n",
    "\n",
    "# take a look at what we know about an experiment with a primary motor injection\n",
    "all_experiments.loc[122642490]"
   ]
  },
  {
   "cell_type": "code",
   "execution_count": null,
   "id": "63e90bdb",
   "metadata": {},
   "outputs": [],
   "source": []
  }
 ],
 "metadata": {
  "kernelspec": {
   "display_name": "allendata",
   "language": "python",
   "name": "allendata"
  },
  "language_info": {
   "codemirror_mode": {
    "name": "ipython",
    "version": 3
   },
   "file_extension": ".py",
   "mimetype": "text/x-python",
   "name": "python",
   "nbconvert_exporter": "python",
   "pygments_lexer": "ipython3",
   "version": "3.6.15"
  }
 },
 "nbformat": 4,
 "nbformat_minor": 5
}
